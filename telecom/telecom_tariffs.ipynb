{
 "cells": [
  {
   "cell_type": "markdown",
   "metadata": {},
   "source": [
    "# Определение перспективного тарифа для телеком-компании\n",
    "\n",
    "«Мегалайн» — федеральный оператор сотовой связи. Клиентам предлагают два тарифных плана: «Смарт» и «Ультра». Чтобы скорректировать рекламный бюджет, коммерческий департамент хочет понять, какой тариф приносит больше денег.\n",
    "\n",
    "В распоряжении данные 500 пользователей «Мегалайна»: кто они, откуда, каким тарифом пользуются, сколько звонков и сообщений каждый отправил за 2018 год. \n",
    "\n",
    "**Описание данных**\n",
    "\n",
    "1. Тариф «Смарт»\n",
    "Ежемесячная плата: 550 рублей\n",
    "Включено 500 минут разговора, 50 сообщений и 15 Гб интернет-трафика\n",
    "Стоимость услуг сверх тарифного пакета:\n",
    "минута разговора: 3 рубля\n",
    "сообщение: 3 рубля\n",
    "1 Гб интернет-трафика: 200 рублей\n",
    "2. Тариф «Ультра»\n",
    "Ежемесячная плата: 1950 рублей\n",
    "Включено 3000 минут разговора, 1000 сообщений и 30 Гб интернет-трафика\n",
    "Стоимость услуг сверх тарифного пакета:\n",
    "минута разговора: 1 рубль\n",
    "сообщение: 1 рубль\n",
    "1 Гб интернет-трафика: 150 рублей\n",
    "\n",
    "Таблица users (информация о пользователях):\n",
    "\n",
    "\n",
    "* user_id — уникальный идентификатор пользователя\n",
    "* first_name — имя пользователя\n",
    "* last_name — фамилия пользователя\n",
    "* age — возраст пользователя (годы)\n",
    "* reg_date — дата подключения тарифа (день, месяц, год)\n",
    "* churn_date — дата прекращения пользования тарифом (если значение пропущено, то тариф ещё действовал на момент выгрузки данных)\n",
    "* city — город проживания пользователя\n",
    "* tariff — название тарифного плана\n",
    "\n",
    "\n",
    "Таблица calls (информация о звонках):\n",
    "\n",
    "\n",
    "* id — уникальный номер звонка\n",
    "* call_date — дата звонка\n",
    "* duration — длительность звонка в минутах\n",
    "* user_id — идентификатор пользователя, сделавшего звонок\n",
    "\n",
    "\n",
    "Таблица messages (информация о сообщениях):\n",
    "\n",
    "\n",
    "* id — уникальный номер сообщения\n",
    "* message_date — дата сообщения\n",
    "* user_id — идентификатор пользователя, отправившего сообщение\n",
    "\n",
    "\n",
    "Таблица internet (информация об интернет-сессиях):\n",
    "\n",
    "\n",
    "* id — уникальный номер сессии\n",
    "* mb_used — объём потраченного за сессию интернет-трафика (в мегабайтах)\n",
    "* session_date — дата интернет-сессии\n",
    "* user_id — идентификатор пользователя\n",
    "\n",
    "\n",
    "Таблица tariffs (информация о тарифах):\n",
    "\n",
    "\n",
    "* tariff_name — название тарифа\n",
    "* rub_monthly_fee — ежемесячная абонентская плата в рублях\n",
    "* minutes_included — количество минут разговора в месяц, включённых в абонентскую плату\n",
    "* messages_included — количество сообщений в месяц, включённых в абонентскую плату\n",
    "* mb_per_month_included — объём интернет-трафика, включённого в абонентскую плату (в мегабайтах)\n",
    "* rub_per_minute — стоимость минуты разговора сверх тарифного пакета (например, если в тарифе 100 минут разговора в месяц, то со 101 минуты будет взиматься плата)\n",
    "* rub_per_message — стоимость отправки сообщения сверх тарифного пакета\n",
    "* rub_per_gb — стоимость дополнительного гигабайта интернет-трафика сверх тарифного пакета (1 гигабайт = 1024 мегабайта)\n",
    "\n",
    "**Примечание**\n",
    "\n",
    "\n",
    "«Мегалайн» всегда округляет секунды до минут, а мегабайты — до гигабайт. Каждый звонок округляется отдельно: даже если он длился всего 1 секунду, будет засчитан как 1 минута.\n",
    "\n",
    "Для веб-трафика отдельные сессии не считаются. Вместо этого общая сумма за месяц округляется в бо́льшую сторону. Если абонент использует 1025 мегабайт в этом месяце, с него возьмут плату за 2 гигабайта. Принимаем, что неиспользованные за предыдущий месяц звонки, смс, интернет на следующий месяц не переносятся.\n",
    "\n",
    "**Цель исследования:**\n",
    "\n",
    "Провести предварительный анализ тарифов на небольшой выборке клиентов.  Нужно проанализировать поведение клиентов и сделать вывод — какой тариф лучше.\n",
    "\n",
    "**Вопросы:**\n",
    "\n",
    "1. Расчёт для каждого пользователя:\n",
    "- количество сделанных звонков и израсходованных минут разговора по месяцам;\n",
    "- количество отправленных сообщений по месяцам;\n",
    "- объем израсходованного интернет-трафика по месяцам;\n",
    "- помесячную выручку с каждого пользователя .\n",
    "\n",
    "2. Описание поведения клиентов оператора, исходя из выборки. \n",
    "\n",
    "3. Проверка гипотез:\n",
    "- средняя выручка пользователей тарифов «Ультра» и «Смарт» различаются;\n",
    "- средняя выручка пользователей из Москвы отличается от выручки пользователей из других регионов.\n"
   ]
  },
  {
   "cell_type": "markdown",
   "metadata": {},
   "source": [
    "## Изучение данных из файла"
   ]
  },
  {
   "cell_type": "markdown",
   "metadata": {},
   "source": [
    "### Чтение файла"
   ]
  },
  {
   "cell_type": "code",
   "execution_count": 1,
   "metadata": {},
   "outputs": [
    {
     "data": {
      "application/javascript": [
       "IPython.notebook.set_autosave_interval(60000)"
      ]
     },
     "metadata": {},
     "output_type": "display_data"
    },
    {
     "name": "stdout",
     "output_type": "stream",
     "text": [
      "Autosaving every 60 seconds\n"
     ]
    }
   ],
   "source": [
    "%autosave 60"
   ]
  },
  {
   "cell_type": "code",
   "execution_count": 2,
   "metadata": {},
   "outputs": [],
   "source": [
    "import pandas as pd\n",
    "import datetime as dt\n",
    "import numpy as np\n",
    "import seaborn as sns\n",
    "from scipy import stats\n",
    "import matplotlib.pyplot as plt"
   ]
  },
  {
   "cell_type": "code",
   "execution_count": 3,
   "metadata": {},
   "outputs": [],
   "source": [
    "users = pd.read_csv('/datasets/users.csv', parse_dates=['churn_date', 'reg_date'])\n",
    "calls = pd.read_csv('/datasets/calls.csv', parse_dates=['call_date'])\n",
    "messages = pd.read_csv('/datasets/messages.csv', parse_dates=['message_date'])\n",
    "internet = pd.read_csv('/datasets/internet.csv', parse_dates=['session_date'])\n",
    "tariffs = pd.read_csv('/datasets/tariffs.csv')"
   ]
  },
  {
   "cell_type": "markdown",
   "metadata": {},
   "source": [
    "### Обработка"
   ]
  },
  {
   "cell_type": "markdown",
   "metadata": {},
   "source": [
    "Рассмотрим таблицы"
   ]
  },
  {
   "cell_type": "code",
   "execution_count": 4,
   "metadata": {},
   "outputs": [
    {
     "name": "stdout",
     "output_type": "stream",
     "text": [
      "<class 'pandas.core.frame.DataFrame'>\n",
      "RangeIndex: 202607 entries, 0 to 202606\n",
      "Data columns (total 4 columns):\n",
      " #   Column     Non-Null Count   Dtype         \n",
      "---  ------     --------------   -----         \n",
      " 0   id         202607 non-null  object        \n",
      " 1   call_date  202607 non-null  datetime64[ns]\n",
      " 2   duration   202607 non-null  float64       \n",
      " 3   user_id    202607 non-null  int64         \n",
      "dtypes: datetime64[ns](1), float64(1), int64(1), object(1)\n",
      "memory usage: 6.2+ MB\n"
     ]
    },
    {
     "data": {
      "text/html": [
       "<div>\n",
       "<style scoped>\n",
       "    .dataframe tbody tr th:only-of-type {\n",
       "        vertical-align: middle;\n",
       "    }\n",
       "\n",
       "    .dataframe tbody tr th {\n",
       "        vertical-align: top;\n",
       "    }\n",
       "\n",
       "    .dataframe thead th {\n",
       "        text-align: right;\n",
       "    }\n",
       "</style>\n",
       "<table border=\"1\" class=\"dataframe\">\n",
       "  <thead>\n",
       "    <tr style=\"text-align: right;\">\n",
       "      <th></th>\n",
       "      <th>id</th>\n",
       "      <th>call_date</th>\n",
       "      <th>duration</th>\n",
       "      <th>user_id</th>\n",
       "    </tr>\n",
       "  </thead>\n",
       "  <tbody>\n",
       "    <tr>\n",
       "      <th>0</th>\n",
       "      <td>1000_0</td>\n",
       "      <td>2018-07-25</td>\n",
       "      <td>0.00</td>\n",
       "      <td>1000</td>\n",
       "    </tr>\n",
       "    <tr>\n",
       "      <th>1</th>\n",
       "      <td>1000_1</td>\n",
       "      <td>2018-08-17</td>\n",
       "      <td>0.00</td>\n",
       "      <td>1000</td>\n",
       "    </tr>\n",
       "    <tr>\n",
       "      <th>2</th>\n",
       "      <td>1000_2</td>\n",
       "      <td>2018-06-11</td>\n",
       "      <td>2.85</td>\n",
       "      <td>1000</td>\n",
       "    </tr>\n",
       "    <tr>\n",
       "      <th>3</th>\n",
       "      <td>1000_3</td>\n",
       "      <td>2018-09-21</td>\n",
       "      <td>13.80</td>\n",
       "      <td>1000</td>\n",
       "    </tr>\n",
       "    <tr>\n",
       "      <th>4</th>\n",
       "      <td>1000_4</td>\n",
       "      <td>2018-12-15</td>\n",
       "      <td>5.18</td>\n",
       "      <td>1000</td>\n",
       "    </tr>\n",
       "    <tr>\n",
       "      <th>5</th>\n",
       "      <td>1000_5</td>\n",
       "      <td>2018-11-02</td>\n",
       "      <td>0.00</td>\n",
       "      <td>1000</td>\n",
       "    </tr>\n",
       "    <tr>\n",
       "      <th>6</th>\n",
       "      <td>1000_6</td>\n",
       "      <td>2018-10-18</td>\n",
       "      <td>0.00</td>\n",
       "      <td>1000</td>\n",
       "    </tr>\n",
       "    <tr>\n",
       "      <th>7</th>\n",
       "      <td>1000_7</td>\n",
       "      <td>2018-08-22</td>\n",
       "      <td>18.31</td>\n",
       "      <td>1000</td>\n",
       "    </tr>\n",
       "    <tr>\n",
       "      <th>8</th>\n",
       "      <td>1000_8</td>\n",
       "      <td>2018-09-15</td>\n",
       "      <td>18.44</td>\n",
       "      <td>1000</td>\n",
       "    </tr>\n",
       "    <tr>\n",
       "      <th>9</th>\n",
       "      <td>1000_9</td>\n",
       "      <td>2018-08-15</td>\n",
       "      <td>0.00</td>\n",
       "      <td>1000</td>\n",
       "    </tr>\n",
       "  </tbody>\n",
       "</table>\n",
       "</div>"
      ],
      "text/plain": [
       "       id  call_date  duration  user_id\n",
       "0  1000_0 2018-07-25      0.00     1000\n",
       "1  1000_1 2018-08-17      0.00     1000\n",
       "2  1000_2 2018-06-11      2.85     1000\n",
       "3  1000_3 2018-09-21     13.80     1000\n",
       "4  1000_4 2018-12-15      5.18     1000\n",
       "5  1000_5 2018-11-02      0.00     1000\n",
       "6  1000_6 2018-10-18      0.00     1000\n",
       "7  1000_7 2018-08-22     18.31     1000\n",
       "8  1000_8 2018-09-15     18.44     1000\n",
       "9  1000_9 2018-08-15      0.00     1000"
      ]
     },
     "execution_count": 4,
     "metadata": {},
     "output_type": "execute_result"
    }
   ],
   "source": [
    "calls.info()\n",
    "calls.head(10)"
   ]
  },
  {
   "cell_type": "markdown",
   "metadata": {},
   "source": [
    "Пропусков нет, тип столбца с датой изменили при чтении, для столбца user_id для экономии памяти меняем:"
   ]
  },
  {
   "cell_type": "code",
   "execution_count": 5,
   "metadata": {},
   "outputs": [
    {
     "name": "stdout",
     "output_type": "stream",
     "text": [
      "<class 'pandas.core.frame.DataFrame'>\n",
      "RangeIndex: 202607 entries, 0 to 202606\n",
      "Data columns (total 4 columns):\n",
      " #   Column     Non-Null Count   Dtype         \n",
      "---  ------     --------------   -----         \n",
      " 0   id         202607 non-null  object        \n",
      " 1   call_date  202607 non-null  datetime64[ns]\n",
      " 2   duration   202607 non-null  float32       \n",
      " 3   user_id    202607 non-null  int32         \n",
      "dtypes: datetime64[ns](1), float32(1), int32(1), object(1)\n",
      "memory usage: 4.6+ MB\n"
     ]
    }
   ],
   "source": [
    "calls['duration'] = calls['duration'].astype('float32')\n",
    "calls['user_id'] = calls['user_id'].astype('int32')\n",
    "calls.info()"
   ]
  },
  {
   "cell_type": "markdown",
   "metadata": {},
   "source": [
    "Тип данных в столбце duration изменим на int и округлим в большую сторону (согласно условию Каждый звонок округляется отдельно: даже если он длился всего 1 секунду, будет засчитан как 1 минута):"
   ]
  },
  {
   "cell_type": "code",
   "execution_count": 6,
   "metadata": {},
   "outputs": [
    {
     "data": {
      "text/html": [
       "<div>\n",
       "<style scoped>\n",
       "    .dataframe tbody tr th:only-of-type {\n",
       "        vertical-align: middle;\n",
       "    }\n",
       "\n",
       "    .dataframe tbody tr th {\n",
       "        vertical-align: top;\n",
       "    }\n",
       "\n",
       "    .dataframe thead th {\n",
       "        text-align: right;\n",
       "    }\n",
       "</style>\n",
       "<table border=\"1\" class=\"dataframe\">\n",
       "  <thead>\n",
       "    <tr style=\"text-align: right;\">\n",
       "      <th></th>\n",
       "      <th>id</th>\n",
       "      <th>call_date</th>\n",
       "      <th>duration</th>\n",
       "      <th>user_id</th>\n",
       "    </tr>\n",
       "  </thead>\n",
       "  <tbody>\n",
       "    <tr>\n",
       "      <th>0</th>\n",
       "      <td>1000_0</td>\n",
       "      <td>2018-07-25</td>\n",
       "      <td>0</td>\n",
       "      <td>1000</td>\n",
       "    </tr>\n",
       "    <tr>\n",
       "      <th>1</th>\n",
       "      <td>1000_1</td>\n",
       "      <td>2018-08-17</td>\n",
       "      <td>0</td>\n",
       "      <td>1000</td>\n",
       "    </tr>\n",
       "    <tr>\n",
       "      <th>2</th>\n",
       "      <td>1000_2</td>\n",
       "      <td>2018-06-11</td>\n",
       "      <td>3</td>\n",
       "      <td>1000</td>\n",
       "    </tr>\n",
       "    <tr>\n",
       "      <th>3</th>\n",
       "      <td>1000_3</td>\n",
       "      <td>2018-09-21</td>\n",
       "      <td>14</td>\n",
       "      <td>1000</td>\n",
       "    </tr>\n",
       "    <tr>\n",
       "      <th>4</th>\n",
       "      <td>1000_4</td>\n",
       "      <td>2018-12-15</td>\n",
       "      <td>6</td>\n",
       "      <td>1000</td>\n",
       "    </tr>\n",
       "    <tr>\n",
       "      <th>5</th>\n",
       "      <td>1000_5</td>\n",
       "      <td>2018-11-02</td>\n",
       "      <td>0</td>\n",
       "      <td>1000</td>\n",
       "    </tr>\n",
       "    <tr>\n",
       "      <th>6</th>\n",
       "      <td>1000_6</td>\n",
       "      <td>2018-10-18</td>\n",
       "      <td>0</td>\n",
       "      <td>1000</td>\n",
       "    </tr>\n",
       "    <tr>\n",
       "      <th>7</th>\n",
       "      <td>1000_7</td>\n",
       "      <td>2018-08-22</td>\n",
       "      <td>19</td>\n",
       "      <td>1000</td>\n",
       "    </tr>\n",
       "    <tr>\n",
       "      <th>8</th>\n",
       "      <td>1000_8</td>\n",
       "      <td>2018-09-15</td>\n",
       "      <td>19</td>\n",
       "      <td>1000</td>\n",
       "    </tr>\n",
       "    <tr>\n",
       "      <th>9</th>\n",
       "      <td>1000_9</td>\n",
       "      <td>2018-08-15</td>\n",
       "      <td>0</td>\n",
       "      <td>1000</td>\n",
       "    </tr>\n",
       "  </tbody>\n",
       "</table>\n",
       "</div>"
      ],
      "text/plain": [
       "       id  call_date  duration  user_id\n",
       "0  1000_0 2018-07-25         0     1000\n",
       "1  1000_1 2018-08-17         0     1000\n",
       "2  1000_2 2018-06-11         3     1000\n",
       "3  1000_3 2018-09-21        14     1000\n",
       "4  1000_4 2018-12-15         6     1000\n",
       "5  1000_5 2018-11-02         0     1000\n",
       "6  1000_6 2018-10-18         0     1000\n",
       "7  1000_7 2018-08-22        19     1000\n",
       "8  1000_8 2018-09-15        19     1000\n",
       "9  1000_9 2018-08-15         0     1000"
      ]
     },
     "execution_count": 6,
     "metadata": {},
     "output_type": "execute_result"
    }
   ],
   "source": [
    "calls['duration'] = np.ceil(calls['duration']).astype('int')\n",
    "calls.head(10)"
   ]
  },
  {
   "cell_type": "code",
   "execution_count": 8,
   "metadata": {},
   "outputs": [
    {
     "name": "stdout",
     "output_type": "stream",
     "text": [
      "<class 'pandas.core.frame.DataFrame'>\n",
      "RangeIndex: 149396 entries, 0 to 149395\n",
      "Data columns (total 5 columns):\n",
      " #   Column        Non-Null Count   Dtype         \n",
      "---  ------        --------------   -----         \n",
      " 0   Unnamed: 0    149396 non-null  int64         \n",
      " 1   id            149396 non-null  object        \n",
      " 2   mb_used       149396 non-null  float64       \n",
      " 3   session_date  149396 non-null  datetime64[ns]\n",
      " 4   user_id       149396 non-null  int64         \n",
      "dtypes: datetime64[ns](1), float64(1), int64(2), object(1)\n",
      "memory usage: 5.7+ MB\n"
     ]
    },
    {
     "data": {
      "text/html": [
       "<div>\n",
       "<style scoped>\n",
       "    .dataframe tbody tr th:only-of-type {\n",
       "        vertical-align: middle;\n",
       "    }\n",
       "\n",
       "    .dataframe tbody tr th {\n",
       "        vertical-align: top;\n",
       "    }\n",
       "\n",
       "    .dataframe thead th {\n",
       "        text-align: right;\n",
       "    }\n",
       "</style>\n",
       "<table border=\"1\" class=\"dataframe\">\n",
       "  <thead>\n",
       "    <tr style=\"text-align: right;\">\n",
       "      <th></th>\n",
       "      <th>Unnamed: 0</th>\n",
       "      <th>id</th>\n",
       "      <th>mb_used</th>\n",
       "      <th>session_date</th>\n",
       "      <th>user_id</th>\n",
       "    </tr>\n",
       "  </thead>\n",
       "  <tbody>\n",
       "    <tr>\n",
       "      <th>107832</th>\n",
       "      <td>107832</td>\n",
       "      <td>1367_7</td>\n",
       "      <td>524.26</td>\n",
       "      <td>2018-09-19</td>\n",
       "      <td>1367</td>\n",
       "    </tr>\n",
       "    <tr>\n",
       "      <th>50370</th>\n",
       "      <td>50370</td>\n",
       "      <td>1173_19</td>\n",
       "      <td>174.51</td>\n",
       "      <td>2018-12-08</td>\n",
       "      <td>1173</td>\n",
       "    </tr>\n",
       "    <tr>\n",
       "      <th>94157</th>\n",
       "      <td>94157</td>\n",
       "      <td>1318_171</td>\n",
       "      <td>890.72</td>\n",
       "      <td>2018-11-06</td>\n",
       "      <td>1318</td>\n",
       "    </tr>\n",
       "    <tr>\n",
       "      <th>132575</th>\n",
       "      <td>132575</td>\n",
       "      <td>1440_267</td>\n",
       "      <td>1273.99</td>\n",
       "      <td>2018-10-14</td>\n",
       "      <td>1440</td>\n",
       "    </tr>\n",
       "    <tr>\n",
       "      <th>93700</th>\n",
       "      <td>93700</td>\n",
       "      <td>1317_7</td>\n",
       "      <td>744.66</td>\n",
       "      <td>2018-08-21</td>\n",
       "      <td>1317</td>\n",
       "    </tr>\n",
       "    <tr>\n",
       "      <th>43190</th>\n",
       "      <td>43190</td>\n",
       "      <td>1149_190</td>\n",
       "      <td>521.40</td>\n",
       "      <td>2018-10-08</td>\n",
       "      <td>1149</td>\n",
       "    </tr>\n",
       "    <tr>\n",
       "      <th>144883</th>\n",
       "      <td>144883</td>\n",
       "      <td>1483_262</td>\n",
       "      <td>429.49</td>\n",
       "      <td>2018-10-12</td>\n",
       "      <td>1483</td>\n",
       "    </tr>\n",
       "    <tr>\n",
       "      <th>56010</th>\n",
       "      <td>56010</td>\n",
       "      <td>1187_54</td>\n",
       "      <td>393.64</td>\n",
       "      <td>2018-09-23</td>\n",
       "      <td>1187</td>\n",
       "    </tr>\n",
       "    <tr>\n",
       "      <th>8815</th>\n",
       "      <td>8815</td>\n",
       "      <td>1030_284</td>\n",
       "      <td>334.51</td>\n",
       "      <td>2018-06-20</td>\n",
       "      <td>1030</td>\n",
       "    </tr>\n",
       "    <tr>\n",
       "      <th>145473</th>\n",
       "      <td>145473</td>\n",
       "      <td>1486_44</td>\n",
       "      <td>302.91</td>\n",
       "      <td>2018-11-28</td>\n",
       "      <td>1486</td>\n",
       "    </tr>\n",
       "  </tbody>\n",
       "</table>\n",
       "</div>"
      ],
      "text/plain": [
       "        Unnamed: 0        id  mb_used session_date  user_id\n",
       "107832      107832    1367_7   524.26   2018-09-19     1367\n",
       "50370        50370   1173_19   174.51   2018-12-08     1173\n",
       "94157        94157  1318_171   890.72   2018-11-06     1318\n",
       "132575      132575  1440_267  1273.99   2018-10-14     1440\n",
       "93700        93700    1317_7   744.66   2018-08-21     1317\n",
       "43190        43190  1149_190   521.40   2018-10-08     1149\n",
       "144883      144883  1483_262   429.49   2018-10-12     1483\n",
       "56010        56010   1187_54   393.64   2018-09-23     1187\n",
       "8815          8815  1030_284   334.51   2018-06-20     1030\n",
       "145473      145473   1486_44   302.91   2018-11-28     1486"
      ]
     },
     "execution_count": 8,
     "metadata": {},
     "output_type": "execute_result"
    }
   ],
   "source": [
    "internet.info()\n",
    "internet.sample(10)"
   ]
  },
  {
   "cell_type": "markdown",
   "metadata": {},
   "source": [
    "Пропусков нет, переведем Мб в Гб, округлив в большую сторону (согласно условию -  Для веб-трафика отдельные сессии не считаются. Вместо этого общая сумма за месяц округляется в бо́льшую сторону.)\n",
    "Добавим результат в новый столбец gb_used. Тип данных в этом столбце изменим на int32:"
   ]
  },
  {
   "cell_type": "code",
   "execution_count": 9,
   "metadata": {},
   "outputs": [
    {
     "name": "stdout",
     "output_type": "stream",
     "text": [
      "<class 'pandas.core.frame.DataFrame'>\n",
      "RangeIndex: 149396 entries, 0 to 149395\n",
      "Data columns (total 5 columns):\n",
      " #   Column        Non-Null Count   Dtype         \n",
      "---  ------        --------------   -----         \n",
      " 0   Unnamed: 0    149396 non-null  int64         \n",
      " 1   id            149396 non-null  object        \n",
      " 2   mb_used       149396 non-null  int32         \n",
      " 3   session_date  149396 non-null  datetime64[ns]\n",
      " 4   user_id       149396 non-null  int32         \n",
      "dtypes: datetime64[ns](1), int32(2), int64(1), object(1)\n",
      "memory usage: 4.6+ MB\n"
     ]
    }
   ],
   "source": [
    "internet['user_id'] = internet['user_id'].astype('int32')\n",
    "internet['mb_used'] = internet['mb_used'].astype('int32')\n",
    "# internet['gb_used'] = (internet['mb_used'] / 1024).apply(np.ceil).astype('int32')\n",
    "internet['mb_used'] = internet['mb_used'].astype('int32')\n",
    "internet.info()"
   ]
  },
  {
   "cell_type": "code",
   "execution_count": 10,
   "metadata": {},
   "outputs": [
    {
     "name": "stdout",
     "output_type": "stream",
     "text": [
      "<class 'pandas.core.frame.DataFrame'>\n",
      "RangeIndex: 123036 entries, 0 to 123035\n",
      "Data columns (total 3 columns):\n",
      " #   Column        Non-Null Count   Dtype         \n",
      "---  ------        --------------   -----         \n",
      " 0   id            123036 non-null  object        \n",
      " 1   message_date  123036 non-null  datetime64[ns]\n",
      " 2   user_id       123036 non-null  int64         \n",
      "dtypes: datetime64[ns](1), int64(1), object(1)\n",
      "memory usage: 2.8+ MB\n"
     ]
    },
    {
     "data": {
      "text/html": [
       "<div>\n",
       "<style scoped>\n",
       "    .dataframe tbody tr th:only-of-type {\n",
       "        vertical-align: middle;\n",
       "    }\n",
       "\n",
       "    .dataframe tbody tr th {\n",
       "        vertical-align: top;\n",
       "    }\n",
       "\n",
       "    .dataframe thead th {\n",
       "        text-align: right;\n",
       "    }\n",
       "</style>\n",
       "<table border=\"1\" class=\"dataframe\">\n",
       "  <thead>\n",
       "    <tr style=\"text-align: right;\">\n",
       "      <th></th>\n",
       "      <th>id</th>\n",
       "      <th>message_date</th>\n",
       "      <th>user_id</th>\n",
       "    </tr>\n",
       "  </thead>\n",
       "  <tbody>\n",
       "    <tr>\n",
       "      <th>2371</th>\n",
       "      <td>1005_233</td>\n",
       "      <td>2018-11-21</td>\n",
       "      <td>1005</td>\n",
       "    </tr>\n",
       "    <tr>\n",
       "      <th>121695</th>\n",
       "      <td>1492_62</td>\n",
       "      <td>2018-09-13</td>\n",
       "      <td>1492</td>\n",
       "    </tr>\n",
       "    <tr>\n",
       "      <th>120390</th>\n",
       "      <td>1487_21</td>\n",
       "      <td>2018-12-03</td>\n",
       "      <td>1487</td>\n",
       "    </tr>\n",
       "    <tr>\n",
       "      <th>52032</th>\n",
       "      <td>1231_653</td>\n",
       "      <td>2018-07-20</td>\n",
       "      <td>1231</td>\n",
       "    </tr>\n",
       "    <tr>\n",
       "      <th>37814</th>\n",
       "      <td>1165_168</td>\n",
       "      <td>2018-11-17</td>\n",
       "      <td>1165</td>\n",
       "    </tr>\n",
       "    <tr>\n",
       "      <th>35498</th>\n",
       "      <td>1151_48</td>\n",
       "      <td>2018-11-21</td>\n",
       "      <td>1151</td>\n",
       "    </tr>\n",
       "    <tr>\n",
       "      <th>13799</th>\n",
       "      <td>1057_141</td>\n",
       "      <td>2018-07-10</td>\n",
       "      <td>1057</td>\n",
       "    </tr>\n",
       "    <tr>\n",
       "      <th>15942</th>\n",
       "      <td>1067_376</td>\n",
       "      <td>2018-06-24</td>\n",
       "      <td>1067</td>\n",
       "    </tr>\n",
       "    <tr>\n",
       "      <th>109420</th>\n",
       "      <td>1440_361</td>\n",
       "      <td>2018-09-03</td>\n",
       "      <td>1440</td>\n",
       "    </tr>\n",
       "    <tr>\n",
       "      <th>103219</th>\n",
       "      <td>1421_182</td>\n",
       "      <td>2018-10-07</td>\n",
       "      <td>1421</td>\n",
       "    </tr>\n",
       "  </tbody>\n",
       "</table>\n",
       "</div>"
      ],
      "text/plain": [
       "              id message_date  user_id\n",
       "2371    1005_233   2018-11-21     1005\n",
       "121695   1492_62   2018-09-13     1492\n",
       "120390   1487_21   2018-12-03     1487\n",
       "52032   1231_653   2018-07-20     1231\n",
       "37814   1165_168   2018-11-17     1165\n",
       "35498    1151_48   2018-11-21     1151\n",
       "13799   1057_141   2018-07-10     1057\n",
       "15942   1067_376   2018-06-24     1067\n",
       "109420  1440_361   2018-09-03     1440\n",
       "103219  1421_182   2018-10-07     1421"
      ]
     },
     "execution_count": 10,
     "metadata": {},
     "output_type": "execute_result"
    }
   ],
   "source": [
    "messages.info()\n",
    "messages.sample(10)"
   ]
  },
  {
   "cell_type": "markdown",
   "metadata": {},
   "source": [
    "Пропусков нет, можем только тип столбца user_id поменять на int 32:"
   ]
  },
  {
   "cell_type": "code",
   "execution_count": 11,
   "metadata": {},
   "outputs": [
    {
     "name": "stdout",
     "output_type": "stream",
     "text": [
      "<class 'pandas.core.frame.DataFrame'>\n",
      "RangeIndex: 123036 entries, 0 to 123035\n",
      "Data columns (total 3 columns):\n",
      " #   Column        Non-Null Count   Dtype         \n",
      "---  ------        --------------   -----         \n",
      " 0   id            123036 non-null  object        \n",
      " 1   message_date  123036 non-null  datetime64[ns]\n",
      " 2   user_id       123036 non-null  int32         \n",
      "dtypes: datetime64[ns](1), int32(1), object(1)\n",
      "memory usage: 2.3+ MB\n"
     ]
    }
   ],
   "source": [
    "messages['user_id'] = messages['user_id'].astype('int32')\n",
    "messages.info()"
   ]
  },
  {
   "cell_type": "code",
   "execution_count": 12,
   "metadata": {
    "scrolled": true
   },
   "outputs": [
    {
     "name": "stdout",
     "output_type": "stream",
     "text": [
      "<class 'pandas.core.frame.DataFrame'>\n",
      "RangeIndex: 500 entries, 0 to 499\n",
      "Data columns (total 8 columns):\n",
      " #   Column      Non-Null Count  Dtype         \n",
      "---  ------      --------------  -----         \n",
      " 0   user_id     500 non-null    int64         \n",
      " 1   age         500 non-null    int64         \n",
      " 2   churn_date  38 non-null     datetime64[ns]\n",
      " 3   city        500 non-null    object        \n",
      " 4   first_name  500 non-null    object        \n",
      " 5   last_name   500 non-null    object        \n",
      " 6   reg_date    500 non-null    datetime64[ns]\n",
      " 7   tariff      500 non-null    object        \n",
      "dtypes: datetime64[ns](2), int64(2), object(4)\n",
      "memory usage: 31.4+ KB\n"
     ]
    },
    {
     "data": {
      "text/html": [
       "<div>\n",
       "<style scoped>\n",
       "    .dataframe tbody tr th:only-of-type {\n",
       "        vertical-align: middle;\n",
       "    }\n",
       "\n",
       "    .dataframe tbody tr th {\n",
       "        vertical-align: top;\n",
       "    }\n",
       "\n",
       "    .dataframe thead th {\n",
       "        text-align: right;\n",
       "    }\n",
       "</style>\n",
       "<table border=\"1\" class=\"dataframe\">\n",
       "  <thead>\n",
       "    <tr style=\"text-align: right;\">\n",
       "      <th></th>\n",
       "      <th>user_id</th>\n",
       "      <th>age</th>\n",
       "      <th>churn_date</th>\n",
       "      <th>city</th>\n",
       "      <th>first_name</th>\n",
       "      <th>last_name</th>\n",
       "      <th>reg_date</th>\n",
       "      <th>tariff</th>\n",
       "    </tr>\n",
       "  </thead>\n",
       "  <tbody>\n",
       "    <tr>\n",
       "      <th>155</th>\n",
       "      <td>1155</td>\n",
       "      <td>71</td>\n",
       "      <td>NaT</td>\n",
       "      <td>Ставрополь</td>\n",
       "      <td>Александр</td>\n",
       "      <td>Чернов</td>\n",
       "      <td>2018-01-02</td>\n",
       "      <td>smart</td>\n",
       "    </tr>\n",
       "    <tr>\n",
       "      <th>54</th>\n",
       "      <td>1054</td>\n",
       "      <td>33</td>\n",
       "      <td>NaT</td>\n",
       "      <td>Омск</td>\n",
       "      <td>Кристина</td>\n",
       "      <td>Платонова</td>\n",
       "      <td>2018-03-20</td>\n",
       "      <td>smart</td>\n",
       "    </tr>\n",
       "    <tr>\n",
       "      <th>340</th>\n",
       "      <td>1340</td>\n",
       "      <td>50</td>\n",
       "      <td>NaT</td>\n",
       "      <td>Пенза</td>\n",
       "      <td>Тимофей</td>\n",
       "      <td>Алютин</td>\n",
       "      <td>2018-01-30</td>\n",
       "      <td>smart</td>\n",
       "    </tr>\n",
       "    <tr>\n",
       "      <th>24</th>\n",
       "      <td>1024</td>\n",
       "      <td>73</td>\n",
       "      <td>NaT</td>\n",
       "      <td>Санкт-Петербург</td>\n",
       "      <td>Иулиан</td>\n",
       "      <td>Антипов</td>\n",
       "      <td>2018-10-31</td>\n",
       "      <td>ultra</td>\n",
       "    </tr>\n",
       "    <tr>\n",
       "      <th>311</th>\n",
       "      <td>1311</td>\n",
       "      <td>33</td>\n",
       "      <td>NaT</td>\n",
       "      <td>Тверь</td>\n",
       "      <td>Лолита</td>\n",
       "      <td>Крылова</td>\n",
       "      <td>2018-08-03</td>\n",
       "      <td>smart</td>\n",
       "    </tr>\n",
       "    <tr>\n",
       "      <th>87</th>\n",
       "      <td>1087</td>\n",
       "      <td>50</td>\n",
       "      <td>NaT</td>\n",
       "      <td>Санкт-Петербург</td>\n",
       "      <td>Гелена</td>\n",
       "      <td>Абалакова</td>\n",
       "      <td>2018-10-03</td>\n",
       "      <td>smart</td>\n",
       "    </tr>\n",
       "    <tr>\n",
       "      <th>146</th>\n",
       "      <td>1146</td>\n",
       "      <td>72</td>\n",
       "      <td>NaT</td>\n",
       "      <td>Санкт-Петербург</td>\n",
       "      <td>Владислав</td>\n",
       "      <td>Никонов</td>\n",
       "      <td>2018-05-25</td>\n",
       "      <td>smart</td>\n",
       "    </tr>\n",
       "    <tr>\n",
       "      <th>438</th>\n",
       "      <td>1438</td>\n",
       "      <td>24</td>\n",
       "      <td>2018-12-24</td>\n",
       "      <td>Екатеринбург</td>\n",
       "      <td>Нателла</td>\n",
       "      <td>Бородина</td>\n",
       "      <td>2018-10-05</td>\n",
       "      <td>smart</td>\n",
       "    </tr>\n",
       "    <tr>\n",
       "      <th>133</th>\n",
       "      <td>1133</td>\n",
       "      <td>70</td>\n",
       "      <td>NaT</td>\n",
       "      <td>Барнаул</td>\n",
       "      <td>Надежда</td>\n",
       "      <td>Аникина</td>\n",
       "      <td>2018-10-19</td>\n",
       "      <td>smart</td>\n",
       "    </tr>\n",
       "    <tr>\n",
       "      <th>263</th>\n",
       "      <td>1263</td>\n",
       "      <td>32</td>\n",
       "      <td>NaT</td>\n",
       "      <td>Балашиха</td>\n",
       "      <td>Ермолай</td>\n",
       "      <td>Зайцев</td>\n",
       "      <td>2018-04-30</td>\n",
       "      <td>smart</td>\n",
       "    </tr>\n",
       "  </tbody>\n",
       "</table>\n",
       "</div>"
      ],
      "text/plain": [
       "     user_id  age churn_date             city first_name  last_name  \\\n",
       "155     1155   71        NaT       Ставрополь  Александр     Чернов   \n",
       "54      1054   33        NaT             Омск   Кристина  Платонова   \n",
       "340     1340   50        NaT            Пенза    Тимофей     Алютин   \n",
       "24      1024   73        NaT  Санкт-Петербург     Иулиан    Антипов   \n",
       "311     1311   33        NaT            Тверь     Лолита    Крылова   \n",
       "87      1087   50        NaT  Санкт-Петербург     Гелена  Абалакова   \n",
       "146     1146   72        NaT  Санкт-Петербург  Владислав    Никонов   \n",
       "438     1438   24 2018-12-24     Екатеринбург    Нателла   Бородина   \n",
       "133     1133   70        NaT          Барнаул    Надежда    Аникина   \n",
       "263     1263   32        NaT         Балашиха    Ермолай     Зайцев   \n",
       "\n",
       "      reg_date tariff  \n",
       "155 2018-01-02  smart  \n",
       "54  2018-03-20  smart  \n",
       "340 2018-01-30  smart  \n",
       "24  2018-10-31  ultra  \n",
       "311 2018-08-03  smart  \n",
       "87  2018-10-03  smart  \n",
       "146 2018-05-25  smart  \n",
       "438 2018-10-05  smart  \n",
       "133 2018-10-19  smart  \n",
       "263 2018-04-30  smart  "
      ]
     },
     "execution_count": 12,
     "metadata": {},
     "output_type": "execute_result"
    }
   ],
   "source": [
    "users.info()\n",
    "users.sample(10)"
   ]
  },
  {
   "cell_type": "markdown",
   "metadata": {},
   "source": [
    "пропуски есть в churn_date. Здесь значит, что тариф еще действовал на момент выгрузки данных, оставляем, как есть. Можно изменить тип данных столбцов user_id и age:"
   ]
  },
  {
   "cell_type": "code",
   "execution_count": 13,
   "metadata": {},
   "outputs": [
    {
     "name": "stdout",
     "output_type": "stream",
     "text": [
      "<class 'pandas.core.frame.DataFrame'>\n",
      "RangeIndex: 500 entries, 0 to 499\n",
      "Data columns (total 8 columns):\n",
      " #   Column      Non-Null Count  Dtype         \n",
      "---  ------      --------------  -----         \n",
      " 0   user_id     500 non-null    int32         \n",
      " 1   age         500 non-null    int32         \n",
      " 2   churn_date  38 non-null     datetime64[ns]\n",
      " 3   city        500 non-null    object        \n",
      " 4   first_name  500 non-null    object        \n",
      " 5   last_name   500 non-null    object        \n",
      " 6   reg_date    500 non-null    datetime64[ns]\n",
      " 7   tariff      500 non-null    object        \n",
      "dtypes: datetime64[ns](2), int32(2), object(4)\n",
      "memory usage: 27.5+ KB\n"
     ]
    }
   ],
   "source": [
    "users['user_id'] = users['user_id'].astype('int32')\n",
    "users['age'] = users['age'].astype('int32')\n",
    "users.info()"
   ]
  },
  {
   "cell_type": "code",
   "execution_count": 14,
   "metadata": {},
   "outputs": [
    {
     "name": "stdout",
     "output_type": "stream",
     "text": [
      "<class 'pandas.core.frame.DataFrame'>\n",
      "RangeIndex: 2 entries, 0 to 1\n",
      "Data columns (total 8 columns):\n",
      " #   Column                 Non-Null Count  Dtype \n",
      "---  ------                 --------------  ----- \n",
      " 0   messages_included      2 non-null      int64 \n",
      " 1   mb_per_month_included  2 non-null      int64 \n",
      " 2   minutes_included       2 non-null      int64 \n",
      " 3   rub_monthly_fee        2 non-null      int64 \n",
      " 4   rub_per_gb             2 non-null      int64 \n",
      " 5   rub_per_message        2 non-null      int64 \n",
      " 6   rub_per_minute         2 non-null      int64 \n",
      " 7   tariff_name            2 non-null      object\n",
      "dtypes: int64(7), object(1)\n",
      "memory usage: 256.0+ bytes\n"
     ]
    },
    {
     "data": {
      "text/html": [
       "<div>\n",
       "<style scoped>\n",
       "    .dataframe tbody tr th:only-of-type {\n",
       "        vertical-align: middle;\n",
       "    }\n",
       "\n",
       "    .dataframe tbody tr th {\n",
       "        vertical-align: top;\n",
       "    }\n",
       "\n",
       "    .dataframe thead th {\n",
       "        text-align: right;\n",
       "    }\n",
       "</style>\n",
       "<table border=\"1\" class=\"dataframe\">\n",
       "  <thead>\n",
       "    <tr style=\"text-align: right;\">\n",
       "      <th></th>\n",
       "      <th>messages_included</th>\n",
       "      <th>mb_per_month_included</th>\n",
       "      <th>minutes_included</th>\n",
       "      <th>rub_monthly_fee</th>\n",
       "      <th>rub_per_gb</th>\n",
       "      <th>rub_per_message</th>\n",
       "      <th>rub_per_minute</th>\n",
       "      <th>tariff_name</th>\n",
       "    </tr>\n",
       "  </thead>\n",
       "  <tbody>\n",
       "    <tr>\n",
       "      <th>0</th>\n",
       "      <td>50</td>\n",
       "      <td>15360</td>\n",
       "      <td>500</td>\n",
       "      <td>550</td>\n",
       "      <td>200</td>\n",
       "      <td>3</td>\n",
       "      <td>3</td>\n",
       "      <td>smart</td>\n",
       "    </tr>\n",
       "    <tr>\n",
       "      <th>1</th>\n",
       "      <td>1000</td>\n",
       "      <td>30720</td>\n",
       "      <td>3000</td>\n",
       "      <td>1950</td>\n",
       "      <td>150</td>\n",
       "      <td>1</td>\n",
       "      <td>1</td>\n",
       "      <td>ultra</td>\n",
       "    </tr>\n",
       "  </tbody>\n",
       "</table>\n",
       "</div>"
      ],
      "text/plain": [
       "   messages_included  mb_per_month_included  minutes_included  \\\n",
       "0                 50                  15360               500   \n",
       "1               1000                  30720              3000   \n",
       "\n",
       "   rub_monthly_fee  rub_per_gb  rub_per_message  rub_per_minute tariff_name  \n",
       "0              550         200                3               3       smart  \n",
       "1             1950         150                1               1       ultra  "
      ]
     },
     "execution_count": 14,
     "metadata": {},
     "output_type": "execute_result"
    }
   ],
   "source": [
    "tariffs.info()\n",
    "tariffs.head()"
   ]
  },
  {
   "cell_type": "markdown",
   "metadata": {},
   "source": [
    "Пропусков нет, поменять типы всех столбцов, кроме tariff_name, на int 32:"
   ]
  },
  {
   "cell_type": "code",
   "execution_count": 15,
   "metadata": {},
   "outputs": [
    {
     "name": "stdout",
     "output_type": "stream",
     "text": [
      "<class 'pandas.core.frame.DataFrame'>\n",
      "RangeIndex: 2 entries, 0 to 1\n",
      "Data columns (total 8 columns):\n",
      " #   Column                 Non-Null Count  Dtype \n",
      "---  ------                 --------------  ----- \n",
      " 0   messages_included      2 non-null      int32 \n",
      " 1   mb_per_month_included  2 non-null      int32 \n",
      " 2   minutes_included       2 non-null      int32 \n",
      " 3   rub_monthly_fee        2 non-null      int32 \n",
      " 4   rub_per_gb             2 non-null      int32 \n",
      " 5   rub_per_message        2 non-null      int32 \n",
      " 6   rub_per_minute         2 non-null      int32 \n",
      " 7   tariff_name            2 non-null      object\n",
      "dtypes: int32(7), object(1)\n",
      "memory usage: 200.0+ bytes\n"
     ]
    }
   ],
   "source": [
    "tariffs['messages_included'] = tariffs['messages_included'].astype('int32')\n",
    "tariffs['mb_per_month_included'] = tariffs['mb_per_month_included'].astype('int32')\n",
    "tariffs['minutes_included'] = tariffs['minutes_included'].astype('int32')\n",
    "tariffs['rub_monthly_fee'] = tariffs['rub_monthly_fee'].astype('int32')\n",
    "tariffs['rub_per_gb'] = tariffs['rub_per_gb'].astype('int32')\n",
    "tariffs['rub_per_message'] = tariffs['rub_per_message'].astype('int32')\n",
    "tariffs['rub_per_minute'] = tariffs['rub_per_minute'].astype('int32')\n",
    "tariffs.info()"
   ]
  },
  {
   "cell_type": "markdown",
   "metadata": {},
   "source": [
    "Далее по проекту нам необходимо будет сводить таблицы. поэтому сразу можно изменить наименование столбца tariff_name этой таблицы, поскольку в таблице users есть столбец tariff:"
   ]
  },
  {
   "cell_type": "code",
   "execution_count": 16,
   "metadata": {
    "scrolled": true
   },
   "outputs": [
    {
     "data": {
      "text/html": [
       "<div>\n",
       "<style scoped>\n",
       "    .dataframe tbody tr th:only-of-type {\n",
       "        vertical-align: middle;\n",
       "    }\n",
       "\n",
       "    .dataframe tbody tr th {\n",
       "        vertical-align: top;\n",
       "    }\n",
       "\n",
       "    .dataframe thead th {\n",
       "        text-align: right;\n",
       "    }\n",
       "</style>\n",
       "<table border=\"1\" class=\"dataframe\">\n",
       "  <thead>\n",
       "    <tr style=\"text-align: right;\">\n",
       "      <th></th>\n",
       "      <th>messages_included</th>\n",
       "      <th>mb_per_month_included</th>\n",
       "      <th>minutes_included</th>\n",
       "      <th>rub_monthly_fee</th>\n",
       "      <th>rub_per_gb</th>\n",
       "      <th>rub_per_message</th>\n",
       "      <th>rub_per_minute</th>\n",
       "      <th>tariff</th>\n",
       "    </tr>\n",
       "  </thead>\n",
       "  <tbody>\n",
       "    <tr>\n",
       "      <th>0</th>\n",
       "      <td>50</td>\n",
       "      <td>15360</td>\n",
       "      <td>500</td>\n",
       "      <td>550</td>\n",
       "      <td>200</td>\n",
       "      <td>3</td>\n",
       "      <td>3</td>\n",
       "      <td>smart</td>\n",
       "    </tr>\n",
       "    <tr>\n",
       "      <th>1</th>\n",
       "      <td>1000</td>\n",
       "      <td>30720</td>\n",
       "      <td>3000</td>\n",
       "      <td>1950</td>\n",
       "      <td>150</td>\n",
       "      <td>1</td>\n",
       "      <td>1</td>\n",
       "      <td>ultra</td>\n",
       "    </tr>\n",
       "  </tbody>\n",
       "</table>\n",
       "</div>"
      ],
      "text/plain": [
       "   messages_included  mb_per_month_included  minutes_included  \\\n",
       "0                 50                  15360               500   \n",
       "1               1000                  30720              3000   \n",
       "\n",
       "   rub_monthly_fee  rub_per_gb  rub_per_message  rub_per_minute tariff  \n",
       "0              550         200                3               3  smart  \n",
       "1             1950         150                1               1  ultra  "
      ]
     },
     "execution_count": 16,
     "metadata": {},
     "output_type": "execute_result"
    }
   ],
   "source": [
    "tariffs = tariffs.rename(columns = {'tariff_name':'tariff'})\n",
    "tariffs"
   ]
  },
  {
   "cell_type": "markdown",
   "metadata": {},
   "source": [
    "Добавляем столбец gb_per_month_included, чтобы далее работать в Гб, а также округляем в большую сторону, как ранее, согласно условию:"
   ]
  },
  {
   "cell_type": "code",
   "execution_count": 17,
   "metadata": {},
   "outputs": [
    {
     "data": {
      "text/html": [
       "<div>\n",
       "<style scoped>\n",
       "    .dataframe tbody tr th:only-of-type {\n",
       "        vertical-align: middle;\n",
       "    }\n",
       "\n",
       "    .dataframe tbody tr th {\n",
       "        vertical-align: top;\n",
       "    }\n",
       "\n",
       "    .dataframe thead th {\n",
       "        text-align: right;\n",
       "    }\n",
       "</style>\n",
       "<table border=\"1\" class=\"dataframe\">\n",
       "  <thead>\n",
       "    <tr style=\"text-align: right;\">\n",
       "      <th></th>\n",
       "      <th>messages_included</th>\n",
       "      <th>mb_per_month_included</th>\n",
       "      <th>minutes_included</th>\n",
       "      <th>rub_monthly_fee</th>\n",
       "      <th>rub_per_gb</th>\n",
       "      <th>rub_per_message</th>\n",
       "      <th>rub_per_minute</th>\n",
       "      <th>tariff</th>\n",
       "      <th>gb_per_month_included</th>\n",
       "    </tr>\n",
       "  </thead>\n",
       "  <tbody>\n",
       "    <tr>\n",
       "      <th>0</th>\n",
       "      <td>50</td>\n",
       "      <td>15360</td>\n",
       "      <td>500</td>\n",
       "      <td>550</td>\n",
       "      <td>200</td>\n",
       "      <td>3</td>\n",
       "      <td>3</td>\n",
       "      <td>smart</td>\n",
       "      <td>15</td>\n",
       "    </tr>\n",
       "    <tr>\n",
       "      <th>1</th>\n",
       "      <td>1000</td>\n",
       "      <td>30720</td>\n",
       "      <td>3000</td>\n",
       "      <td>1950</td>\n",
       "      <td>150</td>\n",
       "      <td>1</td>\n",
       "      <td>1</td>\n",
       "      <td>ultra</td>\n",
       "      <td>30</td>\n",
       "    </tr>\n",
       "  </tbody>\n",
       "</table>\n",
       "</div>"
      ],
      "text/plain": [
       "   messages_included  mb_per_month_included  minutes_included  \\\n",
       "0                 50                  15360               500   \n",
       "1               1000                  30720              3000   \n",
       "\n",
       "   rub_monthly_fee  rub_per_gb  rub_per_message  rub_per_minute tariff  \\\n",
       "0              550         200                3               3  smart   \n",
       "1             1950         150                1               1  ultra   \n",
       "\n",
       "   gb_per_month_included  \n",
       "0                     15  \n",
       "1                     30  "
      ]
     },
     "execution_count": 17,
     "metadata": {},
     "output_type": "execute_result"
    }
   ],
   "source": [
    "tariffs['gb_per_month_included'] = (tariffs['mb_per_month_included'] / 1024).astype('int')\n",
    "tariffs"
   ]
  },
  {
   "cell_type": "markdown",
   "metadata": {},
   "source": [
    "### Вывод"
   ]
  },
  {
   "cell_type": "markdown",
   "metadata": {},
   "source": [
    "Рассмотрели таблицы с данными о пользователях, с информацией об использованных звонках, сообщениях, Интернете, со сведениями о тарифах.\n",
    "\n",
    "Серьезных ошибок не найдено.\n",
    "\n",
    "- поправили тип данных, \n",
    "- переименовали столбец в таблице с тарифами для облегчения дальнейшей работы со сводными таблицами,\n",
    "- округлили значения потраченных минут (в соответствии с условием)\n"
   ]
  },
  {
   "cell_type": "markdown",
   "metadata": {},
   "source": [
    "## Добавление дополнительных сведений"
   ]
  },
  {
   "cell_type": "markdown",
   "metadata": {},
   "source": [
    "### Количество сделанных звонков и израсходованных минут разговора по месяцам"
   ]
  },
  {
   "cell_type": "markdown",
   "metadata": {},
   "source": [
    "Добавим столбец 'month':"
   ]
  },
  {
   "cell_type": "code",
   "execution_count": 18,
   "metadata": {
    "scrolled": true
   },
   "outputs": [
    {
     "name": "stdout",
     "output_type": "stream",
     "text": [
      "<class 'pandas.core.frame.DataFrame'>\n",
      "RangeIndex: 202607 entries, 0 to 202606\n",
      "Data columns (total 5 columns):\n",
      " #   Column     Non-Null Count   Dtype         \n",
      "---  ------     --------------   -----         \n",
      " 0   id         202607 non-null  object        \n",
      " 1   call_date  202607 non-null  datetime64[ns]\n",
      " 2   duration   202607 non-null  int64         \n",
      " 3   user_id    202607 non-null  int32         \n",
      " 4   month      202607 non-null  int64         \n",
      "dtypes: datetime64[ns](1), int32(1), int64(2), object(1)\n",
      "memory usage: 7.0+ MB\n"
     ]
    },
    {
     "data": {
      "text/html": [
       "<div>\n",
       "<style scoped>\n",
       "    .dataframe tbody tr th:only-of-type {\n",
       "        vertical-align: middle;\n",
       "    }\n",
       "\n",
       "    .dataframe tbody tr th {\n",
       "        vertical-align: top;\n",
       "    }\n",
       "\n",
       "    .dataframe thead th {\n",
       "        text-align: right;\n",
       "    }\n",
       "</style>\n",
       "<table border=\"1\" class=\"dataframe\">\n",
       "  <thead>\n",
       "    <tr style=\"text-align: right;\">\n",
       "      <th></th>\n",
       "      <th>id</th>\n",
       "      <th>call_date</th>\n",
       "      <th>duration</th>\n",
       "      <th>user_id</th>\n",
       "      <th>month</th>\n",
       "    </tr>\n",
       "  </thead>\n",
       "  <tbody>\n",
       "    <tr>\n",
       "      <th>0</th>\n",
       "      <td>1000_0</td>\n",
       "      <td>2018-07-25</td>\n",
       "      <td>0</td>\n",
       "      <td>1000</td>\n",
       "      <td>7</td>\n",
       "    </tr>\n",
       "    <tr>\n",
       "      <th>1</th>\n",
       "      <td>1000_1</td>\n",
       "      <td>2018-08-17</td>\n",
       "      <td>0</td>\n",
       "      <td>1000</td>\n",
       "      <td>8</td>\n",
       "    </tr>\n",
       "    <tr>\n",
       "      <th>2</th>\n",
       "      <td>1000_2</td>\n",
       "      <td>2018-06-11</td>\n",
       "      <td>3</td>\n",
       "      <td>1000</td>\n",
       "      <td>6</td>\n",
       "    </tr>\n",
       "    <tr>\n",
       "      <th>3</th>\n",
       "      <td>1000_3</td>\n",
       "      <td>2018-09-21</td>\n",
       "      <td>14</td>\n",
       "      <td>1000</td>\n",
       "      <td>9</td>\n",
       "    </tr>\n",
       "    <tr>\n",
       "      <th>4</th>\n",
       "      <td>1000_4</td>\n",
       "      <td>2018-12-15</td>\n",
       "      <td>6</td>\n",
       "      <td>1000</td>\n",
       "      <td>12</td>\n",
       "    </tr>\n",
       "  </tbody>\n",
       "</table>\n",
       "</div>"
      ],
      "text/plain": [
       "       id  call_date  duration  user_id  month\n",
       "0  1000_0 2018-07-25         0     1000      7\n",
       "1  1000_1 2018-08-17         0     1000      8\n",
       "2  1000_2 2018-06-11         3     1000      6\n",
       "3  1000_3 2018-09-21        14     1000      9\n",
       "4  1000_4 2018-12-15         6     1000     12"
      ]
     },
     "execution_count": 18,
     "metadata": {},
     "output_type": "execute_result"
    }
   ],
   "source": [
    "calls['month'] = calls['call_date'].dt.month\n",
    "calls.info()\n",
    "calls.head()"
   ]
  },
  {
   "cell_type": "markdown",
   "metadata": {},
   "source": [
    "Посчитаем кол-во израсходованных минут и кол-во сделанных звонков по месяцам:"
   ]
  },
  {
   "cell_type": "code",
   "execution_count": 19,
   "metadata": {},
   "outputs": [
    {
     "data": {
      "text/html": [
       "<div>\n",
       "<style scoped>\n",
       "    .dataframe tbody tr th:only-of-type {\n",
       "        vertical-align: middle;\n",
       "    }\n",
       "\n",
       "    .dataframe tbody tr th {\n",
       "        vertical-align: top;\n",
       "    }\n",
       "\n",
       "    .dataframe thead th {\n",
       "        text-align: right;\n",
       "    }\n",
       "</style>\n",
       "<table border=\"1\" class=\"dataframe\">\n",
       "  <thead>\n",
       "    <tr style=\"text-align: right;\">\n",
       "      <th></th>\n",
       "      <th>user_id</th>\n",
       "      <th>month</th>\n",
       "      <th>duration</th>\n",
       "      <th>id</th>\n",
       "    </tr>\n",
       "  </thead>\n",
       "  <tbody>\n",
       "    <tr>\n",
       "      <th>0</th>\n",
       "      <td>1000</td>\n",
       "      <td>5</td>\n",
       "      <td>159</td>\n",
       "      <td>22</td>\n",
       "    </tr>\n",
       "    <tr>\n",
       "      <th>1</th>\n",
       "      <td>1000</td>\n",
       "      <td>6</td>\n",
       "      <td>172</td>\n",
       "      <td>43</td>\n",
       "    </tr>\n",
       "    <tr>\n",
       "      <th>2</th>\n",
       "      <td>1000</td>\n",
       "      <td>7</td>\n",
       "      <td>340</td>\n",
       "      <td>47</td>\n",
       "    </tr>\n",
       "    <tr>\n",
       "      <th>3</th>\n",
       "      <td>1000</td>\n",
       "      <td>8</td>\n",
       "      <td>408</td>\n",
       "      <td>52</td>\n",
       "    </tr>\n",
       "    <tr>\n",
       "      <th>4</th>\n",
       "      <td>1000</td>\n",
       "      <td>9</td>\n",
       "      <td>466</td>\n",
       "      <td>58</td>\n",
       "    </tr>\n",
       "  </tbody>\n",
       "</table>\n",
       "</div>"
      ],
      "text/plain": [
       "   user_id  month  duration  id\n",
       "0     1000      5       159  22\n",
       "1     1000      6       172  43\n",
       "2     1000      7       340  47\n",
       "3     1000      8       408  52\n",
       "4     1000      9       466  58"
      ]
     },
     "execution_count": 19,
     "metadata": {},
     "output_type": "execute_result"
    }
   ],
   "source": [
    "calls_grouped_by_months = calls.groupby(['user_id', 'month']).agg({'duration':'sum','id':'count'}).reset_index()\n",
    "calls_grouped_by_months.head()"
   ]
  },
  {
   "cell_type": "markdown",
   "metadata": {},
   "source": [
    "### Количество отправленных сообщений по месяцам"
   ]
  },
  {
   "cell_type": "markdown",
   "metadata": {},
   "source": [
    "Добавим столбец 'month':"
   ]
  },
  {
   "cell_type": "code",
   "execution_count": 20,
   "metadata": {
    "scrolled": true
   },
   "outputs": [
    {
     "name": "stdout",
     "output_type": "stream",
     "text": [
      "<class 'pandas.core.frame.DataFrame'>\n",
      "RangeIndex: 123036 entries, 0 to 123035\n",
      "Data columns (total 4 columns):\n",
      " #   Column        Non-Null Count   Dtype         \n",
      "---  ------        --------------   -----         \n",
      " 0   id            123036 non-null  object        \n",
      " 1   message_date  123036 non-null  datetime64[ns]\n",
      " 2   user_id       123036 non-null  int32         \n",
      " 3   month         123036 non-null  int64         \n",
      "dtypes: datetime64[ns](1), int32(1), int64(1), object(1)\n",
      "memory usage: 3.3+ MB\n"
     ]
    },
    {
     "data": {
      "text/html": [
       "<div>\n",
       "<style scoped>\n",
       "    .dataframe tbody tr th:only-of-type {\n",
       "        vertical-align: middle;\n",
       "    }\n",
       "\n",
       "    .dataframe tbody tr th {\n",
       "        vertical-align: top;\n",
       "    }\n",
       "\n",
       "    .dataframe thead th {\n",
       "        text-align: right;\n",
       "    }\n",
       "</style>\n",
       "<table border=\"1\" class=\"dataframe\">\n",
       "  <thead>\n",
       "    <tr style=\"text-align: right;\">\n",
       "      <th></th>\n",
       "      <th>id</th>\n",
       "      <th>message_date</th>\n",
       "      <th>user_id</th>\n",
       "      <th>month</th>\n",
       "    </tr>\n",
       "  </thead>\n",
       "  <tbody>\n",
       "    <tr>\n",
       "      <th>0</th>\n",
       "      <td>1000_0</td>\n",
       "      <td>2018-06-27</td>\n",
       "      <td>1000</td>\n",
       "      <td>6</td>\n",
       "    </tr>\n",
       "    <tr>\n",
       "      <th>1</th>\n",
       "      <td>1000_1</td>\n",
       "      <td>2018-10-08</td>\n",
       "      <td>1000</td>\n",
       "      <td>10</td>\n",
       "    </tr>\n",
       "    <tr>\n",
       "      <th>2</th>\n",
       "      <td>1000_2</td>\n",
       "      <td>2018-08-04</td>\n",
       "      <td>1000</td>\n",
       "      <td>8</td>\n",
       "    </tr>\n",
       "    <tr>\n",
       "      <th>3</th>\n",
       "      <td>1000_3</td>\n",
       "      <td>2018-06-16</td>\n",
       "      <td>1000</td>\n",
       "      <td>6</td>\n",
       "    </tr>\n",
       "    <tr>\n",
       "      <th>4</th>\n",
       "      <td>1000_4</td>\n",
       "      <td>2018-12-05</td>\n",
       "      <td>1000</td>\n",
       "      <td>12</td>\n",
       "    </tr>\n",
       "  </tbody>\n",
       "</table>\n",
       "</div>"
      ],
      "text/plain": [
       "       id message_date  user_id  month\n",
       "0  1000_0   2018-06-27     1000      6\n",
       "1  1000_1   2018-10-08     1000     10\n",
       "2  1000_2   2018-08-04     1000      8\n",
       "3  1000_3   2018-06-16     1000      6\n",
       "4  1000_4   2018-12-05     1000     12"
      ]
     },
     "execution_count": 20,
     "metadata": {},
     "output_type": "execute_result"
    }
   ],
   "source": [
    "messages['month'] = messages['message_date'].dt.month\n",
    "messages.info()\n",
    "messages.head()"
   ]
  },
  {
   "cell_type": "markdown",
   "metadata": {},
   "source": [
    "Посчитаем кол-во отправленных сообщений по месяцам:"
   ]
  },
  {
   "cell_type": "code",
   "execution_count": 21,
   "metadata": {},
   "outputs": [
    {
     "data": {
      "text/html": [
       "<div>\n",
       "<style scoped>\n",
       "    .dataframe tbody tr th:only-of-type {\n",
       "        vertical-align: middle;\n",
       "    }\n",
       "\n",
       "    .dataframe tbody tr th {\n",
       "        vertical-align: top;\n",
       "    }\n",
       "\n",
       "    .dataframe thead th {\n",
       "        text-align: right;\n",
       "    }\n",
       "</style>\n",
       "<table border=\"1\" class=\"dataframe\">\n",
       "  <thead>\n",
       "    <tr style=\"text-align: right;\">\n",
       "      <th></th>\n",
       "      <th>user_id</th>\n",
       "      <th>month</th>\n",
       "      <th>id</th>\n",
       "    </tr>\n",
       "  </thead>\n",
       "  <tbody>\n",
       "    <tr>\n",
       "      <th>0</th>\n",
       "      <td>1000</td>\n",
       "      <td>5</td>\n",
       "      <td>22</td>\n",
       "    </tr>\n",
       "    <tr>\n",
       "      <th>1</th>\n",
       "      <td>1000</td>\n",
       "      <td>6</td>\n",
       "      <td>60</td>\n",
       "    </tr>\n",
       "    <tr>\n",
       "      <th>2</th>\n",
       "      <td>1000</td>\n",
       "      <td>7</td>\n",
       "      <td>75</td>\n",
       "    </tr>\n",
       "    <tr>\n",
       "      <th>3</th>\n",
       "      <td>1000</td>\n",
       "      <td>8</td>\n",
       "      <td>81</td>\n",
       "    </tr>\n",
       "    <tr>\n",
       "      <th>4</th>\n",
       "      <td>1000</td>\n",
       "      <td>9</td>\n",
       "      <td>57</td>\n",
       "    </tr>\n",
       "  </tbody>\n",
       "</table>\n",
       "</div>"
      ],
      "text/plain": [
       "   user_id  month  id\n",
       "0     1000      5  22\n",
       "1     1000      6  60\n",
       "2     1000      7  75\n",
       "3     1000      8  81\n",
       "4     1000      9  57"
      ]
     },
     "execution_count": 21,
     "metadata": {},
     "output_type": "execute_result"
    }
   ],
   "source": [
    "messages_grouped_by_months = messages.groupby(['user_id', 'month']).agg({'id':'count'}).reset_index()\n",
    "messages_grouped_by_months.head()"
   ]
  },
  {
   "cell_type": "markdown",
   "metadata": {},
   "source": [
    "### Объем израсходованного интернет-трафика по месяцам"
   ]
  },
  {
   "cell_type": "markdown",
   "metadata": {},
   "source": [
    "Добавим столбец 'month':"
   ]
  },
  {
   "cell_type": "code",
   "execution_count": 22,
   "metadata": {},
   "outputs": [
    {
     "name": "stdout",
     "output_type": "stream",
     "text": [
      "<class 'pandas.core.frame.DataFrame'>\n",
      "RangeIndex: 149396 entries, 0 to 149395\n",
      "Data columns (total 6 columns):\n",
      " #   Column        Non-Null Count   Dtype         \n",
      "---  ------        --------------   -----         \n",
      " 0   Unnamed: 0    149396 non-null  int64         \n",
      " 1   id            149396 non-null  object        \n",
      " 2   mb_used       149396 non-null  int32         \n",
      " 3   session_date  149396 non-null  datetime64[ns]\n",
      " 4   user_id       149396 non-null  int32         \n",
      " 5   month         149396 non-null  int64         \n",
      "dtypes: datetime64[ns](1), int32(2), int64(2), object(1)\n",
      "memory usage: 5.7+ MB\n"
     ]
    },
    {
     "data": {
      "text/html": [
       "<div>\n",
       "<style scoped>\n",
       "    .dataframe tbody tr th:only-of-type {\n",
       "        vertical-align: middle;\n",
       "    }\n",
       "\n",
       "    .dataframe tbody tr th {\n",
       "        vertical-align: top;\n",
       "    }\n",
       "\n",
       "    .dataframe thead th {\n",
       "        text-align: right;\n",
       "    }\n",
       "</style>\n",
       "<table border=\"1\" class=\"dataframe\">\n",
       "  <thead>\n",
       "    <tr style=\"text-align: right;\">\n",
       "      <th></th>\n",
       "      <th>Unnamed: 0</th>\n",
       "      <th>id</th>\n",
       "      <th>mb_used</th>\n",
       "      <th>session_date</th>\n",
       "      <th>user_id</th>\n",
       "      <th>month</th>\n",
       "    </tr>\n",
       "  </thead>\n",
       "  <tbody>\n",
       "    <tr>\n",
       "      <th>0</th>\n",
       "      <td>0</td>\n",
       "      <td>1000_0</td>\n",
       "      <td>112</td>\n",
       "      <td>2018-11-25</td>\n",
       "      <td>1000</td>\n",
       "      <td>11</td>\n",
       "    </tr>\n",
       "    <tr>\n",
       "      <th>1</th>\n",
       "      <td>1</td>\n",
       "      <td>1000_1</td>\n",
       "      <td>1052</td>\n",
       "      <td>2018-09-07</td>\n",
       "      <td>1000</td>\n",
       "      <td>9</td>\n",
       "    </tr>\n",
       "    <tr>\n",
       "      <th>2</th>\n",
       "      <td>2</td>\n",
       "      <td>1000_2</td>\n",
       "      <td>1197</td>\n",
       "      <td>2018-06-25</td>\n",
       "      <td>1000</td>\n",
       "      <td>6</td>\n",
       "    </tr>\n",
       "    <tr>\n",
       "      <th>3</th>\n",
       "      <td>3</td>\n",
       "      <td>1000_3</td>\n",
       "      <td>550</td>\n",
       "      <td>2018-08-22</td>\n",
       "      <td>1000</td>\n",
       "      <td>8</td>\n",
       "    </tr>\n",
       "    <tr>\n",
       "      <th>4</th>\n",
       "      <td>4</td>\n",
       "      <td>1000_4</td>\n",
       "      <td>302</td>\n",
       "      <td>2018-09-24</td>\n",
       "      <td>1000</td>\n",
       "      <td>9</td>\n",
       "    </tr>\n",
       "  </tbody>\n",
       "</table>\n",
       "</div>"
      ],
      "text/plain": [
       "   Unnamed: 0      id  mb_used session_date  user_id  month\n",
       "0           0  1000_0      112   2018-11-25     1000     11\n",
       "1           1  1000_1     1052   2018-09-07     1000      9\n",
       "2           2  1000_2     1197   2018-06-25     1000      6\n",
       "3           3  1000_3      550   2018-08-22     1000      8\n",
       "4           4  1000_4      302   2018-09-24     1000      9"
      ]
     },
     "execution_count": 22,
     "metadata": {},
     "output_type": "execute_result"
    }
   ],
   "source": [
    "internet['month'] = internet['session_date'].dt.month\n",
    "internet.info()\n",
    "internet.head()"
   ]
  },
  {
   "cell_type": "markdown",
   "metadata": {},
   "source": [
    "Посчитаем объем израсходованного Интернета по месяцам. "
   ]
  },
  {
   "cell_type": "code",
   "execution_count": 23,
   "metadata": {},
   "outputs": [
    {
     "data": {
      "text/html": [
       "<div>\n",
       "<style scoped>\n",
       "    .dataframe tbody tr th:only-of-type {\n",
       "        vertical-align: middle;\n",
       "    }\n",
       "\n",
       "    .dataframe tbody tr th {\n",
       "        vertical-align: top;\n",
       "    }\n",
       "\n",
       "    .dataframe thead th {\n",
       "        text-align: right;\n",
       "    }\n",
       "</style>\n",
       "<table border=\"1\" class=\"dataframe\">\n",
       "  <thead>\n",
       "    <tr style=\"text-align: right;\">\n",
       "      <th></th>\n",
       "      <th>user_id</th>\n",
       "      <th>month</th>\n",
       "      <th>mb_used</th>\n",
       "      <th>gb_used</th>\n",
       "    </tr>\n",
       "  </thead>\n",
       "  <tbody>\n",
       "    <tr>\n",
       "      <th>0</th>\n",
       "      <td>1000</td>\n",
       "      <td>5</td>\n",
       "      <td>2252</td>\n",
       "      <td>3</td>\n",
       "    </tr>\n",
       "    <tr>\n",
       "      <th>1</th>\n",
       "      <td>1000</td>\n",
       "      <td>6</td>\n",
       "      <td>23213</td>\n",
       "      <td>23</td>\n",
       "    </tr>\n",
       "    <tr>\n",
       "      <th>2</th>\n",
       "      <td>1000</td>\n",
       "      <td>7</td>\n",
       "      <td>13988</td>\n",
       "      <td>14</td>\n",
       "    </tr>\n",
       "    <tr>\n",
       "      <th>3</th>\n",
       "      <td>1000</td>\n",
       "      <td>8</td>\n",
       "      <td>14043</td>\n",
       "      <td>14</td>\n",
       "    </tr>\n",
       "    <tr>\n",
       "      <th>4</th>\n",
       "      <td>1000</td>\n",
       "      <td>9</td>\n",
       "      <td>14556</td>\n",
       "      <td>15</td>\n",
       "    </tr>\n",
       "  </tbody>\n",
       "</table>\n",
       "</div>"
      ],
      "text/plain": [
       "   user_id  month  mb_used  gb_used\n",
       "0     1000      5     2252        3\n",
       "1     1000      6    23213       23\n",
       "2     1000      7    13988       14\n",
       "3     1000      8    14043       14\n",
       "4     1000      9    14556       15"
      ]
     },
     "execution_count": 23,
     "metadata": {},
     "output_type": "execute_result"
    }
   ],
   "source": [
    "internet_grouped_by_months = internet.groupby(['user_id', 'month']).agg({'mb_used':'sum'}).reset_index()\n",
    "internet_grouped_by_months['gb_used'] = (internet_grouped_by_months['mb_used'] / 1024).apply(np.ceil).astype('int32')\n",
    "internet_grouped_by_months.head()"
   ]
  },
  {
   "cell_type": "markdown",
   "metadata": {},
   "source": [
    "### Помесячная выручка с каждого пользователя "
   ]
  },
  {
   "cell_type": "markdown",
   "metadata": {},
   "source": [
    "Объединим созданные сводные таблицы messages_grouped_by_months, calls_grouped_by_months, internet_grouped_by_months:"
   ]
  },
  {
   "cell_type": "code",
   "execution_count": 24,
   "metadata": {
    "scrolled": true
   },
   "outputs": [
    {
     "data": {
      "text/html": [
       "<div>\n",
       "<style scoped>\n",
       "    .dataframe tbody tr th:only-of-type {\n",
       "        vertical-align: middle;\n",
       "    }\n",
       "\n",
       "    .dataframe tbody tr th {\n",
       "        vertical-align: top;\n",
       "    }\n",
       "\n",
       "    .dataframe thead th {\n",
       "        text-align: right;\n",
       "    }\n",
       "</style>\n",
       "<table border=\"1\" class=\"dataframe\">\n",
       "  <thead>\n",
       "    <tr style=\"text-align: right;\">\n",
       "      <th></th>\n",
       "      <th>user_id</th>\n",
       "      <th>month</th>\n",
       "      <th>minutes_used</th>\n",
       "      <th>calls_count</th>\n",
       "      <th>sms_count</th>\n",
       "      <th>mb_used</th>\n",
       "      <th>gb_used</th>\n",
       "    </tr>\n",
       "  </thead>\n",
       "  <tbody>\n",
       "    <tr>\n",
       "      <th>0</th>\n",
       "      <td>1000</td>\n",
       "      <td>5</td>\n",
       "      <td>159.0</td>\n",
       "      <td>22.0</td>\n",
       "      <td>22.0</td>\n",
       "      <td>2252.0</td>\n",
       "      <td>3.0</td>\n",
       "    </tr>\n",
       "    <tr>\n",
       "      <th>1</th>\n",
       "      <td>1000</td>\n",
       "      <td>6</td>\n",
       "      <td>172.0</td>\n",
       "      <td>43.0</td>\n",
       "      <td>60.0</td>\n",
       "      <td>23213.0</td>\n",
       "      <td>23.0</td>\n",
       "    </tr>\n",
       "    <tr>\n",
       "      <th>2</th>\n",
       "      <td>1000</td>\n",
       "      <td>7</td>\n",
       "      <td>340.0</td>\n",
       "      <td>47.0</td>\n",
       "      <td>75.0</td>\n",
       "      <td>13988.0</td>\n",
       "      <td>14.0</td>\n",
       "    </tr>\n",
       "    <tr>\n",
       "      <th>3</th>\n",
       "      <td>1000</td>\n",
       "      <td>8</td>\n",
       "      <td>408.0</td>\n",
       "      <td>52.0</td>\n",
       "      <td>81.0</td>\n",
       "      <td>14043.0</td>\n",
       "      <td>14.0</td>\n",
       "    </tr>\n",
       "    <tr>\n",
       "      <th>4</th>\n",
       "      <td>1000</td>\n",
       "      <td>9</td>\n",
       "      <td>466.0</td>\n",
       "      <td>58.0</td>\n",
       "      <td>57.0</td>\n",
       "      <td>14556.0</td>\n",
       "      <td>15.0</td>\n",
       "    </tr>\n",
       "  </tbody>\n",
       "</table>\n",
       "</div>"
      ],
      "text/plain": [
       "   user_id  month  minutes_used  calls_count  sms_count  mb_used  gb_used\n",
       "0     1000      5         159.0         22.0       22.0   2252.0      3.0\n",
       "1     1000      6         172.0         43.0       60.0  23213.0     23.0\n",
       "2     1000      7         340.0         47.0       75.0  13988.0     14.0\n",
       "3     1000      8         408.0         52.0       81.0  14043.0     14.0\n",
       "4     1000      9         466.0         58.0       57.0  14556.0     15.0"
      ]
     },
     "execution_count": 24,
     "metadata": {},
     "output_type": "execute_result"
    }
   ],
   "source": [
    "user_summary_table = calls_grouped_by_months.merge(messages_grouped_by_months, on=['user_id', 'month'], how='outer') \\\n",
    "                           .merge(internet_grouped_by_months, on=['user_id', 'month'], how='outer')\n",
    "user_summary_table = user_summary_table.rename(columns={'duration':'minutes_used', 'id_x':'calls_count', 'id_y':'sms_count'})\n",
    "user_summary_table.head()"
   ]
  },
  {
   "cell_type": "markdown",
   "metadata": {},
   "source": [
    "Добавляем информацию о пользователях users:"
   ]
  },
  {
   "cell_type": "code",
   "execution_count": 25,
   "metadata": {},
   "outputs": [
    {
     "data": {
      "text/html": [
       "<div>\n",
       "<style scoped>\n",
       "    .dataframe tbody tr th:only-of-type {\n",
       "        vertical-align: middle;\n",
       "    }\n",
       "\n",
       "    .dataframe tbody tr th {\n",
       "        vertical-align: top;\n",
       "    }\n",
       "\n",
       "    .dataframe thead th {\n",
       "        text-align: right;\n",
       "    }\n",
       "</style>\n",
       "<table border=\"1\" class=\"dataframe\">\n",
       "  <thead>\n",
       "    <tr style=\"text-align: right;\">\n",
       "      <th></th>\n",
       "      <th>user_id</th>\n",
       "      <th>month</th>\n",
       "      <th>minutes_used</th>\n",
       "      <th>calls_count</th>\n",
       "      <th>sms_count</th>\n",
       "      <th>mb_used</th>\n",
       "      <th>gb_used</th>\n",
       "      <th>age</th>\n",
       "      <th>churn_date</th>\n",
       "      <th>city</th>\n",
       "      <th>first_name</th>\n",
       "      <th>last_name</th>\n",
       "      <th>reg_date</th>\n",
       "      <th>tariff</th>\n",
       "    </tr>\n",
       "  </thead>\n",
       "  <tbody>\n",
       "    <tr>\n",
       "      <th>0</th>\n",
       "      <td>1000</td>\n",
       "      <td>5</td>\n",
       "      <td>159.0</td>\n",
       "      <td>22.0</td>\n",
       "      <td>22.0</td>\n",
       "      <td>2252.0</td>\n",
       "      <td>3.0</td>\n",
       "      <td>52</td>\n",
       "      <td>NaT</td>\n",
       "      <td>Краснодар</td>\n",
       "      <td>Рафаил</td>\n",
       "      <td>Верещагин</td>\n",
       "      <td>2018-05-25</td>\n",
       "      <td>ultra</td>\n",
       "    </tr>\n",
       "    <tr>\n",
       "      <th>1</th>\n",
       "      <td>1000</td>\n",
       "      <td>6</td>\n",
       "      <td>172.0</td>\n",
       "      <td>43.0</td>\n",
       "      <td>60.0</td>\n",
       "      <td>23213.0</td>\n",
       "      <td>23.0</td>\n",
       "      <td>52</td>\n",
       "      <td>NaT</td>\n",
       "      <td>Краснодар</td>\n",
       "      <td>Рафаил</td>\n",
       "      <td>Верещагин</td>\n",
       "      <td>2018-05-25</td>\n",
       "      <td>ultra</td>\n",
       "    </tr>\n",
       "    <tr>\n",
       "      <th>2</th>\n",
       "      <td>1000</td>\n",
       "      <td>7</td>\n",
       "      <td>340.0</td>\n",
       "      <td>47.0</td>\n",
       "      <td>75.0</td>\n",
       "      <td>13988.0</td>\n",
       "      <td>14.0</td>\n",
       "      <td>52</td>\n",
       "      <td>NaT</td>\n",
       "      <td>Краснодар</td>\n",
       "      <td>Рафаил</td>\n",
       "      <td>Верещагин</td>\n",
       "      <td>2018-05-25</td>\n",
       "      <td>ultra</td>\n",
       "    </tr>\n",
       "    <tr>\n",
       "      <th>3</th>\n",
       "      <td>1000</td>\n",
       "      <td>8</td>\n",
       "      <td>408.0</td>\n",
       "      <td>52.0</td>\n",
       "      <td>81.0</td>\n",
       "      <td>14043.0</td>\n",
       "      <td>14.0</td>\n",
       "      <td>52</td>\n",
       "      <td>NaT</td>\n",
       "      <td>Краснодар</td>\n",
       "      <td>Рафаил</td>\n",
       "      <td>Верещагин</td>\n",
       "      <td>2018-05-25</td>\n",
       "      <td>ultra</td>\n",
       "    </tr>\n",
       "    <tr>\n",
       "      <th>4</th>\n",
       "      <td>1000</td>\n",
       "      <td>9</td>\n",
       "      <td>466.0</td>\n",
       "      <td>58.0</td>\n",
       "      <td>57.0</td>\n",
       "      <td>14556.0</td>\n",
       "      <td>15.0</td>\n",
       "      <td>52</td>\n",
       "      <td>NaT</td>\n",
       "      <td>Краснодар</td>\n",
       "      <td>Рафаил</td>\n",
       "      <td>Верещагин</td>\n",
       "      <td>2018-05-25</td>\n",
       "      <td>ultra</td>\n",
       "    </tr>\n",
       "  </tbody>\n",
       "</table>\n",
       "</div>"
      ],
      "text/plain": [
       "   user_id  month  minutes_used  calls_count  sms_count  mb_used  gb_used  \\\n",
       "0     1000      5         159.0         22.0       22.0   2252.0      3.0   \n",
       "1     1000      6         172.0         43.0       60.0  23213.0     23.0   \n",
       "2     1000      7         340.0         47.0       75.0  13988.0     14.0   \n",
       "3     1000      8         408.0         52.0       81.0  14043.0     14.0   \n",
       "4     1000      9         466.0         58.0       57.0  14556.0     15.0   \n",
       "\n",
       "   age churn_date       city first_name  last_name   reg_date tariff  \n",
       "0   52        NaT  Краснодар     Рафаил  Верещагин 2018-05-25  ultra  \n",
       "1   52        NaT  Краснодар     Рафаил  Верещагин 2018-05-25  ultra  \n",
       "2   52        NaT  Краснодар     Рафаил  Верещагин 2018-05-25  ultra  \n",
       "3   52        NaT  Краснодар     Рафаил  Верещагин 2018-05-25  ultra  \n",
       "4   52        NaT  Краснодар     Рафаил  Верещагин 2018-05-25  ultra  "
      ]
     },
     "execution_count": 25,
     "metadata": {},
     "output_type": "execute_result"
    }
   ],
   "source": [
    "user_summary_table = user_summary_table.merge(users, on='user_id', how='left')\n",
    "user_summary_table.head()"
   ]
  },
  {
   "cell_type": "markdown",
   "metadata": {},
   "source": [
    "Добавляем информацию о тарифах tariffs:"
   ]
  },
  {
   "cell_type": "code",
   "execution_count": 26,
   "metadata": {},
   "outputs": [
    {
     "data": {
      "text/html": [
       "<div>\n",
       "<style scoped>\n",
       "    .dataframe tbody tr th:only-of-type {\n",
       "        vertical-align: middle;\n",
       "    }\n",
       "\n",
       "    .dataframe tbody tr th {\n",
       "        vertical-align: top;\n",
       "    }\n",
       "\n",
       "    .dataframe thead th {\n",
       "        text-align: right;\n",
       "    }\n",
       "</style>\n",
       "<table border=\"1\" class=\"dataframe\">\n",
       "  <thead>\n",
       "    <tr style=\"text-align: right;\">\n",
       "      <th></th>\n",
       "      <th>user_id</th>\n",
       "      <th>month</th>\n",
       "      <th>minutes_used</th>\n",
       "      <th>calls_count</th>\n",
       "      <th>sms_count</th>\n",
       "      <th>mb_used</th>\n",
       "      <th>gb_used</th>\n",
       "      <th>age</th>\n",
       "      <th>churn_date</th>\n",
       "      <th>city</th>\n",
       "      <th>...</th>\n",
       "      <th>reg_date</th>\n",
       "      <th>tariff</th>\n",
       "      <th>messages_included</th>\n",
       "      <th>mb_per_month_included</th>\n",
       "      <th>minutes_included</th>\n",
       "      <th>rub_monthly_fee</th>\n",
       "      <th>rub_per_gb</th>\n",
       "      <th>rub_per_message</th>\n",
       "      <th>rub_per_minute</th>\n",
       "      <th>gb_per_month_included</th>\n",
       "    </tr>\n",
       "  </thead>\n",
       "  <tbody>\n",
       "    <tr>\n",
       "      <th>0</th>\n",
       "      <td>1000</td>\n",
       "      <td>5</td>\n",
       "      <td>159.0</td>\n",
       "      <td>22.0</td>\n",
       "      <td>22.0</td>\n",
       "      <td>2252.0</td>\n",
       "      <td>3.0</td>\n",
       "      <td>52</td>\n",
       "      <td>NaT</td>\n",
       "      <td>Краснодар</td>\n",
       "      <td>...</td>\n",
       "      <td>2018-05-25</td>\n",
       "      <td>ultra</td>\n",
       "      <td>1000</td>\n",
       "      <td>30720</td>\n",
       "      <td>3000</td>\n",
       "      <td>1950</td>\n",
       "      <td>150</td>\n",
       "      <td>1</td>\n",
       "      <td>1</td>\n",
       "      <td>30</td>\n",
       "    </tr>\n",
       "    <tr>\n",
       "      <th>1</th>\n",
       "      <td>1000</td>\n",
       "      <td>6</td>\n",
       "      <td>172.0</td>\n",
       "      <td>43.0</td>\n",
       "      <td>60.0</td>\n",
       "      <td>23213.0</td>\n",
       "      <td>23.0</td>\n",
       "      <td>52</td>\n",
       "      <td>NaT</td>\n",
       "      <td>Краснодар</td>\n",
       "      <td>...</td>\n",
       "      <td>2018-05-25</td>\n",
       "      <td>ultra</td>\n",
       "      <td>1000</td>\n",
       "      <td>30720</td>\n",
       "      <td>3000</td>\n",
       "      <td>1950</td>\n",
       "      <td>150</td>\n",
       "      <td>1</td>\n",
       "      <td>1</td>\n",
       "      <td>30</td>\n",
       "    </tr>\n",
       "    <tr>\n",
       "      <th>2</th>\n",
       "      <td>1000</td>\n",
       "      <td>7</td>\n",
       "      <td>340.0</td>\n",
       "      <td>47.0</td>\n",
       "      <td>75.0</td>\n",
       "      <td>13988.0</td>\n",
       "      <td>14.0</td>\n",
       "      <td>52</td>\n",
       "      <td>NaT</td>\n",
       "      <td>Краснодар</td>\n",
       "      <td>...</td>\n",
       "      <td>2018-05-25</td>\n",
       "      <td>ultra</td>\n",
       "      <td>1000</td>\n",
       "      <td>30720</td>\n",
       "      <td>3000</td>\n",
       "      <td>1950</td>\n",
       "      <td>150</td>\n",
       "      <td>1</td>\n",
       "      <td>1</td>\n",
       "      <td>30</td>\n",
       "    </tr>\n",
       "    <tr>\n",
       "      <th>3</th>\n",
       "      <td>1000</td>\n",
       "      <td>8</td>\n",
       "      <td>408.0</td>\n",
       "      <td>52.0</td>\n",
       "      <td>81.0</td>\n",
       "      <td>14043.0</td>\n",
       "      <td>14.0</td>\n",
       "      <td>52</td>\n",
       "      <td>NaT</td>\n",
       "      <td>Краснодар</td>\n",
       "      <td>...</td>\n",
       "      <td>2018-05-25</td>\n",
       "      <td>ultra</td>\n",
       "      <td>1000</td>\n",
       "      <td>30720</td>\n",
       "      <td>3000</td>\n",
       "      <td>1950</td>\n",
       "      <td>150</td>\n",
       "      <td>1</td>\n",
       "      <td>1</td>\n",
       "      <td>30</td>\n",
       "    </tr>\n",
       "    <tr>\n",
       "      <th>4</th>\n",
       "      <td>1000</td>\n",
       "      <td>9</td>\n",
       "      <td>466.0</td>\n",
       "      <td>58.0</td>\n",
       "      <td>57.0</td>\n",
       "      <td>14556.0</td>\n",
       "      <td>15.0</td>\n",
       "      <td>52</td>\n",
       "      <td>NaT</td>\n",
       "      <td>Краснодар</td>\n",
       "      <td>...</td>\n",
       "      <td>2018-05-25</td>\n",
       "      <td>ultra</td>\n",
       "      <td>1000</td>\n",
       "      <td>30720</td>\n",
       "      <td>3000</td>\n",
       "      <td>1950</td>\n",
       "      <td>150</td>\n",
       "      <td>1</td>\n",
       "      <td>1</td>\n",
       "      <td>30</td>\n",
       "    </tr>\n",
       "  </tbody>\n",
       "</table>\n",
       "<p>5 rows × 22 columns</p>\n",
       "</div>"
      ],
      "text/plain": [
       "   user_id  month  minutes_used  calls_count  sms_count  mb_used  gb_used  \\\n",
       "0     1000      5         159.0         22.0       22.0   2252.0      3.0   \n",
       "1     1000      6         172.0         43.0       60.0  23213.0     23.0   \n",
       "2     1000      7         340.0         47.0       75.0  13988.0     14.0   \n",
       "3     1000      8         408.0         52.0       81.0  14043.0     14.0   \n",
       "4     1000      9         466.0         58.0       57.0  14556.0     15.0   \n",
       "\n",
       "   age churn_date       city  ...   reg_date tariff messages_included  \\\n",
       "0   52        NaT  Краснодар  ... 2018-05-25  ultra              1000   \n",
       "1   52        NaT  Краснодар  ... 2018-05-25  ultra              1000   \n",
       "2   52        NaT  Краснодар  ... 2018-05-25  ultra              1000   \n",
       "3   52        NaT  Краснодар  ... 2018-05-25  ultra              1000   \n",
       "4   52        NaT  Краснодар  ... 2018-05-25  ultra              1000   \n",
       "\n",
       "  mb_per_month_included  minutes_included  rub_monthly_fee  rub_per_gb  \\\n",
       "0                 30720              3000             1950         150   \n",
       "1                 30720              3000             1950         150   \n",
       "2                 30720              3000             1950         150   \n",
       "3                 30720              3000             1950         150   \n",
       "4                 30720              3000             1950         150   \n",
       "\n",
       "   rub_per_message  rub_per_minute  gb_per_month_included  \n",
       "0                1               1                     30  \n",
       "1                1               1                     30  \n",
       "2                1               1                     30  \n",
       "3                1               1                     30  \n",
       "4                1               1                     30  \n",
       "\n",
       "[5 rows x 22 columns]"
      ]
     },
     "execution_count": 26,
     "metadata": {},
     "output_type": "execute_result"
    }
   ],
   "source": [
    "user_summary_table = user_summary_table.merge(tariffs, on='tariff', how='left')\n",
    "user_summary_table.head()"
   ]
  },
  {
   "cell_type": "code",
   "execution_count": 27,
   "metadata": {
    "scrolled": true
   },
   "outputs": [
    {
     "name": "stdout",
     "output_type": "stream",
     "text": [
      "<class 'pandas.core.frame.DataFrame'>\n",
      "Int64Index: 3214 entries, 0 to 3213\n",
      "Data columns (total 22 columns):\n",
      " #   Column                 Non-Null Count  Dtype         \n",
      "---  ------                 --------------  -----         \n",
      " 0   user_id                3214 non-null   int64         \n",
      " 1   month                  3214 non-null   int64         \n",
      " 2   minutes_used           3174 non-null   float64       \n",
      " 3   calls_count            3174 non-null   float64       \n",
      " 4   sms_count              2717 non-null   float64       \n",
      " 5   mb_used                3203 non-null   float64       \n",
      " 6   gb_used                3203 non-null   float64       \n",
      " 7   age                    3214 non-null   int32         \n",
      " 8   churn_date             187 non-null    datetime64[ns]\n",
      " 9   city                   3214 non-null   object        \n",
      " 10  first_name             3214 non-null   object        \n",
      " 11  last_name              3214 non-null   object        \n",
      " 12  reg_date               3214 non-null   datetime64[ns]\n",
      " 13  tariff                 3214 non-null   object        \n",
      " 14  messages_included      3214 non-null   int32         \n",
      " 15  mb_per_month_included  3214 non-null   int32         \n",
      " 16  minutes_included       3214 non-null   int32         \n",
      " 17  rub_monthly_fee        3214 non-null   int32         \n",
      " 18  rub_per_gb             3214 non-null   int32         \n",
      " 19  rub_per_message        3214 non-null   int32         \n",
      " 20  rub_per_minute         3214 non-null   int32         \n",
      " 21  gb_per_month_included  3214 non-null   int64         \n",
      "dtypes: datetime64[ns](2), float64(5), int32(8), int64(3), object(4)\n",
      "memory usage: 477.1+ KB\n"
     ]
    }
   ],
   "source": [
    "user_summary_table.info()"
   ]
  },
  {
   "cell_type": "markdown",
   "metadata": {},
   "source": [
    "Видим, что в итоговой таблице есть пропуски в столбцах minutes_used, calls_count, sms_count, gb_used. Это значит, пользователь мог пользоваться Интернетом, но не пользовался смс, например. Поэтому можем эти пропуски заменить на 0: "
   ]
  },
  {
   "cell_type": "code",
   "execution_count": 28,
   "metadata": {},
   "outputs": [
    {
     "name": "stdout",
     "output_type": "stream",
     "text": [
      "<class 'pandas.core.frame.DataFrame'>\n",
      "Int64Index: 3214 entries, 0 to 3213\n",
      "Data columns (total 22 columns):\n",
      " #   Column                 Non-Null Count  Dtype         \n",
      "---  ------                 --------------  -----         \n",
      " 0   user_id                3214 non-null   int64         \n",
      " 1   month                  3214 non-null   int64         \n",
      " 2   minutes_used           3214 non-null   float64       \n",
      " 3   calls_count            3214 non-null   float64       \n",
      " 4   sms_count              3214 non-null   float64       \n",
      " 5   mb_used                3203 non-null   float64       \n",
      " 6   gb_used                3214 non-null   float64       \n",
      " 7   age                    3214 non-null   int32         \n",
      " 8   churn_date             187 non-null    datetime64[ns]\n",
      " 9   city                   3214 non-null   object        \n",
      " 10  first_name             3214 non-null   object        \n",
      " 11  last_name              3214 non-null   object        \n",
      " 12  reg_date               3214 non-null   datetime64[ns]\n",
      " 13  tariff                 3214 non-null   object        \n",
      " 14  messages_included      3214 non-null   int32         \n",
      " 15  mb_per_month_included  3214 non-null   int32         \n",
      " 16  minutes_included       3214 non-null   int32         \n",
      " 17  rub_monthly_fee        3214 non-null   int32         \n",
      " 18  rub_per_gb             3214 non-null   int32         \n",
      " 19  rub_per_message        3214 non-null   int32         \n",
      " 20  rub_per_minute         3214 non-null   int32         \n",
      " 21  gb_per_month_included  3214 non-null   int64         \n",
      "dtypes: datetime64[ns](2), float64(5), int32(8), int64(3), object(4)\n",
      "memory usage: 477.1+ KB\n"
     ]
    }
   ],
   "source": [
    "user_summary_table.fillna({'minutes_used': 0,\n",
    "                  'calls_count': 0,\n",
    "                  'sms_count': 0,\n",
    "                  'gb_used': 0}, \n",
    "                 inplace=True)\n",
    "user_summary_table.info()"
   ]
  },
  {
   "cell_type": "markdown",
   "metadata": {},
   "source": [
    "Расчет выручки:\n",
    "\n",
    "- вычтите бесплатный лимит из суммарного количества звонков, сообщений и интернет-трафика; \n",
    "- остаток умножьте на значение из тарифного плана; \n",
    "- прибавьте абонентскую плату, соответствующую тарифному плану"
   ]
  },
  {
   "cell_type": "code",
   "execution_count": 29,
   "metadata": {},
   "outputs": [],
   "source": [
    "# плата за минуты, изначально принимаем равной нулю\n",
    "bill_minutes = 0 \n",
    "# плата за смс, изначально принимаем равной нулю\n",
    "bill_sms = 0\n",
    "#плата за Гб, изначально принимаем равной нулю\n",
    "bill_gb = 0\n",
    "\n",
    "def to_count_revenue(row):\n",
    "    minutes_used = row['minutes_used'] \n",
    "    minutes_included = row['minutes_included']\n",
    "    sms_count = row['sms_count']\n",
    "    messages_included = row['messages_included']\n",
    "    gb_used = row['gb_used']\n",
    "    gb_per_month_included = row['gb_per_month_included']\n",
    "    rub_per_minute = row['rub_per_minute']\n",
    "    rub_per_message = row['rub_per_message']\n",
    "    rub_per_gb = row['rub_per_gb']\n",
    "    rub_monthly_fee = row['rub_monthly_fee']\n",
    "    if minutes_used > minutes_included: \n",
    "        # вычисление доплаты в случае, если израсходованное больше, чем лимит по тарифу\n",
    "        bill_minutes = (minutes_used - minutes_included)* rub_per_minute\n",
    "        # в ином случае - израсходованное не превышает лимита по тарифу\n",
    "    else:\n",
    "        bill_minutes = 0\n",
    "    if sms_count > messages_included: \n",
    "        bill_sms = (sms_count - messages_included)* rub_per_message\n",
    "    else:\n",
    "        bill_sms = 0\n",
    "    if gb_used > gb_per_month_included: \n",
    "        bill_gb = (gb_used - gb_per_month_included)* rub_per_gb\n",
    "    else:\n",
    "        bill_gb = 0\n",
    "    # Возвращаем сумму доплат за превышение лимита (если оно имеется) и абонентской платы по тарифу\n",
    "    return bill_minutes + bill_sms + bill_gb + rub_monthly_fee "
   ]
  },
  {
   "cell_type": "code",
   "execution_count": 30,
   "metadata": {},
   "outputs": [
    {
     "data": {
      "text/html": [
       "<div>\n",
       "<style scoped>\n",
       "    .dataframe tbody tr th:only-of-type {\n",
       "        vertical-align: middle;\n",
       "    }\n",
       "\n",
       "    .dataframe tbody tr th {\n",
       "        vertical-align: top;\n",
       "    }\n",
       "\n",
       "    .dataframe thead th {\n",
       "        text-align: right;\n",
       "    }\n",
       "</style>\n",
       "<table border=\"1\" class=\"dataframe\">\n",
       "  <thead>\n",
       "    <tr style=\"text-align: right;\">\n",
       "      <th></th>\n",
       "      <th>user_id</th>\n",
       "      <th>month</th>\n",
       "      <th>minutes_used</th>\n",
       "      <th>calls_count</th>\n",
       "      <th>sms_count</th>\n",
       "      <th>mb_used</th>\n",
       "      <th>gb_used</th>\n",
       "      <th>age</th>\n",
       "      <th>churn_date</th>\n",
       "      <th>city</th>\n",
       "      <th>...</th>\n",
       "      <th>tariff</th>\n",
       "      <th>messages_included</th>\n",
       "      <th>mb_per_month_included</th>\n",
       "      <th>minutes_included</th>\n",
       "      <th>rub_monthly_fee</th>\n",
       "      <th>rub_per_gb</th>\n",
       "      <th>rub_per_message</th>\n",
       "      <th>rub_per_minute</th>\n",
       "      <th>gb_per_month_included</th>\n",
       "      <th>revenue</th>\n",
       "    </tr>\n",
       "  </thead>\n",
       "  <tbody>\n",
       "    <tr>\n",
       "      <th>0</th>\n",
       "      <td>1000</td>\n",
       "      <td>5</td>\n",
       "      <td>159.0</td>\n",
       "      <td>22.0</td>\n",
       "      <td>22.0</td>\n",
       "      <td>2252.0</td>\n",
       "      <td>3.0</td>\n",
       "      <td>52</td>\n",
       "      <td>NaT</td>\n",
       "      <td>Краснодар</td>\n",
       "      <td>...</td>\n",
       "      <td>ultra</td>\n",
       "      <td>1000</td>\n",
       "      <td>30720</td>\n",
       "      <td>3000</td>\n",
       "      <td>1950</td>\n",
       "      <td>150</td>\n",
       "      <td>1</td>\n",
       "      <td>1</td>\n",
       "      <td>30</td>\n",
       "      <td>1950.0</td>\n",
       "    </tr>\n",
       "    <tr>\n",
       "      <th>1</th>\n",
       "      <td>1000</td>\n",
       "      <td>6</td>\n",
       "      <td>172.0</td>\n",
       "      <td>43.0</td>\n",
       "      <td>60.0</td>\n",
       "      <td>23213.0</td>\n",
       "      <td>23.0</td>\n",
       "      <td>52</td>\n",
       "      <td>NaT</td>\n",
       "      <td>Краснодар</td>\n",
       "      <td>...</td>\n",
       "      <td>ultra</td>\n",
       "      <td>1000</td>\n",
       "      <td>30720</td>\n",
       "      <td>3000</td>\n",
       "      <td>1950</td>\n",
       "      <td>150</td>\n",
       "      <td>1</td>\n",
       "      <td>1</td>\n",
       "      <td>30</td>\n",
       "      <td>1950.0</td>\n",
       "    </tr>\n",
       "    <tr>\n",
       "      <th>2</th>\n",
       "      <td>1000</td>\n",
       "      <td>7</td>\n",
       "      <td>340.0</td>\n",
       "      <td>47.0</td>\n",
       "      <td>75.0</td>\n",
       "      <td>13988.0</td>\n",
       "      <td>14.0</td>\n",
       "      <td>52</td>\n",
       "      <td>NaT</td>\n",
       "      <td>Краснодар</td>\n",
       "      <td>...</td>\n",
       "      <td>ultra</td>\n",
       "      <td>1000</td>\n",
       "      <td>30720</td>\n",
       "      <td>3000</td>\n",
       "      <td>1950</td>\n",
       "      <td>150</td>\n",
       "      <td>1</td>\n",
       "      <td>1</td>\n",
       "      <td>30</td>\n",
       "      <td>1950.0</td>\n",
       "    </tr>\n",
       "    <tr>\n",
       "      <th>3</th>\n",
       "      <td>1000</td>\n",
       "      <td>8</td>\n",
       "      <td>408.0</td>\n",
       "      <td>52.0</td>\n",
       "      <td>81.0</td>\n",
       "      <td>14043.0</td>\n",
       "      <td>14.0</td>\n",
       "      <td>52</td>\n",
       "      <td>NaT</td>\n",
       "      <td>Краснодар</td>\n",
       "      <td>...</td>\n",
       "      <td>ultra</td>\n",
       "      <td>1000</td>\n",
       "      <td>30720</td>\n",
       "      <td>3000</td>\n",
       "      <td>1950</td>\n",
       "      <td>150</td>\n",
       "      <td>1</td>\n",
       "      <td>1</td>\n",
       "      <td>30</td>\n",
       "      <td>1950.0</td>\n",
       "    </tr>\n",
       "    <tr>\n",
       "      <th>4</th>\n",
       "      <td>1000</td>\n",
       "      <td>9</td>\n",
       "      <td>466.0</td>\n",
       "      <td>58.0</td>\n",
       "      <td>57.0</td>\n",
       "      <td>14556.0</td>\n",
       "      <td>15.0</td>\n",
       "      <td>52</td>\n",
       "      <td>NaT</td>\n",
       "      <td>Краснодар</td>\n",
       "      <td>...</td>\n",
       "      <td>ultra</td>\n",
       "      <td>1000</td>\n",
       "      <td>30720</td>\n",
       "      <td>3000</td>\n",
       "      <td>1950</td>\n",
       "      <td>150</td>\n",
       "      <td>1</td>\n",
       "      <td>1</td>\n",
       "      <td>30</td>\n",
       "      <td>1950.0</td>\n",
       "    </tr>\n",
       "  </tbody>\n",
       "</table>\n",
       "<p>5 rows × 23 columns</p>\n",
       "</div>"
      ],
      "text/plain": [
       "   user_id  month  minutes_used  calls_count  sms_count  mb_used  gb_used  \\\n",
       "0     1000      5         159.0         22.0       22.0   2252.0      3.0   \n",
       "1     1000      6         172.0         43.0       60.0  23213.0     23.0   \n",
       "2     1000      7         340.0         47.0       75.0  13988.0     14.0   \n",
       "3     1000      8         408.0         52.0       81.0  14043.0     14.0   \n",
       "4     1000      9         466.0         58.0       57.0  14556.0     15.0   \n",
       "\n",
       "   age churn_date       city  ... tariff messages_included  \\\n",
       "0   52        NaT  Краснодар  ...  ultra              1000   \n",
       "1   52        NaT  Краснодар  ...  ultra              1000   \n",
       "2   52        NaT  Краснодар  ...  ultra              1000   \n",
       "3   52        NaT  Краснодар  ...  ultra              1000   \n",
       "4   52        NaT  Краснодар  ...  ultra              1000   \n",
       "\n",
       "  mb_per_month_included minutes_included  rub_monthly_fee  rub_per_gb  \\\n",
       "0                 30720             3000             1950         150   \n",
       "1                 30720             3000             1950         150   \n",
       "2                 30720             3000             1950         150   \n",
       "3                 30720             3000             1950         150   \n",
       "4                 30720             3000             1950         150   \n",
       "\n",
       "   rub_per_message  rub_per_minute  gb_per_month_included  revenue  \n",
       "0                1               1                     30   1950.0  \n",
       "1                1               1                     30   1950.0  \n",
       "2                1               1                     30   1950.0  \n",
       "3                1               1                     30   1950.0  \n",
       "4                1               1                     30   1950.0  \n",
       "\n",
       "[5 rows x 23 columns]"
      ]
     },
     "execution_count": 30,
     "metadata": {},
     "output_type": "execute_result"
    }
   ],
   "source": [
    "# создание нового столбца с выручкой по расчету выше\n",
    "user_summary_table['revenue'] = user_summary_table.apply(to_count_revenue, axis=1)\n",
    "user_summary_table.head()"
   ]
  },
  {
   "cell_type": "markdown",
   "metadata": {},
   "source": [
    "### Вывод"
   ]
  },
  {
   "cell_type": "markdown",
   "metadata": {},
   "source": [
    "Рассчитали дополнительные данные по каждому пользователю, разбили расходы по месяцам, посчитали выручку"
   ]
  },
  {
   "cell_type": "markdown",
   "metadata": {},
   "source": [
    "## Анализ данных"
   ]
  },
  {
   "cell_type": "code",
   "execution_count": 31,
   "metadata": {},
   "outputs": [],
   "source": [
    "# Разделим пользователей на отдельные датафреймы по тарифам\n",
    "smart = user_summary_table[user_summary_table['tariff'] == 'smart']\n",
    "ultra = user_summary_table[user_summary_table['tariff'] == 'ultra']"
   ]
  },
  {
   "cell_type": "markdown",
   "metadata": {},
   "source": [
    "### Анализ израсходованных минут"
   ]
  },
  {
   "cell_type": "code",
   "execution_count": 32,
   "metadata": {
    "scrolled": true
   },
   "outputs": [
    {
     "data": {
      "text/html": [
       "<div>\n",
       "<style scoped>\n",
       "    .dataframe tbody tr th:only-of-type {\n",
       "        vertical-align: middle;\n",
       "    }\n",
       "\n",
       "    .dataframe tbody tr th {\n",
       "        vertical-align: top;\n",
       "    }\n",
       "\n",
       "    .dataframe thead tr th {\n",
       "        text-align: left;\n",
       "    }\n",
       "\n",
       "    .dataframe thead tr:last-of-type th {\n",
       "        text-align: right;\n",
       "    }\n",
       "</style>\n",
       "<table border=\"1\" class=\"dataframe\">\n",
       "  <thead>\n",
       "    <tr>\n",
       "      <th></th>\n",
       "      <th colspan=\"5\" halign=\"left\">minutes_used</th>\n",
       "    </tr>\n",
       "    <tr>\n",
       "      <th></th>\n",
       "      <th>mean</th>\n",
       "      <th>var</th>\n",
       "      <th>std</th>\n",
       "      <th>max</th>\n",
       "      <th>min</th>\n",
       "    </tr>\n",
       "    <tr>\n",
       "      <th>tariff</th>\n",
       "      <th></th>\n",
       "      <th></th>\n",
       "      <th></th>\n",
       "      <th></th>\n",
       "      <th></th>\n",
       "    </tr>\n",
       "  </thead>\n",
       "  <tbody>\n",
       "    <tr>\n",
       "      <th>smart</th>\n",
       "      <td>417.93</td>\n",
       "      <td>36219.32</td>\n",
       "      <td>190.31</td>\n",
       "      <td>1435.0</td>\n",
       "      <td>0.0</td>\n",
       "    </tr>\n",
       "    <tr>\n",
       "      <th>ultra</th>\n",
       "      <td>526.62</td>\n",
       "      <td>100873.63</td>\n",
       "      <td>317.61</td>\n",
       "      <td>1673.0</td>\n",
       "      <td>0.0</td>\n",
       "    </tr>\n",
       "  </tbody>\n",
       "</table>\n",
       "</div>"
      ],
      "text/plain": [
       "       minutes_used                                \n",
       "               mean        var     std     max  min\n",
       "tariff                                             \n",
       "smart        417.93   36219.32  190.31  1435.0  0.0\n",
       "ultra        526.62  100873.63  317.61  1673.0  0.0"
      ]
     },
     "execution_count": 32,
     "metadata": {},
     "output_type": "execute_result"
    }
   ],
   "source": [
    "# выведем среднее, дисперсию и стандартное отклонение в общем по каждому тарифу, а также минимум и максимум\n",
    "user_summary_table.groupby('tariff').agg({'minutes_used': ['mean', 'var', 'std', 'max', 'min']}).round(2)         "
   ]
  },
  {
   "cell_type": "code",
   "execution_count": 33,
   "metadata": {
    "scrolled": true
   },
   "outputs": [
    {
     "data": {
      "text/html": [
       "<div>\n",
       "<style scoped>\n",
       "    .dataframe tbody tr th:only-of-type {\n",
       "        vertical-align: middle;\n",
       "    }\n",
       "\n",
       "    .dataframe tbody tr th {\n",
       "        vertical-align: top;\n",
       "    }\n",
       "\n",
       "    .dataframe thead tr th {\n",
       "        text-align: left;\n",
       "    }\n",
       "</style>\n",
       "<table border=\"1\" class=\"dataframe\">\n",
       "  <thead>\n",
       "    <tr>\n",
       "      <th></th>\n",
       "      <th>tariff</th>\n",
       "      <th colspan=\"10\" halign=\"left\">smart</th>\n",
       "      <th>...</th>\n",
       "      <th colspan=\"10\" halign=\"left\">ultra</th>\n",
       "    </tr>\n",
       "    <tr>\n",
       "      <th></th>\n",
       "      <th>month</th>\n",
       "      <th>1</th>\n",
       "      <th>2</th>\n",
       "      <th>3</th>\n",
       "      <th>4</th>\n",
       "      <th>5</th>\n",
       "      <th>6</th>\n",
       "      <th>7</th>\n",
       "      <th>8</th>\n",
       "      <th>9</th>\n",
       "      <th>10</th>\n",
       "      <th>...</th>\n",
       "      <th>3</th>\n",
       "      <th>4</th>\n",
       "      <th>5</th>\n",
       "      <th>6</th>\n",
       "      <th>7</th>\n",
       "      <th>8</th>\n",
       "      <th>9</th>\n",
       "      <th>10</th>\n",
       "      <th>11</th>\n",
       "      <th>12</th>\n",
       "    </tr>\n",
       "  </thead>\n",
       "  <tbody>\n",
       "    <tr>\n",
       "      <th rowspan=\"5\" valign=\"top\">minutes_used</th>\n",
       "      <th>mean</th>\n",
       "      <td>203.85</td>\n",
       "      <td>298.69</td>\n",
       "      <td>390.05</td>\n",
       "      <td>367.13</td>\n",
       "      <td>387.36</td>\n",
       "      <td>395.64</td>\n",
       "      <td>408.35</td>\n",
       "      <td>421.47</td>\n",
       "      <td>428.61</td>\n",
       "      <td>426.14</td>\n",
       "      <td>...</td>\n",
       "      <td>489.65</td>\n",
       "      <td>458.02</td>\n",
       "      <td>510.33</td>\n",
       "      <td>479.70</td>\n",
       "      <td>545.79</td>\n",
       "      <td>510.78</td>\n",
       "      <td>539.44</td>\n",
       "      <td>558.08</td>\n",
       "      <td>541.38</td>\n",
       "      <td>592.81</td>\n",
       "    </tr>\n",
       "    <tr>\n",
       "      <th>var</th>\n",
       "      <td>23787.34</td>\n",
       "      <td>36412.29</td>\n",
       "      <td>36823.16</td>\n",
       "      <td>34778.21</td>\n",
       "      <td>34820.06</td>\n",
       "      <td>30742.92</td>\n",
       "      <td>32250.27</td>\n",
       "      <td>34793.58</td>\n",
       "      <td>33535.34</td>\n",
       "      <td>35392.34</td>\n",
       "      <td>...</td>\n",
       "      <td>111384.90</td>\n",
       "      <td>71653.87</td>\n",
       "      <td>83870.19</td>\n",
       "      <td>91535.95</td>\n",
       "      <td>94322.28</td>\n",
       "      <td>97956.50</td>\n",
       "      <td>105716.78</td>\n",
       "      <td>106464.58</td>\n",
       "      <td>96570.06</td>\n",
       "      <td>117276.33</td>\n",
       "    </tr>\n",
       "    <tr>\n",
       "      <th>std</th>\n",
       "      <td>154.23</td>\n",
       "      <td>190.82</td>\n",
       "      <td>191.89</td>\n",
       "      <td>186.49</td>\n",
       "      <td>186.60</td>\n",
       "      <td>175.34</td>\n",
       "      <td>179.58</td>\n",
       "      <td>186.53</td>\n",
       "      <td>183.13</td>\n",
       "      <td>188.13</td>\n",
       "      <td>...</td>\n",
       "      <td>333.74</td>\n",
       "      <td>267.68</td>\n",
       "      <td>289.60</td>\n",
       "      <td>302.55</td>\n",
       "      <td>307.12</td>\n",
       "      <td>312.98</td>\n",
       "      <td>325.14</td>\n",
       "      <td>326.29</td>\n",
       "      <td>310.76</td>\n",
       "      <td>342.46</td>\n",
       "    </tr>\n",
       "    <tr>\n",
       "      <th>max</th>\n",
       "      <td>551.00</td>\n",
       "      <td>747.00</td>\n",
       "      <td>822.00</td>\n",
       "      <td>785.00</td>\n",
       "      <td>820.00</td>\n",
       "      <td>875.00</td>\n",
       "      <td>839.00</td>\n",
       "      <td>1000.00</td>\n",
       "      <td>843.00</td>\n",
       "      <td>1005.00</td>\n",
       "      <td>...</td>\n",
       "      <td>1609.00</td>\n",
       "      <td>1096.00</td>\n",
       "      <td>1232.00</td>\n",
       "      <td>1410.00</td>\n",
       "      <td>1311.00</td>\n",
       "      <td>1321.00</td>\n",
       "      <td>1297.00</td>\n",
       "      <td>1401.00</td>\n",
       "      <td>1257.00</td>\n",
       "      <td>1673.00</td>\n",
       "    </tr>\n",
       "    <tr>\n",
       "      <th>min</th>\n",
       "      <td>0.00</td>\n",
       "      <td>2.00</td>\n",
       "      <td>13.00</td>\n",
       "      <td>0.00</td>\n",
       "      <td>2.00</td>\n",
       "      <td>0.00</td>\n",
       "      <td>2.00</td>\n",
       "      <td>0.00</td>\n",
       "      <td>0.00</td>\n",
       "      <td>0.00</td>\n",
       "      <td>...</td>\n",
       "      <td>92.00</td>\n",
       "      <td>0.00</td>\n",
       "      <td>0.00</td>\n",
       "      <td>0.00</td>\n",
       "      <td>0.00</td>\n",
       "      <td>0.00</td>\n",
       "      <td>0.00</td>\n",
       "      <td>0.00</td>\n",
       "      <td>0.00</td>\n",
       "      <td>0.00</td>\n",
       "    </tr>\n",
       "  </tbody>\n",
       "</table>\n",
       "<p>5 rows × 24 columns</p>\n",
       "</div>"
      ],
      "text/plain": [
       "tariff                smart                                                    \\\n",
       "month                    1         2         3         4         5         6    \n",
       "minutes_used mean    203.85    298.69    390.05    367.13    387.36    395.64   \n",
       "             var   23787.34  36412.29  36823.16  34778.21  34820.06  30742.92   \n",
       "             std     154.23    190.82    191.89    186.49    186.60    175.34   \n",
       "             max     551.00    747.00    822.00    785.00    820.00    875.00   \n",
       "             min       0.00      2.00     13.00      0.00      2.00      0.00   \n",
       "\n",
       "tariff                                                     ...      ultra  \\\n",
       "month                    7         8         9         10  ...         3    \n",
       "minutes_used mean    408.35    421.47    428.61    426.14  ...     489.65   \n",
       "             var   32250.27  34793.58  33535.34  35392.34  ...  111384.90   \n",
       "             std     179.58    186.53    183.13    188.13  ...     333.74   \n",
       "             max     839.00   1000.00    843.00   1005.00  ...    1609.00   \n",
       "             min       2.00      0.00      0.00      0.00  ...      92.00   \n",
       "\n",
       "tariff                                                               \\\n",
       "month                    4         5         6         7         8    \n",
       "minutes_used mean    458.02    510.33    479.70    545.79    510.78   \n",
       "             var   71653.87  83870.19  91535.95  94322.28  97956.50   \n",
       "             std     267.68    289.60    302.55    307.12    312.98   \n",
       "             max    1096.00   1232.00   1410.00   1311.00   1321.00   \n",
       "             min       0.00      0.00      0.00      0.00      0.00   \n",
       "\n",
       "tariff                                                        \n",
       "month                     9          10        11         12  \n",
       "minutes_used mean     539.44     558.08    541.38     592.81  \n",
       "             var   105716.78  106464.58  96570.06  117276.33  \n",
       "             std      325.14     326.29    310.76     342.46  \n",
       "             max     1297.00    1401.00   1257.00    1673.00  \n",
       "             min        0.00       0.00      0.00       0.00  \n",
       "\n",
       "[5 rows x 24 columns]"
      ]
     },
     "execution_count": 33,
     "metadata": {},
     "output_type": "execute_result"
    }
   ],
   "source": [
    "# выведем среднее, дисперсию и стандартное отклонение, а также минимум и максимум по месяцам по каждому тарифу\n",
    "user_summary_table.groupby(['tariff', 'month']).agg({'minutes_used': ['mean', 'var', 'std', 'max', 'min']}).round(2).T "
   ]
  },
  {
   "cell_type": "markdown",
   "metadata": {},
   "source": [
    "Построим гистограммы для тарифов:"
   ]
  },
  {
   "cell_type": "code",
   "execution_count": 63,
   "metadata": {},
   "outputs": [
    {
     "data": {
      "image/png": "[encoded data removed]",
      "text/plain": [
       "<Figure size 432x288 with 1 Axes>"
      ]
     },
     "metadata": {
      "needs_background": "light"
     },
     "output_type": "display_data"
    }
   ],
   "source": [
    "sns.histplot(x=smart['minutes_used'], kde=True, alpha=0.4).set_title(\"Распределение использованных минут по тарифам\")\n",
    "sns.histplot(x=ultra['minutes_used'], kde=True, color='r', alpha=0.4)\n",
    "plt.xlabel('число израсходованных минут')\n",
    "plt.ylabel('количество')\n",
    "plt.show()"
   ]
  },
  {
   "cell_type": "markdown",
   "metadata": {},
   "source": [
    "#### Выводы:"
   ]
  },
  {
   "cell_type": "markdown",
   "metadata": {},
   "source": [
    "- Для обоих тарифов вышло нормальное распределение по данному критерию\n",
    "- Количество израсходованных минут для пользователей обоих тарифов примерно на одном уровне, но в случае с тарифом smart -это близко к их лимиту, а для ultra - это гораздо ниже порога (500 минут и 3000 минут)"
   ]
  },
  {
   "cell_type": "markdown",
   "metadata": {},
   "source": [
    "### Анализ израсходованных смс"
   ]
  },
  {
   "cell_type": "code",
   "execution_count": 351,
   "metadata": {},
   "outputs": [
    {
     "data": {
      "text/html": [
       "<div>\n",
       "<style scoped>\n",
       "    .dataframe tbody tr th:only-of-type {\n",
       "        vertical-align: middle;\n",
       "    }\n",
       "\n",
       "    .dataframe tbody tr th {\n",
       "        vertical-align: top;\n",
       "    }\n",
       "\n",
       "    .dataframe thead tr th {\n",
       "        text-align: left;\n",
       "    }\n",
       "\n",
       "    .dataframe thead tr:last-of-type th {\n",
       "        text-align: right;\n",
       "    }\n",
       "</style>\n",
       "<table border=\"1\" class=\"dataframe\">\n",
       "  <thead>\n",
       "    <tr>\n",
       "      <th></th>\n",
       "      <th colspan=\"5\" halign=\"left\">sms_count</th>\n",
       "    </tr>\n",
       "    <tr>\n",
       "      <th></th>\n",
       "      <th>mean</th>\n",
       "      <th>var</th>\n",
       "      <th>std</th>\n",
       "      <th>max</th>\n",
       "      <th>min</th>\n",
       "    </tr>\n",
       "    <tr>\n",
       "      <th>tariff</th>\n",
       "      <th></th>\n",
       "      <th></th>\n",
       "      <th></th>\n",
       "      <th></th>\n",
       "      <th></th>\n",
       "    </tr>\n",
       "  </thead>\n",
       "  <tbody>\n",
       "    <tr>\n",
       "      <th>smart</th>\n",
       "      <td>33.38</td>\n",
       "      <td>796.81</td>\n",
       "      <td>28.23</td>\n",
       "      <td>143.0</td>\n",
       "      <td>0.0</td>\n",
       "    </tr>\n",
       "    <tr>\n",
       "      <th>ultra</th>\n",
       "      <td>49.36</td>\n",
       "      <td>2285.27</td>\n",
       "      <td>47.80</td>\n",
       "      <td>224.0</td>\n",
       "      <td>0.0</td>\n",
       "    </tr>\n",
       "  </tbody>\n",
       "</table>\n",
       "</div>"
      ],
      "text/plain": [
       "       sms_count                            \n",
       "            mean      var    std    max  min\n",
       "tariff                                      \n",
       "smart      33.38   796.81  28.23  143.0  0.0\n",
       "ultra      49.36  2285.27  47.80  224.0  0.0"
      ]
     },
     "execution_count": 351,
     "metadata": {},
     "output_type": "execute_result"
    }
   ],
   "source": [
    "# выведем среднее, дисперсию и стандартное отклонение в общем по каждому тарифу , а также минимум и максимум\n",
    "user_summary_table.groupby('tariff').agg({'sms_count': ['mean', 'var', 'std', 'max', 'min']}).round(2)"
   ]
  },
  {
   "cell_type": "code",
   "execution_count": 352,
   "metadata": {
    "scrolled": false
   },
   "outputs": [
    {
     "data": {
      "text/html": [
       "<div>\n",
       "<style scoped>\n",
       "    .dataframe tbody tr th:only-of-type {\n",
       "        vertical-align: middle;\n",
       "    }\n",
       "\n",
       "    .dataframe tbody tr th {\n",
       "        vertical-align: top;\n",
       "    }\n",
       "\n",
       "    .dataframe thead tr th {\n",
       "        text-align: left;\n",
       "    }\n",
       "</style>\n",
       "<table border=\"1\" class=\"dataframe\">\n",
       "  <thead>\n",
       "    <tr>\n",
       "      <th></th>\n",
       "      <th>tariff</th>\n",
       "      <th colspan=\"10\" halign=\"left\">smart</th>\n",
       "      <th>...</th>\n",
       "      <th colspan=\"10\" halign=\"left\">ultra</th>\n",
       "    </tr>\n",
       "    <tr>\n",
       "      <th></th>\n",
       "      <th>month</th>\n",
       "      <th>1</th>\n",
       "      <th>2</th>\n",
       "      <th>3</th>\n",
       "      <th>4</th>\n",
       "      <th>5</th>\n",
       "      <th>6</th>\n",
       "      <th>7</th>\n",
       "      <th>8</th>\n",
       "      <th>9</th>\n",
       "      <th>10</th>\n",
       "      <th>...</th>\n",
       "      <th>3</th>\n",
       "      <th>4</th>\n",
       "      <th>5</th>\n",
       "      <th>6</th>\n",
       "      <th>7</th>\n",
       "      <th>8</th>\n",
       "      <th>9</th>\n",
       "      <th>10</th>\n",
       "      <th>11</th>\n",
       "      <th>12</th>\n",
       "    </tr>\n",
       "  </thead>\n",
       "  <tbody>\n",
       "    <tr>\n",
       "      <th rowspan=\"5\" valign=\"top\">sms_count</th>\n",
       "      <th>mean</th>\n",
       "      <td>18.24</td>\n",
       "      <td>24.09</td>\n",
       "      <td>31.86</td>\n",
       "      <td>30.74</td>\n",
       "      <td>33.77</td>\n",
       "      <td>33.40</td>\n",
       "      <td>33.75</td>\n",
       "      <td>33.64</td>\n",
       "      <td>33.64</td>\n",
       "      <td>33.77</td>\n",
       "      <td>...</td>\n",
       "      <td>32.30</td>\n",
       "      <td>31.56</td>\n",
       "      <td>37.85</td>\n",
       "      <td>41.73</td>\n",
       "      <td>49.85</td>\n",
       "      <td>48.44</td>\n",
       "      <td>52.29</td>\n",
       "      <td>58.43</td>\n",
       "      <td>55.79</td>\n",
       "      <td>60.61</td>\n",
       "    </tr>\n",
       "    <tr>\n",
       "      <th>var</th>\n",
       "      <td>262.37</td>\n",
       "      <td>473.10</td>\n",
       "      <td>718.49</td>\n",
       "      <td>602.14</td>\n",
       "      <td>730.99</td>\n",
       "      <td>806.81</td>\n",
       "      <td>799.89</td>\n",
       "      <td>838.26</td>\n",
       "      <td>790.62</td>\n",
       "      <td>816.11</td>\n",
       "      <td>...</td>\n",
       "      <td>1732.38</td>\n",
       "      <td>1407.29</td>\n",
       "      <td>1624.64</td>\n",
       "      <td>1986.30</td>\n",
       "      <td>2372.04</td>\n",
       "      <td>2171.74</td>\n",
       "      <td>2152.86</td>\n",
       "      <td>2697.18</td>\n",
       "      <td>2476.95</td>\n",
       "      <td>2681.98</td>\n",
       "    </tr>\n",
       "    <tr>\n",
       "      <th>std</th>\n",
       "      <td>16.20</td>\n",
       "      <td>21.75</td>\n",
       "      <td>26.80</td>\n",
       "      <td>24.54</td>\n",
       "      <td>27.04</td>\n",
       "      <td>28.40</td>\n",
       "      <td>28.28</td>\n",
       "      <td>28.95</td>\n",
       "      <td>28.12</td>\n",
       "      <td>28.57</td>\n",
       "      <td>...</td>\n",
       "      <td>41.62</td>\n",
       "      <td>37.51</td>\n",
       "      <td>40.31</td>\n",
       "      <td>44.57</td>\n",
       "      <td>48.70</td>\n",
       "      <td>46.60</td>\n",
       "      <td>46.40</td>\n",
       "      <td>51.93</td>\n",
       "      <td>49.77</td>\n",
       "      <td>51.79</td>\n",
       "    </tr>\n",
       "    <tr>\n",
       "      <th>max</th>\n",
       "      <td>74.00</td>\n",
       "      <td>85.00</td>\n",
       "      <td>110.00</td>\n",
       "      <td>105.00</td>\n",
       "      <td>103.00</td>\n",
       "      <td>134.00</td>\n",
       "      <td>137.00</td>\n",
       "      <td>134.00</td>\n",
       "      <td>136.00</td>\n",
       "      <td>139.00</td>\n",
       "      <td>...</td>\n",
       "      <td>155.00</td>\n",
       "      <td>143.00</td>\n",
       "      <td>148.00</td>\n",
       "      <td>201.00</td>\n",
       "      <td>211.00</td>\n",
       "      <td>180.00</td>\n",
       "      <td>188.00</td>\n",
       "      <td>223.00</td>\n",
       "      <td>197.00</td>\n",
       "      <td>224.00</td>\n",
       "    </tr>\n",
       "    <tr>\n",
       "      <th>min</th>\n",
       "      <td>0.00</td>\n",
       "      <td>0.00</td>\n",
       "      <td>0.00</td>\n",
       "      <td>0.00</td>\n",
       "      <td>0.00</td>\n",
       "      <td>0.00</td>\n",
       "      <td>0.00</td>\n",
       "      <td>0.00</td>\n",
       "      <td>0.00</td>\n",
       "      <td>0.00</td>\n",
       "      <td>...</td>\n",
       "      <td>0.00</td>\n",
       "      <td>0.00</td>\n",
       "      <td>0.00</td>\n",
       "      <td>0.00</td>\n",
       "      <td>0.00</td>\n",
       "      <td>0.00</td>\n",
       "      <td>0.00</td>\n",
       "      <td>0.00</td>\n",
       "      <td>0.00</td>\n",
       "      <td>0.00</td>\n",
       "    </tr>\n",
       "  </tbody>\n",
       "</table>\n",
       "<p>5 rows × 24 columns</p>\n",
       "</div>"
      ],
      "text/plain": [
       "tariff           smart                                                  \\\n",
       "month               1       2       3       4       5       6       7    \n",
       "sms_count mean   18.24   24.09   31.86   30.74   33.77   33.40   33.75   \n",
       "          var   262.37  473.10  718.49  602.14  730.99  806.81  799.89   \n",
       "          std    16.20   21.75   26.80   24.54   27.04   28.40   28.28   \n",
       "          max    74.00   85.00  110.00  105.00  103.00  134.00  137.00   \n",
       "          min     0.00    0.00    0.00    0.00    0.00    0.00    0.00   \n",
       "\n",
       "tariff                                  ...    ultra                    \\\n",
       "month               8       9       10  ...       3        4        5    \n",
       "sms_count mean   33.64   33.64   33.77  ...    32.30    31.56    37.85   \n",
       "          var   838.26  790.62  816.11  ...  1732.38  1407.29  1624.64   \n",
       "          std    28.95   28.12   28.57  ...    41.62    37.51    40.31   \n",
       "          max   134.00  136.00  139.00  ...   155.00   143.00   148.00   \n",
       "          min     0.00    0.00    0.00  ...     0.00     0.00     0.00   \n",
       "\n",
       "tariff                                                                         \n",
       "month                6        7        8        9        10       11       12  \n",
       "sms_count mean    41.73    49.85    48.44    52.29    58.43    55.79    60.61  \n",
       "          var   1986.30  2372.04  2171.74  2152.86  2697.18  2476.95  2681.98  \n",
       "          std     44.57    48.70    46.60    46.40    51.93    49.77    51.79  \n",
       "          max    201.00   211.00   180.00   188.00   223.00   197.00   224.00  \n",
       "          min      0.00     0.00     0.00     0.00     0.00     0.00     0.00  \n",
       "\n",
       "[5 rows x 24 columns]"
      ]
     },
     "execution_count": 352,
     "metadata": {},
     "output_type": "execute_result"
    }
   ],
   "source": [
    "# выведем среднее, дисперсию и стандартное отклонение по месяцам по каждому тарифу, а также минимум и максимум\n",
    "user_summary_table.groupby(['tariff', 'month']).agg({'sms_count': ['mean', 'var', 'std', 'max', 'min']}).round(2).T"
   ]
  },
  {
   "cell_type": "markdown",
   "metadata": {},
   "source": [
    "Построим гистограммы для тарифов:"
   ]
  },
  {
   "cell_type": "code",
   "execution_count": 353,
   "metadata": {},
   "outputs": [
    {
     "data": {
      "image/png": "[encoded data removed]",
      "text/plain": [
       "<Figure size 432x288 with 1 Axes>"
      ]
     },
     "metadata": {
      "needs_background": "light"
     },
     "output_type": "display_data"
    }
   ],
   "source": [
    "sns.histplot(x=smart['sms_count'], kde=True, alpha=0.4, label='smart').set_title(\"Распределение использованных смс по тарифам\")\n",
    "sns.histplot(x=ultra['sms_count'], kde=True, color='r', alpha=0.4, label='ultra')\n",
    "plt.xlabel('Количество смс')\n",
    "plt.ylabel('Частота')\n",
    "plt.legend()\n",
    "plt.show()"
   ]
  },
  {
   "cell_type": "markdown",
   "metadata": {},
   "source": [
    "#### Выводы:"
   ]
  },
  {
   "cell_type": "markdown",
   "metadata": {},
   "source": [
    "- Среди пользователей обоих тарифов не популярны смс, они не превышают лимит"
   ]
  },
  {
   "cell_type": "markdown",
   "metadata": {},
   "source": [
    "### Анализ израсходованного Интернет-трафика"
   ]
  },
  {
   "cell_type": "code",
   "execution_count": 356,
   "metadata": {},
   "outputs": [
    {
     "data": {
      "text/html": [
       "<div>\n",
       "<style scoped>\n",
       "    .dataframe tbody tr th:only-of-type {\n",
       "        vertical-align: middle;\n",
       "    }\n",
       "\n",
       "    .dataframe tbody tr th {\n",
       "        vertical-align: top;\n",
       "    }\n",
       "\n",
       "    .dataframe thead tr th {\n",
       "        text-align: left;\n",
       "    }\n",
       "\n",
       "    .dataframe thead tr:last-of-type th {\n",
       "        text-align: right;\n",
       "    }\n",
       "</style>\n",
       "<table border=\"1\" class=\"dataframe\">\n",
       "  <thead>\n",
       "    <tr>\n",
       "      <th></th>\n",
       "      <th colspan=\"5\" halign=\"left\">gb_used</th>\n",
       "    </tr>\n",
       "    <tr>\n",
       "      <th></th>\n",
       "      <th>mean</th>\n",
       "      <th>var</th>\n",
       "      <th>std</th>\n",
       "      <th>max</th>\n",
       "      <th>min</th>\n",
       "    </tr>\n",
       "    <tr>\n",
       "      <th>tariff</th>\n",
       "      <th></th>\n",
       "      <th></th>\n",
       "      <th></th>\n",
       "      <th></th>\n",
       "      <th></th>\n",
       "    </tr>\n",
       "  </thead>\n",
       "  <tbody>\n",
       "    <tr>\n",
       "      <th>smart</th>\n",
       "      <td>16.31</td>\n",
       "      <td>32.93</td>\n",
       "      <td>5.74</td>\n",
       "      <td>38.0</td>\n",
       "      <td>0.0</td>\n",
       "    </tr>\n",
       "    <tr>\n",
       "      <th>ultra</th>\n",
       "      <td>19.48</td>\n",
       "      <td>96.97</td>\n",
       "      <td>9.85</td>\n",
       "      <td>49.0</td>\n",
       "      <td>0.0</td>\n",
       "    </tr>\n",
       "  </tbody>\n",
       "</table>\n",
       "</div>"
      ],
      "text/plain": [
       "       gb_used                        \n",
       "          mean    var   std   max  min\n",
       "tariff                                \n",
       "smart    16.31  32.93  5.74  38.0  0.0\n",
       "ultra    19.48  96.97  9.85  49.0  0.0"
      ]
     },
     "execution_count": 356,
     "metadata": {},
     "output_type": "execute_result"
    }
   ],
   "source": [
    "# выведем среднее, дисперсию и стандартное отклонение в общем по каждому тарифу, а также минимум и максимум\n",
    "user_summary_table.groupby('tariff').agg({'gb_used': ['mean', 'var', 'std', 'max', 'min']}).round(2)"
   ]
  },
  {
   "cell_type": "code",
   "execution_count": 357,
   "metadata": {
    "scrolled": true
   },
   "outputs": [
    {
     "data": {
      "text/html": [
       "<div>\n",
       "<style scoped>\n",
       "    .dataframe tbody tr th:only-of-type {\n",
       "        vertical-align: middle;\n",
       "    }\n",
       "\n",
       "    .dataframe tbody tr th {\n",
       "        vertical-align: top;\n",
       "    }\n",
       "\n",
       "    .dataframe thead tr th {\n",
       "        text-align: left;\n",
       "    }\n",
       "</style>\n",
       "<table border=\"1\" class=\"dataframe\">\n",
       "  <thead>\n",
       "    <tr>\n",
       "      <th></th>\n",
       "      <th>tariff</th>\n",
       "      <th colspan=\"10\" halign=\"left\">smart</th>\n",
       "      <th>...</th>\n",
       "      <th colspan=\"10\" halign=\"left\">ultra</th>\n",
       "    </tr>\n",
       "    <tr>\n",
       "      <th></th>\n",
       "      <th>month</th>\n",
       "      <th>1</th>\n",
       "      <th>2</th>\n",
       "      <th>3</th>\n",
       "      <th>4</th>\n",
       "      <th>5</th>\n",
       "      <th>6</th>\n",
       "      <th>7</th>\n",
       "      <th>8</th>\n",
       "      <th>9</th>\n",
       "      <th>10</th>\n",
       "      <th>...</th>\n",
       "      <th>3</th>\n",
       "      <th>4</th>\n",
       "      <th>5</th>\n",
       "      <th>6</th>\n",
       "      <th>7</th>\n",
       "      <th>8</th>\n",
       "      <th>9</th>\n",
       "      <th>10</th>\n",
       "      <th>11</th>\n",
       "      <th>12</th>\n",
       "    </tr>\n",
       "  </thead>\n",
       "  <tbody>\n",
       "    <tr>\n",
       "      <th rowspan=\"5\" valign=\"top\">gb_used</th>\n",
       "      <th>mean</th>\n",
       "      <td>8.74</td>\n",
       "      <td>11.84</td>\n",
       "      <td>15.22</td>\n",
       "      <td>13.61</td>\n",
       "      <td>15.89</td>\n",
       "      <td>15.94</td>\n",
       "      <td>15.84</td>\n",
       "      <td>16.70</td>\n",
       "      <td>16.38</td>\n",
       "      <td>16.85</td>\n",
       "      <td>...</td>\n",
       "      <td>17.59</td>\n",
       "      <td>16.93</td>\n",
       "      <td>19.37</td>\n",
       "      <td>18.94</td>\n",
       "      <td>20.49</td>\n",
       "      <td>19.59</td>\n",
       "      <td>19.23</td>\n",
       "      <td>20.06</td>\n",
       "      <td>19.80</td>\n",
       "      <td>21.71</td>\n",
       "    </tr>\n",
       "    <tr>\n",
       "      <th>var</th>\n",
       "      <td>39.41</td>\n",
       "      <td>37.15</td>\n",
       "      <td>32.41</td>\n",
       "      <td>31.16</td>\n",
       "      <td>34.20</td>\n",
       "      <td>31.95</td>\n",
       "      <td>33.24</td>\n",
       "      <td>30.06</td>\n",
       "      <td>25.80</td>\n",
       "      <td>32.75</td>\n",
       "      <td>...</td>\n",
       "      <td>113.97</td>\n",
       "      <td>89.62</td>\n",
       "      <td>95.63</td>\n",
       "      <td>82.39</td>\n",
       "      <td>96.01</td>\n",
       "      <td>104.89</td>\n",
       "      <td>85.95</td>\n",
       "      <td>91.28</td>\n",
       "      <td>93.52</td>\n",
       "      <td>103.39</td>\n",
       "    </tr>\n",
       "    <tr>\n",
       "      <th>std</th>\n",
       "      <td>6.28</td>\n",
       "      <td>6.10</td>\n",
       "      <td>5.69</td>\n",
       "      <td>5.58</td>\n",
       "      <td>5.85</td>\n",
       "      <td>5.65</td>\n",
       "      <td>5.77</td>\n",
       "      <td>5.48</td>\n",
       "      <td>5.08</td>\n",
       "      <td>5.72</td>\n",
       "      <td>...</td>\n",
       "      <td>10.68</td>\n",
       "      <td>9.47</td>\n",
       "      <td>9.78</td>\n",
       "      <td>9.08</td>\n",
       "      <td>9.80</td>\n",
       "      <td>10.24</td>\n",
       "      <td>9.27</td>\n",
       "      <td>9.55</td>\n",
       "      <td>9.67</td>\n",
       "      <td>10.17</td>\n",
       "    </tr>\n",
       "    <tr>\n",
       "      <th>max</th>\n",
       "      <td>24.00</td>\n",
       "      <td>28.00</td>\n",
       "      <td>25.00</td>\n",
       "      <td>27.00</td>\n",
       "      <td>29.00</td>\n",
       "      <td>34.00</td>\n",
       "      <td>29.00</td>\n",
       "      <td>31.00</td>\n",
       "      <td>31.00</td>\n",
       "      <td>32.00</td>\n",
       "      <td>...</td>\n",
       "      <td>37.00</td>\n",
       "      <td>37.00</td>\n",
       "      <td>43.00</td>\n",
       "      <td>42.00</td>\n",
       "      <td>45.00</td>\n",
       "      <td>48.00</td>\n",
       "      <td>42.00</td>\n",
       "      <td>49.00</td>\n",
       "      <td>44.00</td>\n",
       "      <td>43.00</td>\n",
       "    </tr>\n",
       "    <tr>\n",
       "      <th>min</th>\n",
       "      <td>1.00</td>\n",
       "      <td>1.00</td>\n",
       "      <td>2.00</td>\n",
       "      <td>1.00</td>\n",
       "      <td>1.00</td>\n",
       "      <td>1.00</td>\n",
       "      <td>1.00</td>\n",
       "      <td>0.00</td>\n",
       "      <td>1.00</td>\n",
       "      <td>0.00</td>\n",
       "      <td>...</td>\n",
       "      <td>3.00</td>\n",
       "      <td>1.00</td>\n",
       "      <td>0.00</td>\n",
       "      <td>0.00</td>\n",
       "      <td>0.00</td>\n",
       "      <td>0.00</td>\n",
       "      <td>0.00</td>\n",
       "      <td>0.00</td>\n",
       "      <td>0.00</td>\n",
       "      <td>0.00</td>\n",
       "    </tr>\n",
       "  </tbody>\n",
       "</table>\n",
       "<p>5 rows × 24 columns</p>\n",
       "</div>"
      ],
      "text/plain": [
       "tariff        smart                                                          \\\n",
       "month            1      2      3      4      5      6      7      8      9    \n",
       "gb_used mean   8.74  11.84  15.22  13.61  15.89  15.94  15.84  16.70  16.38   \n",
       "        var   39.41  37.15  32.41  31.16  34.20  31.95  33.24  30.06  25.80   \n",
       "        std    6.28   6.10   5.69   5.58   5.85   5.65   5.77   5.48   5.08   \n",
       "        max   24.00  28.00  25.00  27.00  29.00  34.00  29.00  31.00  31.00   \n",
       "        min    1.00   1.00   2.00   1.00   1.00   1.00   1.00   0.00   1.00   \n",
       "\n",
       "tariff               ...   ultra                                             \\\n",
       "month            10  ...      3      4      5      6      7       8      9    \n",
       "gb_used mean  16.85  ...   17.59  16.93  19.37  18.94  20.49   19.59  19.23   \n",
       "        var   32.75  ...  113.97  89.62  95.63  82.39  96.01  104.89  85.95   \n",
       "        std    5.72  ...   10.68   9.47   9.78   9.08   9.80   10.24   9.27   \n",
       "        max   32.00  ...   37.00  37.00  43.00  42.00  45.00   48.00  42.00   \n",
       "        min    0.00  ...    3.00   1.00   0.00   0.00   0.00    0.00   0.00   \n",
       "\n",
       "tariff                              \n",
       "month            10     11      12  \n",
       "gb_used mean  20.06  19.80   21.71  \n",
       "        var   91.28  93.52  103.39  \n",
       "        std    9.55   9.67   10.17  \n",
       "        max   49.00  44.00   43.00  \n",
       "        min    0.00   0.00    0.00  \n",
       "\n",
       "[5 rows x 24 columns]"
      ]
     },
     "execution_count": 357,
     "metadata": {},
     "output_type": "execute_result"
    }
   ],
   "source": [
    "# выведем среднее, дисперсию и стандартное отклонение по месяцам по каждому тарифу, а также минимум и максимум\n",
    "user_summary_table.groupby(['tariff', 'month']).agg({'gb_used': ['mean', 'var', 'std', 'max', 'min']}).round(2).T"
   ]
  },
  {
   "cell_type": "markdown",
   "metadata": {},
   "source": [
    "Построим распределения для тарифов:"
   ]
  },
  {
   "cell_type": "code",
   "execution_count": 358,
   "metadata": {},
   "outputs": [
    {
     "data": {
      "image/png": "[encoded data removed]",
      "text/plain": [
       "<Figure size 432x288 with 1 Axes>"
      ]
     },
     "metadata": {
      "needs_background": "light"
     },
     "output_type": "display_data"
    }
   ],
   "source": [
    "sns.histplot(x=smart['gb_used'], kde=True, alpha=0.4, label='smart').set_title(\"Распределение использованного Интернет-трафика по тарифам\")\n",
    "sns.histplot(x=ultra['gb_used'], kde=True, color='r', alpha=0.4, label='ultra')\n",
    "plt.xlabel('Объем Интернет-трафика')\n",
    "plt.ylabel('Частота')\n",
    "plt.legend()\n",
    "plt.show()"
   ]
  },
  {
   "cell_type": "markdown",
   "metadata": {},
   "source": [
    "#### Вывод"
   ]
  },
  {
   "cell_type": "markdown",
   "metadata": {},
   "source": [
    "- Средний расход Интернет-трафика примерно одинаков для пользователей обоих тарифов\n",
    "- В среднем пользователи smart чаще превышают свой лимит"
   ]
  },
  {
   "cell_type": "markdown",
   "metadata": {},
   "source": [
    "### Анализ выручки"
   ]
  },
  {
   "cell_type": "code",
   "execution_count": 361,
   "metadata": {},
   "outputs": [
    {
     "data": {
      "text/html": [
       "<div>\n",
       "<style scoped>\n",
       "    .dataframe tbody tr th:only-of-type {\n",
       "        vertical-align: middle;\n",
       "    }\n",
       "\n",
       "    .dataframe tbody tr th {\n",
       "        vertical-align: top;\n",
       "    }\n",
       "\n",
       "    .dataframe thead tr th {\n",
       "        text-align: left;\n",
       "    }\n",
       "\n",
       "    .dataframe thead tr:last-of-type th {\n",
       "        text-align: right;\n",
       "    }\n",
       "</style>\n",
       "<table border=\"1\" class=\"dataframe\">\n",
       "  <thead>\n",
       "    <tr>\n",
       "      <th></th>\n",
       "      <th colspan=\"5\" halign=\"left\">revenue</th>\n",
       "    </tr>\n",
       "    <tr>\n",
       "      <th></th>\n",
       "      <th>mean</th>\n",
       "      <th>var</th>\n",
       "      <th>std</th>\n",
       "      <th>max</th>\n",
       "      <th>min</th>\n",
       "    </tr>\n",
       "    <tr>\n",
       "      <th>tariff</th>\n",
       "      <th></th>\n",
       "      <th></th>\n",
       "      <th></th>\n",
       "      <th></th>\n",
       "      <th></th>\n",
       "    </tr>\n",
       "  </thead>\n",
       "  <tbody>\n",
       "    <tr>\n",
       "      <th>smart</th>\n",
       "      <td>1286.56</td>\n",
       "      <td>666709.80</td>\n",
       "      <td>816.52</td>\n",
       "      <td>6770.0</td>\n",
       "      <td>550.0</td>\n",
       "    </tr>\n",
       "    <tr>\n",
       "      <th>ultra</th>\n",
       "      <td>2069.54</td>\n",
       "      <td>140382.41</td>\n",
       "      <td>374.68</td>\n",
       "      <td>4800.0</td>\n",
       "      <td>1950.0</td>\n",
       "    </tr>\n",
       "  </tbody>\n",
       "</table>\n",
       "</div>"
      ],
      "text/plain": [
       "        revenue                                   \n",
       "           mean        var     std     max     min\n",
       "tariff                                            \n",
       "smart   1286.56  666709.80  816.52  6770.0   550.0\n",
       "ultra   2069.54  140382.41  374.68  4800.0  1950.0"
      ]
     },
     "execution_count": 361,
     "metadata": {},
     "output_type": "execute_result"
    }
   ],
   "source": [
    "# выведем среднее, дисперсию и стандартное отклонение в общем по каждому тарифу, а также минимум и максимум\n",
    "user_summary_table.groupby('tariff').agg({'revenue': ['mean', 'var', 'std', 'max', 'min']}).round(2)"
   ]
  },
  {
   "cell_type": "code",
   "execution_count": 362,
   "metadata": {},
   "outputs": [
    {
     "data": {
      "text/html": [
       "<div>\n",
       "<style scoped>\n",
       "    .dataframe tbody tr th:only-of-type {\n",
       "        vertical-align: middle;\n",
       "    }\n",
       "\n",
       "    .dataframe tbody tr th {\n",
       "        vertical-align: top;\n",
       "    }\n",
       "\n",
       "    .dataframe thead tr th {\n",
       "        text-align: left;\n",
       "    }\n",
       "</style>\n",
       "<table border=\"1\" class=\"dataframe\">\n",
       "  <thead>\n",
       "    <tr>\n",
       "      <th></th>\n",
       "      <th>tariff</th>\n",
       "      <th colspan=\"10\" halign=\"left\">smart</th>\n",
       "      <th>...</th>\n",
       "      <th colspan=\"10\" halign=\"left\">ultra</th>\n",
       "    </tr>\n",
       "    <tr>\n",
       "      <th></th>\n",
       "      <th>month</th>\n",
       "      <th>1</th>\n",
       "      <th>2</th>\n",
       "      <th>3</th>\n",
       "      <th>4</th>\n",
       "      <th>5</th>\n",
       "      <th>6</th>\n",
       "      <th>7</th>\n",
       "      <th>8</th>\n",
       "      <th>9</th>\n",
       "      <th>10</th>\n",
       "      <th>...</th>\n",
       "      <th>3</th>\n",
       "      <th>4</th>\n",
       "      <th>5</th>\n",
       "      <th>6</th>\n",
       "      <th>7</th>\n",
       "      <th>8</th>\n",
       "      <th>9</th>\n",
       "      <th>10</th>\n",
       "      <th>11</th>\n",
       "      <th>12</th>\n",
       "    </tr>\n",
       "  </thead>\n",
       "  <tbody>\n",
       "    <tr>\n",
       "      <th rowspan=\"5\" valign=\"top\">revenue</th>\n",
       "      <th>mean</th>\n",
       "      <td>721.32</td>\n",
       "      <td>827.60</td>\n",
       "      <td>1162.03</td>\n",
       "      <td>959.52</td>\n",
       "      <td>1196.09</td>\n",
       "      <td>1202.80</td>\n",
       "      <td>1217.98</td>\n",
       "      <td>1315.49</td>\n",
       "      <td>1247.64</td>\n",
       "      <td>1359.41</td>\n",
       "      <td>...</td>\n",
       "      <td>2014.86</td>\n",
       "      <td>2001.82</td>\n",
       "      <td>2059.70</td>\n",
       "      <td>2039.29</td>\n",
       "      <td>2116.48</td>\n",
       "      <td>2081.78</td>\n",
       "      <td>2023.04</td>\n",
       "      <td>2065.85</td>\n",
       "      <td>2091.04</td>\n",
       "      <td>2138.85</td>\n",
       "    </tr>\n",
       "    <tr>\n",
       "      <th>var</th>\n",
       "      <td>192516.16</td>\n",
       "      <td>292358.66</td>\n",
       "      <td>484677.58</td>\n",
       "      <td>313180.00</td>\n",
       "      <td>516252.47</td>\n",
       "      <td>555669.73</td>\n",
       "      <td>539197.83</td>\n",
       "      <td>623453.99</td>\n",
       "      <td>534109.92</td>\n",
       "      <td>708311.53</td>\n",
       "      <td>...</td>\n",
       "      <td>43175.68</td>\n",
       "      <td>38515.15</td>\n",
       "      <td>162669.61</td>\n",
       "      <td>99823.58</td>\n",
       "      <td>194725.27</td>\n",
       "      <td>158650.59</td>\n",
       "      <td>58565.22</td>\n",
       "      <td>149685.13</td>\n",
       "      <td>165031.98</td>\n",
       "      <td>232610.26</td>\n",
       "    </tr>\n",
       "    <tr>\n",
       "      <th>std</th>\n",
       "      <td>438.77</td>\n",
       "      <td>540.70</td>\n",
       "      <td>696.19</td>\n",
       "      <td>559.62</td>\n",
       "      <td>718.51</td>\n",
       "      <td>745.43</td>\n",
       "      <td>734.30</td>\n",
       "      <td>789.59</td>\n",
       "      <td>730.83</td>\n",
       "      <td>841.61</td>\n",
       "      <td>...</td>\n",
       "      <td>207.79</td>\n",
       "      <td>196.25</td>\n",
       "      <td>403.32</td>\n",
       "      <td>315.95</td>\n",
       "      <td>441.28</td>\n",
       "      <td>398.31</td>\n",
       "      <td>242.00</td>\n",
       "      <td>386.89</td>\n",
       "      <td>406.24</td>\n",
       "      <td>482.30</td>\n",
       "    </tr>\n",
       "    <tr>\n",
       "      <th>max</th>\n",
       "      <td>2350.00</td>\n",
       "      <td>3432.00</td>\n",
       "      <td>2721.00</td>\n",
       "      <td>2950.00</td>\n",
       "      <td>3375.00</td>\n",
       "      <td>4473.00</td>\n",
       "      <td>3350.00</td>\n",
       "      <td>4427.00</td>\n",
       "      <td>3759.00</td>\n",
       "      <td>4231.00</td>\n",
       "      <td>...</td>\n",
       "      <td>3000.00</td>\n",
       "      <td>3000.00</td>\n",
       "      <td>3900.00</td>\n",
       "      <td>3750.00</td>\n",
       "      <td>4200.00</td>\n",
       "      <td>4650.00</td>\n",
       "      <td>3750.00</td>\n",
       "      <td>4800.00</td>\n",
       "      <td>4050.00</td>\n",
       "      <td>3900.00</td>\n",
       "    </tr>\n",
       "    <tr>\n",
       "      <th>min</th>\n",
       "      <td>550.00</td>\n",
       "      <td>550.00</td>\n",
       "      <td>550.00</td>\n",
       "      <td>550.00</td>\n",
       "      <td>550.00</td>\n",
       "      <td>550.00</td>\n",
       "      <td>550.00</td>\n",
       "      <td>550.00</td>\n",
       "      <td>550.00</td>\n",
       "      <td>550.00</td>\n",
       "      <td>...</td>\n",
       "      <td>1950.00</td>\n",
       "      <td>1950.00</td>\n",
       "      <td>1950.00</td>\n",
       "      <td>1950.00</td>\n",
       "      <td>1950.00</td>\n",
       "      <td>1950.00</td>\n",
       "      <td>1950.00</td>\n",
       "      <td>1950.00</td>\n",
       "      <td>1950.00</td>\n",
       "      <td>1950.00</td>\n",
       "    </tr>\n",
       "  </tbody>\n",
       "</table>\n",
       "<p>5 rows × 24 columns</p>\n",
       "</div>"
      ],
      "text/plain": [
       "tariff            smart                                              \\\n",
       "month                1          2          3          4          5    \n",
       "revenue mean     721.32     827.60    1162.03     959.52    1196.09   \n",
       "        var   192516.16  292358.66  484677.58  313180.00  516252.47   \n",
       "        std      438.77     540.70     696.19     559.62     718.51   \n",
       "        max     2350.00    3432.00    2721.00    2950.00    3375.00   \n",
       "        min      550.00     550.00     550.00     550.00     550.00   \n",
       "\n",
       "tariff                                                               ...  \\\n",
       "month                6          7          8          9          10  ...   \n",
       "revenue mean    1202.80    1217.98    1315.49    1247.64    1359.41  ...   \n",
       "        var   555669.73  539197.83  623453.99  534109.92  708311.53  ...   \n",
       "        std      745.43     734.30     789.59     730.83     841.61  ...   \n",
       "        max     4473.00    3350.00    4427.00    3759.00    4231.00  ...   \n",
       "        min      550.00     550.00     550.00     550.00     550.00  ...   \n",
       "\n",
       "tariff           ultra                                                       \\\n",
       "month               3         4          5         6          7          8    \n",
       "revenue mean   2014.86   2001.82    2059.70   2039.29    2116.48    2081.78   \n",
       "        var   43175.68  38515.15  162669.61  99823.58  194725.27  158650.59   \n",
       "        std     207.79    196.25     403.32    315.95     441.28     398.31   \n",
       "        max    3000.00   3000.00    3900.00   3750.00    4200.00    4650.00   \n",
       "        min    1950.00   1950.00    1950.00   1950.00    1950.00    1950.00   \n",
       "\n",
       "tariff                                                   \n",
       "month               9          10         11         12  \n",
       "revenue mean   2023.04    2065.85    2091.04    2138.85  \n",
       "        var   58565.22  149685.13  165031.98  232610.26  \n",
       "        std     242.00     386.89     406.24     482.30  \n",
       "        max    3750.00    4800.00    4050.00    3900.00  \n",
       "        min    1950.00    1950.00    1950.00    1950.00  \n",
       "\n",
       "[5 rows x 24 columns]"
      ]
     },
     "execution_count": 362,
     "metadata": {},
     "output_type": "execute_result"
    }
   ],
   "source": [
    "# выведем среднее, дисперсию и стандартное отклонение по месяцам по каждому тарифу, а также минимум и максимум\n",
    "user_summary_table.groupby(['tariff', 'month']).agg({'revenue': ['mean', 'var', 'std', 'max', 'min']}).round(2).T"
   ]
  },
  {
   "cell_type": "code",
   "execution_count": 363,
   "metadata": {
    "scrolled": true
   },
   "outputs": [
    {
     "data": {
      "image/png": "[encoded data removed]",
      "text/plain": [
       "<Figure size 432x288 with 1 Axes>"
      ]
     },
     "metadata": {
      "needs_background": "light"
     },
     "output_type": "display_data"
    }
   ],
   "source": [
    "sns.histplot(x=smart['revenue'], kde=True, alpha=0.4, label='smart').set_title(\"Распределение выручки по тарифам\")\n",
    "sns.histplot(x=ultra['revenue'], kde=True, color='r', alpha=0.4, label='ultra')\n",
    "plt.legend()\n",
    "plt.show()"
   ]
  },
  {
   "cell_type": "markdown",
   "metadata": {},
   "source": [
    "#### Вывод"
   ]
  },
  {
   "cell_type": "markdown",
   "metadata": {},
   "source": [
    "В среднем пользователи тарифа smart переплачивают почти в 2 раза, в отличие от пользователей ultra - у них переплаты есть, но не такие внушительные."
   ]
  },
  {
   "cell_type": "markdown",
   "metadata": {},
   "source": [
    "### Вывод"
   ]
  },
  {
   "cell_type": "markdown",
   "metadata": {},
   "source": [
    "- Среди пользователей обоих тарифов смс - необязательный критерий, они практически не пользуются ими\n",
    "- Пользователи smart в среднем на пределе используют кол-во минут, включенных в тарифный план, пользователи ultra наоборот - при том, что и те, и те тратят примерно одинаково, последние в среднем используют только 1/6 своего лимита\n",
    "- Среднее значение использованного объема Интернет-трафика чуть больше у пользователей ultra, при этом , выходит, что они не превышают свой лимит, а у пользователей smart чаще случаются переплаты"
   ]
  },
  {
   "cell_type": "markdown",
   "metadata": {},
   "source": [
    "## Проверка гипотез"
   ]
  },
  {
   "cell_type": "markdown",
   "metadata": {},
   "source": [
    "### Cредняя выручка пользователей тарифов «Ультра» и «Смарт» различаются"
   ]
  },
  {
   "cell_type": "markdown",
   "metadata": {},
   "source": [
    "**Введем нулевую и альтернативные гипотезы**:\n",
    "\n",
    "\n",
    "   H0 : Средние выручки тарифов «Ультра» и «Смарт» одинаковы\n",
    "   \n",
    "   H1 : Средние выручки тарифов «Ультра» и «Смарт» различны\n",
    "   \n",
    " Уровень значимости: alpha = 0.05\n",
    " \n",
    " Рассчитаем p-value:\n",
    " - При p-value меньше выбранного уровня значимости будут основания отвергнуть нулевую гипотезу о равенстве средних выручек тарифов в пользу альтернативной. \n",
    " - Иначе - сделаем вывод, что данные не позволили нам отвергнуть нулевую гипотезу."
   ]
  },
  {
   "cell_type": "code",
   "execution_count": 364,
   "metadata": {},
   "outputs": [
    {
     "name": "stdout",
     "output_type": "stream",
     "text": [
      "p-значение: 8.40789217310225e-253\n",
      "Имеются основания исключить нулевую гипотезу\n"
     ]
    }
   ],
   "source": [
    "alpha = .05\n",
    "results = stats.ttest_ind(smart['revenue'], ultra['revenue'], equal_var=False)\n",
    "print('p-значение:', results.pvalue)\n",
    "if (results.pvalue < alpha):\n",
    "    print('Имеются основания исключить нулевую гипотезу')\n",
    "else:\n",
    "    print('Нельзя отвергнуть нулевую гипотезу')"
   ]
  },
  {
   "cell_type": "markdown",
   "metadata": {},
   "source": [
    "#### Вывод\n",
    "\n",
    "- На доступных данных на 5% уровне значимости имеются основания отвергнуть нулевую гипотезу в пользу альтернативной."
   ]
  },
  {
   "cell_type": "markdown",
   "metadata": {},
   "source": [
    "### Cредняя выручка пользователей из Москвы отличается от выручки пользователей из других регионов"
   ]
  },
  {
   "cell_type": "code",
   "execution_count": 365,
   "metadata": {},
   "outputs": [],
   "source": [
    "# оформим таблицу, основываясь на местоположении пользователя (Москва - другие регионы)\n",
    "user_summary_table['region'] = np.where(user_summary_table['city'] == 'Москва', 'Москва', 'Другие регионы')\n",
    "# отдельно выделим Москву и отдельно другие регионы\n",
    "moscow = user_summary_table[user_summary_table['region'] == 'Москва']\n",
    "regions = user_summary_table[user_summary_table['region'] == 'Другие регионы']"
   ]
  },
  {
   "cell_type": "markdown",
   "metadata": {},
   "source": [
    "**Введем нулевую и альтернативные гипотезы**:\n",
    "\n",
    "\n",
    "   H0 : Cредняя выручка пользователей из Москвы не отличается от выручки пользователей из других регионов\n",
    "   \n",
    "   H1 : Cредняя выручка пользователей из Москвы отличается от выручки пользователей из других регионов\n",
    "   \n",
    " Уровень значимости: alpha = 0.05\n",
    " \n",
    " Рассчитаем p-value:\n",
    " - При p-value меньше выбранного уровня значимости будут основания отвергнуть нулевую гипотезу о равенстве средних выручек пользователей из Москвы и из других регионов в пользу альтернативной. \n",
    " - Иначе - сделаем вывод, что данные не позволили нам отвергнуть нулевую гипотезу."
   ]
  },
  {
   "cell_type": "code",
   "execution_count": 366,
   "metadata": {},
   "outputs": [
    {
     "name": "stdout",
     "output_type": "stream",
     "text": [
      "p-значение: 0.517656692853026\n",
      "Недостаточно оснований, чтобы отвергнуть нулевую гипотезу\n"
     ]
    }
   ],
   "source": [
    "alpha = .05\n",
    "results = stats.ttest_ind(moscow['revenue'], regions['revenue'], equal_var=False)\n",
    "print('p-значение:', results.pvalue)\n",
    "if (results.pvalue < alpha):\n",
    "    print('Имеются основания отвергнуть нулевую гипотезу')\n",
    "else:\n",
    "    print('Недостаточно оснований, чтобы отвергнуть нулевую гипотезу')"
   ]
  },
  {
   "cell_type": "markdown",
   "metadata": {},
   "source": [
    "#### Вывод"
   ]
  },
  {
   "cell_type": "markdown",
   "metadata": {},
   "source": [
    "- На доступных данных на 5% уровне значимости недостаточно оснований, чтобы отвергнуть нулевую гипотезу в пользу альтернативной.\n",
    "- Средние выручки пользователей из Москвы и пользователей из других регионов одинаковы."
   ]
  },
  {
   "cell_type": "markdown",
   "metadata": {},
   "source": [
    "## Общий вывод"
   ]
  },
  {
   "cell_type": "markdown",
   "metadata": {},
   "source": [
    "- Провели предобработку данных\n",
    "- Расчитали дополнительно расход Интернета, смс и звонков по месяцам для обоих тарифов\n",
    "- Расчитали среднюю выручку для обоих тарифов\n",
    "- Проанализировали статистику на основе статистических параметров и гистограмм\n",
    "- Провели проверку гипотез:\n",
    "1. Cредняя выручка пользователей из Москвы отличается от выручки пользователей из других регионов\n",
    "2. Cредняя выручка пользователей тарифов «Ультра» и «Смарт» различаются\n",
    "\n",
    "\n",
    "**Общие выводы на основе представленных данных**:\n",
    "- Наиболее популярным среди пользователей является использование Интернета, в обоих тарифах происходит сильное превышение, соответственно, но **высокие** переплаты именно у smart, несмотря на это в среднем даже со значительным привышением (почти в два раза) , выходит, дешевле, чем ultra\n",
    "\n",
    "**Рекомендации компании**:\n",
    "- Если выбирать из данных тарифов, то для пользователя скорее будет выгодно использовать smart, т.к. абонентская плата ultra высока, но со временем есть вероятность, что пользователи smart уйдут, т.к. им явно не будет хватать услуг Интернета, а с этим и ожидают большие переплаты\n",
    "- Возможно, необходимо предусмотреть, что есть большое количество пользователей, заинтересованных в большом объеме Интернет-трафика (намного превышающего лимит по обоим представленным тарифам), представить предложение для них. \n",
    "- т.к. оказывается, что выручка в Москве и др. регионах одинакова, компании следует рекламировать свои услуги по разным региональным направлениям в равной степени."
   ]
  }
 ],
 "metadata": {
  "ExecuteTimeLog": [
   {
    "duration": 36,
    "start_time": "2022-06-03T10:47:33.525Z"
   },
   {
    "duration": 425,
    "start_time": "2022-06-03T10:47:49.234Z"
   },
   {
    "duration": 151,
    "start_time": "2022-06-03T10:48:12.112Z"
   },
   {
    "duration": 70,
    "start_time": "2022-06-03T10:56:21.715Z"
   },
   {
    "duration": 30,
    "start_time": "2022-06-03T10:56:27.405Z"
   },
   {
    "duration": 3,
    "start_time": "2022-06-03T10:56:27.436Z"
   },
   {
    "duration": 11,
    "start_time": "2022-06-03T10:56:27.441Z"
   },
   {
    "duration": 29,
    "start_time": "2022-06-03T10:56:27.455Z"
   },
   {
    "duration": 0,
    "start_time": "2022-06-03T10:56:27.486Z"
   },
   {
    "duration": 120,
    "start_time": "2022-06-03T10:57:40.124Z"
   },
   {
    "duration": 13,
    "start_time": "2022-06-03T10:57:41.335Z"
   },
   {
    "duration": 1241,
    "start_time": "2022-06-03T10:58:14.463Z"
   },
   {
    "duration": 10,
    "start_time": "2022-06-03T10:58:15.706Z"
   },
   {
    "duration": 13,
    "start_time": "2022-06-03T10:58:50.754Z"
   },
   {
    "duration": 18,
    "start_time": "2022-06-03T10:59:20.856Z"
   },
   {
    "duration": 18,
    "start_time": "2022-06-03T10:59:30.317Z"
   },
   {
    "duration": 14,
    "start_time": "2022-06-03T11:00:12.645Z"
   },
   {
    "duration": 33,
    "start_time": "2022-06-03T11:00:47.232Z"
   },
   {
    "duration": 26,
    "start_time": "2022-06-03T11:01:10.823Z"
   },
   {
    "duration": 25,
    "start_time": "2022-06-03T11:01:33.396Z"
   },
   {
    "duration": 306,
    "start_time": "2022-06-03T11:02:01.660Z"
   },
   {
    "duration": 18,
    "start_time": "2022-06-03T11:02:54.788Z"
   },
   {
    "duration": 3,
    "start_time": "2022-06-03T11:07:15.431Z"
   },
   {
    "duration": 2,
    "start_time": "2022-06-03T11:07:16.055Z"
   },
   {
    "duration": 483,
    "start_time": "2022-06-03T11:07:16.656Z"
   },
   {
    "duration": 29,
    "start_time": "2022-06-03T11:07:17.585Z"
   },
   {
    "duration": 27,
    "start_time": "2022-06-03T11:07:18.488Z"
   },
   {
    "duration": 23,
    "start_time": "2022-06-03T11:07:19.255Z"
   },
   {
    "duration": 18,
    "start_time": "2022-06-03T11:07:19.983Z"
   },
   {
    "duration": 19,
    "start_time": "2022-06-03T11:07:20.665Z"
   },
   {
    "duration": 5,
    "start_time": "2022-06-03T13:17:08.334Z"
   },
   {
    "duration": 4,
    "start_time": "2022-06-03T13:17:22.932Z"
   },
   {
    "duration": 21,
    "start_time": "2022-06-03T13:17:28.842Z"
   },
   {
    "duration": 19,
    "start_time": "2022-06-03T13:17:42.729Z"
   },
   {
    "duration": 554,
    "start_time": "2022-06-03T13:19:38.412Z"
   },
   {
    "duration": 19,
    "start_time": "2022-06-03T13:19:52.284Z"
   },
   {
    "duration": 36,
    "start_time": "2022-06-24T16:34:56.716Z"
   },
   {
    "duration": 397,
    "start_time": "2022-06-24T16:34:56.754Z"
   },
   {
    "duration": 3,
    "start_time": "2022-06-24T16:34:57.154Z"
   },
   {
    "duration": 1066,
    "start_time": "2022-06-24T16:34:57.159Z"
   },
   {
    "duration": 38,
    "start_time": "2022-06-24T16:34:58.227Z"
   },
   {
    "duration": 23,
    "start_time": "2022-06-24T16:34:58.266Z"
   },
   {
    "duration": 5,
    "start_time": "2022-06-24T16:34:58.291Z"
   },
   {
    "duration": 53,
    "start_time": "2022-06-24T16:34:58.297Z"
   },
   {
    "duration": 18,
    "start_time": "2022-06-24T16:34:58.352Z"
   },
   {
    "duration": 24,
    "start_time": "2022-06-24T16:34:58.371Z"
   },
   {
    "duration": 44,
    "start_time": "2022-06-24T16:34:58.397Z"
   },
   {
    "duration": 21,
    "start_time": "2022-06-24T16:34:58.443Z"
   },
   {
    "duration": 38,
    "start_time": "2022-06-24T17:43:57.785Z"
   },
   {
    "duration": 13,
    "start_time": "2022-06-24T17:44:03.447Z"
   },
   {
    "duration": 67,
    "start_time": "2022-06-24T17:44:32.942Z"
   },
   {
    "duration": 38,
    "start_time": "2022-06-24T17:44:39.848Z"
   },
   {
    "duration": 3,
    "start_time": "2022-06-24T17:44:39.889Z"
   },
   {
    "duration": 10,
    "start_time": "2022-06-24T17:44:39.894Z"
   },
   {
    "duration": 542,
    "start_time": "2022-06-24T17:44:39.907Z"
   },
   {
    "duration": 37,
    "start_time": "2022-06-24T17:44:40.451Z"
   },
   {
    "duration": 34,
    "start_time": "2022-06-24T17:44:40.489Z"
   },
   {
    "duration": 6,
    "start_time": "2022-06-24T17:44:40.525Z"
   },
   {
    "duration": 33,
    "start_time": "2022-06-24T17:44:40.533Z"
   },
   {
    "duration": 21,
    "start_time": "2022-06-24T17:44:40.568Z"
   },
   {
    "duration": 53,
    "start_time": "2022-06-24T17:44:40.591Z"
   },
   {
    "duration": 21,
    "start_time": "2022-06-24T17:44:40.649Z"
   },
   {
    "duration": 30,
    "start_time": "2022-06-24T17:44:40.672Z"
   },
   {
    "duration": 26,
    "start_time": "2022-06-24T17:44:42.006Z"
   },
   {
    "duration": 31,
    "start_time": "2022-06-24T17:44:48.883Z"
   },
   {
    "duration": 1540,
    "start_time": "2022-06-24T17:45:08.446Z"
   },
   {
    "duration": 30,
    "start_time": "2022-06-24T17:45:27.859Z"
   },
   {
    "duration": 3,
    "start_time": "2022-06-24T17:45:27.891Z"
   },
   {
    "duration": 15,
    "start_time": "2022-06-24T17:45:27.896Z"
   },
   {
    "duration": 658,
    "start_time": "2022-06-24T17:45:27.913Z"
   },
   {
    "duration": 36,
    "start_time": "2022-06-24T17:45:28.574Z"
   },
   {
    "duration": 40,
    "start_time": "2022-06-24T17:45:28.612Z"
   },
   {
    "duration": 11,
    "start_time": "2022-06-24T17:45:28.655Z"
   },
   {
    "duration": 37,
    "start_time": "2022-06-24T17:45:28.668Z"
   },
   {
    "duration": 29,
    "start_time": "2022-06-24T17:45:28.707Z"
   },
   {
    "duration": 30,
    "start_time": "2022-06-24T17:45:28.741Z"
   },
   {
    "duration": 21,
    "start_time": "2022-06-24T17:45:28.773Z"
   },
   {
    "duration": 50,
    "start_time": "2022-06-24T17:45:28.796Z"
   },
   {
    "duration": 32,
    "start_time": "2022-06-24T17:45:31.753Z"
   },
   {
    "duration": 8,
    "start_time": "2022-06-24T17:46:32.074Z"
   },
   {
    "duration": 48,
    "start_time": "2022-06-24T17:46:39.293Z"
   },
   {
    "duration": 27,
    "start_time": "2022-06-24T17:46:47.875Z"
   },
   {
    "duration": 3,
    "start_time": "2022-06-24T17:46:47.904Z"
   },
   {
    "duration": 12,
    "start_time": "2022-06-24T17:46:47.908Z"
   },
   {
    "duration": 535,
    "start_time": "2022-06-24T17:46:47.922Z"
   },
   {
    "duration": 31,
    "start_time": "2022-06-24T17:46:48.459Z"
   },
   {
    "duration": 25,
    "start_time": "2022-06-24T17:46:48.491Z"
   },
   {
    "duration": 6,
    "start_time": "2022-06-24T17:46:48.518Z"
   },
   {
    "duration": 72,
    "start_time": "2022-06-24T17:46:48.526Z"
   },
   {
    "duration": 36,
    "start_time": "2022-06-24T17:46:48.600Z"
   },
   {
    "duration": 46,
    "start_time": "2022-06-24T17:46:48.639Z"
   },
   {
    "duration": 16,
    "start_time": "2022-06-24T17:46:48.687Z"
   },
   {
    "duration": 60,
    "start_time": "2022-06-24T17:46:48.705Z"
   },
   {
    "duration": 37,
    "start_time": "2022-06-24T17:46:50.843Z"
   },
   {
    "duration": 1134,
    "start_time": "2022-06-24T17:47:18.092Z"
   },
   {
    "duration": 33,
    "start_time": "2022-06-24T17:47:28.007Z"
   },
   {
    "duration": 3,
    "start_time": "2022-06-24T17:47:28.043Z"
   },
   {
    "duration": 8,
    "start_time": "2022-06-24T17:47:28.048Z"
   },
   {
    "duration": 515,
    "start_time": "2022-06-24T17:47:28.059Z"
   },
   {
    "duration": 33,
    "start_time": "2022-06-24T17:47:28.576Z"
   },
   {
    "duration": 35,
    "start_time": "2022-06-24T17:47:28.611Z"
   },
   {
    "duration": 6,
    "start_time": "2022-06-24T17:47:28.648Z"
   },
   {
    "duration": 52,
    "start_time": "2022-06-24T17:47:28.657Z"
   },
   {
    "duration": 26,
    "start_time": "2022-06-24T17:47:28.711Z"
   },
   {
    "duration": 38,
    "start_time": "2022-06-24T17:47:28.738Z"
   },
   {
    "duration": 17,
    "start_time": "2022-06-24T17:47:28.777Z"
   },
   {
    "duration": 50,
    "start_time": "2022-06-24T17:47:28.795Z"
   },
   {
    "duration": 38,
    "start_time": "2022-06-24T17:47:28.847Z"
   },
   {
    "duration": 891,
    "start_time": "2022-06-24T17:47:31.311Z"
   },
   {
    "duration": 23,
    "start_time": "2022-06-24T17:48:15.317Z"
   },
   {
    "duration": 242,
    "start_time": "2022-06-24T17:50:25.675Z"
   },
   {
    "duration": 376,
    "start_time": "2022-06-24T17:51:11.005Z"
   },
   {
    "duration": 275,
    "start_time": "2022-06-24T17:53:55.174Z"
   },
   {
    "duration": 315,
    "start_time": "2022-06-24T17:54:31.046Z"
   },
   {
    "duration": 49,
    "start_time": "2022-06-24T17:54:59.345Z"
   },
   {
    "duration": 15,
    "start_time": "2022-06-24T17:58:49.538Z"
   },
   {
    "duration": 6,
    "start_time": "2022-06-24T17:59:09.995Z"
   },
   {
    "duration": 34,
    "start_time": "2022-06-24T18:00:26.098Z"
   },
   {
    "duration": 45,
    "start_time": "2022-06-24T18:06:07.620Z"
   },
   {
    "duration": 84,
    "start_time": "2022-06-24T18:06:29.699Z"
   },
   {
    "duration": 45,
    "start_time": "2022-06-26T09:27:46.966Z"
   },
   {
    "duration": 410,
    "start_time": "2022-06-26T09:27:47.013Z"
   },
   {
    "duration": 2,
    "start_time": "2022-06-26T09:27:47.425Z"
   },
   {
    "duration": 984,
    "start_time": "2022-06-26T09:27:47.429Z"
   },
   {
    "duration": 34,
    "start_time": "2022-06-26T09:27:48.415Z"
   },
   {
    "duration": 18,
    "start_time": "2022-06-26T09:27:48.451Z"
   },
   {
    "duration": 4,
    "start_time": "2022-06-26T09:27:48.471Z"
   },
   {
    "duration": 28,
    "start_time": "2022-06-26T09:27:48.476Z"
   },
   {
    "duration": 33,
    "start_time": "2022-06-26T09:27:48.506Z"
   },
   {
    "duration": 22,
    "start_time": "2022-06-26T09:27:48.542Z"
   },
   {
    "duration": 18,
    "start_time": "2022-06-26T09:27:48.566Z"
   },
   {
    "duration": 49,
    "start_time": "2022-06-26T09:27:48.586Z"
   },
   {
    "duration": 51,
    "start_time": "2022-06-26T09:27:48.637Z"
   },
   {
    "duration": 36,
    "start_time": "2022-06-26T09:27:51.742Z"
   },
   {
    "duration": 56,
    "start_time": "2022-06-26T13:10:17.929Z"
   },
   {
    "duration": 49,
    "start_time": "2022-06-26T13:10:22.031Z"
   },
   {
    "duration": 442,
    "start_time": "2022-06-26T13:10:22.082Z"
   },
   {
    "duration": 3,
    "start_time": "2022-06-26T13:10:22.526Z"
   },
   {
    "duration": 1149,
    "start_time": "2022-06-26T13:10:22.531Z"
   },
   {
    "duration": 45,
    "start_time": "2022-06-26T13:10:23.682Z"
   },
   {
    "duration": 28,
    "start_time": "2022-06-26T13:10:23.729Z"
   },
   {
    "duration": 6,
    "start_time": "2022-06-26T13:10:23.759Z"
   },
   {
    "duration": 61,
    "start_time": "2022-06-26T13:10:23.767Z"
   },
   {
    "duration": 25,
    "start_time": "2022-06-26T13:10:23.830Z"
   },
   {
    "duration": 30,
    "start_time": "2022-06-26T13:10:23.857Z"
   },
   {
    "duration": 53,
    "start_time": "2022-06-26T13:10:23.889Z"
   },
   {
    "duration": 23,
    "start_time": "2022-06-26T13:10:23.948Z"
   },
   {
    "duration": 77,
    "start_time": "2022-06-26T13:10:23.973Z"
   },
   {
    "duration": 29,
    "start_time": "2022-06-26T13:10:39.801Z"
   },
   {
    "duration": 37,
    "start_time": "2022-06-26T13:10:41.677Z"
   },
   {
    "duration": 35,
    "start_time": "2022-06-26T13:11:02.329Z"
   },
   {
    "duration": 3,
    "start_time": "2022-06-26T13:11:02.366Z"
   },
   {
    "duration": 30,
    "start_time": "2022-06-26T13:11:02.370Z"
   },
   {
    "duration": 521,
    "start_time": "2022-06-26T13:11:02.402Z"
   },
   {
    "duration": 30,
    "start_time": "2022-06-26T13:11:02.925Z"
   },
   {
    "duration": 22,
    "start_time": "2022-06-26T13:11:02.956Z"
   },
   {
    "duration": 17,
    "start_time": "2022-06-26T13:11:02.980Z"
   },
   {
    "duration": 42,
    "start_time": "2022-06-26T13:11:02.999Z"
   },
   {
    "duration": 19,
    "start_time": "2022-06-26T13:11:03.043Z"
   },
   {
    "duration": 26,
    "start_time": "2022-06-26T13:11:03.064Z"
   },
   {
    "duration": 46,
    "start_time": "2022-06-26T13:11:03.091Z"
   },
   {
    "duration": 28,
    "start_time": "2022-06-26T13:11:03.139Z"
   },
   {
    "duration": 83,
    "start_time": "2022-06-26T13:11:03.169Z"
   },
   {
    "duration": 31,
    "start_time": "2022-06-26T13:11:05.940Z"
   },
   {
    "duration": 32,
    "start_time": "2022-06-26T13:14:35.861Z"
   },
   {
    "duration": 13,
    "start_time": "2022-06-26T13:14:57.890Z"
   },
   {
    "duration": 18,
    "start_time": "2022-06-26T13:15:14.104Z"
   },
   {
    "duration": 12,
    "start_time": "2022-06-26T13:16:28.485Z"
   },
   {
    "duration": 12,
    "start_time": "2022-06-26T13:16:33.196Z"
   },
   {
    "duration": 811,
    "start_time": "2022-06-26T13:16:39.254Z"
   },
   {
    "duration": 0,
    "start_time": "2022-06-26T13:16:40.067Z"
   },
   {
    "duration": 10,
    "start_time": "2022-06-26T13:16:48.078Z"
   },
   {
    "duration": 900,
    "start_time": "2022-06-26T13:16:53.694Z"
   },
   {
    "duration": 32,
    "start_time": "2022-06-26T13:18:24.068Z"
   },
   {
    "duration": 15,
    "start_time": "2022-06-26T13:18:31.666Z"
   },
   {
    "duration": 21,
    "start_time": "2022-06-26T13:19:35.573Z"
   },
   {
    "duration": 44,
    "start_time": "2022-06-26T13:19:47.132Z"
   },
   {
    "duration": 26,
    "start_time": "2022-06-26T13:33:09.889Z"
   },
   {
    "duration": 31,
    "start_time": "2022-06-26T13:45:26.547Z"
   },
   {
    "duration": 36,
    "start_time": "2022-06-26T13:46:22.705Z"
   },
   {
    "duration": 33,
    "start_time": "2022-06-26T14:03:05.981Z"
   },
   {
    "duration": 25,
    "start_time": "2022-06-26T14:41:10.084Z"
   },
   {
    "duration": 27,
    "start_time": "2022-06-26T14:41:36.622Z"
   },
   {
    "duration": 27,
    "start_time": "2022-06-26T14:42:12.620Z"
   },
   {
    "duration": 16,
    "start_time": "2022-06-26T14:44:37.391Z"
   },
   {
    "duration": 26,
    "start_time": "2022-06-26T14:51:43.221Z"
   },
   {
    "duration": 18,
    "start_time": "2022-06-26T14:51:53.993Z"
   },
   {
    "duration": 19,
    "start_time": "2022-06-26T14:52:08.190Z"
   },
   {
    "duration": 7,
    "start_time": "2022-06-26T14:53:09.769Z"
   },
   {
    "duration": 19,
    "start_time": "2022-06-26T14:53:29.898Z"
   },
   {
    "duration": 19,
    "start_time": "2022-06-26T15:12:19.131Z"
   },
   {
    "duration": 26,
    "start_time": "2022-06-26T15:13:16.813Z"
   },
   {
    "duration": 23,
    "start_time": "2022-06-26T15:14:18.748Z"
   },
   {
    "duration": 26,
    "start_time": "2022-06-26T15:19:58.797Z"
   },
   {
    "duration": 19,
    "start_time": "2022-06-26T15:20:07.063Z"
   },
   {
    "duration": 23,
    "start_time": "2022-06-26T15:20:39.313Z"
   },
   {
    "duration": 25,
    "start_time": "2022-06-26T19:20:31.806Z"
   },
   {
    "duration": 821,
    "start_time": "2022-06-26T19:20:43.846Z"
   },
   {
    "duration": 27,
    "start_time": "2022-06-26T19:20:48.836Z"
   },
   {
    "duration": 2,
    "start_time": "2022-06-26T19:20:48.865Z"
   },
   {
    "duration": 15,
    "start_time": "2022-06-26T19:20:48.868Z"
   },
   {
    "duration": 421,
    "start_time": "2022-06-26T19:20:48.885Z"
   },
   {
    "duration": 29,
    "start_time": "2022-06-26T19:20:49.308Z"
   },
   {
    "duration": 19,
    "start_time": "2022-06-26T19:20:49.338Z"
   },
   {
    "duration": 4,
    "start_time": "2022-06-26T19:20:49.359Z"
   },
   {
    "duration": 26,
    "start_time": "2022-06-26T19:20:49.364Z"
   },
   {
    "duration": 40,
    "start_time": "2022-06-26T19:20:49.391Z"
   },
   {
    "duration": 23,
    "start_time": "2022-06-26T19:20:49.433Z"
   },
   {
    "duration": 17,
    "start_time": "2022-06-26T19:20:49.457Z"
   },
   {
    "duration": 51,
    "start_time": "2022-06-26T19:20:49.476Z"
   },
   {
    "duration": 51,
    "start_time": "2022-06-26T19:20:49.529Z"
   },
   {
    "duration": 48,
    "start_time": "2022-06-26T19:20:57.917Z"
   },
   {
    "duration": 36,
    "start_time": "2022-06-26T19:21:02.117Z"
   },
   {
    "duration": 30,
    "start_time": "2022-06-26T19:21:08.083Z"
   },
   {
    "duration": 22,
    "start_time": "2022-06-26T19:21:15.104Z"
   },
   {
    "duration": 40,
    "start_time": "2022-06-26T19:21:20.608Z"
   },
   {
    "duration": 23,
    "start_time": "2022-06-26T19:21:26.827Z"
   },
   {
    "duration": 27,
    "start_time": "2022-06-26T19:21:55.844Z"
   },
   {
    "duration": 3,
    "start_time": "2022-06-26T19:21:55.872Z"
   },
   {
    "duration": 32,
    "start_time": "2022-06-26T19:21:55.876Z"
   },
   {
    "duration": 432,
    "start_time": "2022-06-26T19:21:55.910Z"
   },
   {
    "duration": 26,
    "start_time": "2022-06-26T19:21:56.344Z"
   },
   {
    "duration": 18,
    "start_time": "2022-06-26T19:21:56.371Z"
   },
   {
    "duration": 18,
    "start_time": "2022-06-26T19:21:56.391Z"
   },
   {
    "duration": 44,
    "start_time": "2022-06-26T19:21:56.411Z"
   },
   {
    "duration": 16,
    "start_time": "2022-06-26T19:21:56.456Z"
   },
   {
    "duration": 33,
    "start_time": "2022-06-26T19:21:56.474Z"
   },
   {
    "duration": 21,
    "start_time": "2022-06-26T19:21:56.508Z"
   },
   {
    "duration": 18,
    "start_time": "2022-06-26T19:21:56.531Z"
   },
   {
    "duration": 60,
    "start_time": "2022-06-26T19:21:56.551Z"
   },
   {
    "duration": 41,
    "start_time": "2022-06-26T19:21:56.612Z"
   },
   {
    "duration": 37,
    "start_time": "2022-06-26T19:21:56.655Z"
   },
   {
    "duration": 44,
    "start_time": "2022-06-26T19:21:56.693Z"
   },
   {
    "duration": 37,
    "start_time": "2022-06-26T19:21:56.739Z"
   },
   {
    "duration": 21,
    "start_time": "2022-06-26T19:21:56.778Z"
   },
   {
    "duration": 19,
    "start_time": "2022-06-26T19:21:59.233Z"
   },
   {
    "duration": 36,
    "start_time": "2022-06-26T19:25:48.617Z"
   },
   {
    "duration": 44,
    "start_time": "2022-06-26T19:26:55.738Z"
   },
   {
    "duration": 32,
    "start_time": "2022-06-26T19:27:02.889Z"
   },
   {
    "duration": 80,
    "start_time": "2022-06-26T19:57:16.121Z"
   },
   {
    "duration": 30,
    "start_time": "2022-06-26T19:57:19.703Z"
   },
   {
    "duration": 423,
    "start_time": "2022-06-26T19:57:19.737Z"
   },
   {
    "duration": 3,
    "start_time": "2022-06-26T19:57:20.162Z"
   },
   {
    "duration": 962,
    "start_time": "2022-06-26T19:57:20.167Z"
   },
   {
    "duration": 48,
    "start_time": "2022-06-26T19:57:21.131Z"
   },
   {
    "duration": 23,
    "start_time": "2022-06-26T19:57:21.181Z"
   },
   {
    "duration": 23,
    "start_time": "2022-06-26T19:57:21.206Z"
   },
   {
    "duration": 36,
    "start_time": "2022-06-26T19:57:21.230Z"
   },
   {
    "duration": 17,
    "start_time": "2022-06-26T19:57:21.268Z"
   },
   {
    "duration": 41,
    "start_time": "2022-06-26T19:57:21.288Z"
   },
   {
    "duration": 16,
    "start_time": "2022-06-26T19:57:21.331Z"
   },
   {
    "duration": 33,
    "start_time": "2022-06-26T19:57:21.350Z"
   },
   {
    "duration": 76,
    "start_time": "2022-06-26T19:57:21.385Z"
   },
   {
    "duration": 51,
    "start_time": "2022-06-26T19:57:21.463Z"
   },
   {
    "duration": 48,
    "start_time": "2022-06-26T19:57:21.516Z"
   },
   {
    "duration": 31,
    "start_time": "2022-06-26T19:57:21.566Z"
   },
   {
    "duration": 68,
    "start_time": "2022-06-26T19:57:21.599Z"
   },
   {
    "duration": 29,
    "start_time": "2022-06-26T19:57:21.668Z"
   },
   {
    "duration": 20,
    "start_time": "2022-06-26T19:57:23.414Z"
   },
   {
    "duration": 21,
    "start_time": "2022-06-26T19:57:32.172Z"
   },
   {
    "duration": 27,
    "start_time": "2022-06-26T19:58:36.224Z"
   },
   {
    "duration": 3,
    "start_time": "2022-06-26T19:58:36.254Z"
   },
   {
    "duration": 12,
    "start_time": "2022-06-26T19:58:36.259Z"
   },
   {
    "duration": 476,
    "start_time": "2022-06-26T19:58:36.273Z"
   },
   {
    "duration": 28,
    "start_time": "2022-06-26T19:58:36.750Z"
   },
   {
    "duration": 26,
    "start_time": "2022-06-26T19:58:36.780Z"
   },
   {
    "duration": 21,
    "start_time": "2022-06-26T19:58:36.807Z"
   },
   {
    "duration": 25,
    "start_time": "2022-06-26T19:58:36.829Z"
   },
   {
    "duration": 15,
    "start_time": "2022-06-26T19:58:36.856Z"
   },
   {
    "duration": 53,
    "start_time": "2022-06-26T19:58:36.874Z"
   },
   {
    "duration": 15,
    "start_time": "2022-06-26T19:58:36.928Z"
   },
   {
    "duration": 22,
    "start_time": "2022-06-26T19:58:36.945Z"
   },
   {
    "duration": 70,
    "start_time": "2022-06-26T19:58:36.968Z"
   },
   {
    "duration": 35,
    "start_time": "2022-06-26T19:58:37.039Z"
   },
   {
    "duration": 54,
    "start_time": "2022-06-26T19:58:37.076Z"
   },
   {
    "duration": 29,
    "start_time": "2022-06-26T19:58:37.132Z"
   },
   {
    "duration": 35,
    "start_time": "2022-06-26T19:58:37.163Z"
   },
   {
    "duration": 47,
    "start_time": "2022-06-26T19:58:37.200Z"
   },
   {
    "duration": 24,
    "start_time": "2022-06-26T19:58:39.874Z"
   },
   {
    "duration": 22,
    "start_time": "2022-06-26T19:59:10.709Z"
   },
   {
    "duration": 22,
    "start_time": "2022-06-26T19:59:17.197Z"
   },
   {
    "duration": 21,
    "start_time": "2022-06-26T19:59:41.294Z"
   },
   {
    "duration": 31,
    "start_time": "2022-06-26T20:01:11.417Z"
   },
   {
    "duration": 28,
    "start_time": "2022-06-26T20:01:32.400Z"
   },
   {
    "duration": 42,
    "start_time": "2022-06-26T20:06:42.578Z"
   },
   {
    "duration": 8,
    "start_time": "2022-06-26T20:08:53.605Z"
   },
   {
    "duration": 11,
    "start_time": "2022-06-26T20:09:03.467Z"
   },
   {
    "duration": 29,
    "start_time": "2022-06-26T20:09:10.061Z"
   },
   {
    "duration": 50,
    "start_time": "2022-06-26T20:09:17.774Z"
   },
   {
    "duration": 4,
    "start_time": "2022-06-26T20:09:17.826Z"
   },
   {
    "duration": 139,
    "start_time": "2022-06-26T20:09:17.832Z"
   },
   {
    "duration": 751,
    "start_time": "2022-06-26T20:09:17.975Z"
   },
   {
    "duration": 52,
    "start_time": "2022-06-26T20:09:18.741Z"
   },
   {
    "duration": 52,
    "start_time": "2022-06-26T20:09:18.799Z"
   },
   {
    "duration": 14,
    "start_time": "2022-06-26T20:09:18.857Z"
   },
   {
    "duration": 109,
    "start_time": "2022-06-26T20:09:18.878Z"
   },
   {
    "duration": 43,
    "start_time": "2022-06-26T20:09:18.994Z"
   },
   {
    "duration": 48,
    "start_time": "2022-06-26T20:09:19.046Z"
   },
   {
    "duration": 35,
    "start_time": "2022-06-26T20:09:19.103Z"
   },
   {
    "duration": 54,
    "start_time": "2022-06-26T20:09:19.143Z"
   },
   {
    "duration": 46,
    "start_time": "2022-06-26T20:09:19.199Z"
   },
   {
    "duration": 117,
    "start_time": "2022-06-26T20:09:19.247Z"
   },
   {
    "duration": 65,
    "start_time": "2022-06-26T20:09:19.366Z"
   },
   {
    "duration": 52,
    "start_time": "2022-06-26T20:09:19.435Z"
   },
   {
    "duration": 67,
    "start_time": "2022-06-26T20:09:19.490Z"
   },
   {
    "duration": 132,
    "start_time": "2022-06-26T20:09:19.559Z"
   },
   {
    "duration": 59,
    "start_time": "2022-06-26T20:09:19.693Z"
   },
   {
    "duration": 71,
    "start_time": "2022-06-26T20:09:19.759Z"
   },
   {
    "duration": 28,
    "start_time": "2022-06-26T20:09:22.716Z"
   },
   {
    "duration": 0,
    "start_time": "2022-06-26T20:16:53.969Z"
   },
   {
    "duration": 0,
    "start_time": "2022-06-26T20:16:53.970Z"
   },
   {
    "duration": 0,
    "start_time": "2022-06-26T20:16:53.972Z"
   },
   {
    "duration": 0,
    "start_time": "2022-06-26T20:16:53.974Z"
   },
   {
    "duration": 0,
    "start_time": "2022-06-26T20:16:53.975Z"
   },
   {
    "duration": 0,
    "start_time": "2022-06-26T20:16:53.977Z"
   },
   {
    "duration": 0,
    "start_time": "2022-06-26T20:16:53.978Z"
   },
   {
    "duration": 0,
    "start_time": "2022-06-26T20:16:53.980Z"
   },
   {
    "duration": 0,
    "start_time": "2022-06-26T20:16:53.982Z"
   },
   {
    "duration": 0,
    "start_time": "2022-06-26T20:16:53.983Z"
   },
   {
    "duration": 0,
    "start_time": "2022-06-26T20:16:53.985Z"
   },
   {
    "duration": 0,
    "start_time": "2022-06-26T20:16:53.987Z"
   },
   {
    "duration": 0,
    "start_time": "2022-06-26T20:16:53.989Z"
   },
   {
    "duration": 0,
    "start_time": "2022-06-26T20:16:53.990Z"
   },
   {
    "duration": 0,
    "start_time": "2022-06-26T20:16:53.992Z"
   },
   {
    "duration": 0,
    "start_time": "2022-06-26T20:16:53.994Z"
   },
   {
    "duration": 0,
    "start_time": "2022-06-26T20:16:53.996Z"
   },
   {
    "duration": 0,
    "start_time": "2022-06-26T20:16:53.997Z"
   },
   {
    "duration": 0,
    "start_time": "2022-06-26T20:16:53.999Z"
   },
   {
    "duration": 0,
    "start_time": "2022-06-26T20:16:54.001Z"
   },
   {
    "duration": 0,
    "start_time": "2022-06-26T20:16:54.028Z"
   },
   {
    "duration": 15,
    "start_time": "2022-06-26T20:17:07.719Z"
   },
   {
    "duration": 25,
    "start_time": "2022-06-26T20:17:59.590Z"
   },
   {
    "duration": 2,
    "start_time": "2022-06-26T20:17:59.618Z"
   },
   {
    "duration": 8,
    "start_time": "2022-06-26T20:17:59.622Z"
   },
   {
    "duration": 659,
    "start_time": "2022-06-26T20:17:59.633Z"
   },
   {
    "duration": 43,
    "start_time": "2022-06-26T20:18:00.294Z"
   },
   {
    "duration": 29,
    "start_time": "2022-06-26T20:18:00.339Z"
   },
   {
    "duration": 15,
    "start_time": "2022-06-26T20:18:00.370Z"
   },
   {
    "duration": 49,
    "start_time": "2022-06-26T20:18:00.387Z"
   },
   {
    "duration": 40,
    "start_time": "2022-06-26T20:18:00.438Z"
   },
   {
    "duration": 34,
    "start_time": "2022-06-26T20:18:00.481Z"
   },
   {
    "duration": 21,
    "start_time": "2022-06-26T20:18:00.517Z"
   },
   {
    "duration": 57,
    "start_time": "2022-06-26T20:18:00.539Z"
   },
   {
    "duration": 97,
    "start_time": "2022-06-26T20:18:00.599Z"
   },
   {
    "duration": 93,
    "start_time": "2022-06-26T20:18:00.698Z"
   },
   {
    "duration": 50,
    "start_time": "2022-06-26T20:18:00.793Z"
   },
   {
    "duration": 43,
    "start_time": "2022-06-26T20:18:00.845Z"
   },
   {
    "duration": 53,
    "start_time": "2022-06-26T20:18:00.891Z"
   },
   {
    "duration": 58,
    "start_time": "2022-06-26T20:18:00.946Z"
   },
   {
    "duration": 40,
    "start_time": "2022-06-26T20:18:01.006Z"
   },
   {
    "duration": 56,
    "start_time": "2022-06-26T20:18:01.047Z"
   },
   {
    "duration": 32,
    "start_time": "2022-06-26T20:18:01.105Z"
   },
   {
    "duration": 16,
    "start_time": "2022-06-26T20:19:34.369Z"
   },
   {
    "duration": 22,
    "start_time": "2022-06-26T20:20:17.108Z"
   },
   {
    "duration": 54,
    "start_time": "2022-06-27T03:41:48.794Z"
   },
   {
    "duration": 6,
    "start_time": "2022-06-27T03:42:22.022Z"
   },
   {
    "duration": 49,
    "start_time": "2022-06-27T03:42:26.988Z"
   },
   {
    "duration": 401,
    "start_time": "2022-06-27T03:42:27.039Z"
   },
   {
    "duration": 3,
    "start_time": "2022-06-27T03:42:27.441Z"
   },
   {
    "duration": 1486,
    "start_time": "2022-06-27T03:42:27.446Z"
   },
   {
    "duration": 50,
    "start_time": "2022-06-27T03:42:28.934Z"
   },
   {
    "duration": 26,
    "start_time": "2022-06-27T03:42:28.986Z"
   },
   {
    "duration": 7,
    "start_time": "2022-06-27T03:42:29.024Z"
   },
   {
    "duration": 33,
    "start_time": "2022-06-27T03:42:29.033Z"
   },
   {
    "duration": 16,
    "start_time": "2022-06-27T03:42:29.068Z"
   },
   {
    "duration": 52,
    "start_time": "2022-06-27T03:42:29.087Z"
   },
   {
    "duration": 15,
    "start_time": "2022-06-27T03:42:29.141Z"
   },
   {
    "duration": 15,
    "start_time": "2022-06-27T03:42:29.158Z"
   },
   {
    "duration": 21,
    "start_time": "2022-06-27T03:42:29.175Z"
   },
   {
    "duration": 69,
    "start_time": "2022-06-27T03:42:29.198Z"
   },
   {
    "duration": 32,
    "start_time": "2022-06-27T03:42:29.268Z"
   },
   {
    "duration": 49,
    "start_time": "2022-06-27T03:42:29.301Z"
   },
   {
    "duration": 20,
    "start_time": "2022-06-27T03:42:29.351Z"
   },
   {
    "duration": 55,
    "start_time": "2022-06-27T03:42:29.373Z"
   },
   {
    "duration": 37,
    "start_time": "2022-06-27T03:42:29.431Z"
   },
   {
    "duration": 34,
    "start_time": "2022-06-27T03:42:29.470Z"
   },
   {
    "duration": 19,
    "start_time": "2022-06-27T03:42:31.903Z"
   },
   {
    "duration": 32,
    "start_time": "2022-06-27T03:43:14.197Z"
   },
   {
    "duration": 54,
    "start_time": "2022-06-27T03:43:24.843Z"
   },
   {
    "duration": 3,
    "start_time": "2022-06-27T03:43:24.898Z"
   },
   {
    "duration": 5,
    "start_time": "2022-06-27T03:43:24.903Z"
   },
   {
    "duration": 440,
    "start_time": "2022-06-27T03:43:24.910Z"
   },
   {
    "duration": 28,
    "start_time": "2022-06-27T03:43:25.352Z"
   },
   {
    "duration": 19,
    "start_time": "2022-06-27T03:43:25.381Z"
   },
   {
    "duration": 4,
    "start_time": "2022-06-27T03:43:25.401Z"
   },
   {
    "duration": 37,
    "start_time": "2022-06-27T03:43:25.406Z"
   },
   {
    "duration": 14,
    "start_time": "2022-06-27T03:43:25.445Z"
   },
   {
    "duration": 19,
    "start_time": "2022-06-27T03:43:25.461Z"
   },
   {
    "duration": 15,
    "start_time": "2022-06-27T03:43:25.481Z"
   },
   {
    "duration": 8,
    "start_time": "2022-06-27T03:43:25.526Z"
   },
   {
    "duration": 21,
    "start_time": "2022-06-27T03:43:25.535Z"
   },
   {
    "duration": 38,
    "start_time": "2022-06-27T03:43:25.559Z"
   },
   {
    "duration": 54,
    "start_time": "2022-06-27T03:43:25.598Z"
   },
   {
    "duration": 27,
    "start_time": "2022-06-27T03:43:25.654Z"
   },
   {
    "duration": 18,
    "start_time": "2022-06-27T03:43:25.683Z"
   },
   {
    "duration": 54,
    "start_time": "2022-06-27T03:43:25.703Z"
   },
   {
    "duration": 22,
    "start_time": "2022-06-27T03:43:25.758Z"
   },
   {
    "duration": 53,
    "start_time": "2022-06-27T03:43:25.782Z"
   },
   {
    "duration": 17,
    "start_time": "2022-06-27T03:43:25.837Z"
   },
   {
    "duration": 11,
    "start_time": "2022-06-27T03:43:28.361Z"
   },
   {
    "duration": 24,
    "start_time": "2022-06-27T03:44:47.439Z"
   },
   {
    "duration": 32,
    "start_time": "2022-06-27T03:44:59.854Z"
   },
   {
    "duration": 16,
    "start_time": "2022-06-27T03:45:19.897Z"
   },
   {
    "duration": 8,
    "start_time": "2022-06-27T03:46:55.958Z"
   },
   {
    "duration": 11,
    "start_time": "2022-06-27T03:47:33.033Z"
   },
   {
    "duration": 3,
    "start_time": "2022-06-27T03:47:47.928Z"
   },
   {
    "duration": 42,
    "start_time": "2022-06-27T03:47:57.277Z"
   },
   {
    "duration": 3,
    "start_time": "2022-06-27T03:47:57.322Z"
   },
   {
    "duration": 5,
    "start_time": "2022-06-27T03:47:57.327Z"
   },
   {
    "duration": 538,
    "start_time": "2022-06-27T03:47:57.334Z"
   },
   {
    "duration": 46,
    "start_time": "2022-06-27T03:47:57.874Z"
   },
   {
    "duration": 30,
    "start_time": "2022-06-27T03:47:57.922Z"
   },
   {
    "duration": 5,
    "start_time": "2022-06-27T03:47:57.954Z"
   },
   {
    "duration": 39,
    "start_time": "2022-06-27T03:47:57.962Z"
   },
   {
    "duration": 24,
    "start_time": "2022-06-27T03:47:58.027Z"
   },
   {
    "duration": 34,
    "start_time": "2022-06-27T03:47:58.054Z"
   },
   {
    "duration": 40,
    "start_time": "2022-06-27T03:47:58.089Z"
   },
   {
    "duration": 6,
    "start_time": "2022-06-27T03:47:58.131Z"
   },
   {
    "duration": 42,
    "start_time": "2022-06-27T03:48:00.664Z"
   },
   {
    "duration": 3,
    "start_time": "2022-06-27T03:48:00.709Z"
   },
   {
    "duration": 12,
    "start_time": "2022-06-27T03:48:00.714Z"
   },
   {
    "duration": 619,
    "start_time": "2022-06-27T03:48:00.729Z"
   },
   {
    "duration": 39,
    "start_time": "2022-06-27T03:48:01.350Z"
   },
   {
    "duration": 26,
    "start_time": "2022-06-27T03:48:01.390Z"
   },
   {
    "duration": 7,
    "start_time": "2022-06-27T03:48:01.426Z"
   },
   {
    "duration": 46,
    "start_time": "2022-06-27T03:48:01.435Z"
   },
   {
    "duration": 18,
    "start_time": "2022-06-27T03:48:01.484Z"
   },
   {
    "duration": 53,
    "start_time": "2022-06-27T03:48:01.505Z"
   },
   {
    "duration": 22,
    "start_time": "2022-06-27T03:48:01.559Z"
   },
   {
    "duration": 12,
    "start_time": "2022-06-27T03:48:01.583Z"
   },
   {
    "duration": 35,
    "start_time": "2022-06-27T03:48:01.597Z"
   },
   {
    "duration": 65,
    "start_time": "2022-06-27T03:48:01.634Z"
   },
   {
    "duration": 40,
    "start_time": "2022-06-27T03:48:01.701Z"
   },
   {
    "duration": 38,
    "start_time": "2022-06-27T03:48:01.744Z"
   },
   {
    "duration": 45,
    "start_time": "2022-06-27T03:48:01.783Z"
   },
   {
    "duration": 47,
    "start_time": "2022-06-27T03:48:01.830Z"
   },
   {
    "duration": 29,
    "start_time": "2022-06-27T03:48:01.878Z"
   },
   {
    "duration": 27,
    "start_time": "2022-06-27T03:48:01.927Z"
   },
   {
    "duration": 18,
    "start_time": "2022-06-27T03:48:01.956Z"
   },
   {
    "duration": 13,
    "start_time": "2022-06-27T03:48:01.976Z"
   },
   {
    "duration": 61,
    "start_time": "2022-06-27T03:48:01.991Z"
   },
   {
    "duration": 17,
    "start_time": "2022-06-27T03:50:30.170Z"
   },
   {
    "duration": 20,
    "start_time": "2022-06-27T04:25:21.964Z"
   },
   {
    "duration": 16,
    "start_time": "2022-06-27T04:25:36.590Z"
   },
   {
    "duration": 45,
    "start_time": "2022-06-29T18:46:25.278Z"
   },
   {
    "duration": 64,
    "start_time": "2022-06-29T18:46:30.746Z"
   },
   {
    "duration": 396,
    "start_time": "2022-06-29T18:46:30.812Z"
   },
   {
    "duration": 2,
    "start_time": "2022-06-29T18:46:31.210Z"
   },
   {
    "duration": 1287,
    "start_time": "2022-06-29T18:46:31.214Z"
   },
   {
    "duration": 30,
    "start_time": "2022-06-29T18:46:32.502Z"
   },
   {
    "duration": 17,
    "start_time": "2022-06-29T18:46:32.533Z"
   },
   {
    "duration": 4,
    "start_time": "2022-06-29T18:46:32.552Z"
   },
   {
    "duration": 28,
    "start_time": "2022-06-29T18:46:32.557Z"
   },
   {
    "duration": 19,
    "start_time": "2022-06-29T18:46:39.693Z"
   },
   {
    "duration": 78,
    "start_time": "2022-06-29T18:46:45.632Z"
   },
   {
    "duration": 3,
    "start_time": "2022-06-29T18:46:45.712Z"
   },
   {
    "duration": 7,
    "start_time": "2022-06-29T18:46:45.716Z"
   },
   {
    "duration": 453,
    "start_time": "2022-06-29T18:46:45.725Z"
   },
   {
    "duration": 36,
    "start_time": "2022-06-29T18:46:46.180Z"
   },
   {
    "duration": 17,
    "start_time": "2022-06-29T18:46:46.217Z"
   },
   {
    "duration": 6,
    "start_time": "2022-06-29T18:46:46.235Z"
   },
   {
    "duration": 42,
    "start_time": "2022-06-29T18:46:46.243Z"
   },
   {
    "duration": 18,
    "start_time": "2022-06-29T18:46:46.286Z"
   },
   {
    "duration": 28,
    "start_time": "2022-06-29T18:46:46.306Z"
   },
   {
    "duration": 13,
    "start_time": "2022-06-29T18:46:46.335Z"
   },
   {
    "duration": 24,
    "start_time": "2022-06-29T18:46:46.350Z"
   },
   {
    "duration": 27,
    "start_time": "2022-06-29T18:46:46.375Z"
   },
   {
    "duration": 60,
    "start_time": "2022-06-29T18:46:46.404Z"
   },
   {
    "duration": 26,
    "start_time": "2022-06-29T18:46:46.465Z"
   },
   {
    "duration": 43,
    "start_time": "2022-06-29T18:46:46.492Z"
   },
   {
    "duration": 17,
    "start_time": "2022-06-29T18:46:46.536Z"
   },
   {
    "duration": 34,
    "start_time": "2022-06-29T18:46:46.555Z"
   },
   {
    "duration": 16,
    "start_time": "2022-06-29T18:46:46.590Z"
   },
   {
    "duration": 19,
    "start_time": "2022-06-29T18:46:46.629Z"
   },
   {
    "duration": 21,
    "start_time": "2022-06-29T18:46:46.650Z"
   },
   {
    "duration": 18,
    "start_time": "2022-06-29T18:46:46.673Z"
   },
   {
    "duration": 11,
    "start_time": "2022-06-29T18:46:46.692Z"
   },
   {
    "duration": 32,
    "start_time": "2022-06-29T18:46:46.704Z"
   },
   {
    "duration": 101,
    "start_time": "2022-06-29T18:46:46.737Z"
   },
   {
    "duration": 6,
    "start_time": "2022-06-29T18:48:05.286Z"
   },
   {
    "duration": 42,
    "start_time": "2022-06-29T18:48:10.683Z"
   },
   {
    "duration": 3,
    "start_time": "2022-06-29T18:48:10.727Z"
   },
   {
    "duration": 5,
    "start_time": "2022-06-29T18:48:10.731Z"
   },
   {
    "duration": 435,
    "start_time": "2022-06-29T18:48:10.737Z"
   },
   {
    "duration": 33,
    "start_time": "2022-06-29T18:48:11.174Z"
   },
   {
    "duration": 18,
    "start_time": "2022-06-29T18:48:11.209Z"
   },
   {
    "duration": 4,
    "start_time": "2022-06-29T18:48:11.229Z"
   },
   {
    "duration": 29,
    "start_time": "2022-06-29T18:48:11.234Z"
   },
   {
    "duration": 15,
    "start_time": "2022-06-29T18:48:11.265Z"
   },
   {
    "duration": 20,
    "start_time": "2022-06-29T18:48:11.282Z"
   },
   {
    "duration": 36,
    "start_time": "2022-06-29T18:48:11.304Z"
   },
   {
    "duration": 4,
    "start_time": "2022-06-29T18:48:11.341Z"
   },
   {
    "duration": 18,
    "start_time": "2022-06-29T18:48:11.347Z"
   },
   {
    "duration": 40,
    "start_time": "2022-06-29T18:48:11.367Z"
   },
   {
    "duration": 31,
    "start_time": "2022-06-29T18:48:11.429Z"
   },
   {
    "duration": 30,
    "start_time": "2022-06-29T18:48:11.462Z"
   },
   {
    "duration": 44,
    "start_time": "2022-06-29T18:48:11.493Z"
   },
   {
    "duration": 34,
    "start_time": "2022-06-29T18:48:11.539Z"
   },
   {
    "duration": 22,
    "start_time": "2022-06-29T18:48:11.575Z"
   },
   {
    "duration": 41,
    "start_time": "2022-06-29T18:48:11.598Z"
   },
   {
    "duration": 18,
    "start_time": "2022-06-29T18:48:11.641Z"
   },
   {
    "duration": 22,
    "start_time": "2022-06-29T18:48:11.660Z"
   },
   {
    "duration": 12,
    "start_time": "2022-06-29T18:48:11.684Z"
   },
   {
    "duration": 39,
    "start_time": "2022-06-29T18:48:11.697Z"
   },
   {
    "duration": 87,
    "start_time": "2022-06-29T18:48:11.737Z"
   },
   {
    "duration": 79,
    "start_time": "2022-06-29T18:50:37.481Z"
   },
   {
    "duration": 80,
    "start_time": "2022-06-29T18:50:59.750Z"
   },
   {
    "duration": 97,
    "start_time": "2022-06-29T18:51:12.191Z"
   },
   {
    "duration": 4,
    "start_time": "2022-06-29T18:51:18.338Z"
   },
   {
    "duration": 32,
    "start_time": "2022-06-29T18:52:17.803Z"
   },
   {
    "duration": 4,
    "start_time": "2022-06-29T18:53:37.025Z"
   },
   {
    "duration": 12,
    "start_time": "2022-06-29T18:53:39.509Z"
   },
   {
    "duration": 4,
    "start_time": "2022-06-29T18:54:55.704Z"
   },
   {
    "duration": 1059,
    "start_time": "2022-06-29T18:54:57.753Z"
   },
   {
    "duration": 3,
    "start_time": "2022-06-29T18:57:46.328Z"
   },
   {
    "duration": 1013,
    "start_time": "2022-06-29T18:57:47.005Z"
   },
   {
    "duration": 4,
    "start_time": "2022-06-29T18:58:48.412Z"
   },
   {
    "duration": 1056,
    "start_time": "2022-06-29T18:58:50.082Z"
   },
   {
    "duration": 50,
    "start_time": "2022-06-29T18:59:04.626Z"
   },
   {
    "duration": 2,
    "start_time": "2022-06-29T18:59:04.679Z"
   },
   {
    "duration": 4,
    "start_time": "2022-06-29T18:59:04.683Z"
   },
   {
    "duration": 455,
    "start_time": "2022-06-29T18:59:04.689Z"
   },
   {
    "duration": 28,
    "start_time": "2022-06-29T18:59:05.145Z"
   },
   {
    "duration": 19,
    "start_time": "2022-06-29T18:59:05.174Z"
   },
   {
    "duration": 4,
    "start_time": "2022-06-29T18:59:05.195Z"
   },
   {
    "duration": 35,
    "start_time": "2022-06-29T18:59:05.200Z"
   },
   {
    "duration": 16,
    "start_time": "2022-06-29T18:59:05.236Z"
   },
   {
    "duration": 21,
    "start_time": "2022-06-29T18:59:05.254Z"
   },
   {
    "duration": 16,
    "start_time": "2022-06-29T18:59:05.276Z"
   },
   {
    "duration": 36,
    "start_time": "2022-06-29T18:59:05.294Z"
   },
   {
    "duration": 28,
    "start_time": "2022-06-29T18:59:05.331Z"
   },
   {
    "duration": 44,
    "start_time": "2022-06-29T18:59:05.360Z"
   },
   {
    "duration": 43,
    "start_time": "2022-06-29T18:59:05.406Z"
   },
   {
    "duration": 29,
    "start_time": "2022-06-29T18:59:05.450Z"
   },
   {
    "duration": 20,
    "start_time": "2022-06-29T18:59:05.480Z"
   },
   {
    "duration": 52,
    "start_time": "2022-06-29T18:59:05.501Z"
   },
   {
    "duration": 20,
    "start_time": "2022-06-29T18:59:05.555Z"
   },
   {
    "duration": 18,
    "start_time": "2022-06-29T18:59:05.576Z"
   },
   {
    "duration": 39,
    "start_time": "2022-06-29T18:59:05.596Z"
   },
   {
    "duration": 23,
    "start_time": "2022-06-29T18:59:05.637Z"
   },
   {
    "duration": 13,
    "start_time": "2022-06-29T18:59:05.661Z"
   },
   {
    "duration": 12,
    "start_time": "2022-06-29T18:59:05.675Z"
   },
   {
    "duration": 4,
    "start_time": "2022-06-29T18:59:09.113Z"
   },
   {
    "duration": 914,
    "start_time": "2022-06-29T18:59:10.051Z"
   },
   {
    "duration": 135,
    "start_time": "2022-06-29T18:59:33.779Z"
   },
   {
    "duration": 9,
    "start_time": "2022-06-29T19:09:30.540Z"
   },
   {
    "duration": 4,
    "start_time": "2022-06-29T19:13:10.406Z"
   },
   {
    "duration": 104,
    "start_time": "2022-06-29T19:13:12.230Z"
   },
   {
    "duration": 108,
    "start_time": "2022-06-29T19:13:25.635Z"
   },
   {
    "duration": 12,
    "start_time": "2022-06-29T19:22:58.547Z"
   },
   {
    "duration": 13,
    "start_time": "2022-06-29T19:23:09.981Z"
   },
   {
    "duration": 14,
    "start_time": "2022-06-29T19:23:13.971Z"
   },
   {
    "duration": 81,
    "start_time": "2022-06-29T19:24:23.436Z"
   },
   {
    "duration": 19,
    "start_time": "2022-06-29T19:24:36.828Z"
   },
   {
    "duration": 17,
    "start_time": "2022-06-29T19:25:24.423Z"
   },
   {
    "duration": 67,
    "start_time": "2022-06-29T19:25:55.149Z"
   },
   {
    "duration": 3,
    "start_time": "2022-06-29T19:25:55.218Z"
   },
   {
    "duration": 5,
    "start_time": "2022-06-29T19:25:55.222Z"
   },
   {
    "duration": 422,
    "start_time": "2022-06-29T19:25:55.229Z"
   },
   {
    "duration": 26,
    "start_time": "2022-06-29T19:25:55.653Z"
   },
   {
    "duration": 17,
    "start_time": "2022-06-29T19:25:55.680Z"
   },
   {
    "duration": 4,
    "start_time": "2022-06-29T19:25:55.699Z"
   },
   {
    "duration": 36,
    "start_time": "2022-06-29T19:25:55.704Z"
   },
   {
    "duration": 15,
    "start_time": "2022-06-29T19:25:55.741Z"
   },
   {
    "duration": 18,
    "start_time": "2022-06-29T19:25:55.758Z"
   },
   {
    "duration": 13,
    "start_time": "2022-06-29T19:25:55.777Z"
   },
   {
    "duration": 4,
    "start_time": "2022-06-29T19:25:55.792Z"
   },
   {
    "duration": 46,
    "start_time": "2022-06-29T19:25:55.797Z"
   },
   {
    "duration": 43,
    "start_time": "2022-06-29T19:25:55.844Z"
   },
   {
    "duration": 42,
    "start_time": "2022-06-29T19:25:55.888Z"
   },
   {
    "duration": 28,
    "start_time": "2022-06-29T19:25:55.931Z"
   },
   {
    "duration": 18,
    "start_time": "2022-06-29T19:25:55.961Z"
   },
   {
    "duration": 56,
    "start_time": "2022-06-29T19:25:55.981Z"
   },
   {
    "duration": 25,
    "start_time": "2022-06-29T19:25:56.039Z"
   },
   {
    "duration": 29,
    "start_time": "2022-06-29T19:25:56.066Z"
   },
   {
    "duration": 39,
    "start_time": "2022-06-29T19:25:56.097Z"
   },
   {
    "duration": 29,
    "start_time": "2022-06-29T19:25:56.138Z"
   },
   {
    "duration": 14,
    "start_time": "2022-06-29T19:25:56.169Z"
   },
   {
    "duration": 15,
    "start_time": "2022-06-29T19:25:56.185Z"
   },
   {
    "duration": 28,
    "start_time": "2022-06-29T19:25:56.202Z"
   },
   {
    "duration": 119,
    "start_time": "2022-06-29T19:25:56.231Z"
   },
   {
    "duration": 20,
    "start_time": "2022-06-29T19:26:00.870Z"
   },
   {
    "duration": 24,
    "start_time": "2022-06-29T19:26:18.424Z"
   },
   {
    "duration": 16,
    "start_time": "2022-06-29T19:26:34.492Z"
   },
   {
    "duration": 15,
    "start_time": "2022-06-29T19:26:42.820Z"
   },
   {
    "duration": 14,
    "start_time": "2022-06-29T19:26:49.551Z"
   },
   {
    "duration": 20,
    "start_time": "2022-06-29T19:52:26.209Z"
   },
   {
    "duration": 15,
    "start_time": "2022-06-29T19:53:27.179Z"
   },
   {
    "duration": 21,
    "start_time": "2022-06-29T19:54:09.939Z"
   },
   {
    "duration": 21,
    "start_time": "2022-06-29T19:54:35.308Z"
   },
   {
    "duration": 31,
    "start_time": "2022-06-29T19:57:35.837Z"
   },
   {
    "duration": 34,
    "start_time": "2022-06-29T19:57:53.819Z"
   },
   {
    "duration": 32,
    "start_time": "2022-06-29T19:57:59.566Z"
   },
   {
    "duration": 900,
    "start_time": "2022-06-29T20:00:26.820Z"
   },
   {
    "duration": 46,
    "start_time": "2022-06-29T20:00:29.220Z"
   },
   {
    "duration": 2,
    "start_time": "2022-06-29T20:00:29.268Z"
   },
   {
    "duration": 9,
    "start_time": "2022-06-29T20:00:29.272Z"
   },
   {
    "duration": 439,
    "start_time": "2022-06-29T20:00:29.283Z"
   },
   {
    "duration": 27,
    "start_time": "2022-06-29T20:00:29.724Z"
   },
   {
    "duration": 18,
    "start_time": "2022-06-29T20:00:29.753Z"
   },
   {
    "duration": 4,
    "start_time": "2022-06-29T20:00:29.772Z"
   },
   {
    "duration": 25,
    "start_time": "2022-06-29T20:00:29.777Z"
   },
   {
    "duration": 15,
    "start_time": "2022-06-29T20:00:29.829Z"
   },
   {
    "duration": 19,
    "start_time": "2022-06-29T20:00:29.847Z"
   },
   {
    "duration": 14,
    "start_time": "2022-06-29T20:00:29.868Z"
   },
   {
    "duration": 6,
    "start_time": "2022-06-29T20:00:29.883Z"
   },
   {
    "duration": 53,
    "start_time": "2022-06-29T20:00:29.891Z"
   },
   {
    "duration": 40,
    "start_time": "2022-06-29T20:00:29.946Z"
   },
   {
    "duration": 53,
    "start_time": "2022-06-29T20:00:29.988Z"
   },
   {
    "duration": 28,
    "start_time": "2022-06-29T20:00:30.042Z"
   },
   {
    "duration": 20,
    "start_time": "2022-06-29T20:00:30.071Z"
   },
   {
    "duration": 60,
    "start_time": "2022-06-29T20:00:30.092Z"
   },
   {
    "duration": 23,
    "start_time": "2022-06-29T20:00:30.154Z"
   },
   {
    "duration": 20,
    "start_time": "2022-06-29T20:00:30.178Z"
   },
   {
    "duration": 45,
    "start_time": "2022-06-29T20:00:30.200Z"
   },
   {
    "duration": 25,
    "start_time": "2022-06-29T20:00:30.246Z"
   },
   {
    "duration": 12,
    "start_time": "2022-06-29T20:00:30.273Z"
   },
   {
    "duration": 45,
    "start_time": "2022-06-29T20:00:30.287Z"
   },
   {
    "duration": 5,
    "start_time": "2022-06-29T20:00:30.334Z"
   },
   {
    "duration": 129,
    "start_time": "2022-06-29T20:00:30.340Z"
   },
   {
    "duration": 15,
    "start_time": "2022-06-29T20:00:30.471Z"
   },
   {
    "duration": 54,
    "start_time": "2022-06-29T20:00:30.489Z"
   },
   {
    "duration": 40,
    "start_time": "2022-06-29T20:00:30.545Z"
   },
   {
    "duration": 0,
    "start_time": "2022-06-29T20:00:30.587Z"
   },
   {
    "duration": 0,
    "start_time": "2022-06-29T20:00:30.588Z"
   },
   {
    "duration": 0,
    "start_time": "2022-06-29T20:00:30.589Z"
   },
   {
    "duration": 0,
    "start_time": "2022-06-29T20:00:30.590Z"
   },
   {
    "duration": 10,
    "start_time": "2022-06-29T20:03:31.635Z"
   },
   {
    "duration": 9,
    "start_time": "2022-06-29T20:03:36.866Z"
   },
   {
    "duration": 12,
    "start_time": "2022-06-29T20:03:54.284Z"
   },
   {
    "duration": 19,
    "start_time": "2022-06-29T20:03:56.285Z"
   },
   {
    "duration": 9,
    "start_time": "2022-06-29T20:06:24.524Z"
   },
   {
    "duration": 9,
    "start_time": "2022-06-29T20:07:03.469Z"
   },
   {
    "duration": 11,
    "start_time": "2022-06-29T20:15:23.606Z"
   },
   {
    "duration": 8,
    "start_time": "2022-06-29T21:10:31.242Z"
   },
   {
    "duration": 6,
    "start_time": "2022-06-29T21:10:51.257Z"
   },
   {
    "duration": 9,
    "start_time": "2022-06-29T21:10:53.499Z"
   },
   {
    "duration": 57,
    "start_time": "2022-06-29T21:11:27.443Z"
   },
   {
    "duration": 3,
    "start_time": "2022-06-29T21:11:27.502Z"
   },
   {
    "duration": 5,
    "start_time": "2022-06-29T21:11:27.507Z"
   },
   {
    "duration": 439,
    "start_time": "2022-06-29T21:11:27.515Z"
   },
   {
    "duration": 25,
    "start_time": "2022-06-29T21:11:27.955Z"
   },
   {
    "duration": 16,
    "start_time": "2022-06-29T21:11:27.981Z"
   },
   {
    "duration": 4,
    "start_time": "2022-06-29T21:11:27.999Z"
   },
   {
    "duration": 38,
    "start_time": "2022-06-29T21:11:28.004Z"
   },
   {
    "duration": 15,
    "start_time": "2022-06-29T21:11:28.043Z"
   },
   {
    "duration": 18,
    "start_time": "2022-06-29T21:11:28.060Z"
   },
   {
    "duration": 13,
    "start_time": "2022-06-29T21:11:28.079Z"
   },
   {
    "duration": 6,
    "start_time": "2022-06-29T21:11:28.093Z"
   },
   {
    "duration": 41,
    "start_time": "2022-06-29T21:11:28.100Z"
   },
   {
    "duration": 41,
    "start_time": "2022-06-29T21:11:28.142Z"
   },
   {
    "duration": 45,
    "start_time": "2022-06-29T21:11:28.184Z"
   },
   {
    "duration": 28,
    "start_time": "2022-06-29T21:11:28.230Z"
   },
   {
    "duration": 19,
    "start_time": "2022-06-29T21:11:28.259Z"
   },
   {
    "duration": 51,
    "start_time": "2022-06-29T21:11:28.279Z"
   },
   {
    "duration": 22,
    "start_time": "2022-06-29T21:11:28.331Z"
   },
   {
    "duration": 17,
    "start_time": "2022-06-29T21:11:28.355Z"
   },
   {
    "duration": 16,
    "start_time": "2022-06-29T21:11:28.374Z"
   },
   {
    "duration": 47,
    "start_time": "2022-06-29T21:11:28.391Z"
   },
   {
    "duration": 11,
    "start_time": "2022-06-29T21:11:28.439Z"
   },
   {
    "duration": 11,
    "start_time": "2022-06-29T21:11:28.451Z"
   },
   {
    "duration": 4,
    "start_time": "2022-06-29T21:11:28.464Z"
   },
   {
    "duration": 134,
    "start_time": "2022-06-29T21:11:28.469Z"
   },
   {
    "duration": 14,
    "start_time": "2022-06-29T21:11:28.605Z"
   },
   {
    "duration": 9,
    "start_time": "2022-06-29T21:11:28.631Z"
   },
   {
    "duration": 8,
    "start_time": "2022-06-29T21:11:28.641Z"
   },
   {
    "duration": 0,
    "start_time": "2022-06-29T21:11:28.650Z"
   },
   {
    "duration": 0,
    "start_time": "2022-06-29T21:11:28.651Z"
   },
   {
    "duration": 0,
    "start_time": "2022-06-29T21:11:28.653Z"
   },
   {
    "duration": 0,
    "start_time": "2022-06-29T21:11:28.654Z"
   },
   {
    "duration": 0,
    "start_time": "2022-06-29T21:11:28.655Z"
   },
   {
    "duration": 0,
    "start_time": "2022-06-29T21:11:28.656Z"
   },
   {
    "duration": 0,
    "start_time": "2022-06-29T21:11:28.657Z"
   },
   {
    "duration": 6,
    "start_time": "2022-06-29T21:11:33.149Z"
   },
   {
    "duration": 9,
    "start_time": "2022-06-29T21:16:03.756Z"
   },
   {
    "duration": 6,
    "start_time": "2022-06-29T21:16:29.837Z"
   },
   {
    "duration": 5,
    "start_time": "2022-06-29T21:16:30.997Z"
   },
   {
    "duration": 35,
    "start_time": "2022-06-30T18:59:07.956Z"
   },
   {
    "duration": 1347,
    "start_time": "2022-06-30T18:59:07.994Z"
   },
   {
    "duration": 3,
    "start_time": "2022-06-30T18:59:09.343Z"
   },
   {
    "duration": 799,
    "start_time": "2022-06-30T18:59:09.348Z"
   },
   {
    "duration": 34,
    "start_time": "2022-06-30T18:59:10.149Z"
   },
   {
    "duration": 20,
    "start_time": "2022-06-30T18:59:10.184Z"
   },
   {
    "duration": 5,
    "start_time": "2022-06-30T18:59:10.205Z"
   },
   {
    "duration": 27,
    "start_time": "2022-06-30T18:59:10.211Z"
   },
   {
    "duration": 42,
    "start_time": "2022-06-30T18:59:10.240Z"
   },
   {
    "duration": 23,
    "start_time": "2022-06-30T18:59:10.284Z"
   },
   {
    "duration": 17,
    "start_time": "2022-06-30T18:59:10.309Z"
   },
   {
    "duration": 8,
    "start_time": "2022-06-30T18:59:10.328Z"
   },
   {
    "duration": 21,
    "start_time": "2022-06-30T18:59:10.367Z"
   },
   {
    "duration": 44,
    "start_time": "2022-06-30T18:59:10.391Z"
   },
   {
    "duration": 55,
    "start_time": "2022-06-30T18:59:10.437Z"
   },
   {
    "duration": 33,
    "start_time": "2022-06-30T18:59:10.494Z"
   },
   {
    "duration": 39,
    "start_time": "2022-06-30T18:59:10.529Z"
   },
   {
    "duration": 36,
    "start_time": "2022-06-30T18:59:10.570Z"
   },
   {
    "duration": 24,
    "start_time": "2022-06-30T18:59:10.608Z"
   },
   {
    "duration": 44,
    "start_time": "2022-06-30T18:59:10.633Z"
   },
   {
    "duration": 19,
    "start_time": "2022-06-30T18:59:10.679Z"
   },
   {
    "duration": 26,
    "start_time": "2022-06-30T18:59:10.700Z"
   },
   {
    "duration": 40,
    "start_time": "2022-06-30T18:59:10.728Z"
   },
   {
    "duration": 14,
    "start_time": "2022-06-30T18:59:10.770Z"
   },
   {
    "duration": 5,
    "start_time": "2022-06-30T18:59:10.786Z"
   },
   {
    "duration": 156,
    "start_time": "2022-06-30T18:59:10.792Z"
   },
   {
    "duration": 24,
    "start_time": "2022-06-30T18:59:10.949Z"
   },
   {
    "duration": 12,
    "start_time": "2022-06-30T18:59:10.974Z"
   },
   {
    "duration": 114,
    "start_time": "2022-06-30T18:59:10.988Z"
   },
   {
    "duration": 0,
    "start_time": "2022-06-30T18:59:11.104Z"
   },
   {
    "duration": 0,
    "start_time": "2022-06-30T18:59:11.105Z"
   },
   {
    "duration": 0,
    "start_time": "2022-06-30T18:59:11.106Z"
   },
   {
    "duration": 0,
    "start_time": "2022-06-30T18:59:11.107Z"
   },
   {
    "duration": 0,
    "start_time": "2022-06-30T18:59:11.109Z"
   },
   {
    "duration": 0,
    "start_time": "2022-06-30T18:59:11.110Z"
   },
   {
    "duration": 0,
    "start_time": "2022-06-30T18:59:11.111Z"
   },
   {
    "duration": 0,
    "start_time": "2022-06-30T18:59:11.112Z"
   },
   {
    "duration": 0,
    "start_time": "2022-06-30T18:59:11.113Z"
   },
   {
    "duration": 13,
    "start_time": "2022-06-30T19:01:34.744Z"
   },
   {
    "duration": 25,
    "start_time": "2022-06-30T19:01:45.507Z"
   },
   {
    "duration": 910,
    "start_time": "2022-06-30T19:02:48.107Z"
   },
   {
    "duration": 258,
    "start_time": "2022-06-30T19:05:09.000Z"
   },
   {
    "duration": 16,
    "start_time": "2022-06-30T19:05:26.466Z"
   },
   {
    "duration": 41,
    "start_time": "2022-06-30T19:05:42.104Z"
   },
   {
    "duration": 12,
    "start_time": "2022-06-30T19:18:45.022Z"
   },
   {
    "duration": 872,
    "start_time": "2022-06-30T19:21:00.403Z"
   },
   {
    "duration": 22,
    "start_time": "2022-06-30T19:22:00.519Z"
   },
   {
    "duration": 8,
    "start_time": "2022-06-30T19:24:20.751Z"
   },
   {
    "duration": 8,
    "start_time": "2022-06-30T19:24:21.734Z"
   },
   {
    "duration": 41,
    "start_time": "2022-06-30T19:27:31.069Z"
   },
   {
    "duration": 9,
    "start_time": "2022-06-30T19:32:42.452Z"
   },
   {
    "duration": 10,
    "start_time": "2022-06-30T19:33:10.937Z"
   },
   {
    "duration": 6,
    "start_time": "2022-06-30T19:33:56.562Z"
   },
   {
    "duration": 17,
    "start_time": "2022-06-30T19:33:59.471Z"
   },
   {
    "duration": 38,
    "start_time": "2022-06-30T19:34:00.279Z"
   },
   {
    "duration": 184,
    "start_time": "2022-06-30T19:34:15.900Z"
   },
   {
    "duration": 161,
    "start_time": "2022-06-30T19:34:53.061Z"
   },
   {
    "duration": 16,
    "start_time": "2022-06-30T19:37:49.710Z"
   },
   {
    "duration": 39,
    "start_time": "2022-06-30T19:37:51.482Z"
   },
   {
    "duration": 183,
    "start_time": "2022-06-30T19:39:02.999Z"
   },
   {
    "duration": 174,
    "start_time": "2022-06-30T19:39:05.996Z"
   },
   {
    "duration": 182,
    "start_time": "2022-06-30T19:39:47.734Z"
   },
   {
    "duration": 172,
    "start_time": "2022-06-30T19:39:50.643Z"
   },
   {
    "duration": 5,
    "start_time": "2022-06-30T19:40:32.370Z"
   },
   {
    "duration": 8,
    "start_time": "2022-06-30T19:40:39.698Z"
   },
   {
    "duration": 5,
    "start_time": "2022-06-30T19:40:43.362Z"
   },
   {
    "duration": 4,
    "start_time": "2022-06-30T20:11:29.138Z"
   },
   {
    "duration": 10,
    "start_time": "2022-06-30T20:17:30.006Z"
   },
   {
    "duration": 3,
    "start_time": "2022-06-30T20:17:52.862Z"
   },
   {
    "duration": 20,
    "start_time": "2022-06-30T20:17:53.576Z"
   },
   {
    "duration": 2,
    "start_time": "2022-06-30T20:18:40.524Z"
   },
   {
    "duration": 9,
    "start_time": "2022-06-30T20:19:32.067Z"
   },
   {
    "duration": 3,
    "start_time": "2022-06-30T20:19:36.530Z"
   },
   {
    "duration": 20,
    "start_time": "2022-06-30T20:19:37.267Z"
   },
   {
    "duration": 8,
    "start_time": "2022-06-30T20:19:54.825Z"
   },
   {
    "duration": 1351,
    "start_time": "2022-06-30T20:20:02.206Z"
   },
   {
    "duration": 20,
    "start_time": "2022-06-30T20:20:24.802Z"
   },
   {
    "duration": 3,
    "start_time": "2022-06-30T20:20:33.772Z"
   },
   {
    "duration": 17,
    "start_time": "2022-06-30T20:20:34.420Z"
   },
   {
    "duration": 51,
    "start_time": "2022-06-30T20:20:45.571Z"
   },
   {
    "duration": 3,
    "start_time": "2022-06-30T20:20:45.624Z"
   },
   {
    "duration": 515,
    "start_time": "2022-06-30T20:20:45.629Z"
   },
   {
    "duration": 37,
    "start_time": "2022-06-30T20:20:46.145Z"
   },
   {
    "duration": 19,
    "start_time": "2022-06-30T20:20:46.184Z"
   },
   {
    "duration": 7,
    "start_time": "2022-06-30T20:20:46.205Z"
   },
   {
    "duration": 36,
    "start_time": "2022-06-30T20:20:46.214Z"
   },
   {
    "duration": 35,
    "start_time": "2022-06-30T20:20:46.252Z"
   },
   {
    "duration": 27,
    "start_time": "2022-06-30T20:20:46.289Z"
   },
   {
    "duration": 3,
    "start_time": "2022-06-30T20:20:49.721Z"
   },
   {
    "duration": 14,
    "start_time": "2022-06-30T20:20:50.603Z"
   },
   {
    "duration": 22,
    "start_time": "2022-06-30T20:21:03.765Z"
   },
   {
    "duration": 30,
    "start_time": "2022-06-30T20:21:45.675Z"
   },
   {
    "duration": 4,
    "start_time": "2022-06-30T20:21:45.708Z"
   },
   {
    "duration": 487,
    "start_time": "2022-06-30T20:21:45.714Z"
   },
   {
    "duration": 32,
    "start_time": "2022-06-30T20:21:46.203Z"
   },
   {
    "duration": 41,
    "start_time": "2022-06-30T20:21:46.238Z"
   },
   {
    "duration": 7,
    "start_time": "2022-06-30T20:21:46.281Z"
   },
   {
    "duration": 37,
    "start_time": "2022-06-30T20:21:46.290Z"
   },
   {
    "duration": 43,
    "start_time": "2022-06-30T20:21:46.330Z"
   },
   {
    "duration": 26,
    "start_time": "2022-06-30T20:21:46.375Z"
   },
   {
    "duration": 4,
    "start_time": "2022-06-30T20:21:46.403Z"
   },
   {
    "duration": 22,
    "start_time": "2022-06-30T20:21:48.793Z"
   },
   {
    "duration": 3,
    "start_time": "2022-06-30T20:24:10.835Z"
   },
   {
    "duration": 15,
    "start_time": "2022-06-30T20:26:00.571Z"
   },
   {
    "duration": 18,
    "start_time": "2022-06-30T20:29:06.601Z"
   },
   {
    "duration": 15,
    "start_time": "2022-06-30T20:29:19.659Z"
   },
   {
    "duration": 14,
    "start_time": "2022-06-30T20:40:22.218Z"
   },
   {
    "duration": 20,
    "start_time": "2022-06-30T21:51:21.176Z"
   },
   {
    "duration": 19,
    "start_time": "2022-06-30T21:51:34.224Z"
   },
   {
    "duration": 12,
    "start_time": "2022-06-30T21:55:59.897Z"
   },
   {
    "duration": 34,
    "start_time": "2022-06-30T21:56:09.167Z"
   },
   {
    "duration": 3,
    "start_time": "2022-06-30T21:56:09.203Z"
   },
   {
    "duration": 446,
    "start_time": "2022-06-30T21:56:09.207Z"
   },
   {
    "duration": 32,
    "start_time": "2022-06-30T21:56:09.655Z"
   },
   {
    "duration": 19,
    "start_time": "2022-06-30T21:56:09.689Z"
   },
   {
    "duration": 5,
    "start_time": "2022-06-30T21:56:09.710Z"
   },
   {
    "duration": 29,
    "start_time": "2022-06-30T21:56:09.716Z"
   },
   {
    "duration": 21,
    "start_time": "2022-06-30T21:56:09.767Z"
   },
   {
    "duration": 21,
    "start_time": "2022-06-30T21:56:09.789Z"
   },
   {
    "duration": 16,
    "start_time": "2022-06-30T21:56:09.813Z"
   },
   {
    "duration": 47,
    "start_time": "2022-06-30T21:56:09.831Z"
   },
   {
    "duration": 13,
    "start_time": "2022-06-30T21:56:09.879Z"
   },
   {
    "duration": 23,
    "start_time": "2022-06-30T21:56:09.893Z"
   },
   {
    "duration": 15,
    "start_time": "2022-06-30T21:56:09.918Z"
   },
   {
    "duration": 34,
    "start_time": "2022-06-30T21:56:09.935Z"
   },
   {
    "duration": 42,
    "start_time": "2022-06-30T21:56:09.973Z"
   },
   {
    "duration": 32,
    "start_time": "2022-06-30T21:56:10.017Z"
   },
   {
    "duration": 45,
    "start_time": "2022-06-30T21:56:10.050Z"
   },
   {
    "duration": 21,
    "start_time": "2022-06-30T21:56:10.097Z"
   },
   {
    "duration": 56,
    "start_time": "2022-06-30T21:56:10.120Z"
   },
   {
    "duration": 25,
    "start_time": "2022-06-30T21:56:12.483Z"
   },
   {
    "duration": 35,
    "start_time": "2022-06-30T21:58:41.820Z"
   },
   {
    "duration": 31,
    "start_time": "2022-06-30T21:58:52.279Z"
   },
   {
    "duration": 33,
    "start_time": "2022-06-30T21:59:03.639Z"
   },
   {
    "duration": 21,
    "start_time": "2022-06-30T21:59:10.445Z"
   },
   {
    "duration": 25,
    "start_time": "2022-06-30T22:01:35.921Z"
   },
   {
    "duration": 42,
    "start_time": "2022-07-02T11:01:41.609Z"
   },
   {
    "duration": 6,
    "start_time": "2022-07-02T11:01:44.058Z"
   },
   {
    "duration": 5,
    "start_time": "2022-07-02T11:01:47.336Z"
   },
   {
    "duration": 45,
    "start_time": "2022-07-02T11:02:03.425Z"
   },
   {
    "duration": 1331,
    "start_time": "2022-07-02T11:02:03.472Z"
   },
   {
    "duration": 1504,
    "start_time": "2022-07-02T11:02:04.805Z"
   },
   {
    "duration": 40,
    "start_time": "2022-07-02T11:02:06.312Z"
   },
   {
    "duration": 23,
    "start_time": "2022-07-02T11:02:06.355Z"
   },
   {
    "duration": 5,
    "start_time": "2022-07-02T11:02:06.380Z"
   },
   {
    "duration": 54,
    "start_time": "2022-07-02T11:02:06.387Z"
   },
   {
    "duration": 32,
    "start_time": "2022-07-02T11:02:06.443Z"
   },
   {
    "duration": 53,
    "start_time": "2022-07-02T11:02:06.477Z"
   },
   {
    "duration": 14,
    "start_time": "2022-07-02T11:02:06.532Z"
   },
   {
    "duration": 19,
    "start_time": "2022-07-02T11:02:06.548Z"
   },
   {
    "duration": 18,
    "start_time": "2022-07-02T11:02:06.569Z"
   },
   {
    "duration": 17,
    "start_time": "2022-07-02T11:02:06.588Z"
   },
   {
    "duration": 17,
    "start_time": "2022-07-02T11:02:06.631Z"
   },
   {
    "duration": 3,
    "start_time": "2022-07-02T11:02:06.650Z"
   },
   {
    "duration": 11,
    "start_time": "2022-07-02T11:02:06.654Z"
   },
   {
    "duration": 46,
    "start_time": "2022-07-02T11:02:06.666Z"
   },
   {
    "duration": 42,
    "start_time": "2022-07-02T11:02:06.713Z"
   },
   {
    "duration": 30,
    "start_time": "2022-07-02T11:02:06.756Z"
   },
   {
    "duration": 43,
    "start_time": "2022-07-02T11:02:06.787Z"
   },
   {
    "duration": 38,
    "start_time": "2022-07-02T11:02:06.832Z"
   },
   {
    "duration": 25,
    "start_time": "2022-07-02T11:02:06.872Z"
   },
   {
    "duration": 44,
    "start_time": "2022-07-02T11:02:06.899Z"
   },
   {
    "duration": 20,
    "start_time": "2022-07-02T11:02:06.944Z"
   },
   {
    "duration": 28,
    "start_time": "2022-07-02T11:02:06.966Z"
   },
   {
    "duration": 36,
    "start_time": "2022-07-02T11:02:06.995Z"
   },
   {
    "duration": 18,
    "start_time": "2022-07-02T11:02:07.032Z"
   },
   {
    "duration": 5,
    "start_time": "2022-07-02T11:02:07.052Z"
   },
   {
    "duration": 156,
    "start_time": "2022-07-02T11:02:07.058Z"
   },
   {
    "duration": 15,
    "start_time": "2022-07-02T11:02:07.216Z"
   },
   {
    "duration": 17,
    "start_time": "2022-07-02T11:02:07.233Z"
   },
   {
    "duration": 39,
    "start_time": "2022-07-02T11:02:07.252Z"
   },
   {
    "duration": 202,
    "start_time": "2022-07-02T11:02:07.395Z"
   },
   {
    "duration": 188,
    "start_time": "2022-07-02T11:09:10.617Z"
   },
   {
    "duration": 155,
    "start_time": "2022-07-02T11:10:11.046Z"
   },
   {
    "duration": 21,
    "start_time": "2022-07-02T11:12:38.959Z"
   },
   {
    "duration": 33,
    "start_time": "2022-07-02T11:13:58.273Z"
   },
   {
    "duration": 34,
    "start_time": "2022-07-02T11:14:31.840Z"
   },
   {
    "duration": 170,
    "start_time": "2022-07-02T11:16:00.387Z"
   },
   {
    "duration": 152,
    "start_time": "2022-07-02T11:16:29.141Z"
   },
   {
    "duration": 15,
    "start_time": "2022-07-02T11:16:39.142Z"
   },
   {
    "duration": 237,
    "start_time": "2022-07-02T11:31:06.947Z"
   },
   {
    "duration": 196,
    "start_time": "2022-07-02T11:31:11.992Z"
   },
   {
    "duration": 182,
    "start_time": "2022-07-02T11:31:41.406Z"
   },
   {
    "duration": 19,
    "start_time": "2022-07-02T12:19:47.744Z"
   },
   {
    "duration": 48,
    "start_time": "2022-07-02T12:20:46.873Z"
   },
   {
    "duration": 20,
    "start_time": "2022-07-02T12:21:01.949Z"
   },
   {
    "duration": 39,
    "start_time": "2022-07-02T12:21:43.040Z"
   },
   {
    "duration": 91,
    "start_time": "2022-07-02T12:21:50.398Z"
   },
   {
    "duration": 49,
    "start_time": "2022-07-02T12:22:03.826Z"
   },
   {
    "duration": 11,
    "start_time": "2022-07-02T12:46:13.949Z"
   },
   {
    "duration": 5,
    "start_time": "2022-07-02T12:46:40.656Z"
   },
   {
    "duration": 50,
    "start_time": "2022-07-02T14:32:08.890Z"
   },
   {
    "duration": 1128,
    "start_time": "2022-07-02T14:32:08.942Z"
   },
   {
    "duration": 710,
    "start_time": "2022-07-02T14:32:10.072Z"
   },
   {
    "duration": 32,
    "start_time": "2022-07-02T14:32:10.784Z"
   },
   {
    "duration": 19,
    "start_time": "2022-07-02T14:32:10.818Z"
   },
   {
    "duration": 8,
    "start_time": "2022-07-02T14:32:10.839Z"
   },
   {
    "duration": 6,
    "start_time": "2022-07-02T14:32:10.849Z"
   },
   {
    "duration": 10,
    "start_time": "2022-07-02T14:32:10.857Z"
   },
   {
    "duration": 30,
    "start_time": "2022-07-02T14:32:10.868Z"
   },
   {
    "duration": 39,
    "start_time": "2022-07-02T14:32:10.901Z"
   },
   {
    "duration": 22,
    "start_time": "2022-07-02T14:32:10.941Z"
   },
   {
    "duration": 14,
    "start_time": "2022-07-02T14:32:10.964Z"
   },
   {
    "duration": 18,
    "start_time": "2022-07-02T14:32:10.980Z"
   },
   {
    "duration": 12,
    "start_time": "2022-07-02T14:32:11.027Z"
   },
   {
    "duration": 16,
    "start_time": "2022-07-02T14:32:11.040Z"
   },
   {
    "duration": 15,
    "start_time": "2022-07-02T14:32:11.057Z"
   },
   {
    "duration": 6,
    "start_time": "2022-07-02T14:32:11.073Z"
   },
   {
    "duration": 9,
    "start_time": "2022-07-02T14:32:11.081Z"
   },
   {
    "duration": 68,
    "start_time": "2022-07-02T14:32:11.091Z"
   },
   {
    "duration": 33,
    "start_time": "2022-07-02T14:32:11.160Z"
   },
   {
    "duration": 48,
    "start_time": "2022-07-02T14:32:11.194Z"
   },
   {
    "duration": 20,
    "start_time": "2022-07-02T14:32:11.244Z"
   },
   {
    "duration": 34,
    "start_time": "2022-07-02T14:32:11.266Z"
   },
   {
    "duration": 42,
    "start_time": "2022-07-02T14:32:11.301Z"
   },
   {
    "duration": 19,
    "start_time": "2022-07-02T14:32:11.345Z"
   },
   {
    "duration": 18,
    "start_time": "2022-07-02T14:32:11.366Z"
   },
   {
    "duration": 53,
    "start_time": "2022-07-02T14:32:11.385Z"
   },
   {
    "duration": 16,
    "start_time": "2022-07-02T14:32:11.443Z"
   },
   {
    "duration": 22,
    "start_time": "2022-07-02T14:32:11.462Z"
   },
   {
    "duration": 6,
    "start_time": "2022-07-02T14:32:11.487Z"
   },
   {
    "duration": 177,
    "start_time": "2022-07-02T14:32:11.495Z"
   },
   {
    "duration": 5,
    "start_time": "2022-07-02T14:32:11.674Z"
   },
   {
    "duration": 27,
    "start_time": "2022-07-02T14:32:11.680Z"
   },
   {
    "duration": 43,
    "start_time": "2022-07-02T14:32:11.708Z"
   },
   {
    "duration": 207,
    "start_time": "2022-07-02T14:32:11.752Z"
   },
   {
    "duration": 165,
    "start_time": "2022-07-02T14:32:11.961Z"
   },
   {
    "duration": 19,
    "start_time": "2022-07-02T14:32:12.128Z"
   },
   {
    "duration": 46,
    "start_time": "2022-07-02T14:32:12.148Z"
   },
   {
    "duration": 177,
    "start_time": "2022-07-02T14:32:12.195Z"
   },
   {
    "duration": 156,
    "start_time": "2022-07-02T14:32:12.373Z"
   },
   {
    "duration": 18,
    "start_time": "2022-07-02T14:32:12.530Z"
   },
   {
    "duration": 36,
    "start_time": "2022-07-02T14:32:12.550Z"
   },
   {
    "duration": 208,
    "start_time": "2022-07-02T14:32:12.587Z"
   },
   {
    "duration": 156,
    "start_time": "2022-07-02T14:32:12.796Z"
   },
   {
    "duration": 5,
    "start_time": "2022-07-02T14:32:12.953Z"
   },
   {
    "duration": 16,
    "start_time": "2022-07-02T14:32:12.959Z"
   },
   {
    "duration": 5,
    "start_time": "2022-07-02T14:32:12.977Z"
   },
   {
    "duration": 2,
    "start_time": "2022-07-02T14:32:59.427Z"
   },
   {
    "duration": 2,
    "start_time": "2022-07-02T14:33:02.230Z"
   },
   {
    "duration": 5,
    "start_time": "2022-07-02T14:38:24.049Z"
   },
   {
    "duration": 15,
    "start_time": "2022-07-02T15:30:32.165Z"
   },
   {
    "duration": 44,
    "start_time": "2022-07-02T15:30:49.245Z"
   },
   {
    "duration": 6,
    "start_time": "2022-07-02T15:30:49.291Z"
   },
   {
    "duration": 581,
    "start_time": "2022-07-02T15:30:49.299Z"
   },
   {
    "duration": 48,
    "start_time": "2022-07-02T15:30:49.881Z"
   },
   {
    "duration": 13,
    "start_time": "2022-07-02T15:30:49.931Z"
   },
   {
    "duration": 42,
    "start_time": "2022-07-02T15:30:49.946Z"
   },
   {
    "duration": 3,
    "start_time": "2022-07-02T15:30:49.990Z"
   },
   {
    "duration": 8,
    "start_time": "2022-07-02T15:30:49.995Z"
   },
   {
    "duration": 29,
    "start_time": "2022-07-02T15:30:50.027Z"
   },
   {
    "duration": 34,
    "start_time": "2022-07-02T15:30:50.060Z"
   },
   {
    "duration": 26,
    "start_time": "2022-07-02T15:30:50.096Z"
   },
   {
    "duration": 45,
    "start_time": "2022-07-02T15:30:50.123Z"
   },
   {
    "duration": 23,
    "start_time": "2022-07-02T15:30:50.170Z"
   },
   {
    "duration": 39,
    "start_time": "2022-07-02T15:30:50.197Z"
   },
   {
    "duration": 20,
    "start_time": "2022-07-02T15:30:50.239Z"
   },
   {
    "duration": 27,
    "start_time": "2022-07-02T15:30:50.261Z"
   },
   {
    "duration": 49,
    "start_time": "2022-07-02T15:30:50.290Z"
   },
   {
    "duration": 46,
    "start_time": "2022-07-02T15:30:50.343Z"
   },
   {
    "duration": 13,
    "start_time": "2022-07-02T15:30:50.391Z"
   },
   {
    "duration": 70,
    "start_time": "2022-07-02T15:30:50.407Z"
   },
   {
    "duration": 48,
    "start_time": "2022-07-02T15:30:50.480Z"
   },
   {
    "duration": 40,
    "start_time": "2022-07-02T15:30:50.531Z"
   },
   {
    "duration": 25,
    "start_time": "2022-07-02T15:30:50.573Z"
   },
   {
    "duration": 77,
    "start_time": "2022-07-02T15:30:50.600Z"
   },
   {
    "duration": 28,
    "start_time": "2022-07-02T15:30:50.679Z"
   },
   {
    "duration": 31,
    "start_time": "2022-07-02T15:30:50.728Z"
   },
   {
    "duration": 39,
    "start_time": "2022-07-02T15:30:50.760Z"
   },
   {
    "duration": 48,
    "start_time": "2022-07-02T15:30:50.801Z"
   },
   {
    "duration": 15,
    "start_time": "2022-07-02T15:30:50.852Z"
   },
   {
    "duration": 49,
    "start_time": "2022-07-02T15:30:50.869Z"
   },
   {
    "duration": 60,
    "start_time": "2022-07-02T15:30:50.920Z"
   },
   {
    "duration": 171,
    "start_time": "2022-07-02T15:30:50.982Z"
   },
   {
    "duration": 7,
    "start_time": "2022-07-02T15:30:51.155Z"
   },
   {
    "duration": 47,
    "start_time": "2022-07-02T15:30:51.164Z"
   },
   {
    "duration": 59,
    "start_time": "2022-07-02T15:30:51.215Z"
   },
   {
    "duration": 302,
    "start_time": "2022-07-02T15:30:51.277Z"
   },
   {
    "duration": 364,
    "start_time": "2022-07-02T15:30:51.582Z"
   },
   {
    "duration": 26,
    "start_time": "2022-07-02T15:30:51.948Z"
   },
   {
    "duration": 85,
    "start_time": "2022-07-02T15:30:51.977Z"
   },
   {
    "duration": 252,
    "start_time": "2022-07-02T15:30:52.065Z"
   },
   {
    "duration": 198,
    "start_time": "2022-07-02T15:30:52.322Z"
   },
   {
    "duration": 37,
    "start_time": "2022-07-02T15:30:52.521Z"
   },
   {
    "duration": 98,
    "start_time": "2022-07-02T15:30:52.561Z"
   },
   {
    "duration": 287,
    "start_time": "2022-07-02T15:30:52.665Z"
   },
   {
    "duration": 213,
    "start_time": "2022-07-02T15:30:52.960Z"
   },
   {
    "duration": 7,
    "start_time": "2022-07-02T15:30:53.175Z"
   },
   {
    "duration": 40,
    "start_time": "2022-07-02T15:30:53.184Z"
   },
   {
    "duration": 52,
    "start_time": "2022-07-02T15:30:53.231Z"
   },
   {
    "duration": 58,
    "start_time": "2022-07-03T07:09:06.936Z"
   },
   {
    "duration": 1160,
    "start_time": "2022-07-03T07:09:06.997Z"
   },
   {
    "duration": 457,
    "start_time": "2022-07-03T07:09:08.161Z"
   },
   {
    "duration": 54,
    "start_time": "2022-07-03T07:09:08.620Z"
   },
   {
    "duration": 19,
    "start_time": "2022-07-03T07:09:08.676Z"
   },
   {
    "duration": 4,
    "start_time": "2022-07-03T07:09:08.697Z"
   },
   {
    "duration": 5,
    "start_time": "2022-07-03T07:09:08.703Z"
   },
   {
    "duration": 45,
    "start_time": "2022-07-03T07:09:08.709Z"
   },
   {
    "duration": 25,
    "start_time": "2022-07-03T07:09:08.755Z"
   },
   {
    "duration": 21,
    "start_time": "2022-07-03T07:09:08.782Z"
   },
   {
    "duration": 48,
    "start_time": "2022-07-03T07:09:08.805Z"
   },
   {
    "duration": 26,
    "start_time": "2022-07-03T07:09:08.860Z"
   },
   {
    "duration": 13,
    "start_time": "2022-07-03T07:09:08.888Z"
   },
   {
    "duration": 20,
    "start_time": "2022-07-03T07:09:08.905Z"
   },
   {
    "duration": 42,
    "start_time": "2022-07-03T07:09:08.927Z"
   },
   {
    "duration": 4,
    "start_time": "2022-07-03T07:09:08.971Z"
   },
   {
    "duration": 9,
    "start_time": "2022-07-03T07:09:08.977Z"
   },
   {
    "duration": 42,
    "start_time": "2022-07-03T07:09:08.988Z"
   },
   {
    "duration": 48,
    "start_time": "2022-07-03T07:09:09.032Z"
   },
   {
    "duration": 29,
    "start_time": "2022-07-03T07:09:09.081Z"
   },
   {
    "duration": 48,
    "start_time": "2022-07-03T07:09:09.112Z"
   },
   {
    "duration": 35,
    "start_time": "2022-07-03T07:09:09.161Z"
   },
   {
    "duration": 22,
    "start_time": "2022-07-03T07:09:09.197Z"
   },
   {
    "duration": 49,
    "start_time": "2022-07-03T07:09:09.221Z"
   },
   {
    "duration": 29,
    "start_time": "2022-07-03T07:09:09.272Z"
   },
   {
    "duration": 35,
    "start_time": "2022-07-03T07:09:09.303Z"
   },
   {
    "duration": 25,
    "start_time": "2022-07-03T07:09:09.340Z"
   },
   {
    "duration": 15,
    "start_time": "2022-07-03T07:09:09.366Z"
   },
   {
    "duration": 5,
    "start_time": "2022-07-03T07:09:09.383Z"
   },
   {
    "duration": 156,
    "start_time": "2022-07-03T07:09:09.389Z"
   },
   {
    "duration": 16,
    "start_time": "2022-07-03T07:09:09.547Z"
   },
   {
    "duration": 24,
    "start_time": "2022-07-03T07:09:09.569Z"
   },
   {
    "duration": 66,
    "start_time": "2022-07-03T07:09:09.595Z"
   },
   {
    "duration": 210,
    "start_time": "2022-07-03T07:09:09.666Z"
   },
   {
    "duration": 363,
    "start_time": "2022-07-03T07:09:09.877Z"
   },
   {
    "duration": 0,
    "start_time": "2022-07-03T07:09:10.250Z"
   },
   {
    "duration": 0,
    "start_time": "2022-07-03T07:09:10.256Z"
   },
   {
    "duration": 0,
    "start_time": "2022-07-03T07:09:10.257Z"
   },
   {
    "duration": 0,
    "start_time": "2022-07-03T07:09:10.257Z"
   },
   {
    "duration": 0,
    "start_time": "2022-07-03T07:09:10.261Z"
   },
   {
    "duration": 0,
    "start_time": "2022-07-03T07:09:10.262Z"
   },
   {
    "duration": 0,
    "start_time": "2022-07-03T07:09:10.263Z"
   },
   {
    "duration": 0,
    "start_time": "2022-07-03T07:09:10.269Z"
   },
   {
    "duration": 0,
    "start_time": "2022-07-03T07:09:10.271Z"
   },
   {
    "duration": 0,
    "start_time": "2022-07-03T07:09:10.272Z"
   },
   {
    "duration": 0,
    "start_time": "2022-07-03T07:09:10.273Z"
   },
   {
    "duration": 0,
    "start_time": "2022-07-03T07:09:10.274Z"
   },
   {
    "duration": 3,
    "start_time": "2022-07-03T07:10:33.043Z"
   },
   {
    "duration": 43,
    "start_time": "2022-07-03T07:10:40.488Z"
   },
   {
    "duration": 4,
    "start_time": "2022-07-03T07:10:40.533Z"
   },
   {
    "duration": 456,
    "start_time": "2022-07-03T07:10:40.538Z"
   },
   {
    "duration": 26,
    "start_time": "2022-07-03T07:10:40.997Z"
   },
   {
    "duration": 35,
    "start_time": "2022-07-03T07:10:41.025Z"
   },
   {
    "duration": 10,
    "start_time": "2022-07-03T07:10:41.061Z"
   },
   {
    "duration": 2,
    "start_time": "2022-07-03T07:10:41.073Z"
   },
   {
    "duration": 28,
    "start_time": "2022-07-03T07:10:41.076Z"
   },
   {
    "duration": 20,
    "start_time": "2022-07-03T07:10:41.106Z"
   },
   {
    "duration": 54,
    "start_time": "2022-07-03T07:10:41.128Z"
   },
   {
    "duration": 15,
    "start_time": "2022-07-03T07:10:41.184Z"
   },
   {
    "duration": 19,
    "start_time": "2022-07-03T07:10:41.201Z"
   },
   {
    "duration": 17,
    "start_time": "2022-07-03T07:10:41.256Z"
   },
   {
    "duration": 31,
    "start_time": "2022-07-03T07:10:41.275Z"
   },
   {
    "duration": 19,
    "start_time": "2022-07-03T07:10:41.308Z"
   },
   {
    "duration": 13,
    "start_time": "2022-07-03T07:10:41.328Z"
   },
   {
    "duration": 15,
    "start_time": "2022-07-03T07:10:41.343Z"
   },
   {
    "duration": 53,
    "start_time": "2022-07-03T07:10:41.362Z"
   },
   {
    "duration": 48,
    "start_time": "2022-07-03T07:10:41.417Z"
   },
   {
    "duration": 46,
    "start_time": "2022-07-03T07:10:41.466Z"
   },
   {
    "duration": 20,
    "start_time": "2022-07-03T07:10:41.514Z"
   },
   {
    "duration": 50,
    "start_time": "2022-07-03T07:10:41.536Z"
   },
   {
    "duration": 24,
    "start_time": "2022-07-03T07:10:41.588Z"
   },
   {
    "duration": 48,
    "start_time": "2022-07-03T07:10:41.614Z"
   },
   {
    "duration": 23,
    "start_time": "2022-07-03T07:10:41.669Z"
   },
   {
    "duration": 23,
    "start_time": "2022-07-03T07:10:41.694Z"
   },
   {
    "duration": 12,
    "start_time": "2022-07-03T07:10:41.719Z"
   },
   {
    "duration": 14,
    "start_time": "2022-07-03T07:10:41.757Z"
   },
   {
    "duration": 5,
    "start_time": "2022-07-03T07:10:41.772Z"
   },
   {
    "duration": 125,
    "start_time": "2022-07-03T07:10:41.779Z"
   },
   {
    "duration": 6,
    "start_time": "2022-07-03T07:10:41.906Z"
   },
   {
    "duration": 26,
    "start_time": "2022-07-03T07:10:41.913Z"
   },
   {
    "duration": 54,
    "start_time": "2022-07-03T07:10:41.941Z"
   },
   {
    "duration": 209,
    "start_time": "2022-07-03T07:10:41.996Z"
   },
   {
    "duration": 262,
    "start_time": "2022-07-03T07:10:42.206Z"
   },
   {
    "duration": 159,
    "start_time": "2022-07-03T07:10:42.469Z"
   },
   {
    "duration": 37,
    "start_time": "2022-07-03T07:10:42.629Z"
   },
   {
    "duration": 59,
    "start_time": "2022-07-03T07:10:42.670Z"
   },
   {
    "duration": 259,
    "start_time": "2022-07-03T07:10:42.731Z"
   },
   {
    "duration": 171,
    "start_time": "2022-07-03T07:10:42.992Z"
   },
   {
    "duration": 21,
    "start_time": "2022-07-03T07:10:43.165Z"
   },
   {
    "duration": 70,
    "start_time": "2022-07-03T07:10:43.188Z"
   },
   {
    "duration": 230,
    "start_time": "2022-07-03T07:10:43.261Z"
   },
   {
    "duration": 176,
    "start_time": "2022-07-03T07:10:43.493Z"
   },
   {
    "duration": 6,
    "start_time": "2022-07-03T07:10:43.671Z"
   },
   {
    "duration": 11,
    "start_time": "2022-07-03T07:10:43.679Z"
   },
   {
    "duration": 6,
    "start_time": "2022-07-03T07:10:43.692Z"
   },
   {
    "duration": 255,
    "start_time": "2022-07-03T07:11:13.645Z"
   },
   {
    "duration": 283,
    "start_time": "2022-07-03T07:11:37.581Z"
   },
   {
    "duration": 163,
    "start_time": "2022-07-03T07:16:33.124Z"
   },
   {
    "duration": 299,
    "start_time": "2022-07-03T07:16:46.000Z"
   },
   {
    "duration": 409,
    "start_time": "2022-07-03T07:17:30.711Z"
   },
   {
    "duration": 294,
    "start_time": "2022-07-03T07:18:11.507Z"
   },
   {
    "duration": 382,
    "start_time": "2022-07-03T07:19:23.817Z"
   },
   {
    "duration": 375,
    "start_time": "2022-07-03T07:19:29.324Z"
   },
   {
    "duration": 58,
    "start_time": "2022-07-03T20:45:05.797Z"
   },
   {
    "duration": 1225,
    "start_time": "2022-07-03T20:45:05.857Z"
   },
   {
    "duration": 1512,
    "start_time": "2022-07-03T20:45:07.084Z"
   },
   {
    "duration": 35,
    "start_time": "2022-07-03T20:45:08.598Z"
   },
   {
    "duration": 19,
    "start_time": "2022-07-03T20:45:08.636Z"
   },
   {
    "duration": 11,
    "start_time": "2022-07-03T20:45:09.819Z"
   },
   {
    "duration": 21,
    "start_time": "2022-07-03T20:45:44.764Z"
   },
   {
    "duration": 65,
    "start_time": "2022-07-03T20:45:52.167Z"
   },
   {
    "duration": 2,
    "start_time": "2022-07-03T20:45:52.234Z"
   },
   {
    "duration": 467,
    "start_time": "2022-07-03T20:45:52.237Z"
   },
   {
    "duration": 22,
    "start_time": "2022-07-03T20:45:56.314Z"
   },
   {
    "duration": 18,
    "start_time": "2022-07-03T20:48:34.175Z"
   },
   {
    "duration": 8,
    "start_time": "2022-07-03T20:51:03.789Z"
   },
   {
    "duration": 12,
    "start_time": "2022-07-03T20:51:07.511Z"
   },
   {
    "duration": 9,
    "start_time": "2022-07-03T20:51:37.873Z"
   },
   {
    "duration": 38,
    "start_time": "2022-07-03T20:53:42.662Z"
   },
   {
    "duration": 3,
    "start_time": "2022-07-03T20:53:42.703Z"
   },
   {
    "duration": 512,
    "start_time": "2022-07-03T20:53:42.707Z"
   },
   {
    "duration": 35,
    "start_time": "2022-07-03T20:53:43.222Z"
   },
   {
    "duration": 27,
    "start_time": "2022-07-03T20:53:43.259Z"
   },
   {
    "duration": 11,
    "start_time": "2022-07-03T20:53:43.288Z"
   },
   {
    "duration": 3,
    "start_time": "2022-07-03T20:53:43.301Z"
   },
   {
    "duration": 51,
    "start_time": "2022-07-03T20:53:43.305Z"
   },
   {
    "duration": 17,
    "start_time": "2022-07-03T20:53:43.358Z"
   },
   {
    "duration": 23,
    "start_time": "2022-07-03T20:53:43.377Z"
   },
   {
    "duration": 45,
    "start_time": "2022-07-03T20:53:43.402Z"
   },
   {
    "duration": 25,
    "start_time": "2022-07-03T20:53:43.449Z"
   },
   {
    "duration": 20,
    "start_time": "2022-07-03T20:53:43.476Z"
   },
   {
    "duration": 23,
    "start_time": "2022-07-03T20:53:43.528Z"
   },
   {
    "duration": 27,
    "start_time": "2022-07-03T20:53:43.553Z"
   },
   {
    "duration": 15,
    "start_time": "2022-07-03T20:53:43.583Z"
   },
   {
    "duration": 41,
    "start_time": "2022-07-03T20:53:43.600Z"
   },
   {
    "duration": 73,
    "start_time": "2022-07-03T20:53:43.643Z"
   },
   {
    "duration": 40,
    "start_time": "2022-07-03T20:53:43.719Z"
   },
   {
    "duration": 42,
    "start_time": "2022-07-03T20:53:43.761Z"
   },
   {
    "duration": 46,
    "start_time": "2022-07-03T20:53:43.804Z"
   },
   {
    "duration": 33,
    "start_time": "2022-07-03T20:53:46.265Z"
   },
   {
    "duration": 91,
    "start_time": "2022-07-03T20:53:54.637Z"
   },
   {
    "duration": 11,
    "start_time": "2022-07-03T20:54:04.104Z"
   },
   {
    "duration": 16,
    "start_time": "2022-07-03T20:54:21.819Z"
   },
   {
    "duration": 17,
    "start_time": "2022-07-03T20:55:42.459Z"
   },
   {
    "duration": 47,
    "start_time": "2022-07-03T20:57:33.244Z"
   },
   {
    "duration": 2,
    "start_time": "2022-07-03T20:57:33.293Z"
   },
   {
    "duration": 490,
    "start_time": "2022-07-03T20:57:33.296Z"
   },
   {
    "duration": 22,
    "start_time": "2022-07-03T20:57:33.788Z"
   },
   {
    "duration": 17,
    "start_time": "2022-07-03T20:57:33.812Z"
   },
   {
    "duration": 10,
    "start_time": "2022-07-03T20:57:33.830Z"
   },
   {
    "duration": 2,
    "start_time": "2022-07-03T20:57:33.842Z"
   },
   {
    "duration": 34,
    "start_time": "2022-07-03T20:57:33.846Z"
   },
   {
    "duration": 16,
    "start_time": "2022-07-03T20:57:33.882Z"
   },
   {
    "duration": 43,
    "start_time": "2022-07-03T20:57:33.901Z"
   },
   {
    "duration": 23,
    "start_time": "2022-07-03T20:57:33.947Z"
   },
   {
    "duration": 17,
    "start_time": "2022-07-03T20:57:33.971Z"
   },
   {
    "duration": 28,
    "start_time": "2022-07-03T20:57:33.989Z"
   },
   {
    "duration": 27,
    "start_time": "2022-07-03T20:57:34.019Z"
   },
   {
    "duration": 21,
    "start_time": "2022-07-03T20:57:34.048Z"
   },
   {
    "duration": 27,
    "start_time": "2022-07-03T20:57:34.071Z"
   },
   {
    "duration": 16,
    "start_time": "2022-07-03T20:57:34.100Z"
   },
   {
    "duration": 63,
    "start_time": "2022-07-03T20:57:34.117Z"
   },
   {
    "duration": 35,
    "start_time": "2022-07-03T20:57:34.182Z"
   },
   {
    "duration": 30,
    "start_time": "2022-07-03T20:57:34.218Z"
   },
   {
    "duration": 30,
    "start_time": "2022-07-03T20:57:34.250Z"
   },
   {
    "duration": 48,
    "start_time": "2022-07-03T20:57:34.282Z"
   },
   {
    "duration": 24,
    "start_time": "2022-07-03T20:57:34.331Z"
   },
   {
    "duration": 20,
    "start_time": "2022-07-03T20:57:34.356Z"
   },
   {
    "duration": 17,
    "start_time": "2022-07-03T20:57:34.378Z"
   },
   {
    "duration": 51,
    "start_time": "2022-07-03T20:57:34.397Z"
   },
   {
    "duration": 12,
    "start_time": "2022-07-03T20:57:34.450Z"
   },
   {
    "duration": 11,
    "start_time": "2022-07-03T20:57:34.465Z"
   },
   {
    "duration": 8,
    "start_time": "2022-07-03T20:57:34.478Z"
   },
   {
    "duration": 141,
    "start_time": "2022-07-03T20:57:34.488Z"
   },
   {
    "duration": 8,
    "start_time": "2022-07-03T20:58:39.650Z"
   },
   {
    "duration": 51,
    "start_time": "2022-07-03T20:58:43.819Z"
   },
   {
    "duration": 4,
    "start_time": "2022-07-03T20:58:43.872Z"
   },
   {
    "duration": 478,
    "start_time": "2022-07-03T20:58:43.877Z"
   },
   {
    "duration": 23,
    "start_time": "2022-07-03T20:58:44.357Z"
   },
   {
    "duration": 18,
    "start_time": "2022-07-03T20:58:44.381Z"
   },
   {
    "duration": 10,
    "start_time": "2022-07-03T20:58:44.400Z"
   },
   {
    "duration": 2,
    "start_time": "2022-07-03T20:58:44.411Z"
   },
   {
    "duration": 28,
    "start_time": "2022-07-03T20:58:44.415Z"
   },
   {
    "duration": 17,
    "start_time": "2022-07-03T20:58:44.444Z"
   },
   {
    "duration": 29,
    "start_time": "2022-07-03T20:58:44.463Z"
   },
   {
    "duration": 44,
    "start_time": "2022-07-03T20:58:44.495Z"
   },
   {
    "duration": 27,
    "start_time": "2022-07-03T20:58:44.541Z"
   },
   {
    "duration": 16,
    "start_time": "2022-07-03T20:58:44.570Z"
   },
   {
    "duration": 43,
    "start_time": "2022-07-03T20:58:44.588Z"
   },
   {
    "duration": 15,
    "start_time": "2022-07-03T20:58:44.633Z"
   },
   {
    "duration": 9,
    "start_time": "2022-07-03T20:58:44.650Z"
   },
   {
    "duration": 11,
    "start_time": "2022-07-03T20:58:44.661Z"
   },
   {
    "duration": 57,
    "start_time": "2022-07-03T20:58:44.674Z"
   },
   {
    "duration": 30,
    "start_time": "2022-07-03T20:58:44.732Z"
   },
   {
    "duration": 28,
    "start_time": "2022-07-03T20:58:44.763Z"
   },
   {
    "duration": 43,
    "start_time": "2022-07-03T20:58:44.793Z"
   },
   {
    "duration": 32,
    "start_time": "2022-07-03T20:58:44.838Z"
   },
   {
    "duration": 24,
    "start_time": "2022-07-03T20:58:44.872Z"
   },
   {
    "duration": 43,
    "start_time": "2022-07-03T20:58:44.898Z"
   },
   {
    "duration": 19,
    "start_time": "2022-07-03T20:58:44.943Z"
   },
   {
    "duration": 23,
    "start_time": "2022-07-03T20:58:44.963Z"
   },
   {
    "duration": 42,
    "start_time": "2022-07-03T20:58:44.988Z"
   },
   {
    "duration": 13,
    "start_time": "2022-07-03T20:58:45.033Z"
   },
   {
    "duration": 5,
    "start_time": "2022-07-03T20:58:45.047Z"
   },
   {
    "duration": 149,
    "start_time": "2022-07-03T20:58:45.054Z"
   },
   {
    "duration": 5,
    "start_time": "2022-07-03T20:58:45.205Z"
   },
   {
    "duration": 23,
    "start_time": "2022-07-03T20:58:45.212Z"
   },
   {
    "duration": 34,
    "start_time": "2022-07-03T20:58:45.237Z"
   },
   {
    "duration": 202,
    "start_time": "2022-07-03T20:58:47.572Z"
   },
   {
    "duration": 3,
    "start_time": "2022-07-03T20:59:28.520Z"
   },
   {
    "duration": 80,
    "start_time": "2022-07-03T21:04:47.214Z"
   },
   {
    "duration": 85,
    "start_time": "2022-07-03T21:06:19.270Z"
   },
   {
    "duration": 230,
    "start_time": "2022-07-03T21:06:38.799Z"
   },
   {
    "duration": 87,
    "start_time": "2022-07-03T21:07:44.986Z"
   },
   {
    "duration": 38,
    "start_time": "2022-07-03T21:08:20.416Z"
   },
   {
    "duration": 3,
    "start_time": "2022-07-03T21:08:20.456Z"
   },
   {
    "duration": 457,
    "start_time": "2022-07-03T21:08:20.460Z"
   },
   {
    "duration": 22,
    "start_time": "2022-07-03T21:08:20.919Z"
   },
   {
    "duration": 17,
    "start_time": "2022-07-03T21:08:20.944Z"
   },
   {
    "duration": 9,
    "start_time": "2022-07-03T21:08:20.963Z"
   },
   {
    "duration": 2,
    "start_time": "2022-07-03T21:08:20.974Z"
   },
   {
    "duration": 27,
    "start_time": "2022-07-03T21:08:20.977Z"
   },
   {
    "duration": 40,
    "start_time": "2022-07-03T21:08:21.005Z"
   },
   {
    "duration": 20,
    "start_time": "2022-07-03T21:08:21.047Z"
   },
   {
    "duration": 14,
    "start_time": "2022-07-03T21:08:21.069Z"
   },
   {
    "duration": 47,
    "start_time": "2022-07-03T21:08:21.085Z"
   },
   {
    "duration": 12,
    "start_time": "2022-07-03T21:08:21.134Z"
   },
   {
    "duration": 15,
    "start_time": "2022-07-03T21:08:21.149Z"
   },
   {
    "duration": 18,
    "start_time": "2022-07-03T21:08:21.166Z"
   },
   {
    "duration": 17,
    "start_time": "2022-07-03T21:08:21.186Z"
   },
   {
    "duration": 36,
    "start_time": "2022-07-03T21:08:21.205Z"
   },
   {
    "duration": 42,
    "start_time": "2022-07-03T21:08:21.243Z"
   },
   {
    "duration": 42,
    "start_time": "2022-07-03T21:08:21.287Z"
   },
   {
    "duration": 27,
    "start_time": "2022-07-03T21:08:21.331Z"
   },
   {
    "duration": 17,
    "start_time": "2022-07-03T21:08:21.360Z"
   },
   {
    "duration": 52,
    "start_time": "2022-07-03T21:08:21.379Z"
   },
   {
    "duration": 23,
    "start_time": "2022-07-03T21:08:21.432Z"
   },
   {
    "duration": 19,
    "start_time": "2022-07-03T21:08:21.456Z"
   },
   {
    "duration": 25,
    "start_time": "2022-07-03T21:08:21.477Z"
   },
   {
    "duration": 51,
    "start_time": "2022-07-03T21:08:21.504Z"
   },
   {
    "duration": 12,
    "start_time": "2022-07-03T21:08:21.557Z"
   },
   {
    "duration": 14,
    "start_time": "2022-07-03T21:08:21.570Z"
   },
   {
    "duration": 6,
    "start_time": "2022-07-03T21:08:21.585Z"
   },
   {
    "duration": 152,
    "start_time": "2022-07-03T21:08:21.592Z"
   },
   {
    "duration": 6,
    "start_time": "2022-07-03T21:08:21.746Z"
   },
   {
    "duration": 20,
    "start_time": "2022-07-03T21:08:21.754Z"
   },
   {
    "duration": 56,
    "start_time": "2022-07-03T21:08:21.775Z"
   },
   {
    "duration": 196,
    "start_time": "2022-07-03T21:08:21.833Z"
   },
   {
    "duration": 259,
    "start_time": "2022-07-03T21:08:22.030Z"
   },
   {
    "duration": 242,
    "start_time": "2022-07-03T21:08:22.290Z"
   },
   {
    "duration": 19,
    "start_time": "2022-07-03T21:08:22.533Z"
   },
   {
    "duration": 39,
    "start_time": "2022-07-03T21:08:22.553Z"
   },
   {
    "duration": 76,
    "start_time": "2022-07-03T21:08:25.016Z"
   },
   {
    "duration": 198,
    "start_time": "2022-07-03T21:08:40.259Z"
   },
   {
    "duration": 222,
    "start_time": "2022-07-03T21:09:06.018Z"
   },
   {
    "duration": 213,
    "start_time": "2022-07-03T21:09:26.144Z"
   },
   {
    "duration": 190,
    "start_time": "2022-07-03T21:09:44.523Z"
   },
   {
    "duration": 210,
    "start_time": "2022-07-03T21:10:21.805Z"
   },
   {
    "duration": 219,
    "start_time": "2022-07-03T21:11:03.312Z"
   },
   {
    "duration": 211,
    "start_time": "2022-07-03T21:11:14.159Z"
   },
   {
    "duration": 270,
    "start_time": "2022-07-03T21:13:03.514Z"
   },
   {
    "duration": 218,
    "start_time": "2022-07-03T21:13:28.943Z"
   },
   {
    "duration": 332,
    "start_time": "2022-07-03T21:13:39.918Z"
   },
   {
    "duration": 51,
    "start_time": "2022-07-03T21:14:39.887Z"
   },
   {
    "duration": 3,
    "start_time": "2022-07-03T21:14:39.940Z"
   },
   {
    "duration": 532,
    "start_time": "2022-07-03T21:14:39.945Z"
   },
   {
    "duration": 25,
    "start_time": "2022-07-03T21:14:40.480Z"
   },
   {
    "duration": 18,
    "start_time": "2022-07-03T21:14:40.507Z"
   },
   {
    "duration": 11,
    "start_time": "2022-07-03T21:14:40.527Z"
   },
   {
    "duration": 4,
    "start_time": "2022-07-03T21:14:40.539Z"
   },
   {
    "duration": 30,
    "start_time": "2022-07-03T21:14:40.545Z"
   },
   {
    "duration": 15,
    "start_time": "2022-07-03T21:14:40.576Z"
   },
   {
    "duration": 46,
    "start_time": "2022-07-03T21:14:40.594Z"
   },
   {
    "duration": 13,
    "start_time": "2022-07-03T21:14:40.641Z"
   },
   {
    "duration": 43,
    "start_time": "2022-07-03T21:14:40.655Z"
   },
   {
    "duration": 37,
    "start_time": "2022-07-03T21:14:40.700Z"
   },
   {
    "duration": 30,
    "start_time": "2022-07-03T21:14:40.738Z"
   },
   {
    "duration": 22,
    "start_time": "2022-07-03T21:14:40.769Z"
   },
   {
    "duration": 27,
    "start_time": "2022-07-03T21:14:40.792Z"
   },
   {
    "duration": 28,
    "start_time": "2022-07-03T21:14:40.820Z"
   },
   {
    "duration": 50,
    "start_time": "2022-07-03T21:14:40.849Z"
   },
   {
    "duration": 30,
    "start_time": "2022-07-03T21:14:40.901Z"
   },
   {
    "duration": 28,
    "start_time": "2022-07-03T21:14:40.932Z"
   },
   {
    "duration": 18,
    "start_time": "2022-07-03T21:14:40.961Z"
   },
   {
    "duration": 54,
    "start_time": "2022-07-03T21:14:40.981Z"
   },
   {
    "duration": 22,
    "start_time": "2022-07-03T21:14:41.037Z"
   },
   {
    "duration": 22,
    "start_time": "2022-07-03T21:14:41.061Z"
   },
   {
    "duration": 46,
    "start_time": "2022-07-03T21:14:41.084Z"
   },
   {
    "duration": 27,
    "start_time": "2022-07-03T21:14:41.131Z"
   },
   {
    "duration": 13,
    "start_time": "2022-07-03T21:14:41.159Z"
   },
   {
    "duration": 24,
    "start_time": "2022-07-03T21:14:41.177Z"
   },
   {
    "duration": 23,
    "start_time": "2022-07-03T21:14:41.202Z"
   },
   {
    "duration": 128,
    "start_time": "2022-07-03T21:14:41.228Z"
   },
   {
    "duration": 5,
    "start_time": "2022-07-03T21:14:41.358Z"
   },
   {
    "duration": 22,
    "start_time": "2022-07-03T21:14:41.365Z"
   },
   {
    "duration": 47,
    "start_time": "2022-07-03T21:14:41.389Z"
   },
   {
    "duration": 184,
    "start_time": "2022-07-03T21:14:41.437Z"
   },
   {
    "duration": 225,
    "start_time": "2022-07-03T21:14:41.623Z"
   },
   {
    "duration": 158,
    "start_time": "2022-07-03T21:14:41.850Z"
   },
   {
    "duration": 31,
    "start_time": "2022-07-03T21:14:42.010Z"
   },
   {
    "duration": 43,
    "start_time": "2022-07-03T21:14:42.043Z"
   },
   {
    "duration": 247,
    "start_time": "2022-07-03T21:14:42.087Z"
   },
   {
    "duration": 161,
    "start_time": "2022-07-03T21:14:42.335Z"
   },
   {
    "duration": 160,
    "start_time": "2022-07-03T21:14:42.497Z"
   },
   {
    "duration": 18,
    "start_time": "2022-07-03T21:14:42.659Z"
   },
   {
    "duration": 70,
    "start_time": "2022-07-03T21:14:42.679Z"
   },
   {
    "duration": 356,
    "start_time": "2022-07-03T21:14:42.751Z"
   },
   {
    "duration": 220,
    "start_time": "2022-07-03T21:14:43.109Z"
   },
   {
    "duration": 170,
    "start_time": "2022-07-03T21:14:43.331Z"
   },
   {
    "duration": 6,
    "start_time": "2022-07-03T21:14:43.503Z"
   },
   {
    "duration": 5,
    "start_time": "2022-07-03T21:14:45.250Z"
   },
   {
    "duration": 39,
    "start_time": "2022-07-03T21:15:29.371Z"
   },
   {
    "duration": 3,
    "start_time": "2022-07-03T21:15:29.412Z"
   },
   {
    "duration": 457,
    "start_time": "2022-07-03T21:15:29.416Z"
   },
   {
    "duration": 22,
    "start_time": "2022-07-03T21:15:29.875Z"
   },
   {
    "duration": 18,
    "start_time": "2022-07-03T21:15:29.898Z"
   },
   {
    "duration": 15,
    "start_time": "2022-07-03T21:15:29.918Z"
   },
   {
    "duration": 2,
    "start_time": "2022-07-03T21:15:29.935Z"
   },
   {
    "duration": 27,
    "start_time": "2022-07-03T21:15:29.938Z"
   },
   {
    "duration": 18,
    "start_time": "2022-07-03T21:15:29.967Z"
   },
   {
    "duration": 44,
    "start_time": "2022-07-03T21:15:29.987Z"
   },
   {
    "duration": 14,
    "start_time": "2022-07-03T21:15:30.033Z"
   },
   {
    "duration": 17,
    "start_time": "2022-07-03T21:15:30.048Z"
   },
   {
    "duration": 16,
    "start_time": "2022-07-03T21:15:30.067Z"
   },
   {
    "duration": 33,
    "start_time": "2022-07-03T21:15:30.084Z"
   },
   {
    "duration": 22,
    "start_time": "2022-07-03T21:15:30.119Z"
   },
   {
    "duration": 18,
    "start_time": "2022-07-03T21:15:30.143Z"
   },
   {
    "duration": 12,
    "start_time": "2022-07-03T21:15:30.163Z"
   },
   {
    "duration": 47,
    "start_time": "2022-07-03T21:15:30.176Z"
   },
   {
    "duration": 33,
    "start_time": "2022-07-03T21:15:30.224Z"
   },
   {
    "duration": 29,
    "start_time": "2022-07-03T21:15:30.259Z"
   },
   {
    "duration": 42,
    "start_time": "2022-07-03T21:15:30.289Z"
   },
   {
    "duration": 33,
    "start_time": "2022-07-03T21:15:30.333Z"
   },
   {
    "duration": 21,
    "start_time": "2022-07-03T21:15:30.368Z"
   },
   {
    "duration": 44,
    "start_time": "2022-07-03T21:15:30.390Z"
   },
   {
    "duration": 24,
    "start_time": "2022-07-03T21:15:30.436Z"
   },
   {
    "duration": 32,
    "start_time": "2022-07-03T21:15:30.461Z"
   },
   {
    "duration": 12,
    "start_time": "2022-07-03T21:15:30.495Z"
   },
   {
    "duration": 30,
    "start_time": "2022-07-03T21:15:30.510Z"
   },
   {
    "duration": 11,
    "start_time": "2022-07-03T21:15:30.542Z"
   },
   {
    "duration": 144,
    "start_time": "2022-07-03T21:15:30.555Z"
   },
   {
    "duration": 5,
    "start_time": "2022-07-03T21:15:30.701Z"
   },
   {
    "duration": 31,
    "start_time": "2022-07-03T21:15:30.708Z"
   },
   {
    "duration": 36,
    "start_time": "2022-07-03T21:15:30.741Z"
   },
   {
    "duration": 195,
    "start_time": "2022-07-03T21:15:30.779Z"
   },
   {
    "duration": 231,
    "start_time": "2022-07-03T21:15:30.975Z"
   },
   {
    "duration": 168,
    "start_time": "2022-07-03T21:15:31.207Z"
   },
   {
    "duration": 18,
    "start_time": "2022-07-03T21:15:31.376Z"
   },
   {
    "duration": 52,
    "start_time": "2022-07-03T21:15:31.396Z"
   },
   {
    "duration": 234,
    "start_time": "2022-07-03T21:15:31.450Z"
   },
   {
    "duration": 172,
    "start_time": "2022-07-03T21:15:31.685Z"
   },
   {
    "duration": 149,
    "start_time": "2022-07-03T21:15:31.859Z"
   },
   {
    "duration": 23,
    "start_time": "2022-07-03T21:15:32.010Z"
   },
   {
    "duration": 41,
    "start_time": "2022-07-03T21:15:32.034Z"
   },
   {
    "duration": 353,
    "start_time": "2022-07-03T21:15:32.076Z"
   },
   {
    "duration": 183,
    "start_time": "2022-07-03T21:15:32.430Z"
   },
   {
    "duration": 150,
    "start_time": "2022-07-03T21:15:32.614Z"
   },
   {
    "duration": 5,
    "start_time": "2022-07-03T21:15:32.765Z"
   },
   {
    "duration": 9,
    "start_time": "2022-07-03T21:15:32.771Z"
   },
   {
    "duration": 5,
    "start_time": "2022-07-03T21:15:35.662Z"
   },
   {
    "duration": 38,
    "start_time": "2022-07-03T21:28:25.636Z"
   },
   {
    "duration": 3,
    "start_time": "2022-07-03T21:28:25.676Z"
   },
   {
    "duration": 472,
    "start_time": "2022-07-03T21:28:25.680Z"
   },
   {
    "duration": 27,
    "start_time": "2022-07-03T21:28:26.155Z"
   },
   {
    "duration": 21,
    "start_time": "2022-07-03T21:28:26.184Z"
   },
   {
    "duration": 8,
    "start_time": "2022-07-03T21:28:26.207Z"
   },
   {
    "duration": 1,
    "start_time": "2022-07-03T21:28:26.217Z"
   },
   {
    "duration": 23,
    "start_time": "2022-07-03T21:28:26.228Z"
   },
   {
    "duration": 15,
    "start_time": "2022-07-03T21:28:26.253Z"
   },
   {
    "duration": 18,
    "start_time": "2022-07-03T21:28:26.271Z"
   },
   {
    "duration": 43,
    "start_time": "2022-07-03T21:28:26.291Z"
   },
   {
    "duration": 18,
    "start_time": "2022-07-03T21:28:26.336Z"
   },
   {
    "duration": 11,
    "start_time": "2022-07-03T21:28:26.356Z"
   },
   {
    "duration": 15,
    "start_time": "2022-07-03T21:28:26.369Z"
   },
   {
    "duration": 13,
    "start_time": "2022-07-03T21:28:26.385Z"
   },
   {
    "duration": 34,
    "start_time": "2022-07-03T21:28:26.399Z"
   },
   {
    "duration": 12,
    "start_time": "2022-07-03T21:28:26.434Z"
   },
   {
    "duration": 45,
    "start_time": "2022-07-03T21:28:26.447Z"
   },
   {
    "duration": 56,
    "start_time": "2022-07-03T21:28:26.494Z"
   },
   {
    "duration": 28,
    "start_time": "2022-07-03T21:28:26.551Z"
   },
   {
    "duration": 20,
    "start_time": "2022-07-03T21:28:26.581Z"
   },
   {
    "duration": 51,
    "start_time": "2022-07-03T21:28:26.603Z"
   },
   {
    "duration": 23,
    "start_time": "2022-07-03T21:28:26.655Z"
   },
   {
    "duration": 19,
    "start_time": "2022-07-03T21:28:26.680Z"
   },
   {
    "duration": 39,
    "start_time": "2022-07-03T21:28:26.701Z"
   },
   {
    "duration": 22,
    "start_time": "2022-07-03T21:28:26.742Z"
   },
   {
    "duration": 15,
    "start_time": "2022-07-03T21:28:26.766Z"
   },
   {
    "duration": 14,
    "start_time": "2022-07-03T21:28:26.783Z"
   },
   {
    "duration": 32,
    "start_time": "2022-07-03T21:28:26.799Z"
   },
   {
    "duration": 141,
    "start_time": "2022-07-03T21:28:26.833Z"
   },
   {
    "duration": 6,
    "start_time": "2022-07-03T21:31:16.364Z"
   },
   {
    "duration": 18,
    "start_time": "2022-07-03T21:31:18.492Z"
   },
   {
    "duration": 46,
    "start_time": "2022-07-03T21:31:28.048Z"
   },
   {
    "duration": 176,
    "start_time": "2022-07-03T21:31:29.853Z"
   },
   {
    "duration": 244,
    "start_time": "2022-07-03T21:31:31.450Z"
   },
   {
    "duration": 160,
    "start_time": "2022-07-03T21:31:33.497Z"
   },
   {
    "duration": 165,
    "start_time": "2022-07-03T21:32:51.354Z"
   },
   {
    "duration": 132,
    "start_time": "2022-07-03T21:32:55.760Z"
   },
   {
    "duration": 252,
    "start_time": "2022-07-03T21:33:03.258Z"
   },
   {
    "duration": 138,
    "start_time": "2022-07-03T21:33:13.207Z"
   },
   {
    "duration": 18,
    "start_time": "2022-07-03T21:33:25.058Z"
   },
   {
    "duration": 48,
    "start_time": "2022-07-03T21:33:39.782Z"
   },
   {
    "duration": 250,
    "start_time": "2022-07-03T21:34:35.269Z"
   },
   {
    "duration": 218,
    "start_time": "2022-07-03T21:35:07.269Z"
   },
   {
    "duration": 143,
    "start_time": "2022-07-03T21:35:11.900Z"
   },
   {
    "duration": 6,
    "start_time": "2022-07-03T21:41:36.173Z"
   },
   {
    "duration": 8,
    "start_time": "2022-07-03T21:41:39.784Z"
   },
   {
    "duration": 4,
    "start_time": "2022-07-03T21:41:41.312Z"
   },
   {
    "duration": 76,
    "start_time": "2022-07-03T21:48:28.479Z"
   },
   {
    "duration": 152,
    "start_time": "2022-07-03T21:48:35.521Z"
   },
   {
    "duration": 211,
    "start_time": "2022-07-03T21:48:52.944Z"
   },
   {
    "duration": 243,
    "start_time": "2022-07-03T21:53:36.468Z"
   },
   {
    "duration": 269,
    "start_time": "2022-07-03T21:54:50.240Z"
   },
   {
    "duration": 20,
    "start_time": "2022-07-03T21:57:05.387Z"
   },
   {
    "duration": 43,
    "start_time": "2022-07-03T21:57:07.166Z"
   },
   {
    "duration": 18,
    "start_time": "2022-07-03T21:57:37.261Z"
   },
   {
    "duration": 38,
    "start_time": "2022-07-03T21:57:38.835Z"
   },
   {
    "duration": 40,
    "start_time": "2022-07-03T22:26:25.912Z"
   },
   {
    "duration": 3,
    "start_time": "2022-07-03T22:26:25.955Z"
   },
   {
    "duration": 636,
    "start_time": "2022-07-03T22:26:25.959Z"
   },
   {
    "duration": 23,
    "start_time": "2022-07-03T22:26:26.597Z"
   },
   {
    "duration": 21,
    "start_time": "2022-07-03T22:26:26.622Z"
   },
   {
    "duration": 13,
    "start_time": "2022-07-03T22:26:26.645Z"
   },
   {
    "duration": 3,
    "start_time": "2022-07-03T22:26:26.660Z"
   },
   {
    "duration": 27,
    "start_time": "2022-07-03T22:26:26.665Z"
   },
   {
    "duration": 47,
    "start_time": "2022-07-03T22:26:26.694Z"
   },
   {
    "duration": 21,
    "start_time": "2022-07-03T22:26:26.744Z"
   },
   {
    "duration": 12,
    "start_time": "2022-07-03T22:26:26.766Z"
   },
   {
    "duration": 17,
    "start_time": "2022-07-03T22:26:26.780Z"
   },
   {
    "duration": 18,
    "start_time": "2022-07-03T22:26:26.829Z"
   },
   {
    "duration": 17,
    "start_time": "2022-07-03T22:26:26.849Z"
   },
   {
    "duration": 18,
    "start_time": "2022-07-03T22:26:26.868Z"
   },
   {
    "duration": 12,
    "start_time": "2022-07-03T22:26:26.888Z"
   },
   {
    "duration": 38,
    "start_time": "2022-07-03T22:26:26.901Z"
   },
   {
    "duration": 48,
    "start_time": "2022-07-03T22:26:26.940Z"
   },
   {
    "duration": 49,
    "start_time": "2022-07-03T22:26:26.989Z"
   },
   {
    "duration": 30,
    "start_time": "2022-07-03T22:26:27.039Z"
   },
   {
    "duration": 19,
    "start_time": "2022-07-03T22:26:27.070Z"
   },
   {
    "duration": 59,
    "start_time": "2022-07-03T22:26:27.091Z"
   },
   {
    "duration": 26,
    "start_time": "2022-07-03T22:26:27.151Z"
   },
   {
    "duration": 23,
    "start_time": "2022-07-03T22:26:27.179Z"
   },
   {
    "duration": 53,
    "start_time": "2022-07-03T22:26:27.203Z"
   },
   {
    "duration": 23,
    "start_time": "2022-07-03T22:26:27.258Z"
   },
   {
    "duration": 16,
    "start_time": "2022-07-03T22:26:27.282Z"
   },
   {
    "duration": 46,
    "start_time": "2022-07-03T22:26:27.302Z"
   },
   {
    "duration": 6,
    "start_time": "2022-07-03T22:26:27.349Z"
   },
   {
    "duration": 164,
    "start_time": "2022-07-03T22:26:27.357Z"
   },
   {
    "duration": 10,
    "start_time": "2022-07-03T22:26:27.522Z"
   },
   {
    "duration": 22,
    "start_time": "2022-07-03T22:26:27.534Z"
   },
   {
    "duration": 38,
    "start_time": "2022-07-03T22:26:27.557Z"
   },
   {
    "duration": 202,
    "start_time": "2022-07-03T22:26:27.629Z"
   },
   {
    "duration": 144,
    "start_time": "2022-07-03T22:26:27.832Z"
   },
   {
    "duration": 392,
    "start_time": "2022-07-03T22:26:27.978Z"
   },
   {
    "duration": 18,
    "start_time": "2022-07-03T22:26:28.372Z"
   },
   {
    "duration": 62,
    "start_time": "2022-07-03T22:26:28.392Z"
   },
   {
    "duration": 277,
    "start_time": "2022-07-03T22:26:28.455Z"
   },
   {
    "duration": 190,
    "start_time": "2022-07-03T22:26:28.734Z"
   },
   {
    "duration": 163,
    "start_time": "2022-07-03T22:26:28.925Z"
   },
   {
    "duration": 20,
    "start_time": "2022-07-03T22:26:29.089Z"
   },
   {
    "duration": 54,
    "start_time": "2022-07-03T22:26:29.111Z"
   },
   {
    "duration": 288,
    "start_time": "2022-07-03T22:26:29.166Z"
   },
   {
    "duration": 191,
    "start_time": "2022-07-03T22:26:29.455Z"
   },
   {
    "duration": 271,
    "start_time": "2022-07-03T22:26:29.648Z"
   },
   {
    "duration": 23,
    "start_time": "2022-07-03T22:26:29.920Z"
   },
   {
    "duration": 37,
    "start_time": "2022-07-03T22:26:29.945Z"
   },
   {
    "duration": 255,
    "start_time": "2022-07-03T22:26:29.983Z"
   },
   {
    "duration": 4,
    "start_time": "2022-07-03T22:26:30.240Z"
   },
   {
    "duration": 18,
    "start_time": "2022-07-03T22:26:30.246Z"
   },
   {
    "duration": 10,
    "start_time": "2022-07-03T22:26:30.265Z"
   },
   {
    "duration": 168,
    "start_time": "2022-07-04T07:13:28.023Z"
   },
   {
    "duration": 163,
    "start_time": "2023-04-17T18:13:08.785Z"
   },
   {
    "duration": 1602,
    "start_time": "2023-04-17T18:13:08.951Z"
   },
   {
    "duration": 1529,
    "start_time": "2023-04-17T18:13:10.555Z"
   },
   {
    "duration": 45,
    "start_time": "2023-04-17T18:13:12.086Z"
   },
   {
    "duration": 52,
    "start_time": "2023-04-17T18:13:12.142Z"
   },
   {
    "duration": 31,
    "start_time": "2023-04-17T18:13:12.196Z"
   },
   {
    "duration": 31,
    "start_time": "2023-04-17T18:13:12.228Z"
   },
   {
    "duration": 93,
    "start_time": "2023-04-17T18:13:12.261Z"
   },
   {
    "duration": 53,
    "start_time": "2023-04-17T18:13:12.358Z"
   },
   {
    "duration": 66,
    "start_time": "2023-04-17T18:13:12.413Z"
   },
   {
    "duration": 63,
    "start_time": "2023-04-17T18:13:12.481Z"
   },
   {
    "duration": 69,
    "start_time": "2023-04-17T18:13:12.546Z"
   },
   {
    "duration": 49,
    "start_time": "2023-04-17T18:13:12.628Z"
   },
   {
    "duration": 107,
    "start_time": "2023-04-17T18:13:12.681Z"
   },
   {
    "duration": 82,
    "start_time": "2023-04-17T18:13:12.790Z"
   },
   {
    "duration": 31,
    "start_time": "2023-04-17T18:13:12.875Z"
   },
   {
    "duration": 95,
    "start_time": "2023-04-17T18:13:12.908Z"
   },
   {
    "duration": 87,
    "start_time": "2023-04-17T18:13:13.005Z"
   },
   {
    "duration": 58,
    "start_time": "2023-04-17T18:13:13.095Z"
   },
   {
    "duration": 52,
    "start_time": "2023-04-17T18:13:13.155Z"
   },
   {
    "duration": 53,
    "start_time": "2023-04-17T18:13:13.209Z"
   },
   {
    "duration": 76,
    "start_time": "2023-04-17T18:13:13.264Z"
   },
   {
    "duration": 42,
    "start_time": "2023-04-17T18:13:13.342Z"
   },
   {
    "duration": 35,
    "start_time": "2023-04-17T18:13:13.386Z"
   },
   {
    "duration": 41,
    "start_time": "2023-04-17T18:13:13.427Z"
   },
   {
    "duration": 27,
    "start_time": "2023-04-17T18:13:13.470Z"
   },
   {
    "duration": 14,
    "start_time": "2023-04-17T18:13:13.500Z"
   },
   {
    "duration": 47,
    "start_time": "2023-04-17T18:13:13.517Z"
   },
   {
    "duration": 7,
    "start_time": "2023-04-17T18:13:13.566Z"
   },
   {
    "duration": 193,
    "start_time": "2023-04-17T18:13:13.575Z"
   },
   {
    "duration": 7,
    "start_time": "2023-04-17T18:13:13.770Z"
   },
   {
    "duration": 30,
    "start_time": "2023-04-17T18:13:13.778Z"
   },
   {
    "duration": 69,
    "start_time": "2023-04-17T18:13:13.810Z"
   },
   {
    "duration": 358,
    "start_time": "2023-04-17T18:13:18.894Z"
   },
   {
    "duration": 294,
    "start_time": "2023-04-17T18:13:28.117Z"
   },
   {
    "duration": 228,
    "start_time": "2023-04-17T18:13:38.880Z"
   },
   {
    "duration": 224,
    "start_time": "2023-04-17T18:14:24.017Z"
   },
   {
    "duration": 219,
    "start_time": "2023-04-17T18:14:50.897Z"
   },
   {
    "duration": 237,
    "start_time": "2023-04-17T18:17:58.453Z"
   },
   {
    "duration": 242,
    "start_time": "2023-04-17T18:18:12.200Z"
   },
   {
    "duration": 220,
    "start_time": "2023-04-17T18:18:35.306Z"
   },
   {
    "duration": 352,
    "start_time": "2023-04-17T18:20:44.904Z"
   },
   {
    "duration": 234,
    "start_time": "2023-04-17T18:21:11.431Z"
   },
   {
    "duration": 48,
    "start_time": "2023-04-17T18:22:44.307Z"
   },
   {
    "duration": 63,
    "start_time": "2023-04-17T18:23:05.535Z"
   },
   {
    "duration": 57,
    "start_time": "2023-04-17T18:23:29.077Z"
   },
   {
    "duration": 65,
    "start_time": "2023-04-17T18:23:39.396Z"
   },
   {
    "duration": 63,
    "start_time": "2023-04-17T18:24:26.481Z"
   },
   {
    "duration": 64,
    "start_time": "2023-04-17T18:24:33.883Z"
   },
   {
    "duration": 55,
    "start_time": "2023-04-17T18:24:44.709Z"
   },
   {
    "duration": 85,
    "start_time": "2023-04-17T18:25:04.308Z"
   },
   {
    "duration": 52,
    "start_time": "2023-04-17T18:25:10.243Z"
   },
   {
    "duration": 101,
    "start_time": "2023-04-17T18:25:13.386Z"
   },
   {
    "duration": 300,
    "start_time": "2023-04-17T18:25:21.011Z"
   },
   {
    "duration": 77,
    "start_time": "2023-04-17T18:25:40.585Z"
   },
   {
    "duration": 307,
    "start_time": "2023-04-17T18:26:09.282Z"
   },
   {
    "duration": 265,
    "start_time": "2023-04-17T18:27:07.406Z"
   },
   {
    "duration": 313,
    "start_time": "2023-04-17T18:27:21.505Z"
   },
   {
    "duration": 310,
    "start_time": "2023-04-17T18:28:02.703Z"
   },
   {
    "duration": 321,
    "start_time": "2023-04-17T18:28:27.587Z"
   },
   {
    "duration": 280,
    "start_time": "2023-04-17T18:29:12.502Z"
   },
   {
    "duration": 450,
    "start_time": "2023-04-17T18:30:01.785Z"
   },
   {
    "duration": 307,
    "start_time": "2023-04-17T18:30:25.032Z"
   }
  ],
  "kernelspec": {
   "display_name": "Python 3 (ipykernel)",
   "language": "python",
   "name": "python3"
  },
  "language_info": {
   "codemirror_mode": {
    "name": "ipython",
    "version": 3
   },
   "file_extension": ".py",
   "mimetype": "text/x-python",
   "name": "python",
   "nbconvert_exporter": "python",
   "pygments_lexer": "ipython3",
   "version": "3.9.7"
  },
  "toc": {
   "base_numbering": 1,
   "nav_menu": {},
   "number_sections": true,
   "sideBar": true,
   "skip_h1_title": true,
   "title_cell": "Table of Contents",
   "title_sidebar": "Contents",
   "toc_cell": false,
   "toc_position": {},
   "toc_section_display": true,
   "toc_window_display": false
  }
 },
 "nbformat": 4,
 "nbformat_minor": 2
}
