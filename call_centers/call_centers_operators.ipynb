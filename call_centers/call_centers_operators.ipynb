{
 "cells": [
  {
   "cell_type": "markdown",
   "metadata": {},
   "source": [
    "# Определение неэффективности оператора"
   ]
  },
  {
   "cell_type": "markdown",
   "metadata": {},
   "source": [
    "«Нупозвони» — провайдер виртуальной телефонии. Его клиенты — колл-центры, которые: \n",
    "\n",
    "- распределяют входящие вызовы на операторов,\n",
    "- совершают исходящие вызовы силами операторов.\n",
    "\n",
    "Также операторы могут делать внутренние вызовы —  вызовы друг между другом внутри сети виртуальной телефонии.\n",
    "\n",
    "**Описание данных:**\n",
    "\n",
    "Колонки в `telecom_dataset.csv.zip`:\n",
    "\n",
    "- `user_id` — Идентификатор клиентского аккаунта в сервисе\n",
    "- `date` — Дата статистики\n",
    "- `direction` — Направление вызовов (out - исходящий вызов, in — входящий вызов)\n",
    "- `internal` — Является ли звонок внутренним звонком между операторами клиента\n",
    "- `operator_id` — Идентификатор оператора\n",
    "- `is_missed_call` — Является ли звонок пропущенным\n",
    "- `calls_count` — Количество звонков\n",
    "- `call_duration` — Длительность звонка (без учета времени ожидания)\n",
    "- `total_call_duration` — Длительность звонка (с учетом времени ожидания)\n",
    "\n",
    "Колонки в `telecom_clients.csv`:\n",
    "\n",
    "- `user_id` — Идентификатор клиентского аккаунта в сервисе\n",
    "- `tariff_plan` — Текущий тарифный план клиента\n",
    "- `date_start` — Дата регистрации клиентв в сервисе"
   ]
  },
  {
   "cell_type": "markdown",
   "metadata": {},
   "source": [
    "## Загрузка данных и подготовка к исследованию"
   ]
  },
  {
   "cell_type": "markdown",
   "metadata": {},
   "source": [
    "### Чтение файла"
   ]
  },
  {
   "cell_type": "code",
   "execution_count": 1,
   "metadata": {},
   "outputs": [],
   "source": [
    "import pandas as pd\n",
    "import matplotlib.pyplot as plt\n",
    "import seaborn as sns\n",
    "import numpy as np\n",
    "from scipy import stats\n",
    "import statistics"
   ]
  },
  {
   "cell_type": "code",
   "execution_count": 2,
   "metadata": {},
   "outputs": [],
   "source": [
    "try:\n",
    "    telecom_clients = pd.read_csv('/datasets/telecom_clients.csv')\n",
    "    telecom_dataset = pd.read_csv('/datasets/telecom_dataset.csv')\n",
    "except:\n",
    "    telecom_clients = pd.read_csv('telecom_clients.csv')\n",
    "    telecom_dataset = pd.read_csv('telecom_dataset.csv')"
   ]
  },
  {
   "cell_type": "code",
   "execution_count": 3,
   "metadata": {},
   "outputs": [
    {
     "name": "stdout",
     "output_type": "stream",
     "text": [
      "<class 'pandas.core.frame.DataFrame'>\n",
      "RangeIndex: 732 entries, 0 to 731\n",
      "Data columns (total 3 columns):\n",
      " #   Column       Non-Null Count  Dtype \n",
      "---  ------       --------------  ----- \n",
      " 0   user_id      732 non-null    int64 \n",
      " 1   tariff_plan  732 non-null    object\n",
      " 2   date_start   732 non-null    object\n",
      "dtypes: int64(1), object(2)\n",
      "memory usage: 17.3+ KB\n"
     ]
    },
    {
     "data": {
      "text/html": [
       "<div>\n",
       "<style scoped>\n",
       "    .dataframe tbody tr th:only-of-type {\n",
       "        vertical-align: middle;\n",
       "    }\n",
       "\n",
       "    .dataframe tbody tr th {\n",
       "        vertical-align: top;\n",
       "    }\n",
       "\n",
       "    .dataframe thead th {\n",
       "        text-align: right;\n",
       "    }\n",
       "</style>\n",
       "<table border=\"1\" class=\"dataframe\">\n",
       "  <thead>\n",
       "    <tr style=\"text-align: right;\">\n",
       "      <th></th>\n",
       "      <th>user_id</th>\n",
       "      <th>tariff_plan</th>\n",
       "      <th>date_start</th>\n",
       "    </tr>\n",
       "  </thead>\n",
       "  <tbody>\n",
       "    <tr>\n",
       "      <th>581</th>\n",
       "      <td>167651</td>\n",
       "      <td>B</td>\n",
       "      <td>2019-09-24</td>\n",
       "    </tr>\n",
       "    <tr>\n",
       "      <th>622</th>\n",
       "      <td>167002</td>\n",
       "      <td>B</td>\n",
       "      <td>2019-08-28</td>\n",
       "    </tr>\n",
       "    <tr>\n",
       "      <th>234</th>\n",
       "      <td>167827</td>\n",
       "      <td>C</td>\n",
       "      <td>2019-10-02</td>\n",
       "    </tr>\n",
       "    <tr>\n",
       "      <th>112</th>\n",
       "      <td>168115</td>\n",
       "      <td>C</td>\n",
       "      <td>2019-10-14</td>\n",
       "    </tr>\n",
       "    <tr>\n",
       "      <th>399</th>\n",
       "      <td>166773</td>\n",
       "      <td>C</td>\n",
       "      <td>2019-08-19</td>\n",
       "    </tr>\n",
       "    <tr>\n",
       "      <th>727</th>\n",
       "      <td>166554</td>\n",
       "      <td>B</td>\n",
       "      <td>2019-08-08</td>\n",
       "    </tr>\n",
       "    <tr>\n",
       "      <th>394</th>\n",
       "      <td>168093</td>\n",
       "      <td>C</td>\n",
       "      <td>2019-10-14</td>\n",
       "    </tr>\n",
       "    <tr>\n",
       "      <th>309</th>\n",
       "      <td>167059</td>\n",
       "      <td>C</td>\n",
       "      <td>2019-08-29</td>\n",
       "    </tr>\n",
       "    <tr>\n",
       "      <th>620</th>\n",
       "      <td>167004</td>\n",
       "      <td>B</td>\n",
       "      <td>2019-08-28</td>\n",
       "    </tr>\n",
       "    <tr>\n",
       "      <th>78</th>\n",
       "      <td>167584</td>\n",
       "      <td>C</td>\n",
       "      <td>2019-09-21</td>\n",
       "    </tr>\n",
       "  </tbody>\n",
       "</table>\n",
       "</div>"
      ],
      "text/plain": [
       "     user_id tariff_plan  date_start\n",
       "581   167651           B  2019-09-24\n",
       "622   167002           B  2019-08-28\n",
       "234   167827           C  2019-10-02\n",
       "112   168115           C  2019-10-14\n",
       "399   166773           C  2019-08-19\n",
       "727   166554           B  2019-08-08\n",
       "394   168093           C  2019-10-14\n",
       "309   167059           C  2019-08-29\n",
       "620   167004           B  2019-08-28\n",
       "78    167584           C  2019-09-21"
      ]
     },
     "execution_count": 3,
     "metadata": {},
     "output_type": "execute_result"
    }
   ],
   "source": [
    "telecom_clients.info()\n",
    "telecom_clients.sample(10)"
   ]
  },
  {
   "cell_type": "code",
   "execution_count": 4,
   "metadata": {
    "scrolled": false
   },
   "outputs": [
    {
     "name": "stdout",
     "output_type": "stream",
     "text": [
      "<class 'pandas.core.frame.DataFrame'>\n",
      "RangeIndex: 53902 entries, 0 to 53901\n",
      "Data columns (total 9 columns):\n",
      " #   Column               Non-Null Count  Dtype  \n",
      "---  ------               --------------  -----  \n",
      " 0   user_id              53902 non-null  int64  \n",
      " 1   date                 53902 non-null  object \n",
      " 2   direction            53902 non-null  object \n",
      " 3   internal             53785 non-null  object \n",
      " 4   operator_id          45730 non-null  float64\n",
      " 5   is_missed_call       53902 non-null  bool   \n",
      " 6   calls_count          53902 non-null  int64  \n",
      " 7   call_duration        53902 non-null  int64  \n",
      " 8   total_call_duration  53902 non-null  int64  \n",
      "dtypes: bool(1), float64(1), int64(4), object(3)\n",
      "memory usage: 3.3+ MB\n"
     ]
    },
    {
     "data": {
      "text/html": [
       "<div>\n",
       "<style scoped>\n",
       "    .dataframe tbody tr th:only-of-type {\n",
       "        vertical-align: middle;\n",
       "    }\n",
       "\n",
       "    .dataframe tbody tr th {\n",
       "        vertical-align: top;\n",
       "    }\n",
       "\n",
       "    .dataframe thead th {\n",
       "        text-align: right;\n",
       "    }\n",
       "</style>\n",
       "<table border=\"1\" class=\"dataframe\">\n",
       "  <thead>\n",
       "    <tr style=\"text-align: right;\">\n",
       "      <th></th>\n",
       "      <th>user_id</th>\n",
       "      <th>date</th>\n",
       "      <th>direction</th>\n",
       "      <th>internal</th>\n",
       "      <th>operator_id</th>\n",
       "      <th>is_missed_call</th>\n",
       "      <th>calls_count</th>\n",
       "      <th>call_duration</th>\n",
       "      <th>total_call_duration</th>\n",
       "    </tr>\n",
       "  </thead>\n",
       "  <tbody>\n",
       "    <tr>\n",
       "      <th>15515</th>\n",
       "      <td>166899</td>\n",
       "      <td>2019-10-23 00:00:00+03:00</td>\n",
       "      <td>out</td>\n",
       "      <td>False</td>\n",
       "      <td>894656.0</td>\n",
       "      <td>False</td>\n",
       "      <td>28</td>\n",
       "      <td>1434</td>\n",
       "      <td>1603</td>\n",
       "    </tr>\n",
       "    <tr>\n",
       "      <th>17579</th>\n",
       "      <td>166940</td>\n",
       "      <td>2019-11-25 00:00:00+03:00</td>\n",
       "      <td>out</td>\n",
       "      <td>True</td>\n",
       "      <td>897030.0</td>\n",
       "      <td>True</td>\n",
       "      <td>1</td>\n",
       "      <td>0</td>\n",
       "      <td>0</td>\n",
       "    </tr>\n",
       "    <tr>\n",
       "      <th>43801</th>\n",
       "      <td>168018</td>\n",
       "      <td>2019-11-13 00:00:00+03:00</td>\n",
       "      <td>out</td>\n",
       "      <td>False</td>\n",
       "      <td>945900.0</td>\n",
       "      <td>False</td>\n",
       "      <td>53</td>\n",
       "      <td>559</td>\n",
       "      <td>1399</td>\n",
       "    </tr>\n",
       "    <tr>\n",
       "      <th>28557</th>\n",
       "      <td>167183</td>\n",
       "      <td>2019-10-30 00:00:00+03:00</td>\n",
       "      <td>out</td>\n",
       "      <td>False</td>\n",
       "      <td>932292.0</td>\n",
       "      <td>False</td>\n",
       "      <td>2</td>\n",
       "      <td>156</td>\n",
       "      <td>174</td>\n",
       "    </tr>\n",
       "    <tr>\n",
       "      <th>37439</th>\n",
       "      <td>167626</td>\n",
       "      <td>2019-10-13 00:00:00+03:00</td>\n",
       "      <td>in</td>\n",
       "      <td>False</td>\n",
       "      <td>919166.0</td>\n",
       "      <td>False</td>\n",
       "      <td>53</td>\n",
       "      <td>3396</td>\n",
       "      <td>3751</td>\n",
       "    </tr>\n",
       "    <tr>\n",
       "      <th>9105</th>\n",
       "      <td>166658</td>\n",
       "      <td>2019-10-16 00:00:00+03:00</td>\n",
       "      <td>in</td>\n",
       "      <td>False</td>\n",
       "      <td>890404.0</td>\n",
       "      <td>False</td>\n",
       "      <td>8</td>\n",
       "      <td>1370</td>\n",
       "      <td>1477</td>\n",
       "    </tr>\n",
       "    <tr>\n",
       "      <th>52763</th>\n",
       "      <td>168361</td>\n",
       "      <td>2019-11-18 00:00:00+03:00</td>\n",
       "      <td>out</td>\n",
       "      <td>False</td>\n",
       "      <td>945310.0</td>\n",
       "      <td>False</td>\n",
       "      <td>77</td>\n",
       "      <td>16617</td>\n",
       "      <td>18297</td>\n",
       "    </tr>\n",
       "    <tr>\n",
       "      <th>48663</th>\n",
       "      <td>168187</td>\n",
       "      <td>2019-11-13 00:00:00+03:00</td>\n",
       "      <td>in</td>\n",
       "      <td>False</td>\n",
       "      <td>937958.0</td>\n",
       "      <td>False</td>\n",
       "      <td>6</td>\n",
       "      <td>1089</td>\n",
       "      <td>1154</td>\n",
       "    </tr>\n",
       "    <tr>\n",
       "      <th>23586</th>\n",
       "      <td>167102</td>\n",
       "      <td>2019-10-18 00:00:00+03:00</td>\n",
       "      <td>in</td>\n",
       "      <td>False</td>\n",
       "      <td>NaN</td>\n",
       "      <td>True</td>\n",
       "      <td>1</td>\n",
       "      <td>0</td>\n",
       "      <td>2</td>\n",
       "    </tr>\n",
       "    <tr>\n",
       "      <th>46354</th>\n",
       "      <td>168091</td>\n",
       "      <td>2019-11-25 00:00:00+03:00</td>\n",
       "      <td>out</td>\n",
       "      <td>False</td>\n",
       "      <td>958468.0</td>\n",
       "      <td>False</td>\n",
       "      <td>9</td>\n",
       "      <td>1021</td>\n",
       "      <td>1124</td>\n",
       "    </tr>\n",
       "  </tbody>\n",
       "</table>\n",
       "</div>"
      ],
      "text/plain": [
       "       user_id                       date direction internal  operator_id  \\\n",
       "15515   166899  2019-10-23 00:00:00+03:00       out    False     894656.0   \n",
       "17579   166940  2019-11-25 00:00:00+03:00       out     True     897030.0   \n",
       "43801   168018  2019-11-13 00:00:00+03:00       out    False     945900.0   \n",
       "28557   167183  2019-10-30 00:00:00+03:00       out    False     932292.0   \n",
       "37439   167626  2019-10-13 00:00:00+03:00        in    False     919166.0   \n",
       "9105    166658  2019-10-16 00:00:00+03:00        in    False     890404.0   \n",
       "52763   168361  2019-11-18 00:00:00+03:00       out    False     945310.0   \n",
       "48663   168187  2019-11-13 00:00:00+03:00        in    False     937958.0   \n",
       "23586   167102  2019-10-18 00:00:00+03:00        in    False          NaN   \n",
       "46354   168091  2019-11-25 00:00:00+03:00       out    False     958468.0   \n",
       "\n",
       "       is_missed_call  calls_count  call_duration  total_call_duration  \n",
       "15515           False           28           1434                 1603  \n",
       "17579            True            1              0                    0  \n",
       "43801           False           53            559                 1399  \n",
       "28557           False            2            156                  174  \n",
       "37439           False           53           3396                 3751  \n",
       "9105            False            8           1370                 1477  \n",
       "52763           False           77          16617                18297  \n",
       "48663           False            6           1089                 1154  \n",
       "23586            True            1              0                    2  \n",
       "46354           False            9           1021                 1124  "
      ]
     },
     "execution_count": 4,
     "metadata": {},
     "output_type": "execute_result"
    }
   ],
   "source": [
    "telecom_dataset.info()\n",
    "telecom_dataset.sample(10)"
   ]
  },
  {
   "cell_type": "markdown",
   "metadata": {},
   "source": [
    "### Предобработка данных"
   ]
  },
  {
   "cell_type": "markdown",
   "metadata": {},
   "source": [
    "- telecom_clients"
   ]
  },
  {
   "cell_type": "markdown",
   "metadata": {},
   "source": [
    "Информации о времени нет, поэтому оставляем только дату, приводим к соответствующему типу:"
   ]
  },
  {
   "cell_type": "code",
   "execution_count": 5,
   "metadata": {},
   "outputs": [
    {
     "data": {
      "text/html": [
       "<div>\n",
       "<style scoped>\n",
       "    .dataframe tbody tr th:only-of-type {\n",
       "        vertical-align: middle;\n",
       "    }\n",
       "\n",
       "    .dataframe tbody tr th {\n",
       "        vertical-align: top;\n",
       "    }\n",
       "\n",
       "    .dataframe thead th {\n",
       "        text-align: right;\n",
       "    }\n",
       "</style>\n",
       "<table border=\"1\" class=\"dataframe\">\n",
       "  <thead>\n",
       "    <tr style=\"text-align: right;\">\n",
       "      <th></th>\n",
       "      <th>user_id</th>\n",
       "      <th>tariff_plan</th>\n",
       "      <th>date_start</th>\n",
       "    </tr>\n",
       "  </thead>\n",
       "  <tbody>\n",
       "    <tr>\n",
       "      <th>0</th>\n",
       "      <td>166713</td>\n",
       "      <td>A</td>\n",
       "      <td>2019-08-15</td>\n",
       "    </tr>\n",
       "    <tr>\n",
       "      <th>1</th>\n",
       "      <td>166901</td>\n",
       "      <td>A</td>\n",
       "      <td>2019-08-23</td>\n",
       "    </tr>\n",
       "    <tr>\n",
       "      <th>2</th>\n",
       "      <td>168527</td>\n",
       "      <td>A</td>\n",
       "      <td>2019-10-29</td>\n",
       "    </tr>\n",
       "    <tr>\n",
       "      <th>3</th>\n",
       "      <td>167097</td>\n",
       "      <td>A</td>\n",
       "      <td>2019-09-01</td>\n",
       "    </tr>\n",
       "    <tr>\n",
       "      <th>4</th>\n",
       "      <td>168193</td>\n",
       "      <td>A</td>\n",
       "      <td>2019-10-16</td>\n",
       "    </tr>\n",
       "  </tbody>\n",
       "</table>\n",
       "</div>"
      ],
      "text/plain": [
       "   user_id tariff_plan date_start\n",
       "0   166713           A 2019-08-15\n",
       "1   166901           A 2019-08-23\n",
       "2   168527           A 2019-10-29\n",
       "3   167097           A 2019-09-01\n",
       "4   168193           A 2019-10-16"
      ]
     },
     "execution_count": 5,
     "metadata": {},
     "output_type": "execute_result"
    }
   ],
   "source": [
    "telecom_clients['date_start'] = pd.to_datetime(telecom_clients['date_start'], format='%Y-%m-%d')\n",
    "telecom_clients.head()"
   ]
  },
  {
   "cell_type": "markdown",
   "metadata": {},
   "source": [
    "Проверка на явные дубликаты:"
   ]
  },
  {
   "cell_type": "code",
   "execution_count": 6,
   "metadata": {},
   "outputs": [
    {
     "data": {
      "text/plain": [
       "0"
      ]
     },
     "execution_count": 6,
     "metadata": {},
     "output_type": "execute_result"
    }
   ],
   "source": [
    "telecom_clients.duplicated().sum()"
   ]
  },
  {
   "cell_type": "markdown",
   "metadata": {},
   "source": [
    "Проверка на наличие пропусков:"
   ]
  },
  {
   "cell_type": "code",
   "execution_count": 7,
   "metadata": {
    "scrolled": true
   },
   "outputs": [
    {
     "data": {
      "text/plain": [
       "user_id        0\n",
       "tariff_plan    0\n",
       "date_start     0\n",
       "dtype: int64"
      ]
     },
     "execution_count": 7,
     "metadata": {},
     "output_type": "execute_result"
    }
   ],
   "source": [
    "telecom_clients.isna().sum()"
   ]
  },
  {
   "cell_type": "code",
   "execution_count": 8,
   "metadata": {},
   "outputs": [
    {
     "data": {
      "text/plain": [
       "array(['A', 'C', 'B'], dtype=object)"
      ]
     },
     "execution_count": 8,
     "metadata": {},
     "output_type": "execute_result"
    }
   ],
   "source": [
    "telecom_clients['tariff_plan'].unique()"
   ]
  },
  {
   "cell_type": "code",
   "execution_count": 9,
   "metadata": {},
   "outputs": [
    {
     "data": {
      "text/plain": [
       "array(['2019-08-15T00:00:00.000000000', '2019-08-23T00:00:00.000000000',\n",
       "       '2019-10-29T00:00:00.000000000', '2019-09-01T00:00:00.000000000',\n",
       "       '2019-10-16T00:00:00.000000000', '2019-09-30T00:00:00.000000000',\n",
       "       '2019-08-29T00:00:00.000000000', '2019-10-17T00:00:00.000000000',\n",
       "       '2019-10-28T00:00:00.000000000', '2019-10-03T00:00:00.000000000',\n",
       "       '2019-10-31T00:00:00.000000000', '2019-08-12T00:00:00.000000000',\n",
       "       '2019-09-19T00:00:00.000000000', '2019-10-23T00:00:00.000000000',\n",
       "       '2019-10-20T00:00:00.000000000', '2019-10-24T00:00:00.000000000',\n",
       "       '2019-10-18T00:00:00.000000000', '2019-10-11T00:00:00.000000000',\n",
       "       '2019-10-10T00:00:00.000000000', '2019-10-02T00:00:00.000000000',\n",
       "       '2019-10-21T00:00:00.000000000', '2019-10-14T00:00:00.000000000',\n",
       "       '2019-10-07T00:00:00.000000000', '2019-10-01T00:00:00.000000000',\n",
       "       '2019-09-24T00:00:00.000000000', '2019-09-18T00:00:00.000000000',\n",
       "       '2019-08-22T00:00:00.000000000', '2019-08-05T00:00:00.000000000',\n",
       "       '2019-08-07T00:00:00.000000000', '2019-08-20T00:00:00.000000000',\n",
       "       '2019-09-05T00:00:00.000000000', '2019-10-26T00:00:00.000000000',\n",
       "       '2019-09-10T00:00:00.000000000', '2019-08-30T00:00:00.000000000',\n",
       "       '2019-08-26T00:00:00.000000000', '2019-08-16T00:00:00.000000000',\n",
       "       '2019-08-09T00:00:00.000000000', '2019-08-21T00:00:00.000000000',\n",
       "       '2019-08-02T00:00:00.000000000', '2019-10-15T00:00:00.000000000',\n",
       "       '2019-10-22T00:00:00.000000000', '2019-09-06T00:00:00.000000000',\n",
       "       '2019-09-04T00:00:00.000000000', '2019-08-28T00:00:00.000000000',\n",
       "       '2019-10-19T00:00:00.000000000', '2019-10-09T00:00:00.000000000',\n",
       "       '2019-08-14T00:00:00.000000000', '2019-09-02T00:00:00.000000000',\n",
       "       '2019-09-21T00:00:00.000000000', '2019-09-26T00:00:00.000000000',\n",
       "       '2019-09-16T00:00:00.000000000', '2019-09-25T00:00:00.000000000',\n",
       "       '2019-09-13T00:00:00.000000000', '2019-09-27T00:00:00.000000000',\n",
       "       '2019-09-11T00:00:00.000000000', '2019-09-14T00:00:00.000000000',\n",
       "       '2019-08-08T00:00:00.000000000', '2019-10-04T00:00:00.000000000',\n",
       "       '2019-08-01T00:00:00.000000000', '2019-08-13T00:00:00.000000000',\n",
       "       '2019-08-06T00:00:00.000000000', '2019-09-17T00:00:00.000000000',\n",
       "       '2019-09-23T00:00:00.000000000', '2019-08-19T00:00:00.000000000',\n",
       "       '2019-09-03T00:00:00.000000000', '2019-09-09T00:00:00.000000000',\n",
       "       '2019-10-08T00:00:00.000000000', '2019-09-20T00:00:00.000000000',\n",
       "       '2019-09-12T00:00:00.000000000', '2019-08-27T00:00:00.000000000',\n",
       "       '2019-08-31T00:00:00.000000000', '2019-10-30T00:00:00.000000000',\n",
       "       '2019-10-25T00:00:00.000000000'], dtype='datetime64[ns]')"
      ]
     },
     "execution_count": 9,
     "metadata": {},
     "output_type": "execute_result"
    }
   ],
   "source": [
    "telecom_clients['date_start'].unique()"
   ]
  },
  {
   "cell_type": "code",
   "execution_count": 10,
   "metadata": {},
   "outputs": [
    {
     "name": "stdout",
     "output_type": "stream",
     "text": [
      "2019-08-01 00:00:00\n",
      "2019-10-31 00:00:00\n"
     ]
    }
   ],
   "source": [
    "print(telecom_clients['date_start'].min())\n",
    "print(telecom_clients['date_start'].max())"
   ]
  },
  {
   "cell_type": "markdown",
   "metadata": {},
   "source": [
    "- telecom_dataset"
   ]
  },
  {
   "cell_type": "markdown",
   "metadata": {},
   "source": [
    "С столбцом date аналогично прошлому датасету - оставим дату:"
   ]
  },
  {
   "cell_type": "code",
   "execution_count": 11,
   "metadata": {
    "scrolled": true
   },
   "outputs": [
    {
     "data": {
      "text/html": [
       "<div>\n",
       "<style scoped>\n",
       "    .dataframe tbody tr th:only-of-type {\n",
       "        vertical-align: middle;\n",
       "    }\n",
       "\n",
       "    .dataframe tbody tr th {\n",
       "        vertical-align: top;\n",
       "    }\n",
       "\n",
       "    .dataframe thead th {\n",
       "        text-align: right;\n",
       "    }\n",
       "</style>\n",
       "<table border=\"1\" class=\"dataframe\">\n",
       "  <thead>\n",
       "    <tr style=\"text-align: right;\">\n",
       "      <th></th>\n",
       "      <th>user_id</th>\n",
       "      <th>direction</th>\n",
       "      <th>internal</th>\n",
       "      <th>operator_id</th>\n",
       "      <th>is_missed_call</th>\n",
       "      <th>calls_count</th>\n",
       "      <th>call_duration</th>\n",
       "      <th>total_call_duration</th>\n",
       "      <th>sessions_date</th>\n",
       "    </tr>\n",
       "  </thead>\n",
       "  <tbody>\n",
       "    <tr>\n",
       "      <th>0</th>\n",
       "      <td>166377</td>\n",
       "      <td>in</td>\n",
       "      <td>False</td>\n",
       "      <td>NaN</td>\n",
       "      <td>True</td>\n",
       "      <td>2</td>\n",
       "      <td>0</td>\n",
       "      <td>4</td>\n",
       "      <td>2019-08-04</td>\n",
       "    </tr>\n",
       "    <tr>\n",
       "      <th>1</th>\n",
       "      <td>166377</td>\n",
       "      <td>out</td>\n",
       "      <td>True</td>\n",
       "      <td>880022.0</td>\n",
       "      <td>True</td>\n",
       "      <td>3</td>\n",
       "      <td>0</td>\n",
       "      <td>5</td>\n",
       "      <td>2019-08-05</td>\n",
       "    </tr>\n",
       "    <tr>\n",
       "      <th>2</th>\n",
       "      <td>166377</td>\n",
       "      <td>out</td>\n",
       "      <td>True</td>\n",
       "      <td>880020.0</td>\n",
       "      <td>True</td>\n",
       "      <td>1</td>\n",
       "      <td>0</td>\n",
       "      <td>1</td>\n",
       "      <td>2019-08-05</td>\n",
       "    </tr>\n",
       "    <tr>\n",
       "      <th>3</th>\n",
       "      <td>166377</td>\n",
       "      <td>out</td>\n",
       "      <td>True</td>\n",
       "      <td>880020.0</td>\n",
       "      <td>False</td>\n",
       "      <td>1</td>\n",
       "      <td>10</td>\n",
       "      <td>18</td>\n",
       "      <td>2019-08-05</td>\n",
       "    </tr>\n",
       "    <tr>\n",
       "      <th>4</th>\n",
       "      <td>166377</td>\n",
       "      <td>out</td>\n",
       "      <td>False</td>\n",
       "      <td>880022.0</td>\n",
       "      <td>True</td>\n",
       "      <td>3</td>\n",
       "      <td>0</td>\n",
       "      <td>25</td>\n",
       "      <td>2019-08-05</td>\n",
       "    </tr>\n",
       "  </tbody>\n",
       "</table>\n",
       "</div>"
      ],
      "text/plain": [
       "   user_id direction internal  operator_id  is_missed_call  calls_count  \\\n",
       "0   166377        in    False          NaN            True            2   \n",
       "1   166377       out     True     880022.0            True            3   \n",
       "2   166377       out     True     880020.0            True            1   \n",
       "3   166377       out     True     880020.0           False            1   \n",
       "4   166377       out    False     880022.0            True            3   \n",
       "\n",
       "   call_duration  total_call_duration sessions_date  \n",
       "0              0                    4    2019-08-04  \n",
       "1              0                    5    2019-08-05  \n",
       "2              0                    1    2019-08-05  \n",
       "3             10                   18    2019-08-05  \n",
       "4              0                   25    2019-08-05  "
      ]
     },
     "execution_count": 11,
     "metadata": {},
     "output_type": "execute_result"
    }
   ],
   "source": [
    "telecom_dataset['date'] = pd.to_datetime(telecom_dataset['date'])\n",
    "telecom_dataset['sessions_date'] = telecom_dataset['date'].dt.date.astype('datetime64')\n",
    "telecom_dataset = telecom_dataset.drop('date', axis=1)\n",
    "telecom_dataset.head()"
   ]
  },
  {
   "cell_type": "code",
   "execution_count": 12,
   "metadata": {},
   "outputs": [
    {
     "data": {
      "text/html": [
       "<div>\n",
       "<style scoped>\n",
       "    .dataframe tbody tr th:only-of-type {\n",
       "        vertical-align: middle;\n",
       "    }\n",
       "\n",
       "    .dataframe tbody tr th {\n",
       "        vertical-align: top;\n",
       "    }\n",
       "\n",
       "    .dataframe thead th {\n",
       "        text-align: right;\n",
       "    }\n",
       "</style>\n",
       "<table border=\"1\" class=\"dataframe\">\n",
       "  <thead>\n",
       "    <tr style=\"text-align: right;\">\n",
       "      <th></th>\n",
       "      <th>user_id</th>\n",
       "      <th>direction</th>\n",
       "      <th>internal</th>\n",
       "      <th>operator_id</th>\n",
       "      <th>is_missed_call</th>\n",
       "      <th>calls_count</th>\n",
       "      <th>call_duration</th>\n",
       "      <th>total_call_duration</th>\n",
       "      <th>sessions_date</th>\n",
       "    </tr>\n",
       "  </thead>\n",
       "  <tbody>\n",
       "    <tr>\n",
       "      <th>153</th>\n",
       "      <td>166377</td>\n",
       "      <td>out</td>\n",
       "      <td>False</td>\n",
       "      <td>880022.0</td>\n",
       "      <td>False</td>\n",
       "      <td>5</td>\n",
       "      <td>1243</td>\n",
       "      <td>1265</td>\n",
       "      <td>2019-09-06</td>\n",
       "    </tr>\n",
       "  </tbody>\n",
       "</table>\n",
       "</div>"
      ],
      "text/plain": [
       "     user_id direction internal  operator_id  is_missed_call  calls_count  \\\n",
       "153   166377       out    False     880022.0           False            5   \n",
       "\n",
       "     call_duration  total_call_duration sessions_date  \n",
       "153           1243                 1265    2019-09-06  "
      ]
     },
     "execution_count": 12,
     "metadata": {},
     "output_type": "execute_result"
    }
   ],
   "source": [
    "telecom_dataset.loc[(telecom_dataset['operator_id'] == 880022.0)].sort_values(by='sessions_date').sample()"
   ]
  },
  {
   "cell_type": "markdown",
   "metadata": {},
   "source": [
    "Тип колонки internal приведем к типу bool:"
   ]
  },
  {
   "cell_type": "code",
   "execution_count": 13,
   "metadata": {},
   "outputs": [],
   "source": [
    "telecom_dataset['internal'] = telecom_dataset['internal'].astype(bool)"
   ]
  },
  {
   "cell_type": "markdown",
   "metadata": {},
   "source": [
    "Проверка на явные дубликаты:"
   ]
  },
  {
   "cell_type": "code",
   "execution_count": 14,
   "metadata": {},
   "outputs": [
    {
     "data": {
      "text/plain": [
       "4900"
      ]
     },
     "execution_count": 14,
     "metadata": {},
     "output_type": "execute_result"
    }
   ],
   "source": [
    "telecom_dataset.duplicated().sum()"
   ]
  },
  {
   "cell_type": "markdown",
   "metadata": {},
   "source": [
    "Доля дубликатов:"
   ]
  },
  {
   "cell_type": "code",
   "execution_count": 15,
   "metadata": {},
   "outputs": [
    {
     "data": {
      "text/plain": [
       "9.09"
      ]
     },
     "execution_count": 15,
     "metadata": {},
     "output_type": "execute_result"
    }
   ],
   "source": [
    "round(telecom_dataset.duplicated().sum() * 100/len(telecom_dataset), 2)"
   ]
  },
  {
   "cell_type": "markdown",
   "metadata": {},
   "source": [
    "Удалим:"
   ]
  },
  {
   "cell_type": "code",
   "execution_count": 16,
   "metadata": {
    "scrolled": true
   },
   "outputs": [
    {
     "data": {
      "text/plain": [
       "0"
      ]
     },
     "execution_count": 16,
     "metadata": {},
     "output_type": "execute_result"
    }
   ],
   "source": [
    "telecom_dataset.drop_duplicates(inplace=True)\n",
    "telecom_dataset.duplicated().sum()"
   ]
  },
  {
   "cell_type": "markdown",
   "metadata": {},
   "source": [
    "Проверка на наличие пропусков:"
   ]
  },
  {
   "cell_type": "code",
   "execution_count": 17,
   "metadata": {},
   "outputs": [
    {
     "data": {
      "text/plain": [
       "user_id                   0\n",
       "direction                 0\n",
       "internal                  0\n",
       "operator_id            7456\n",
       "is_missed_call            0\n",
       "calls_count               0\n",
       "call_duration             0\n",
       "total_call_duration       0\n",
       "sessions_date             0\n",
       "dtype: int64"
      ]
     },
     "execution_count": 17,
     "metadata": {},
     "output_type": "execute_result"
    }
   ],
   "source": [
    "telecom_dataset.isna().sum()"
   ]
  },
  {
   "cell_type": "markdown",
   "metadata": {},
   "source": [
    "Пропуски в долях:"
   ]
  },
  {
   "cell_type": "code",
   "execution_count": 18,
   "metadata": {},
   "outputs": [
    {
     "data": {
      "text/plain": [
       "user_id                 0.00\n",
       "direction               0.00\n",
       "internal                0.00\n",
       "operator_id            15.22\n",
       "is_missed_call          0.00\n",
       "calls_count             0.00\n",
       "call_duration           0.00\n",
       "total_call_duration     0.00\n",
       "sessions_date           0.00\n",
       "dtype: float64"
      ]
     },
     "execution_count": 18,
     "metadata": {},
     "output_type": "execute_result"
    }
   ],
   "source": [
    "round(telecom_dataset.isna().sum() * 100/len(telecom_dataset), 2)"
   ]
  },
  {
   "cell_type": "markdown",
   "metadata": {},
   "source": [
    "Столбец internal показывает звонок внешний или внутренний, пропусков меньше 1%, удалим: "
   ]
  },
  {
   "cell_type": "code",
   "execution_count": 19,
   "metadata": {},
   "outputs": [
    {
     "data": {
      "text/plain": [
       "user_id                   0\n",
       "direction                 0\n",
       "internal                  0\n",
       "operator_id            7456\n",
       "is_missed_call            0\n",
       "calls_count               0\n",
       "call_duration             0\n",
       "total_call_duration       0\n",
       "sessions_date             0\n",
       "dtype: int64"
      ]
     },
     "execution_count": 19,
     "metadata": {},
     "output_type": "execute_result"
    }
   ],
   "source": [
    "telecom_dataset = telecom_dataset.dropna(axis='index', how='any', subset=['internal'])\n",
    "telecom_dataset.isna().sum()"
   ]
  },
  {
   "cell_type": "markdown",
   "metadata": {},
   "source": [
    "Пропусков в столбце operator_id достаточно много, рассмотрим подробнее:"
   ]
  },
  {
   "cell_type": "code",
   "execution_count": 20,
   "metadata": {
    "scrolled": false
   },
   "outputs": [
    {
     "data": {
      "text/html": [
       "<div>\n",
       "<style scoped>\n",
       "    .dataframe tbody tr th:only-of-type {\n",
       "        vertical-align: middle;\n",
       "    }\n",
       "\n",
       "    .dataframe tbody tr th {\n",
       "        vertical-align: top;\n",
       "    }\n",
       "\n",
       "    .dataframe thead th {\n",
       "        text-align: right;\n",
       "    }\n",
       "</style>\n",
       "<table border=\"1\" class=\"dataframe\">\n",
       "  <thead>\n",
       "    <tr style=\"text-align: right;\">\n",
       "      <th></th>\n",
       "      <th>user_id</th>\n",
       "      <th>direction</th>\n",
       "      <th>internal</th>\n",
       "      <th>operator_id</th>\n",
       "      <th>is_missed_call</th>\n",
       "      <th>calls_count</th>\n",
       "      <th>call_duration</th>\n",
       "      <th>total_call_duration</th>\n",
       "      <th>sessions_date</th>\n",
       "    </tr>\n",
       "  </thead>\n",
       "  <tbody>\n",
       "    <tr>\n",
       "      <th>44091</th>\n",
       "      <td>168021</td>\n",
       "      <td>in</td>\n",
       "      <td>False</td>\n",
       "      <td>NaN</td>\n",
       "      <td>True</td>\n",
       "      <td>2</td>\n",
       "      <td>0</td>\n",
       "      <td>36</td>\n",
       "      <td>2019-11-19</td>\n",
       "    </tr>\n",
       "    <tr>\n",
       "      <th>29836</th>\n",
       "      <td>167264</td>\n",
       "      <td>in</td>\n",
       "      <td>False</td>\n",
       "      <td>NaN</td>\n",
       "      <td>True</td>\n",
       "      <td>3</td>\n",
       "      <td>0</td>\n",
       "      <td>73</td>\n",
       "      <td>2019-11-04</td>\n",
       "    </tr>\n",
       "    <tr>\n",
       "      <th>35760</th>\n",
       "      <td>167543</td>\n",
       "      <td>in</td>\n",
       "      <td>False</td>\n",
       "      <td>NaN</td>\n",
       "      <td>True</td>\n",
       "      <td>4</td>\n",
       "      <td>0</td>\n",
       "      <td>21</td>\n",
       "      <td>2019-10-20</td>\n",
       "    </tr>\n",
       "    <tr>\n",
       "      <th>13735</th>\n",
       "      <td>166800</td>\n",
       "      <td>in</td>\n",
       "      <td>False</td>\n",
       "      <td>NaN</td>\n",
       "      <td>True</td>\n",
       "      <td>1</td>\n",
       "      <td>0</td>\n",
       "      <td>20</td>\n",
       "      <td>2019-11-11</td>\n",
       "    </tr>\n",
       "    <tr>\n",
       "      <th>42547</th>\n",
       "      <td>167955</td>\n",
       "      <td>in</td>\n",
       "      <td>False</td>\n",
       "      <td>NaN</td>\n",
       "      <td>True</td>\n",
       "      <td>22</td>\n",
       "      <td>0</td>\n",
       "      <td>11</td>\n",
       "      <td>2019-11-26</td>\n",
       "    </tr>\n",
       "    <tr>\n",
       "      <th>42873</th>\n",
       "      <td>167977</td>\n",
       "      <td>in</td>\n",
       "      <td>False</td>\n",
       "      <td>NaN</td>\n",
       "      <td>True</td>\n",
       "      <td>8</td>\n",
       "      <td>0</td>\n",
       "      <td>237</td>\n",
       "      <td>2019-10-31</td>\n",
       "    </tr>\n",
       "    <tr>\n",
       "      <th>39006</th>\n",
       "      <td>167654</td>\n",
       "      <td>in</td>\n",
       "      <td>False</td>\n",
       "      <td>NaN</td>\n",
       "      <td>True</td>\n",
       "      <td>21</td>\n",
       "      <td>0</td>\n",
       "      <td>274</td>\n",
       "      <td>2019-11-25</td>\n",
       "    </tr>\n",
       "    <tr>\n",
       "      <th>38203</th>\n",
       "      <td>167650</td>\n",
       "      <td>in</td>\n",
       "      <td>False</td>\n",
       "      <td>NaN</td>\n",
       "      <td>True</td>\n",
       "      <td>8</td>\n",
       "      <td>0</td>\n",
       "      <td>126</td>\n",
       "      <td>2019-10-27</td>\n",
       "    </tr>\n",
       "    <tr>\n",
       "      <th>43373</th>\n",
       "      <td>167989</td>\n",
       "      <td>in</td>\n",
       "      <td>False</td>\n",
       "      <td>NaN</td>\n",
       "      <td>True</td>\n",
       "      <td>1</td>\n",
       "      <td>0</td>\n",
       "      <td>19</td>\n",
       "      <td>2019-11-22</td>\n",
       "    </tr>\n",
       "    <tr>\n",
       "      <th>42511</th>\n",
       "      <td>167955</td>\n",
       "      <td>in</td>\n",
       "      <td>False</td>\n",
       "      <td>NaN</td>\n",
       "      <td>True</td>\n",
       "      <td>5</td>\n",
       "      <td>0</td>\n",
       "      <td>0</td>\n",
       "      <td>2019-11-12</td>\n",
       "    </tr>\n",
       "    <tr>\n",
       "      <th>7855</th>\n",
       "      <td>166649</td>\n",
       "      <td>in</td>\n",
       "      <td>False</td>\n",
       "      <td>NaN</td>\n",
       "      <td>True</td>\n",
       "      <td>1</td>\n",
       "      <td>0</td>\n",
       "      <td>0</td>\n",
       "      <td>2019-09-05</td>\n",
       "    </tr>\n",
       "    <tr>\n",
       "      <th>8832</th>\n",
       "      <td>166658</td>\n",
       "      <td>in</td>\n",
       "      <td>False</td>\n",
       "      <td>NaN</td>\n",
       "      <td>True</td>\n",
       "      <td>6</td>\n",
       "      <td>0</td>\n",
       "      <td>23</td>\n",
       "      <td>2019-10-02</td>\n",
       "    </tr>\n",
       "    <tr>\n",
       "      <th>25496</th>\n",
       "      <td>167141</td>\n",
       "      <td>in</td>\n",
       "      <td>False</td>\n",
       "      <td>NaN</td>\n",
       "      <td>True</td>\n",
       "      <td>10</td>\n",
       "      <td>0</td>\n",
       "      <td>63</td>\n",
       "      <td>2019-09-09</td>\n",
       "    </tr>\n",
       "    <tr>\n",
       "      <th>42568</th>\n",
       "      <td>167958</td>\n",
       "      <td>in</td>\n",
       "      <td>False</td>\n",
       "      <td>NaN</td>\n",
       "      <td>True</td>\n",
       "      <td>1</td>\n",
       "      <td>0</td>\n",
       "      <td>2</td>\n",
       "      <td>2019-11-10</td>\n",
       "    </tr>\n",
       "    <tr>\n",
       "      <th>12528</th>\n",
       "      <td>166727</td>\n",
       "      <td>in</td>\n",
       "      <td>False</td>\n",
       "      <td>NaN</td>\n",
       "      <td>True</td>\n",
       "      <td>1</td>\n",
       "      <td>0</td>\n",
       "      <td>3</td>\n",
       "      <td>2019-09-12</td>\n",
       "    </tr>\n",
       "    <tr>\n",
       "      <th>26888</th>\n",
       "      <td>167158</td>\n",
       "      <td>in</td>\n",
       "      <td>False</td>\n",
       "      <td>NaN</td>\n",
       "      <td>True</td>\n",
       "      <td>3</td>\n",
       "      <td>0</td>\n",
       "      <td>88</td>\n",
       "      <td>2019-11-01</td>\n",
       "    </tr>\n",
       "    <tr>\n",
       "      <th>42660</th>\n",
       "      <td>167976</td>\n",
       "      <td>in</td>\n",
       "      <td>False</td>\n",
       "      <td>NaN</td>\n",
       "      <td>True</td>\n",
       "      <td>1</td>\n",
       "      <td>0</td>\n",
       "      <td>39</td>\n",
       "      <td>2019-10-15</td>\n",
       "    </tr>\n",
       "    <tr>\n",
       "      <th>40399</th>\n",
       "      <td>167819</td>\n",
       "      <td>in</td>\n",
       "      <td>False</td>\n",
       "      <td>NaN</td>\n",
       "      <td>True</td>\n",
       "      <td>1</td>\n",
       "      <td>0</td>\n",
       "      <td>4</td>\n",
       "      <td>2019-10-03</td>\n",
       "    </tr>\n",
       "    <tr>\n",
       "      <th>27051</th>\n",
       "      <td>167172</td>\n",
       "      <td>in</td>\n",
       "      <td>False</td>\n",
       "      <td>NaN</td>\n",
       "      <td>True</td>\n",
       "      <td>1</td>\n",
       "      <td>0</td>\n",
       "      <td>7</td>\n",
       "      <td>2019-10-24</td>\n",
       "    </tr>\n",
       "    <tr>\n",
       "      <th>17817</th>\n",
       "      <td>166958</td>\n",
       "      <td>in</td>\n",
       "      <td>False</td>\n",
       "      <td>NaN</td>\n",
       "      <td>True</td>\n",
       "      <td>3</td>\n",
       "      <td>0</td>\n",
       "      <td>61</td>\n",
       "      <td>2019-09-07</td>\n",
       "    </tr>\n",
       "  </tbody>\n",
       "</table>\n",
       "</div>"
      ],
      "text/plain": [
       "       user_id direction  internal  operator_id  is_missed_call  calls_count  \\\n",
       "44091   168021        in     False          NaN            True            2   \n",
       "29836   167264        in     False          NaN            True            3   \n",
       "35760   167543        in     False          NaN            True            4   \n",
       "13735   166800        in     False          NaN            True            1   \n",
       "42547   167955        in     False          NaN            True           22   \n",
       "42873   167977        in     False          NaN            True            8   \n",
       "39006   167654        in     False          NaN            True           21   \n",
       "38203   167650        in     False          NaN            True            8   \n",
       "43373   167989        in     False          NaN            True            1   \n",
       "42511   167955        in     False          NaN            True            5   \n",
       "7855    166649        in     False          NaN            True            1   \n",
       "8832    166658        in     False          NaN            True            6   \n",
       "25496   167141        in     False          NaN            True           10   \n",
       "42568   167958        in     False          NaN            True            1   \n",
       "12528   166727        in     False          NaN            True            1   \n",
       "26888   167158        in     False          NaN            True            3   \n",
       "42660   167976        in     False          NaN            True            1   \n",
       "40399   167819        in     False          NaN            True            1   \n",
       "27051   167172        in     False          NaN            True            1   \n",
       "17817   166958        in     False          NaN            True            3   \n",
       "\n",
       "       call_duration  total_call_duration sessions_date  \n",
       "44091              0                   36    2019-11-19  \n",
       "29836              0                   73    2019-11-04  \n",
       "35760              0                   21    2019-10-20  \n",
       "13735              0                   20    2019-11-11  \n",
       "42547              0                   11    2019-11-26  \n",
       "42873              0                  237    2019-10-31  \n",
       "39006              0                  274    2019-11-25  \n",
       "38203              0                  126    2019-10-27  \n",
       "43373              0                   19    2019-11-22  \n",
       "42511              0                    0    2019-11-12  \n",
       "7855               0                    0    2019-09-05  \n",
       "8832               0                   23    2019-10-02  \n",
       "25496              0                   63    2019-09-09  \n",
       "42568              0                    2    2019-11-10  \n",
       "12528              0                    3    2019-09-12  \n",
       "26888              0                   88    2019-11-01  \n",
       "42660              0                   39    2019-10-15  \n",
       "40399              0                    4    2019-10-03  \n",
       "27051              0                    7    2019-10-24  \n",
       "17817              0                   61    2019-09-07  "
      ]
     },
     "metadata": {},
     "output_type": "display_data"
    }
   ],
   "source": [
    "display(telecom_dataset[telecom_dataset['operator_id'].isna()].sample(20))"
   ]
  },
  {
   "cell_type": "markdown",
   "metadata": {},
   "source": [
    "Добавим новый столбец waiting_time и для дальнейшего исследования:"
   ]
  },
  {
   "cell_type": "code",
   "execution_count": 21,
   "metadata": {},
   "outputs": [
    {
     "data": {
      "text/html": [
       "<div>\n",
       "<style scoped>\n",
       "    .dataframe tbody tr th:only-of-type {\n",
       "        vertical-align: middle;\n",
       "    }\n",
       "\n",
       "    .dataframe tbody tr th {\n",
       "        vertical-align: top;\n",
       "    }\n",
       "\n",
       "    .dataframe thead th {\n",
       "        text-align: right;\n",
       "    }\n",
       "</style>\n",
       "<table border=\"1\" class=\"dataframe\">\n",
       "  <thead>\n",
       "    <tr style=\"text-align: right;\">\n",
       "      <th></th>\n",
       "      <th>user_id</th>\n",
       "      <th>direction</th>\n",
       "      <th>internal</th>\n",
       "      <th>operator_id</th>\n",
       "      <th>is_missed_call</th>\n",
       "      <th>calls_count</th>\n",
       "      <th>call_duration</th>\n",
       "      <th>total_call_duration</th>\n",
       "      <th>sessions_date</th>\n",
       "      <th>waiting_time</th>\n",
       "    </tr>\n",
       "  </thead>\n",
       "  <tbody>\n",
       "    <tr>\n",
       "      <th>0</th>\n",
       "      <td>166377</td>\n",
       "      <td>in</td>\n",
       "      <td>False</td>\n",
       "      <td>NaN</td>\n",
       "      <td>True</td>\n",
       "      <td>2</td>\n",
       "      <td>0</td>\n",
       "      <td>4</td>\n",
       "      <td>2019-08-04</td>\n",
       "      <td>2</td>\n",
       "    </tr>\n",
       "    <tr>\n",
       "      <th>1</th>\n",
       "      <td>166377</td>\n",
       "      <td>out</td>\n",
       "      <td>True</td>\n",
       "      <td>880022.0</td>\n",
       "      <td>True</td>\n",
       "      <td>3</td>\n",
       "      <td>0</td>\n",
       "      <td>5</td>\n",
       "      <td>2019-08-05</td>\n",
       "      <td>2</td>\n",
       "    </tr>\n",
       "    <tr>\n",
       "      <th>2</th>\n",
       "      <td>166377</td>\n",
       "      <td>out</td>\n",
       "      <td>True</td>\n",
       "      <td>880020.0</td>\n",
       "      <td>True</td>\n",
       "      <td>1</td>\n",
       "      <td>0</td>\n",
       "      <td>1</td>\n",
       "      <td>2019-08-05</td>\n",
       "      <td>1</td>\n",
       "    </tr>\n",
       "    <tr>\n",
       "      <th>3</th>\n",
       "      <td>166377</td>\n",
       "      <td>out</td>\n",
       "      <td>True</td>\n",
       "      <td>880020.0</td>\n",
       "      <td>False</td>\n",
       "      <td>1</td>\n",
       "      <td>10</td>\n",
       "      <td>18</td>\n",
       "      <td>2019-08-05</td>\n",
       "      <td>8</td>\n",
       "    </tr>\n",
       "    <tr>\n",
       "      <th>4</th>\n",
       "      <td>166377</td>\n",
       "      <td>out</td>\n",
       "      <td>False</td>\n",
       "      <td>880022.0</td>\n",
       "      <td>True</td>\n",
       "      <td>3</td>\n",
       "      <td>0</td>\n",
       "      <td>25</td>\n",
       "      <td>2019-08-05</td>\n",
       "      <td>8</td>\n",
       "    </tr>\n",
       "  </tbody>\n",
       "</table>\n",
       "</div>"
      ],
      "text/plain": [
       "   user_id direction  internal  operator_id  is_missed_call  calls_count  \\\n",
       "0   166377        in     False          NaN            True            2   \n",
       "1   166377       out      True     880022.0            True            3   \n",
       "2   166377       out      True     880020.0            True            1   \n",
       "3   166377       out      True     880020.0           False            1   \n",
       "4   166377       out     False     880022.0            True            3   \n",
       "\n",
       "   call_duration  total_call_duration sessions_date  waiting_time  \n",
       "0              0                    4    2019-08-04             2  \n",
       "1              0                    5    2019-08-05             2  \n",
       "2              0                    1    2019-08-05             1  \n",
       "3             10                   18    2019-08-05             8  \n",
       "4              0                   25    2019-08-05             8  "
      ]
     },
     "execution_count": 21,
     "metadata": {},
     "output_type": "execute_result"
    }
   ],
   "source": [
    "telecom_dataset['waiting_time'] = round((telecom_dataset['total_call_duration'] - telecom_dataset['call_duration'])/telecom_dataset['calls_count'], 0).astype(int)\n",
    "telecom_dataset.head()"
   ]
  },
  {
   "cell_type": "code",
   "execution_count": 22,
   "metadata": {},
   "outputs": [],
   "source": [
    "operator_id_isna = telecom_dataset[telecom_dataset['operator_id'].isna()]"
   ]
  },
  {
   "cell_type": "code",
   "execution_count": 23,
   "metadata": {},
   "outputs": [
    {
     "data": {
      "text/plain": [
       "7456"
      ]
     },
     "execution_count": 23,
     "metadata": {},
     "output_type": "execute_result"
    }
   ],
   "source": [
    "len(operator_id_isna)"
   ]
  },
  {
   "cell_type": "code",
   "execution_count": 24,
   "metadata": {},
   "outputs": [
    {
     "data": {
      "text/plain": [
       "516"
      ]
     },
     "execution_count": 24,
     "metadata": {},
     "output_type": "execute_result"
    }
   ],
   "source": [
    "len(operator_id_isna[operator_id_isna['waiting_time'] == 0])"
   ]
  },
  {
   "cell_type": "code",
   "execution_count": 25,
   "metadata": {},
   "outputs": [
    {
     "data": {
      "text/plain": [
       "7078"
      ]
     },
     "execution_count": 25,
     "metadata": {},
     "output_type": "execute_result"
    }
   ],
   "source": [
    "len(operator_id_isna[operator_id_isna['internal'] == False])"
   ]
  },
  {
   "cell_type": "code",
   "execution_count": 26,
   "metadata": {},
   "outputs": [
    {
     "data": {
      "text/plain": [
       "6932"
      ]
     },
     "execution_count": 26,
     "metadata": {},
     "output_type": "execute_result"
    }
   ],
   "source": [
    "len(operator_id_isna.loc[(operator_id_isna['internal'] == False) & (operator_id_isna['direction'] == 'in')])"
   ]
  },
  {
   "cell_type": "code",
   "execution_count": 27,
   "metadata": {},
   "outputs": [
    {
     "data": {
      "text/plain": [
       "146"
      ]
     },
     "execution_count": 27,
     "metadata": {},
     "output_type": "execute_result"
    }
   ],
   "source": [
    "len(operator_id_isna.loc[(operator_id_isna['internal'] == False) & (operator_id_isna['direction'] == 'out')])"
   ]
  },
  {
   "cell_type": "markdown",
   "metadata": {},
   "source": [
    "В основном это именно внешние входящие звонки, возможно, что это те звонки, которые не перевелись на какого-либо оператора. Оставим"
   ]
  },
  {
   "cell_type": "code",
   "execution_count": 28,
   "metadata": {},
   "outputs": [
    {
     "data": {
      "text/plain": [
       "array(['2019-08-04T00:00:00.000000000', '2019-08-05T00:00:00.000000000',\n",
       "       '2019-08-06T00:00:00.000000000', '2019-08-07T00:00:00.000000000',\n",
       "       '2019-08-08T00:00:00.000000000', '2019-08-09T00:00:00.000000000',\n",
       "       '2019-08-12T00:00:00.000000000', '2019-08-13T00:00:00.000000000',\n",
       "       '2019-08-14T00:00:00.000000000', '2019-08-15T00:00:00.000000000',\n",
       "       '2019-08-16T00:00:00.000000000', '2019-08-19T00:00:00.000000000',\n",
       "       '2019-08-20T00:00:00.000000000', '2019-08-21T00:00:00.000000000',\n",
       "       '2019-08-22T00:00:00.000000000', '2019-08-23T00:00:00.000000000',\n",
       "       '2019-08-24T00:00:00.000000000', '2019-08-26T00:00:00.000000000',\n",
       "       '2019-08-27T00:00:00.000000000', '2019-08-28T00:00:00.000000000',\n",
       "       '2019-08-29T00:00:00.000000000', '2019-08-30T00:00:00.000000000',\n",
       "       '2019-09-02T00:00:00.000000000', '2019-09-03T00:00:00.000000000',\n",
       "       '2019-09-04T00:00:00.000000000', '2019-09-05T00:00:00.000000000',\n",
       "       '2019-09-06T00:00:00.000000000', '2019-09-09T00:00:00.000000000',\n",
       "       '2019-09-10T00:00:00.000000000', '2019-09-11T00:00:00.000000000',\n",
       "       '2019-09-12T00:00:00.000000000', '2019-09-13T00:00:00.000000000',\n",
       "       '2019-09-16T00:00:00.000000000', '2019-09-17T00:00:00.000000000',\n",
       "       '2019-09-18T00:00:00.000000000', '2019-09-19T00:00:00.000000000',\n",
       "       '2019-09-20T00:00:00.000000000', '2019-09-23T00:00:00.000000000',\n",
       "       '2019-09-24T00:00:00.000000000', '2019-09-25T00:00:00.000000000',\n",
       "       '2019-09-26T00:00:00.000000000', '2019-09-27T00:00:00.000000000',\n",
       "       '2019-09-30T00:00:00.000000000', '2019-10-01T00:00:00.000000000',\n",
       "       '2019-10-02T00:00:00.000000000', '2019-10-03T00:00:00.000000000',\n",
       "       '2019-10-04T00:00:00.000000000', '2019-10-07T00:00:00.000000000',\n",
       "       '2019-10-08T00:00:00.000000000', '2019-10-09T00:00:00.000000000',\n",
       "       '2019-10-10T00:00:00.000000000', '2019-10-11T00:00:00.000000000',\n",
       "       '2019-10-14T00:00:00.000000000', '2019-10-15T00:00:00.000000000',\n",
       "       '2019-10-16T00:00:00.000000000', '2019-10-17T00:00:00.000000000',\n",
       "       '2019-10-18T00:00:00.000000000', '2019-10-19T00:00:00.000000000',\n",
       "       '2019-10-20T00:00:00.000000000', '2019-10-21T00:00:00.000000000',\n",
       "       '2019-10-22T00:00:00.000000000', '2019-10-23T00:00:00.000000000',\n",
       "       '2019-10-24T00:00:00.000000000', '2019-10-25T00:00:00.000000000',\n",
       "       '2019-10-28T00:00:00.000000000', '2019-10-29T00:00:00.000000000',\n",
       "       '2019-10-30T00:00:00.000000000', '2019-10-31T00:00:00.000000000',\n",
       "       '2019-11-01T00:00:00.000000000', '2019-11-05T00:00:00.000000000',\n",
       "       '2019-11-06T00:00:00.000000000', '2019-11-07T00:00:00.000000000',\n",
       "       '2019-11-08T00:00:00.000000000', '2019-11-11T00:00:00.000000000',\n",
       "       '2019-11-12T00:00:00.000000000', '2019-11-13T00:00:00.000000000',\n",
       "       '2019-11-14T00:00:00.000000000', '2019-11-15T00:00:00.000000000',\n",
       "       '2019-11-18T00:00:00.000000000', '2019-11-19T00:00:00.000000000',\n",
       "       '2019-11-20T00:00:00.000000000', '2019-11-21T00:00:00.000000000',\n",
       "       '2019-11-22T00:00:00.000000000', '2019-11-25T00:00:00.000000000',\n",
       "       '2019-11-26T00:00:00.000000000', '2019-11-27T00:00:00.000000000',\n",
       "       '2019-11-28T00:00:00.000000000', '2019-08-10T00:00:00.000000000',\n",
       "       '2019-10-12T00:00:00.000000000', '2019-08-02T00:00:00.000000000',\n",
       "       '2019-09-14T00:00:00.000000000', '2019-09-28T00:00:00.000000000',\n",
       "       '2019-10-05T00:00:00.000000000', '2019-10-06T00:00:00.000000000',\n",
       "       '2019-10-26T00:00:00.000000000', '2019-11-10T00:00:00.000000000',\n",
       "       '2019-11-17T00:00:00.000000000', '2019-11-24T00:00:00.000000000',\n",
       "       '2019-08-03T00:00:00.000000000', '2019-08-17T00:00:00.000000000',\n",
       "       '2019-08-18T00:00:00.000000000', '2019-08-25T00:00:00.000000000',\n",
       "       '2019-08-31T00:00:00.000000000', '2019-09-01T00:00:00.000000000',\n",
       "       '2019-09-07T00:00:00.000000000', '2019-09-08T00:00:00.000000000',\n",
       "       '2019-09-15T00:00:00.000000000', '2019-09-21T00:00:00.000000000',\n",
       "       '2019-09-22T00:00:00.000000000', '2019-09-29T00:00:00.000000000',\n",
       "       '2019-10-13T00:00:00.000000000', '2019-10-27T00:00:00.000000000',\n",
       "       '2019-11-02T00:00:00.000000000', '2019-11-03T00:00:00.000000000',\n",
       "       '2019-11-04T00:00:00.000000000', '2019-11-09T00:00:00.000000000',\n",
       "       '2019-11-16T00:00:00.000000000', '2019-11-23T00:00:00.000000000',\n",
       "       '2019-08-11T00:00:00.000000000'], dtype='datetime64[ns]')"
      ]
     },
     "execution_count": 28,
     "metadata": {},
     "output_type": "execute_result"
    }
   ],
   "source": [
    "telecom_dataset['sessions_date'].unique()"
   ]
  },
  {
   "cell_type": "code",
   "execution_count": 29,
   "metadata": {},
   "outputs": [
    {
     "data": {
      "text/plain": [
       "array(['in', 'out'], dtype=object)"
      ]
     },
     "execution_count": 29,
     "metadata": {},
     "output_type": "execute_result"
    }
   ],
   "source": [
    "telecom_dataset['direction'].unique()"
   ]
  },
  {
   "cell_type": "code",
   "execution_count": 30,
   "metadata": {},
   "outputs": [
    {
     "data": {
      "text/plain": [
       "array([False,  True])"
      ]
     },
     "execution_count": 30,
     "metadata": {},
     "output_type": "execute_result"
    }
   ],
   "source": [
    "telecom_dataset['internal'].unique()"
   ]
  },
  {
   "cell_type": "code",
   "execution_count": 31,
   "metadata": {},
   "outputs": [
    {
     "data": {
      "text/plain": [
       "array([ True, False])"
      ]
     },
     "execution_count": 31,
     "metadata": {},
     "output_type": "execute_result"
    }
   ],
   "source": [
    "telecom_dataset['is_missed_call'].unique()"
   ]
  },
  {
   "cell_type": "code",
   "execution_count": 32,
   "metadata": {},
   "outputs": [
    {
     "name": "stdout",
     "output_type": "stream",
     "text": [
      "1\n",
      "4817\n"
     ]
    }
   ],
   "source": [
    "print(telecom_dataset['calls_count'].min())\n",
    "print(telecom_dataset['calls_count'].max())"
   ]
  },
  {
   "cell_type": "code",
   "execution_count": 33,
   "metadata": {},
   "outputs": [
    {
     "name": "stdout",
     "output_type": "stream",
     "text": [
      "0\n",
      "144395\n"
     ]
    }
   ],
   "source": [
    "print(telecom_dataset['call_duration'].min())\n",
    "print(telecom_dataset['call_duration'].max())"
   ]
  },
  {
   "cell_type": "code",
   "execution_count": 34,
   "metadata": {},
   "outputs": [
    {
     "name": "stdout",
     "output_type": "stream",
     "text": [
      "0\n",
      "166155\n"
     ]
    }
   ],
   "source": [
    "print(telecom_dataset['total_call_duration'].min())\n",
    "print(telecom_dataset['total_call_duration'].max())"
   ]
  },
  {
   "cell_type": "markdown",
   "metadata": {},
   "source": [
    "**Выводы:**\n",
    "Рассмотрели оба датасета, выполнили проверку на дубликаты, пропуски, привели данные к нужному типу.\n",
    "\n",
    "Данные готовы к исследованию."
   ]
  },
  {
   "cell_type": "markdown",
   "metadata": {},
   "source": [
    "## Исследовательский анализ данных"
   ]
  },
  {
   "cell_type": "markdown",
   "metadata": {},
   "source": [
    "### Изучение количественных данных"
   ]
  },
  {
   "cell_type": "code",
   "execution_count": 35,
   "metadata": {},
   "outputs": [],
   "source": [
    "def plot(column, bins, range_b):\n",
    "    \"\"\"\n",
    "     Эта функция для построения гистограмм,\n",
    "     в качестве аргумента - столбец (из telecom_dataset)\n",
    "     \n",
    "    \"\"\"\n",
    "    telecom_dataset[column].plot(kind='hist',\n",
    "                        bins=bins, \n",
    "                        grid=True,\n",
    "                        range=(0, range_b),\n",
    "                        figsize=(10,5), \n",
    "                        color=['#FFCF56'],\n",
    "                       );\n",
    "    plt.xlabel(column)\n",
    "    plt.ylabel('count');"
   ]
  },
  {
   "cell_type": "code",
   "execution_count": 36,
   "metadata": {},
   "outputs": [],
   "source": [
    "def box_plot(column):\n",
    "    \n",
    "    \"\"\"\n",
    "     Эта функция для построения диаграммы размаха,\n",
    "     в качестве аргумента - столбец (из telecom_dataset)\n",
    "     \n",
    "    \"\"\"\n",
    "    \n",
    "    telecom_dataset[column].plot(kind='box',figsize=(7,5));"
   ]
  },
  {
   "cell_type": "code",
   "execution_count": 37,
   "metadata": {},
   "outputs": [
    {
     "data": {
      "text/html": [
       "<div>\n",
       "<style scoped>\n",
       "    .dataframe tbody tr th:only-of-type {\n",
       "        vertical-align: middle;\n",
       "    }\n",
       "\n",
       "    .dataframe tbody tr th {\n",
       "        vertical-align: top;\n",
       "    }\n",
       "\n",
       "    .dataframe thead th {\n",
       "        text-align: right;\n",
       "    }\n",
       "</style>\n",
       "<table border=\"1\" class=\"dataframe\">\n",
       "  <thead>\n",
       "    <tr style=\"text-align: right;\">\n",
       "      <th></th>\n",
       "      <th>count</th>\n",
       "      <th>mean</th>\n",
       "      <th>std</th>\n",
       "      <th>min</th>\n",
       "      <th>25%</th>\n",
       "      <th>50%</th>\n",
       "      <th>75%</th>\n",
       "      <th>max</th>\n",
       "    </tr>\n",
       "  </thead>\n",
       "  <tbody>\n",
       "    <tr>\n",
       "      <th>calls_count</th>\n",
       "      <td>49002.0</td>\n",
       "      <td>16.462777</td>\n",
       "      <td>63.604098</td>\n",
       "      <td>1.0</td>\n",
       "      <td>1.0</td>\n",
       "      <td>4.0</td>\n",
       "      <td>12.0</td>\n",
       "      <td>4817.0</td>\n",
       "    </tr>\n",
       "    <tr>\n",
       "      <th>call_duration</th>\n",
       "      <td>49002.0</td>\n",
       "      <td>866.282091</td>\n",
       "      <td>3775.503352</td>\n",
       "      <td>0.0</td>\n",
       "      <td>0.0</td>\n",
       "      <td>37.0</td>\n",
       "      <td>570.0</td>\n",
       "      <td>144395.0</td>\n",
       "    </tr>\n",
       "    <tr>\n",
       "      <th>total_call_duration</th>\n",
       "      <td>49002.0</td>\n",
       "      <td>1156.558202</td>\n",
       "      <td>4451.473661</td>\n",
       "      <td>0.0</td>\n",
       "      <td>46.0</td>\n",
       "      <td>208.0</td>\n",
       "      <td>901.0</td>\n",
       "      <td>166155.0</td>\n",
       "    </tr>\n",
       "    <tr>\n",
       "      <th>waiting_time</th>\n",
       "      <td>49002.0</td>\n",
       "      <td>16.826170</td>\n",
       "      <td>13.882893</td>\n",
       "      <td>0.0</td>\n",
       "      <td>8.0</td>\n",
       "      <td>14.0</td>\n",
       "      <td>22.0</td>\n",
       "      <td>465.0</td>\n",
       "    </tr>\n",
       "  </tbody>\n",
       "</table>\n",
       "</div>"
      ],
      "text/plain": [
       "                       count         mean          std  min   25%    50%  \\\n",
       "calls_count          49002.0    16.462777    63.604098  1.0   1.0    4.0   \n",
       "call_duration        49002.0   866.282091  3775.503352  0.0   0.0   37.0   \n",
       "total_call_duration  49002.0  1156.558202  4451.473661  0.0  46.0  208.0   \n",
       "waiting_time         49002.0    16.826170    13.882893  0.0   8.0   14.0   \n",
       "\n",
       "                       75%       max  \n",
       "calls_count           12.0    4817.0  \n",
       "call_duration        570.0  144395.0  \n",
       "total_call_duration  901.0  166155.0  \n",
       "waiting_time          22.0     465.0  "
      ]
     },
     "execution_count": 37,
     "metadata": {},
     "output_type": "execute_result"
    }
   ],
   "source": [
    "telecom_dataset[['calls_count', 'call_duration', 'total_call_duration', 'waiting_time']].describe().T"
   ]
  },
  {
   "cell_type": "markdown",
   "metadata": {},
   "source": [
    "#### Распределение длительности звонков"
   ]
  },
  {
   "cell_type": "markdown",
   "metadata": {},
   "source": [
    "Посмотрим разброс значений по **call_duration**"
   ]
  },
  {
   "cell_type": "code",
   "execution_count": 38,
   "metadata": {},
   "outputs": [
    {
     "data": {
      "image/png": "[encoded data removed]",
      "text/plain": [
       "<Figure size 720x360 with 1 Axes>"
      ]
     },
     "metadata": {
      "needs_background": "light"
     },
     "output_type": "display_data"
    }
   ],
   "source": [
    "plot('call_duration', 40, 4000)"
   ]
  },
  {
   "cell_type": "code",
   "execution_count": 39,
   "metadata": {},
   "outputs": [
    {
     "data": {
      "image/png": "[encoded data removed]",
      "text/plain": [
       "<Figure size 504x360 with 1 Axes>"
      ]
     },
     "metadata": {
      "needs_background": "light"
     },
     "output_type": "display_data"
    }
   ],
   "source": [
    "box_plot('call_duration')"
   ]
  },
  {
   "cell_type": "code",
   "execution_count": 40,
   "metadata": {},
   "outputs": [
    {
     "data": {
      "text/plain": [
       "array([ 3725.95, 10314.91])"
      ]
     },
     "execution_count": 40,
     "metadata": {},
     "output_type": "execute_result"
    }
   ],
   "source": [
    "np.percentile(telecom_dataset['call_duration'], [95, 99])"
   ]
  },
  {
   "cell_type": "markdown",
   "metadata": {},
   "source": [
    "Посмотрим разброс значений по **total_call_duration** "
   ]
  },
  {
   "cell_type": "code",
   "execution_count": 41,
   "metadata": {},
   "outputs": [
    {
     "data": {
      "image/png": "[encoded data removed]",
      "text/plain": [
       "<Figure size 720x360 with 1 Axes>"
      ]
     },
     "metadata": {
      "needs_background": "light"
     },
     "output_type": "display_data"
    }
   ],
   "source": [
    "plot('total_call_duration', 50, 6000)"
   ]
  },
  {
   "cell_type": "code",
   "execution_count": 42,
   "metadata": {},
   "outputs": [
    {
     "data": {
      "image/png": "[encoded data removed]",
      "text/plain": [
       "<Figure size 504x360 with 1 Axes>"
      ]
     },
     "metadata": {
      "needs_background": "light"
     },
     "output_type": "display_data"
    }
   ],
   "source": [
    "box_plot('total_call_duration')"
   ]
  },
  {
   "cell_type": "code",
   "execution_count": 43,
   "metadata": {},
   "outputs": [
    {
     "data": {
      "text/plain": [
       "array([ 4531., 12956.])"
      ]
     },
     "execution_count": 43,
     "metadata": {},
     "output_type": "execute_result"
    }
   ],
   "source": [
    "np.percentile(telecom_dataset['total_call_duration'], [95, 99])"
   ]
  },
  {
   "cell_type": "markdown",
   "metadata": {},
   "source": [
    "#### Распределение количества звонков "
   ]
  },
  {
   "cell_type": "code",
   "execution_count": 44,
   "metadata": {},
   "outputs": [
    {
     "data": {
      "image/png": "[encoded data removed]",
      "text/plain": [
       "<Figure size 720x360 with 1 Axes>"
      ]
     },
     "metadata": {
      "needs_background": "light"
     },
     "output_type": "display_data"
    }
   ],
   "source": [
    "plot('calls_count', 50, 200)"
   ]
  },
  {
   "cell_type": "code",
   "execution_count": 45,
   "metadata": {},
   "outputs": [
    {
     "data": {
      "image/png": "[encoded data removed]",
      "text/plain": [
       "<Figure size 504x360 with 1 Axes>"
      ]
     },
     "metadata": {
      "needs_background": "light"
     },
     "output_type": "display_data"
    }
   ],
   "source": [
    "box_plot('calls_count')"
   ]
  },
  {
   "cell_type": "code",
   "execution_count": 46,
   "metadata": {},
   "outputs": [
    {
     "data": {
      "text/plain": [
       "array([ 62., 165.])"
      ]
     },
     "execution_count": 46,
     "metadata": {},
     "output_type": "execute_result"
    }
   ],
   "source": [
    "np.percentile(telecom_dataset['calls_count'], [95, 99])"
   ]
  },
  {
   "cell_type": "markdown",
   "metadata": {},
   "source": [
    "#### Распределение времени ожидания"
   ]
  },
  {
   "cell_type": "code",
   "execution_count": 47,
   "metadata": {},
   "outputs": [
    {
     "data": {
      "image/png": "[encoded data removed]",
      "text/plain": [
       "<Figure size 720x360 with 1 Axes>"
      ]
     },
     "metadata": {
      "needs_background": "light"
     },
     "output_type": "display_data"
    }
   ],
   "source": [
    "plot('waiting_time', 50, 150)"
   ]
  },
  {
   "cell_type": "code",
   "execution_count": 48,
   "metadata": {},
   "outputs": [
    {
     "data": {
      "image/png": "[encoded data removed]",
      "text/plain": [
       "<Figure size 504x360 with 1 Axes>"
      ]
     },
     "metadata": {
      "needs_background": "light"
     },
     "output_type": "display_data"
    }
   ],
   "source": [
    "box_plot('waiting_time')"
   ]
  },
  {
   "cell_type": "code",
   "execution_count": 49,
   "metadata": {},
   "outputs": [
    {
     "data": {
      "text/plain": [
       "array([40., 60.])"
      ]
     },
     "execution_count": 49,
     "metadata": {},
     "output_type": "execute_result"
    }
   ],
   "source": [
    "np.percentile(telecom_dataset['waiting_time'], [95, 99])"
   ]
  },
  {
   "cell_type": "markdown",
   "metadata": {},
   "source": [
    "По графикам видно, что есть много выбросов, в том числе и одиночные. Для последующего исследования оставим данные, которые не превышают 95 перцентиль:"
   ]
  },
  {
   "cell_type": "code",
   "execution_count": 50,
   "metadata": {
    "scrolled": true
   },
   "outputs": [],
   "source": [
    "list = ['calls_count', 'call_duration', 'total_call_duration', 'waiting_time']\n",
    "for i in list:\n",
    "    telecom_dataset = telecom_dataset.loc[telecom_dataset[i] <= np.quantile(telecom_dataset[i], 0.95)]"
   ]
  },
  {
   "cell_type": "code",
   "execution_count": 51,
   "metadata": {
    "scrolled": true
   },
   "outputs": [
    {
     "data": {
      "text/html": [
       "<div>\n",
       "<style scoped>\n",
       "    .dataframe tbody tr th:only-of-type {\n",
       "        vertical-align: middle;\n",
       "    }\n",
       "\n",
       "    .dataframe tbody tr th {\n",
       "        vertical-align: top;\n",
       "    }\n",
       "\n",
       "    .dataframe thead th {\n",
       "        text-align: right;\n",
       "    }\n",
       "</style>\n",
       "<table border=\"1\" class=\"dataframe\">\n",
       "  <thead>\n",
       "    <tr style=\"text-align: right;\">\n",
       "      <th></th>\n",
       "      <th>count</th>\n",
       "      <th>mean</th>\n",
       "      <th>std</th>\n",
       "      <th>min</th>\n",
       "      <th>25%</th>\n",
       "      <th>50%</th>\n",
       "      <th>75%</th>\n",
       "      <th>max</th>\n",
       "    </tr>\n",
       "  </thead>\n",
       "  <tbody>\n",
       "    <tr>\n",
       "      <th>calls_count</th>\n",
       "      <td>39972.0</td>\n",
       "      <td>6.675023</td>\n",
       "      <td>9.434850</td>\n",
       "      <td>1.0</td>\n",
       "      <td>1.0</td>\n",
       "      <td>3.0</td>\n",
       "      <td>8.0</td>\n",
       "      <td>62.0</td>\n",
       "    </tr>\n",
       "    <tr>\n",
       "      <th>call_duration</th>\n",
       "      <td>39972.0</td>\n",
       "      <td>234.032523</td>\n",
       "      <td>398.325177</td>\n",
       "      <td>0.0</td>\n",
       "      <td>0.0</td>\n",
       "      <td>15.0</td>\n",
       "      <td>295.0</td>\n",
       "      <td>1967.0</td>\n",
       "    </tr>\n",
       "    <tr>\n",
       "      <th>total_call_duration</th>\n",
       "      <td>39972.0</td>\n",
       "      <td>349.789252</td>\n",
       "      <td>455.497266</td>\n",
       "      <td>0.0</td>\n",
       "      <td>34.0</td>\n",
       "      <td>141.0</td>\n",
       "      <td>496.0</td>\n",
       "      <td>1993.0</td>\n",
       "    </tr>\n",
       "    <tr>\n",
       "      <th>waiting_time</th>\n",
       "      <td>39972.0</td>\n",
       "      <td>14.827905</td>\n",
       "      <td>9.929905</td>\n",
       "      <td>0.0</td>\n",
       "      <td>7.0</td>\n",
       "      <td>13.0</td>\n",
       "      <td>21.0</td>\n",
       "      <td>41.0</td>\n",
       "    </tr>\n",
       "  </tbody>\n",
       "</table>\n",
       "</div>"
      ],
      "text/plain": [
       "                       count        mean         std  min   25%    50%    75%  \\\n",
       "calls_count          39972.0    6.675023    9.434850  1.0   1.0    3.0    8.0   \n",
       "call_duration        39972.0  234.032523  398.325177  0.0   0.0   15.0  295.0   \n",
       "total_call_duration  39972.0  349.789252  455.497266  0.0  34.0  141.0  496.0   \n",
       "waiting_time         39972.0   14.827905    9.929905  0.0   7.0   13.0   21.0   \n",
       "\n",
       "                        max  \n",
       "calls_count            62.0  \n",
       "call_duration        1967.0  \n",
       "total_call_duration  1993.0  \n",
       "waiting_time           41.0  "
      ]
     },
     "execution_count": 51,
     "metadata": {},
     "output_type": "execute_result"
    }
   ],
   "source": [
    "telecom_dataset[['calls_count', 'call_duration', 'total_call_duration', 'waiting_time']].describe().T"
   ]
  },
  {
   "cell_type": "markdown",
   "metadata": {},
   "source": [
    "Посмотрим на total_call_duration подробнее. Сгруппируем данные по операторам и датам - сколько total_call_duration у каждого оператора в день:"
   ]
  },
  {
   "cell_type": "code",
   "execution_count": 52,
   "metadata": {
    "scrolled": false
   },
   "outputs": [
    {
     "data": {
      "text/html": [
       "<div>\n",
       "<style scoped>\n",
       "    .dataframe tbody tr th:only-of-type {\n",
       "        vertical-align: middle;\n",
       "    }\n",
       "\n",
       "    .dataframe tbody tr th {\n",
       "        vertical-align: top;\n",
       "    }\n",
       "\n",
       "    .dataframe thead th {\n",
       "        text-align: right;\n",
       "    }\n",
       "</style>\n",
       "<table border=\"1\" class=\"dataframe\">\n",
       "  <thead>\n",
       "    <tr style=\"text-align: right;\">\n",
       "      <th></th>\n",
       "      <th>operator_id</th>\n",
       "      <th>sessions_date</th>\n",
       "      <th>total_call_duration</th>\n",
       "    </tr>\n",
       "  </thead>\n",
       "  <tbody>\n",
       "    <tr>\n",
       "      <th>18286</th>\n",
       "      <td>890406.0</td>\n",
       "      <td>2019-11-18</td>\n",
       "      <td>3544</td>\n",
       "    </tr>\n",
       "    <tr>\n",
       "      <th>18287</th>\n",
       "      <td>921818.0</td>\n",
       "      <td>2019-11-10</td>\n",
       "      <td>3554</td>\n",
       "    </tr>\n",
       "    <tr>\n",
       "      <th>18288</th>\n",
       "      <td>912722.0</td>\n",
       "      <td>2019-11-07</td>\n",
       "      <td>3557</td>\n",
       "    </tr>\n",
       "    <tr>\n",
       "      <th>18289</th>\n",
       "      <td>937812.0</td>\n",
       "      <td>2019-11-28</td>\n",
       "      <td>3570</td>\n",
       "    </tr>\n",
       "    <tr>\n",
       "      <th>18290</th>\n",
       "      <td>890406.0</td>\n",
       "      <td>2019-10-24</td>\n",
       "      <td>3580</td>\n",
       "    </tr>\n",
       "    <tr>\n",
       "      <th>18291</th>\n",
       "      <td>920720.0</td>\n",
       "      <td>2019-10-08</td>\n",
       "      <td>3582</td>\n",
       "    </tr>\n",
       "    <tr>\n",
       "      <th>18292</th>\n",
       "      <td>887276.0</td>\n",
       "      <td>2019-10-01</td>\n",
       "      <td>3590</td>\n",
       "    </tr>\n",
       "    <tr>\n",
       "      <th>18293</th>\n",
       "      <td>944220.0</td>\n",
       "      <td>2019-11-11</td>\n",
       "      <td>3590</td>\n",
       "    </tr>\n",
       "    <tr>\n",
       "      <th>18294</th>\n",
       "      <td>893804.0</td>\n",
       "      <td>2019-09-24</td>\n",
       "      <td>3590</td>\n",
       "    </tr>\n",
       "    <tr>\n",
       "      <th>18295</th>\n",
       "      <td>898906.0</td>\n",
       "      <td>2019-09-03</td>\n",
       "      <td>3597</td>\n",
       "    </tr>\n",
       "    <tr>\n",
       "      <th>18296</th>\n",
       "      <td>891988.0</td>\n",
       "      <td>2019-09-05</td>\n",
       "      <td>3609</td>\n",
       "    </tr>\n",
       "    <tr>\n",
       "      <th>18297</th>\n",
       "      <td>901884.0</td>\n",
       "      <td>2019-09-08</td>\n",
       "      <td>3610</td>\n",
       "    </tr>\n",
       "    <tr>\n",
       "      <th>18298</th>\n",
       "      <td>901880.0</td>\n",
       "      <td>2019-10-13</td>\n",
       "      <td>3615</td>\n",
       "    </tr>\n",
       "    <tr>\n",
       "      <th>18299</th>\n",
       "      <td>924948.0</td>\n",
       "      <td>2019-11-05</td>\n",
       "      <td>3627</td>\n",
       "    </tr>\n",
       "    <tr>\n",
       "      <th>18300</th>\n",
       "      <td>890402.0</td>\n",
       "      <td>2019-11-18</td>\n",
       "      <td>3633</td>\n",
       "    </tr>\n",
       "    <tr>\n",
       "      <th>18301</th>\n",
       "      <td>906406.0</td>\n",
       "      <td>2019-11-15</td>\n",
       "      <td>3660</td>\n",
       "    </tr>\n",
       "    <tr>\n",
       "      <th>18302</th>\n",
       "      <td>915556.0</td>\n",
       "      <td>2019-09-30</td>\n",
       "      <td>3673</td>\n",
       "    </tr>\n",
       "    <tr>\n",
       "      <th>18303</th>\n",
       "      <td>925828.0</td>\n",
       "      <td>2019-11-25</td>\n",
       "      <td>3676</td>\n",
       "    </tr>\n",
       "    <tr>\n",
       "      <th>18304</th>\n",
       "      <td>937902.0</td>\n",
       "      <td>2019-10-25</td>\n",
       "      <td>3693</td>\n",
       "    </tr>\n",
       "    <tr>\n",
       "      <th>18305</th>\n",
       "      <td>913788.0</td>\n",
       "      <td>2019-10-14</td>\n",
       "      <td>3721</td>\n",
       "    </tr>\n",
       "    <tr>\n",
       "      <th>18306</th>\n",
       "      <td>882684.0</td>\n",
       "      <td>2019-09-07</td>\n",
       "      <td>3727</td>\n",
       "    </tr>\n",
       "    <tr>\n",
       "      <th>18307</th>\n",
       "      <td>937736.0</td>\n",
       "      <td>2019-10-28</td>\n",
       "      <td>3741</td>\n",
       "    </tr>\n",
       "    <tr>\n",
       "      <th>18308</th>\n",
       "      <td>938896.0</td>\n",
       "      <td>2019-11-16</td>\n",
       "      <td>3742</td>\n",
       "    </tr>\n",
       "    <tr>\n",
       "      <th>18309</th>\n",
       "      <td>938896.0</td>\n",
       "      <td>2019-11-23</td>\n",
       "      <td>3755</td>\n",
       "    </tr>\n",
       "    <tr>\n",
       "      <th>18310</th>\n",
       "      <td>937736.0</td>\n",
       "      <td>2019-10-23</td>\n",
       "      <td>3759</td>\n",
       "    </tr>\n",
       "    <tr>\n",
       "      <th>18311</th>\n",
       "      <td>938896.0</td>\n",
       "      <td>2019-10-28</td>\n",
       "      <td>3761</td>\n",
       "    </tr>\n",
       "    <tr>\n",
       "      <th>18312</th>\n",
       "      <td>937780.0</td>\n",
       "      <td>2019-11-11</td>\n",
       "      <td>3778</td>\n",
       "    </tr>\n",
       "    <tr>\n",
       "      <th>18313</th>\n",
       "      <td>906394.0</td>\n",
       "      <td>2019-11-06</td>\n",
       "      <td>3785</td>\n",
       "    </tr>\n",
       "    <tr>\n",
       "      <th>18314</th>\n",
       "      <td>882686.0</td>\n",
       "      <td>2019-08-29</td>\n",
       "      <td>3802</td>\n",
       "    </tr>\n",
       "    <tr>\n",
       "      <th>18315</th>\n",
       "      <td>958430.0</td>\n",
       "      <td>2019-11-22</td>\n",
       "      <td>3824</td>\n",
       "    </tr>\n",
       "    <tr>\n",
       "      <th>18316</th>\n",
       "      <td>937736.0</td>\n",
       "      <td>2019-11-20</td>\n",
       "      <td>3851</td>\n",
       "    </tr>\n",
       "    <tr>\n",
       "      <th>18317</th>\n",
       "      <td>937860.0</td>\n",
       "      <td>2019-11-26</td>\n",
       "      <td>3853</td>\n",
       "    </tr>\n",
       "    <tr>\n",
       "      <th>18318</th>\n",
       "      <td>901880.0</td>\n",
       "      <td>2019-10-04</td>\n",
       "      <td>3861</td>\n",
       "    </tr>\n",
       "    <tr>\n",
       "      <th>18319</th>\n",
       "      <td>912296.0</td>\n",
       "      <td>2019-11-21</td>\n",
       "      <td>3865</td>\n",
       "    </tr>\n",
       "    <tr>\n",
       "      <th>18320</th>\n",
       "      <td>925104.0</td>\n",
       "      <td>2019-10-22</td>\n",
       "      <td>3866</td>\n",
       "    </tr>\n",
       "    <tr>\n",
       "      <th>18321</th>\n",
       "      <td>906404.0</td>\n",
       "      <td>2019-10-31</td>\n",
       "      <td>3891</td>\n",
       "    </tr>\n",
       "    <tr>\n",
       "      <th>18322</th>\n",
       "      <td>938896.0</td>\n",
       "      <td>2019-11-17</td>\n",
       "      <td>3911</td>\n",
       "    </tr>\n",
       "    <tr>\n",
       "      <th>18323</th>\n",
       "      <td>940614.0</td>\n",
       "      <td>2019-11-21</td>\n",
       "      <td>3917</td>\n",
       "    </tr>\n",
       "    <tr>\n",
       "      <th>18324</th>\n",
       "      <td>954650.0</td>\n",
       "      <td>2019-11-09</td>\n",
       "      <td>3937</td>\n",
       "    </tr>\n",
       "    <tr>\n",
       "      <th>18325</th>\n",
       "      <td>931458.0</td>\n",
       "      <td>2019-10-09</td>\n",
       "      <td>3945</td>\n",
       "    </tr>\n",
       "    <tr>\n",
       "      <th>18326</th>\n",
       "      <td>890404.0</td>\n",
       "      <td>2019-11-11</td>\n",
       "      <td>3960</td>\n",
       "    </tr>\n",
       "    <tr>\n",
       "      <th>18327</th>\n",
       "      <td>906404.0</td>\n",
       "      <td>2019-11-14</td>\n",
       "      <td>3961</td>\n",
       "    </tr>\n",
       "    <tr>\n",
       "      <th>18328</th>\n",
       "      <td>901884.0</td>\n",
       "      <td>2019-11-12</td>\n",
       "      <td>3966</td>\n",
       "    </tr>\n",
       "    <tr>\n",
       "      <th>18329</th>\n",
       "      <td>923526.0</td>\n",
       "      <td>2019-10-09</td>\n",
       "      <td>3987</td>\n",
       "    </tr>\n",
       "    <tr>\n",
       "      <th>18330</th>\n",
       "      <td>937808.0</td>\n",
       "      <td>2019-11-25</td>\n",
       "      <td>3991</td>\n",
       "    </tr>\n",
       "    <tr>\n",
       "      <th>18331</th>\n",
       "      <td>937736.0</td>\n",
       "      <td>2019-11-19</td>\n",
       "      <td>4008</td>\n",
       "    </tr>\n",
       "    <tr>\n",
       "      <th>18332</th>\n",
       "      <td>901884.0</td>\n",
       "      <td>2019-10-26</td>\n",
       "      <td>4064</td>\n",
       "    </tr>\n",
       "    <tr>\n",
       "      <th>18333</th>\n",
       "      <td>937966.0</td>\n",
       "      <td>2019-11-14</td>\n",
       "      <td>4065</td>\n",
       "    </tr>\n",
       "    <tr>\n",
       "      <th>18334</th>\n",
       "      <td>937860.0</td>\n",
       "      <td>2019-10-30</td>\n",
       "      <td>4089</td>\n",
       "    </tr>\n",
       "    <tr>\n",
       "      <th>18335</th>\n",
       "      <td>903318.0</td>\n",
       "      <td>2019-09-19</td>\n",
       "      <td>4199</td>\n",
       "    </tr>\n",
       "  </tbody>\n",
       "</table>\n",
       "</div>"
      ],
      "text/plain": [
       "       operator_id sessions_date  total_call_duration\n",
       "18286     890406.0    2019-11-18                 3544\n",
       "18287     921818.0    2019-11-10                 3554\n",
       "18288     912722.0    2019-11-07                 3557\n",
       "18289     937812.0    2019-11-28                 3570\n",
       "18290     890406.0    2019-10-24                 3580\n",
       "18291     920720.0    2019-10-08                 3582\n",
       "18292     887276.0    2019-10-01                 3590\n",
       "18293     944220.0    2019-11-11                 3590\n",
       "18294     893804.0    2019-09-24                 3590\n",
       "18295     898906.0    2019-09-03                 3597\n",
       "18296     891988.0    2019-09-05                 3609\n",
       "18297     901884.0    2019-09-08                 3610\n",
       "18298     901880.0    2019-10-13                 3615\n",
       "18299     924948.0    2019-11-05                 3627\n",
       "18300     890402.0    2019-11-18                 3633\n",
       "18301     906406.0    2019-11-15                 3660\n",
       "18302     915556.0    2019-09-30                 3673\n",
       "18303     925828.0    2019-11-25                 3676\n",
       "18304     937902.0    2019-10-25                 3693\n",
       "18305     913788.0    2019-10-14                 3721\n",
       "18306     882684.0    2019-09-07                 3727\n",
       "18307     937736.0    2019-10-28                 3741\n",
       "18308     938896.0    2019-11-16                 3742\n",
       "18309     938896.0    2019-11-23                 3755\n",
       "18310     937736.0    2019-10-23                 3759\n",
       "18311     938896.0    2019-10-28                 3761\n",
       "18312     937780.0    2019-11-11                 3778\n",
       "18313     906394.0    2019-11-06                 3785\n",
       "18314     882686.0    2019-08-29                 3802\n",
       "18315     958430.0    2019-11-22                 3824\n",
       "18316     937736.0    2019-11-20                 3851\n",
       "18317     937860.0    2019-11-26                 3853\n",
       "18318     901880.0    2019-10-04                 3861\n",
       "18319     912296.0    2019-11-21                 3865\n",
       "18320     925104.0    2019-10-22                 3866\n",
       "18321     906404.0    2019-10-31                 3891\n",
       "18322     938896.0    2019-11-17                 3911\n",
       "18323     940614.0    2019-11-21                 3917\n",
       "18324     954650.0    2019-11-09                 3937\n",
       "18325     931458.0    2019-10-09                 3945\n",
       "18326     890404.0    2019-11-11                 3960\n",
       "18327     906404.0    2019-11-14                 3961\n",
       "18328     901884.0    2019-11-12                 3966\n",
       "18329     923526.0    2019-10-09                 3987\n",
       "18330     937808.0    2019-11-25                 3991\n",
       "18331     937736.0    2019-11-19                 4008\n",
       "18332     901884.0    2019-10-26                 4064\n",
       "18333     937966.0    2019-11-14                 4065\n",
       "18334     937860.0    2019-10-30                 4089\n",
       "18335     903318.0    2019-09-19                 4199"
      ]
     },
     "execution_count": 52,
     "metadata": {},
     "output_type": "execute_result"
    }
   ],
   "source": [
    "telecom_dataset_duration = telecom_dataset.groupby(['operator_id', 'sessions_date'])['total_call_duration'].sum().sort_values().reset_index()\n",
    "telecom_dataset_duration.tail(50)"
   ]
  },
  {
   "cell_type": "code",
   "execution_count": 53,
   "metadata": {},
   "outputs": [
    {
     "data": {
      "image/png": "[encoded data removed]",
      "text/plain": [
       "<Figure size 720x360 with 1 Axes>"
      ]
     },
     "metadata": {
      "needs_background": "light"
     },
     "output_type": "display_data"
    }
   ],
   "source": [
    "telecom_dataset_duration['total_call_duration'].plot(kind='hist',\n",
    "                        bins=50, \n",
    "                        grid=True,\n",
    "                        range=(0, 4000),\n",
    "                        figsize=(10,5), \n",
    "                        color=['#FFCF56'],\n",
    "                       );\n",
    "plt.xlabel('total_call_duration')\n",
    "plt.ylabel('count');"
   ]
  },
  {
   "cell_type": "markdown",
   "metadata": {},
   "source": [
    "У большинства total_call_duration до 1000. Делаем вывод, что данные о времени звонка переданы в минутах."
   ]
  },
  {
   "cell_type": "markdown",
   "metadata": {},
   "source": [
    "**Выводы:**\n",
    "\n",
    "На графиках виден большой разброс данных, много выбросов, посмотрели на 95, 99 перценцили, оставили те, которые не превышают 95 перцециль."
   ]
  },
  {
   "cell_type": "markdown",
   "metadata": {},
   "source": [
    "### Изучение категориальных данных"
   ]
  },
  {
   "cell_type": "markdown",
   "metadata": {},
   "source": [
    "#### Внешние/внутренние звонки"
   ]
  },
  {
   "cell_type": "code",
   "execution_count": 54,
   "metadata": {},
   "outputs": [
    {
     "data": {
      "image/png": "[encoded data removed]",
      "text/plain": [
       "<Figure size 432x288 with 1 Axes>"
      ]
     },
     "metadata": {
      "needs_background": "light"
     },
     "output_type": "display_data"
    }
   ],
   "source": [
    "plt.figure() \n",
    "sns.barplot(x ='internal' , y ='calls_count' , data=telecom_dataset);"
   ]
  },
  {
   "cell_type": "markdown",
   "metadata": {},
   "source": [
    "#### Входящие/исходящие звонки"
   ]
  },
  {
   "cell_type": "code",
   "execution_count": 55,
   "metadata": {},
   "outputs": [
    {
     "data": {
      "image/png": "[encoded data removed]",
      "text/plain": [
       "<Figure size 432x288 with 1 Axes>"
      ]
     },
     "metadata": {
      "needs_background": "light"
     },
     "output_type": "display_data"
    }
   ],
   "source": [
    "plt.figure() \n",
    "sns.barplot(x ='direction' , y ='calls_count' , data=telecom_dataset);"
   ]
  },
  {
   "cell_type": "markdown",
   "metadata": {},
   "source": [
    "**Выводы:**\n",
    "\n",
    "По графикам видим, что больше внешних вызовов, что логично, т.к. колл-центры взаимодействуют с клиентами извне, а также больше входящих звонков."
   ]
  },
  {
   "cell_type": "markdown",
   "metadata": {},
   "source": [
    "### Разделение колл-центров на категории"
   ]
  },
  {
   "cell_type": "markdown",
   "metadata": {},
   "source": [
    "Разбиение будет происходить по соотношению исходящих и входящих звонков.\n",
    "\n",
    "Учитываем, что в любом колл-центре вне зависмости от его направленности могут совершаться и те, и другие звонки."
   ]
  },
  {
   "cell_type": "markdown",
   "metadata": {},
   "source": [
    "Разделим звонки на категории:"
   ]
  },
  {
   "cell_type": "code",
   "execution_count": 56,
   "metadata": {},
   "outputs": [],
   "source": [
    "def split_calls(row):\n",
    "   \n",
    "    \"\"\"\n",
    "     Эта функция для разбиения на категории звонков:\n",
    "     внешний исходящий, внешний входящий, внутренний (в общем)\n",
    "     \n",
    "    \"\"\"\n",
    "\n",
    "    if row['internal'] == True:\n",
    "        return 'внутренний'\n",
    "    else:\n",
    "        if row['direction'] == 'out':\n",
    "            return 'внешний исходящий'\n",
    "        else:\n",
    "            return 'внешний входящий'\n",
    "    \n",
    "# создание нового столбца на основании полученных функцией значений\n",
    "telecom_dataset['call_category'] = telecom_dataset.apply(split_calls, axis=1)"
   ]
  },
  {
   "cell_type": "markdown",
   "metadata": {},
   "source": [
    "Составим сводную таблицу: для каждого колл-центра прописана сумма звонков для каждой из категорий:"
   ]
  },
  {
   "cell_type": "code",
   "execution_count": 57,
   "metadata": {
    "scrolled": false
   },
   "outputs": [
    {
     "data": {
      "text/html": [
       "<div>\n",
       "<style scoped>\n",
       "    .dataframe tbody tr th:only-of-type {\n",
       "        vertical-align: middle;\n",
       "    }\n",
       "\n",
       "    .dataframe tbody tr th {\n",
       "        vertical-align: top;\n",
       "    }\n",
       "\n",
       "    .dataframe thead th {\n",
       "        text-align: right;\n",
       "    }\n",
       "</style>\n",
       "<table border=\"1\" class=\"dataframe\">\n",
       "  <thead>\n",
       "    <tr style=\"text-align: right;\">\n",
       "      <th>call_category</th>\n",
       "      <th>внешний входящий</th>\n",
       "      <th>внешний исходящий</th>\n",
       "      <th>внутренний</th>\n",
       "    </tr>\n",
       "    <tr>\n",
       "      <th>user_id</th>\n",
       "      <th></th>\n",
       "      <th></th>\n",
       "      <th></th>\n",
       "    </tr>\n",
       "  </thead>\n",
       "  <tbody>\n",
       "    <tr>\n",
       "      <th>166377</th>\n",
       "      <td>194.0</td>\n",
       "      <td>2788.0</td>\n",
       "      <td>55.0</td>\n",
       "    </tr>\n",
       "    <tr>\n",
       "      <th>166391</th>\n",
       "      <td>14.0</td>\n",
       "      <td>0.0</td>\n",
       "      <td>9.0</td>\n",
       "    </tr>\n",
       "    <tr>\n",
       "      <th>166392</th>\n",
       "      <td>200.0</td>\n",
       "      <td>0.0</td>\n",
       "      <td>1.0</td>\n",
       "    </tr>\n",
       "    <tr>\n",
       "      <th>166399</th>\n",
       "      <td>20.0</td>\n",
       "      <td>0.0</td>\n",
       "      <td>0.0</td>\n",
       "    </tr>\n",
       "    <tr>\n",
       "      <th>166405</th>\n",
       "      <td>2665.0</td>\n",
       "      <td>4014.0</td>\n",
       "      <td>34.0</td>\n",
       "    </tr>\n",
       "    <tr>\n",
       "      <th>166406</th>\n",
       "      <td>220.0</td>\n",
       "      <td>2750.0</td>\n",
       "      <td>82.0</td>\n",
       "    </tr>\n",
       "    <tr>\n",
       "      <th>166407</th>\n",
       "      <td>106.0</td>\n",
       "      <td>198.0</td>\n",
       "      <td>562.0</td>\n",
       "    </tr>\n",
       "    <tr>\n",
       "      <th>166428</th>\n",
       "      <td>156.0</td>\n",
       "      <td>0.0</td>\n",
       "      <td>7.0</td>\n",
       "    </tr>\n",
       "    <tr>\n",
       "      <th>166481</th>\n",
       "      <td>58.0</td>\n",
       "      <td>0.0</td>\n",
       "      <td>0.0</td>\n",
       "    </tr>\n",
       "    <tr>\n",
       "      <th>166482</th>\n",
       "      <td>95.0</td>\n",
       "      <td>0.0</td>\n",
       "      <td>1.0</td>\n",
       "    </tr>\n",
       "  </tbody>\n",
       "</table>\n",
       "</div>"
      ],
      "text/plain": [
       "call_category  внешний входящий  внешний исходящий  внутренний\n",
       "user_id                                                       \n",
       "166377                    194.0             2788.0        55.0\n",
       "166391                     14.0                0.0         9.0\n",
       "166392                    200.0                0.0         1.0\n",
       "166399                     20.0                0.0         0.0\n",
       "166405                   2665.0             4014.0        34.0\n",
       "166406                    220.0             2750.0        82.0\n",
       "166407                    106.0              198.0       562.0\n",
       "166428                    156.0                0.0         7.0\n",
       "166481                     58.0                0.0         0.0\n",
       "166482                     95.0                0.0         1.0"
      ]
     },
     "execution_count": 57,
     "metadata": {},
     "output_type": "execute_result"
    }
   ],
   "source": [
    "telecom_dataset_pivot = telecom_dataset.pivot_table(index='user_id', \n",
    "                                                    columns='call_category', \n",
    "                                                    values='calls_count', \n",
    "                                                    aggfunc='sum')\n",
    "telecom_dataset_pivot = telecom_dataset_pivot.fillna(0)\n",
    "telecom_dataset_pivot.head(10)"
   ]
  },
  {
   "cell_type": "markdown",
   "metadata": {},
   "source": [
    "Посчитаем доли числа звонков по категориям \"внешний входящий\" и \"внешний исходящий\", результаты запишем в новые столбцы:"
   ]
  },
  {
   "cell_type": "code",
   "execution_count": 58,
   "metadata": {},
   "outputs": [
    {
     "data": {
      "text/html": [
       "<div>\n",
       "<style scoped>\n",
       "    .dataframe tbody tr th:only-of-type {\n",
       "        vertical-align: middle;\n",
       "    }\n",
       "\n",
       "    .dataframe tbody tr th {\n",
       "        vertical-align: top;\n",
       "    }\n",
       "\n",
       "    .dataframe thead th {\n",
       "        text-align: right;\n",
       "    }\n",
       "</style>\n",
       "<table border=\"1\" class=\"dataframe\">\n",
       "  <thead>\n",
       "    <tr style=\"text-align: right;\">\n",
       "      <th>call_category</th>\n",
       "      <th>внешний входящий</th>\n",
       "      <th>внешний исходящий</th>\n",
       "      <th>внутренний</th>\n",
       "      <th>sum</th>\n",
       "      <th>% in</th>\n",
       "      <th>% out</th>\n",
       "    </tr>\n",
       "    <tr>\n",
       "      <th>user_id</th>\n",
       "      <th></th>\n",
       "      <th></th>\n",
       "      <th></th>\n",
       "      <th></th>\n",
       "      <th></th>\n",
       "      <th></th>\n",
       "    </tr>\n",
       "  </thead>\n",
       "  <tbody>\n",
       "    <tr>\n",
       "      <th>166377</th>\n",
       "      <td>194.0</td>\n",
       "      <td>2788.0</td>\n",
       "      <td>55.0</td>\n",
       "      <td>3037.0</td>\n",
       "      <td>6.39</td>\n",
       "      <td>91.80</td>\n",
       "    </tr>\n",
       "    <tr>\n",
       "      <th>166391</th>\n",
       "      <td>14.0</td>\n",
       "      <td>0.0</td>\n",
       "      <td>9.0</td>\n",
       "      <td>23.0</td>\n",
       "      <td>60.87</td>\n",
       "      <td>0.00</td>\n",
       "    </tr>\n",
       "    <tr>\n",
       "      <th>166392</th>\n",
       "      <td>200.0</td>\n",
       "      <td>0.0</td>\n",
       "      <td>1.0</td>\n",
       "      <td>201.0</td>\n",
       "      <td>99.50</td>\n",
       "      <td>0.00</td>\n",
       "    </tr>\n",
       "    <tr>\n",
       "      <th>166399</th>\n",
       "      <td>20.0</td>\n",
       "      <td>0.0</td>\n",
       "      <td>0.0</td>\n",
       "      <td>20.0</td>\n",
       "      <td>100.00</td>\n",
       "      <td>0.00</td>\n",
       "    </tr>\n",
       "    <tr>\n",
       "      <th>166405</th>\n",
       "      <td>2665.0</td>\n",
       "      <td>4014.0</td>\n",
       "      <td>34.0</td>\n",
       "      <td>6713.0</td>\n",
       "      <td>39.70</td>\n",
       "      <td>59.79</td>\n",
       "    </tr>\n",
       "  </tbody>\n",
       "</table>\n",
       "</div>"
      ],
      "text/plain": [
       "call_category  внешний входящий  внешний исходящий  внутренний     sum  \\\n",
       "user_id                                                                  \n",
       "166377                    194.0             2788.0        55.0  3037.0   \n",
       "166391                     14.0                0.0         9.0    23.0   \n",
       "166392                    200.0                0.0         1.0   201.0   \n",
       "166399                     20.0                0.0         0.0    20.0   \n",
       "166405                   2665.0             4014.0        34.0  6713.0   \n",
       "\n",
       "call_category    % in  % out  \n",
       "user_id                       \n",
       "166377           6.39  91.80  \n",
       "166391          60.87   0.00  \n",
       "166392          99.50   0.00  \n",
       "166399         100.00   0.00  \n",
       "166405          39.70  59.79  "
      ]
     },
     "execution_count": 58,
     "metadata": {},
     "output_type": "execute_result"
    }
   ],
   "source": [
    "telecom_dataset_pivot['sum'] = telecom_dataset_pivot['внешний входящий'] + telecom_dataset_pivot['внешний исходящий'] + telecom_dataset_pivot['внутренний']\n",
    "telecom_dataset_pivot['% in'] =  round((telecom_dataset_pivot['внешний входящий'] * 100/ telecom_dataset_pivot['sum']), 2)\n",
    "telecom_dataset_pivot['% out'] =  round((telecom_dataset_pivot['внешний исходящий'] * 100/ telecom_dataset_pivot['sum']), 2)\n",
    "telecom_dataset_pivot.head(5)"
   ]
  },
  {
   "cell_type": "markdown",
   "metadata": {},
   "source": [
    "Разделим колл-центры на типы, в зависимости от доли исх. и вх. звонков, которые они совершили за данный нам период:"
   ]
  },
  {
   "cell_type": "code",
   "execution_count": 59,
   "metadata": {},
   "outputs": [],
   "source": [
    "def split_call_centre(row):\n",
    "   \n",
    "    \"\"\"\n",
    "     Эта функция для разбиения на категории колл-центры:\n",
    "     те, которые специализируются на исх. звонках, внутренних и другие.\n",
    "     \n",
    "    \"\"\"\n",
    "    if row['% in'] >= 60:\n",
    "        return 'вх. звонки'\n",
    "    elif row['% out'] >= 60:\n",
    "        return 'исх. звонки'\n",
    "    else:\n",
    "        return 'другое'\n",
    "    \n",
    "# создание нового столбца на основании полученных функцией значений\n",
    "telecom_dataset_pivot['call_centre_category'] = telecom_dataset_pivot.apply(split_call_centre, axis=1)"
   ]
  },
  {
   "cell_type": "code",
   "execution_count": 60,
   "metadata": {
    "scrolled": true
   },
   "outputs": [
    {
     "data": {
      "text/html": [
       "<div>\n",
       "<style scoped>\n",
       "    .dataframe tbody tr th:only-of-type {\n",
       "        vertical-align: middle;\n",
       "    }\n",
       "\n",
       "    .dataframe tbody tr th {\n",
       "        vertical-align: top;\n",
       "    }\n",
       "\n",
       "    .dataframe thead th {\n",
       "        text-align: right;\n",
       "    }\n",
       "</style>\n",
       "<table border=\"1\" class=\"dataframe\">\n",
       "  <thead>\n",
       "    <tr style=\"text-align: right;\">\n",
       "      <th>call_category</th>\n",
       "      <th>внешний входящий</th>\n",
       "      <th>внешний исходящий</th>\n",
       "      <th>внутренний</th>\n",
       "      <th>sum</th>\n",
       "      <th>% in</th>\n",
       "      <th>% out</th>\n",
       "      <th>call_centre_category</th>\n",
       "    </tr>\n",
       "    <tr>\n",
       "      <th>user_id</th>\n",
       "      <th></th>\n",
       "      <th></th>\n",
       "      <th></th>\n",
       "      <th></th>\n",
       "      <th></th>\n",
       "      <th></th>\n",
       "      <th></th>\n",
       "    </tr>\n",
       "  </thead>\n",
       "  <tbody>\n",
       "    <tr>\n",
       "      <th>166485</th>\n",
       "      <td>678.0</td>\n",
       "      <td>2579.0</td>\n",
       "      <td>536.0</td>\n",
       "      <td>3793.0</td>\n",
       "      <td>17.88</td>\n",
       "      <td>67.99</td>\n",
       "      <td>исх. звонки</td>\n",
       "    </tr>\n",
       "    <tr>\n",
       "      <th>168481</th>\n",
       "      <td>43.0</td>\n",
       "      <td>20.0</td>\n",
       "      <td>6.0</td>\n",
       "      <td>69.0</td>\n",
       "      <td>62.32</td>\n",
       "      <td>28.99</td>\n",
       "      <td>вх. звонки</td>\n",
       "    </tr>\n",
       "    <tr>\n",
       "      <th>167235</th>\n",
       "      <td>537.0</td>\n",
       "      <td>936.0</td>\n",
       "      <td>0.0</td>\n",
       "      <td>1473.0</td>\n",
       "      <td>36.46</td>\n",
       "      <td>63.54</td>\n",
       "      <td>исх. звонки</td>\n",
       "    </tr>\n",
       "    <tr>\n",
       "      <th>167955</th>\n",
       "      <td>128.0</td>\n",
       "      <td>764.0</td>\n",
       "      <td>0.0</td>\n",
       "      <td>892.0</td>\n",
       "      <td>14.35</td>\n",
       "      <td>85.65</td>\n",
       "      <td>исх. звонки</td>\n",
       "    </tr>\n",
       "    <tr>\n",
       "      <th>167930</th>\n",
       "      <td>35.0</td>\n",
       "      <td>5.0</td>\n",
       "      <td>0.0</td>\n",
       "      <td>40.0</td>\n",
       "      <td>87.50</td>\n",
       "      <td>12.50</td>\n",
       "      <td>вх. звонки</td>\n",
       "    </tr>\n",
       "  </tbody>\n",
       "</table>\n",
       "</div>"
      ],
      "text/plain": [
       "call_category  внешний входящий  внешний исходящий  внутренний     sum   % in  \\\n",
       "user_id                                                                         \n",
       "166485                    678.0             2579.0       536.0  3793.0  17.88   \n",
       "168481                     43.0               20.0         6.0    69.0  62.32   \n",
       "167235                    537.0              936.0         0.0  1473.0  36.46   \n",
       "167955                    128.0              764.0         0.0   892.0  14.35   \n",
       "167930                     35.0                5.0         0.0    40.0  87.50   \n",
       "\n",
       "call_category  % out call_centre_category  \n",
       "user_id                                    \n",
       "166485         67.99          исх. звонки  \n",
       "168481         28.99           вх. звонки  \n",
       "167235         63.54          исх. звонки  \n",
       "167955         85.65          исх. звонки  \n",
       "167930         12.50           вх. звонки  "
      ]
     },
     "execution_count": 60,
     "metadata": {},
     "output_type": "execute_result"
    }
   ],
   "source": [
    "telecom_dataset_pivot.sample(5)"
   ]
  },
  {
   "cell_type": "markdown",
   "metadata": {},
   "source": [
    "Посмотрим на топ-10 по самому большому количеству звонков:"
   ]
  },
  {
   "cell_type": "code",
   "execution_count": 61,
   "metadata": {
    "scrolled": true
   },
   "outputs": [
    {
     "data": {
      "text/html": [
       "<div>\n",
       "<style scoped>\n",
       "    .dataframe tbody tr th:only-of-type {\n",
       "        vertical-align: middle;\n",
       "    }\n",
       "\n",
       "    .dataframe tbody tr th {\n",
       "        vertical-align: top;\n",
       "    }\n",
       "\n",
       "    .dataframe thead th {\n",
       "        text-align: right;\n",
       "    }\n",
       "</style>\n",
       "<table border=\"1\" class=\"dataframe\">\n",
       "  <thead>\n",
       "    <tr style=\"text-align: right;\">\n",
       "      <th>call_category</th>\n",
       "      <th>внешний входящий</th>\n",
       "      <th>внешний исходящий</th>\n",
       "      <th>внутренний</th>\n",
       "      <th>sum</th>\n",
       "      <th>% in</th>\n",
       "      <th>% out</th>\n",
       "      <th>call_centre_category</th>\n",
       "    </tr>\n",
       "    <tr>\n",
       "      <th>user_id</th>\n",
       "      <th></th>\n",
       "      <th></th>\n",
       "      <th></th>\n",
       "      <th></th>\n",
       "      <th></th>\n",
       "      <th></th>\n",
       "      <th></th>\n",
       "    </tr>\n",
       "  </thead>\n",
       "  <tbody>\n",
       "    <tr>\n",
       "      <th>168187</th>\n",
       "      <td>4859.0</td>\n",
       "      <td>10908.0</td>\n",
       "      <td>546.0</td>\n",
       "      <td>16313.0</td>\n",
       "      <td>29.79</td>\n",
       "      <td>66.87</td>\n",
       "      <td>исх. звонки</td>\n",
       "    </tr>\n",
       "    <tr>\n",
       "      <th>168361</th>\n",
       "      <td>42.0</td>\n",
       "      <td>12144.0</td>\n",
       "      <td>73.0</td>\n",
       "      <td>12259.0</td>\n",
       "      <td>0.34</td>\n",
       "      <td>99.06</td>\n",
       "      <td>исх. звонки</td>\n",
       "    </tr>\n",
       "    <tr>\n",
       "      <th>168062</th>\n",
       "      <td>437.0</td>\n",
       "      <td>11171.0</td>\n",
       "      <td>626.0</td>\n",
       "      <td>12234.0</td>\n",
       "      <td>3.57</td>\n",
       "      <td>91.31</td>\n",
       "      <td>исх. звонки</td>\n",
       "    </tr>\n",
       "    <tr>\n",
       "      <th>167626</th>\n",
       "      <td>34.0</td>\n",
       "      <td>11714.0</td>\n",
       "      <td>38.0</td>\n",
       "      <td>11786.0</td>\n",
       "      <td>0.29</td>\n",
       "      <td>99.39</td>\n",
       "      <td>исх. звонки</td>\n",
       "    </tr>\n",
       "    <tr>\n",
       "      <th>166658</th>\n",
       "      <td>1710.0</td>\n",
       "      <td>5477.0</td>\n",
       "      <td>21.0</td>\n",
       "      <td>7208.0</td>\n",
       "      <td>23.72</td>\n",
       "      <td>75.99</td>\n",
       "      <td>исх. звонки</td>\n",
       "    </tr>\n",
       "    <tr>\n",
       "      <th>166405</th>\n",
       "      <td>2665.0</td>\n",
       "      <td>4014.0</td>\n",
       "      <td>34.0</td>\n",
       "      <td>6713.0</td>\n",
       "      <td>39.70</td>\n",
       "      <td>59.79</td>\n",
       "      <td>другое</td>\n",
       "    </tr>\n",
       "    <tr>\n",
       "      <th>168252</th>\n",
       "      <td>1572.0</td>\n",
       "      <td>4393.0</td>\n",
       "      <td>298.0</td>\n",
       "      <td>6263.0</td>\n",
       "      <td>25.10</td>\n",
       "      <td>70.14</td>\n",
       "      <td>исх. звонки</td>\n",
       "    </tr>\n",
       "    <tr>\n",
       "      <th>166782</th>\n",
       "      <td>1574.0</td>\n",
       "      <td>3859.0</td>\n",
       "      <td>85.0</td>\n",
       "      <td>5518.0</td>\n",
       "      <td>28.52</td>\n",
       "      <td>69.93</td>\n",
       "      <td>исх. звонки</td>\n",
       "    </tr>\n",
       "    <tr>\n",
       "      <th>167150</th>\n",
       "      <td>761.0</td>\n",
       "      <td>3127.0</td>\n",
       "      <td>1293.0</td>\n",
       "      <td>5181.0</td>\n",
       "      <td>14.69</td>\n",
       "      <td>60.36</td>\n",
       "      <td>исх. звонки</td>\n",
       "    </tr>\n",
       "    <tr>\n",
       "      <th>167125</th>\n",
       "      <td>526.0</td>\n",
       "      <td>4454.0</td>\n",
       "      <td>126.0</td>\n",
       "      <td>5106.0</td>\n",
       "      <td>10.30</td>\n",
       "      <td>87.23</td>\n",
       "      <td>исх. звонки</td>\n",
       "    </tr>\n",
       "  </tbody>\n",
       "</table>\n",
       "</div>"
      ],
      "text/plain": [
       "call_category  внешний входящий  внешний исходящий  внутренний      sum  \\\n",
       "user_id                                                                   \n",
       "168187                   4859.0            10908.0       546.0  16313.0   \n",
       "168361                     42.0            12144.0        73.0  12259.0   \n",
       "168062                    437.0            11171.0       626.0  12234.0   \n",
       "167626                     34.0            11714.0        38.0  11786.0   \n",
       "166658                   1710.0             5477.0        21.0   7208.0   \n",
       "166405                   2665.0             4014.0        34.0   6713.0   \n",
       "168252                   1572.0             4393.0       298.0   6263.0   \n",
       "166782                   1574.0             3859.0        85.0   5518.0   \n",
       "167150                    761.0             3127.0      1293.0   5181.0   \n",
       "167125                    526.0             4454.0       126.0   5106.0   \n",
       "\n",
       "call_category   % in  % out call_centre_category  \n",
       "user_id                                           \n",
       "168187         29.79  66.87          исх. звонки  \n",
       "168361          0.34  99.06          исх. звонки  \n",
       "168062          3.57  91.31          исх. звонки  \n",
       "167626          0.29  99.39          исх. звонки  \n",
       "166658         23.72  75.99          исх. звонки  \n",
       "166405         39.70  59.79               другое  \n",
       "168252         25.10  70.14          исх. звонки  \n",
       "166782         28.52  69.93          исх. звонки  \n",
       "167150         14.69  60.36          исх. звонки  \n",
       "167125         10.30  87.23          исх. звонки  "
      ]
     },
     "execution_count": 61,
     "metadata": {},
     "output_type": "execute_result"
    }
   ],
   "source": [
    "telecom_dataset_pivot.sort_values(by='sum', ascending=False).head(10)"
   ]
  },
  {
   "cell_type": "markdown",
   "metadata": {},
   "source": [
    "Посмотрим на топ-10 по наименьшему числу звонков:"
   ]
  },
  {
   "cell_type": "code",
   "execution_count": 62,
   "metadata": {},
   "outputs": [
    {
     "data": {
      "text/html": [
       "<div>\n",
       "<style scoped>\n",
       "    .dataframe tbody tr th:only-of-type {\n",
       "        vertical-align: middle;\n",
       "    }\n",
       "\n",
       "    .dataframe tbody tr th {\n",
       "        vertical-align: top;\n",
       "    }\n",
       "\n",
       "    .dataframe thead th {\n",
       "        text-align: right;\n",
       "    }\n",
       "</style>\n",
       "<table border=\"1\" class=\"dataframe\">\n",
       "  <thead>\n",
       "    <tr style=\"text-align: right;\">\n",
       "      <th>call_category</th>\n",
       "      <th>внешний входящий</th>\n",
       "      <th>внешний исходящий</th>\n",
       "      <th>внутренний</th>\n",
       "      <th>sum</th>\n",
       "      <th>% in</th>\n",
       "      <th>% out</th>\n",
       "      <th>call_centre_category</th>\n",
       "    </tr>\n",
       "    <tr>\n",
       "      <th>user_id</th>\n",
       "      <th></th>\n",
       "      <th></th>\n",
       "      <th></th>\n",
       "      <th></th>\n",
       "      <th></th>\n",
       "      <th></th>\n",
       "      <th></th>\n",
       "    </tr>\n",
       "  </thead>\n",
       "  <tbody>\n",
       "    <tr>\n",
       "      <th>168578</th>\n",
       "      <td>1.0</td>\n",
       "      <td>0.0</td>\n",
       "      <td>0.0</td>\n",
       "      <td>1.0</td>\n",
       "      <td>100.0</td>\n",
       "      <td>0.0</td>\n",
       "      <td>вх. звонки</td>\n",
       "    </tr>\n",
       "    <tr>\n",
       "      <th>167981</th>\n",
       "      <td>1.0</td>\n",
       "      <td>0.0</td>\n",
       "      <td>0.0</td>\n",
       "      <td>1.0</td>\n",
       "      <td>100.0</td>\n",
       "      <td>0.0</td>\n",
       "      <td>вх. звонки</td>\n",
       "    </tr>\n",
       "    <tr>\n",
       "      <th>168490</th>\n",
       "      <td>2.0</td>\n",
       "      <td>0.0</td>\n",
       "      <td>0.0</td>\n",
       "      <td>2.0</td>\n",
       "      <td>100.0</td>\n",
       "      <td>0.0</td>\n",
       "      <td>вх. звонки</td>\n",
       "    </tr>\n",
       "    <tr>\n",
       "      <th>166554</th>\n",
       "      <td>0.0</td>\n",
       "      <td>0.0</td>\n",
       "      <td>2.0</td>\n",
       "      <td>2.0</td>\n",
       "      <td>0.0</td>\n",
       "      <td>0.0</td>\n",
       "      <td>другое</td>\n",
       "    </tr>\n",
       "    <tr>\n",
       "      <th>168013</th>\n",
       "      <td>2.0</td>\n",
       "      <td>0.0</td>\n",
       "      <td>0.0</td>\n",
       "      <td>2.0</td>\n",
       "      <td>100.0</td>\n",
       "      <td>0.0</td>\n",
       "      <td>вх. звонки</td>\n",
       "    </tr>\n",
       "    <tr>\n",
       "      <th>168340</th>\n",
       "      <td>2.0</td>\n",
       "      <td>0.0</td>\n",
       "      <td>0.0</td>\n",
       "      <td>2.0</td>\n",
       "      <td>100.0</td>\n",
       "      <td>0.0</td>\n",
       "      <td>вх. звонки</td>\n",
       "    </tr>\n",
       "    <tr>\n",
       "      <th>167682</th>\n",
       "      <td>2.0</td>\n",
       "      <td>0.0</td>\n",
       "      <td>0.0</td>\n",
       "      <td>2.0</td>\n",
       "      <td>100.0</td>\n",
       "      <td>0.0</td>\n",
       "      <td>вх. звонки</td>\n",
       "    </tr>\n",
       "    <tr>\n",
       "      <th>166584</th>\n",
       "      <td>2.0</td>\n",
       "      <td>0.0</td>\n",
       "      <td>0.0</td>\n",
       "      <td>2.0</td>\n",
       "      <td>100.0</td>\n",
       "      <td>0.0</td>\n",
       "      <td>вх. звонки</td>\n",
       "    </tr>\n",
       "    <tr>\n",
       "      <th>167139</th>\n",
       "      <td>1.0</td>\n",
       "      <td>0.0</td>\n",
       "      <td>1.0</td>\n",
       "      <td>2.0</td>\n",
       "      <td>50.0</td>\n",
       "      <td>0.0</td>\n",
       "      <td>другое</td>\n",
       "    </tr>\n",
       "    <tr>\n",
       "      <th>167939</th>\n",
       "      <td>3.0</td>\n",
       "      <td>0.0</td>\n",
       "      <td>0.0</td>\n",
       "      <td>3.0</td>\n",
       "      <td>100.0</td>\n",
       "      <td>0.0</td>\n",
       "      <td>вх. звонки</td>\n",
       "    </tr>\n",
       "  </tbody>\n",
       "</table>\n",
       "</div>"
      ],
      "text/plain": [
       "call_category  внешний входящий  внешний исходящий  внутренний  sum   % in  \\\n",
       "user_id                                                                      \n",
       "168578                      1.0                0.0         0.0  1.0  100.0   \n",
       "167981                      1.0                0.0         0.0  1.0  100.0   \n",
       "168490                      2.0                0.0         0.0  2.0  100.0   \n",
       "166554                      0.0                0.0         2.0  2.0    0.0   \n",
       "168013                      2.0                0.0         0.0  2.0  100.0   \n",
       "168340                      2.0                0.0         0.0  2.0  100.0   \n",
       "167682                      2.0                0.0         0.0  2.0  100.0   \n",
       "166584                      2.0                0.0         0.0  2.0  100.0   \n",
       "167139                      1.0                0.0         1.0  2.0   50.0   \n",
       "167939                      3.0                0.0         0.0  3.0  100.0   \n",
       "\n",
       "call_category  % out call_centre_category  \n",
       "user_id                                    \n",
       "168578           0.0           вх. звонки  \n",
       "167981           0.0           вх. звонки  \n",
       "168490           0.0           вх. звонки  \n",
       "166554           0.0               другое  \n",
       "168013           0.0           вх. звонки  \n",
       "168340           0.0           вх. звонки  \n",
       "167682           0.0           вх. звонки  \n",
       "166584           0.0           вх. звонки  \n",
       "167139           0.0               другое  \n",
       "167939           0.0           вх. звонки  "
      ]
     },
     "execution_count": 62,
     "metadata": {},
     "output_type": "execute_result"
    }
   ],
   "source": [
    "telecom_dataset_pivot.sort_values(by='sum').head(10)"
   ]
  },
  {
   "cell_type": "code",
   "execution_count": 63,
   "metadata": {
    "scrolled": true
   },
   "outputs": [
    {
     "data": {
      "text/html": [
       "<div>\n",
       "<style scoped>\n",
       "    .dataframe tbody tr th:only-of-type {\n",
       "        vertical-align: middle;\n",
       "    }\n",
       "\n",
       "    .dataframe tbody tr th {\n",
       "        vertical-align: top;\n",
       "    }\n",
       "\n",
       "    .dataframe thead th {\n",
       "        text-align: right;\n",
       "    }\n",
       "</style>\n",
       "<table border=\"1\" class=\"dataframe\">\n",
       "  <thead>\n",
       "    <tr style=\"text-align: right;\">\n",
       "      <th></th>\n",
       "      <th>user_id</th>\n",
       "      <th>direction</th>\n",
       "      <th>internal</th>\n",
       "      <th>operator_id</th>\n",
       "      <th>is_missed_call</th>\n",
       "      <th>calls_count</th>\n",
       "      <th>call_duration</th>\n",
       "      <th>total_call_duration</th>\n",
       "      <th>sessions_date</th>\n",
       "      <th>waiting_time</th>\n",
       "      <th>call_category</th>\n",
       "      <th>внешний входящий</th>\n",
       "      <th>внешний исходящий</th>\n",
       "      <th>внутренний</th>\n",
       "      <th>sum</th>\n",
       "      <th>% in</th>\n",
       "      <th>% out</th>\n",
       "      <th>call_centre_category</th>\n",
       "    </tr>\n",
       "  </thead>\n",
       "  <tbody>\n",
       "    <tr>\n",
       "      <th>17089</th>\n",
       "      <td>167071</td>\n",
       "      <td>out</td>\n",
       "      <td>False</td>\n",
       "      <td>913942.0</td>\n",
       "      <td>False</td>\n",
       "      <td>11</td>\n",
       "      <td>893</td>\n",
       "      <td>1056</td>\n",
       "      <td>2019-10-01</td>\n",
       "      <td>15</td>\n",
       "      <td>внешний исходящий</td>\n",
       "      <td>1676.0</td>\n",
       "      <td>772.0</td>\n",
       "      <td>13.0</td>\n",
       "      <td>2461.0</td>\n",
       "      <td>68.1</td>\n",
       "      <td>31.37</td>\n",
       "      <td>вх. звонки</td>\n",
       "    </tr>\n",
       "  </tbody>\n",
       "</table>\n",
       "</div>"
      ],
      "text/plain": [
       "       user_id direction  internal  operator_id  is_missed_call  calls_count  \\\n",
       "17089   167071       out     False     913942.0           False           11   \n",
       "\n",
       "       call_duration  total_call_duration sessions_date  waiting_time  \\\n",
       "17089            893                 1056    2019-10-01            15   \n",
       "\n",
       "           call_category  внешний входящий  внешний исходящий  внутренний  \\\n",
       "17089  внешний исходящий            1676.0              772.0        13.0   \n",
       "\n",
       "          sum  % in  % out call_centre_category  \n",
       "17089  2461.0  68.1  31.37           вх. звонки  "
      ]
     },
     "execution_count": 63,
     "metadata": {},
     "output_type": "execute_result"
    }
   ],
   "source": [
    "telecom_dataset_merge = telecom_dataset.merge(telecom_dataset_pivot, on='user_id')\n",
    "telecom_dataset_merge.sample()"
   ]
  },
  {
   "cell_type": "markdown",
   "metadata": {},
   "source": [
    "Разделим датасет на два - по категориям колл-центров:"
   ]
  },
  {
   "cell_type": "code",
   "execution_count": 64,
   "metadata": {},
   "outputs": [],
   "source": [
    "out_call_centre = telecom_dataset_merge[telecom_dataset_merge['call_centre_category'] == 'исх. звонки']\n",
    "in_call_centre = telecom_dataset_merge[telecom_dataset_merge['call_centre_category'] == 'вх. звонки']\n",
    "other_call_centre = telecom_dataset_merge[telecom_dataset_merge['call_centre_category'] == 'другое']"
   ]
  },
  {
   "cell_type": "code",
   "execution_count": 65,
   "metadata": {},
   "outputs": [
    {
     "data": {
      "text/html": [
       "<div>\n",
       "<style scoped>\n",
       "    .dataframe tbody tr th:only-of-type {\n",
       "        vertical-align: middle;\n",
       "    }\n",
       "\n",
       "    .dataframe tbody tr th {\n",
       "        vertical-align: top;\n",
       "    }\n",
       "\n",
       "    .dataframe thead th {\n",
       "        text-align: right;\n",
       "    }\n",
       "</style>\n",
       "<table border=\"1\" class=\"dataframe\">\n",
       "  <thead>\n",
       "    <tr style=\"text-align: right;\">\n",
       "      <th></th>\n",
       "      <th>call_centre_category</th>\n",
       "      <th>user_id</th>\n",
       "    </tr>\n",
       "  </thead>\n",
       "  <tbody>\n",
       "    <tr>\n",
       "      <th>0</th>\n",
       "      <td>вх. звонки</td>\n",
       "      <td>155</td>\n",
       "    </tr>\n",
       "    <tr>\n",
       "      <th>1</th>\n",
       "      <td>другое</td>\n",
       "      <td>50</td>\n",
       "    </tr>\n",
       "    <tr>\n",
       "      <th>2</th>\n",
       "      <td>исх. звонки</td>\n",
       "      <td>102</td>\n",
       "    </tr>\n",
       "  </tbody>\n",
       "</table>\n",
       "</div>"
      ],
      "text/plain": [
       "  call_centre_category  user_id\n",
       "0           вх. звонки      155\n",
       "1               другое       50\n",
       "2          исх. звонки      102"
      ]
     },
     "execution_count": 65,
     "metadata": {},
     "output_type": "execute_result"
    }
   ],
   "source": [
    "call_center_types = telecom_dataset_merge.groupby('call_centre_category')['user_id'].nunique().reset_index()\n",
    "call_center_types"
   ]
  },
  {
   "cell_type": "code",
   "execution_count": 66,
   "metadata": {},
   "outputs": [
    {
     "data": {
      "image/png": "[encoded data removed]",
      "text/plain": [
       "<Figure size 432x288 with 1 Axes>"
      ]
     },
     "metadata": {},
     "output_type": "display_data"
    }
   ],
   "source": [
    "labels = call_center_types['call_centre_category']\n",
    "plt.pie(call_center_types['user_id'], labels=labels, autopct='%.0f%%')\n",
    "plt.show()"
   ]
  },
  {
   "cell_type": "markdown",
   "metadata": {},
   "source": [
    "**Выводы:**\n",
    "\n",
    "- разделили звонки на категории для последующего разбиения колл-центров на категории: \n",
    "                   -- 50% - на вх. звонках, 33% - на исх. звонках, 16% - универсальные\n",
    "- составили датасеты с данными о звонках колл-центров, специализирующихся на исходящих звонках и входящих\n",
    "- получили топ-10 по наибольшему и наименьшему числу звонков: в 10-ке лучших по этому признаку в основном колл-центры категории \"исх. звонки\", в топ-10 худших - колл-центры ктегории \"вх. звонки\", что логично, поскольку звонки с предложениями услуг обычно не занимают много времени по длительности\n"
   ]
  },
  {
   "cell_type": "markdown",
   "metadata": {},
   "source": [
    "## Определение порогов эффективности операторов"
   ]
  },
  {
   "cell_type": "markdown",
   "metadata": {},
   "source": [
    "Исходя из того, что нам дано, судить по эффективности операторов можно по следующим показателям: \n",
    "- пропущенные звонки\n",
    "- количество звонков\n",
    "- время ожидания"
   ]
  },
  {
   "cell_type": "markdown",
   "metadata": {},
   "source": [
    "### Для колл-центров, специализирующихся на исходящих звонках"
   ]
  },
  {
   "cell_type": "markdown",
   "metadata": {},
   "source": [
    "#### По количеству звонков"
   ]
  },
  {
   "cell_type": "markdown",
   "metadata": {},
   "source": [
    "Соберем таблицу, где для каждого оператора есть число звонков, их продолжительность за весь период.\n",
    "\n",
    "Посчитаем, сколько в среднем составляет продолжительность одного звонка для каждого оператора.\n",
    "\n",
    "Далее считаем, сколько оператор способен с этими данными совершить звонков за смену."
   ]
  },
  {
   "cell_type": "code",
   "execution_count": 67,
   "metadata": {
    "scrolled": true
   },
   "outputs": [
    {
     "name": "stderr",
     "output_type": "stream",
     "text": [
      "/tmp/ipykernel_64/1041324963.py:1: FutureWarning: Indexing with multiple keys (implicitly converted to a tuple of keys) will be deprecated, use a list instead.\n",
      "  out_call_per_day = out_call_centre.groupby(['operator_id'])['calls_count', 'total_call_duration'].sum().reset_index()\n"
     ]
    },
    {
     "data": {
      "text/html": [
       "<div>\n",
       "<style scoped>\n",
       "    .dataframe tbody tr th:only-of-type {\n",
       "        vertical-align: middle;\n",
       "    }\n",
       "\n",
       "    .dataframe tbody tr th {\n",
       "        vertical-align: top;\n",
       "    }\n",
       "\n",
       "    .dataframe thead th {\n",
       "        text-align: right;\n",
       "    }\n",
       "</style>\n",
       "<table border=\"1\" class=\"dataframe\">\n",
       "  <thead>\n",
       "    <tr style=\"text-align: right;\">\n",
       "      <th></th>\n",
       "      <th>operator_id</th>\n",
       "      <th>calls_count</th>\n",
       "      <th>total_call_duration</th>\n",
       "      <th>total_duration_for_one_call</th>\n",
       "      <th>calls_per_day</th>\n",
       "    </tr>\n",
       "  </thead>\n",
       "  <tbody>\n",
       "    <tr>\n",
       "      <th>0</th>\n",
       "      <td>879896.0</td>\n",
       "      <td>469</td>\n",
       "      <td>26617</td>\n",
       "      <td>57.0</td>\n",
       "      <td>8.0</td>\n",
       "    </tr>\n",
       "    <tr>\n",
       "      <th>1</th>\n",
       "      <td>879898.0</td>\n",
       "      <td>2490</td>\n",
       "      <td>65865</td>\n",
       "      <td>26.0</td>\n",
       "      <td>18.0</td>\n",
       "    </tr>\n",
       "    <tr>\n",
       "      <th>2</th>\n",
       "      <td>880020.0</td>\n",
       "      <td>45</td>\n",
       "      <td>2525</td>\n",
       "      <td>56.0</td>\n",
       "      <td>9.0</td>\n",
       "    </tr>\n",
       "    <tr>\n",
       "      <th>3</th>\n",
       "      <td>880022.0</td>\n",
       "      <td>171</td>\n",
       "      <td>15318</td>\n",
       "      <td>90.0</td>\n",
       "      <td>5.0</td>\n",
       "    </tr>\n",
       "    <tr>\n",
       "      <th>4</th>\n",
       "      <td>880026.0</td>\n",
       "      <td>1129</td>\n",
       "      <td>58112</td>\n",
       "      <td>51.0</td>\n",
       "      <td>9.0</td>\n",
       "    </tr>\n",
       "  </tbody>\n",
       "</table>\n",
       "</div>"
      ],
      "text/plain": [
       "   operator_id  calls_count  total_call_duration  total_duration_for_one_call  \\\n",
       "0     879896.0          469                26617                         57.0   \n",
       "1     879898.0         2490                65865                         26.0   \n",
       "2     880020.0           45                 2525                         56.0   \n",
       "3     880022.0          171                15318                         90.0   \n",
       "4     880026.0         1129                58112                         51.0   \n",
       "\n",
       "   calls_per_day  \n",
       "0            8.0  \n",
       "1           18.0  \n",
       "2            9.0  \n",
       "3            5.0  \n",
       "4            9.0  "
      ]
     },
     "execution_count": 67,
     "metadata": {},
     "output_type": "execute_result"
    }
   ],
   "source": [
    "out_call_per_day = out_call_centre.groupby(['operator_id'])['calls_count', 'total_call_duration'].sum().reset_index()\n",
    "out_call_per_day['total_duration_for_one_call'] = round((out_call_per_day['total_call_duration']/out_call_per_day['calls_count']), 0)\n",
    "out_call_per_day['calls_per_day'] = round((480/(out_call_per_day['total_duration_for_one_call'])), 0)\n",
    "out_call_per_day.head()"
   ]
  },
  {
   "cell_type": "markdown",
   "metadata": {},
   "source": [
    "Считаем среднее число звонков в смену(считаем 8 часов) - пороговое значение:"
   ]
  },
  {
   "cell_type": "code",
   "execution_count": 68,
   "metadata": {},
   "outputs": [
    {
     "data": {
      "text/plain": [
       "10.0"
      ]
     },
     "execution_count": 68,
     "metadata": {},
     "output_type": "execute_result"
    }
   ],
   "source": [
    "limit_call_number = round(out_call_per_day['calls_per_day'].median(), 0)\n",
    "limit_call_number"
   ]
  },
  {
   "cell_type": "code",
   "execution_count": 69,
   "metadata": {
    "scrolled": false
   },
   "outputs": [
    {
     "data": {
      "text/html": [
       "<div>\n",
       "<style scoped>\n",
       "    .dataframe tbody tr th:only-of-type {\n",
       "        vertical-align: middle;\n",
       "    }\n",
       "\n",
       "    .dataframe tbody tr th {\n",
       "        vertical-align: top;\n",
       "    }\n",
       "\n",
       "    .dataframe thead th {\n",
       "        text-align: right;\n",
       "    }\n",
       "</style>\n",
       "<table border=\"1\" class=\"dataframe\">\n",
       "  <thead>\n",
       "    <tr style=\"text-align: right;\">\n",
       "      <th></th>\n",
       "      <th>operator_id</th>\n",
       "      <th>calls_count</th>\n",
       "      <th>total_call_duration</th>\n",
       "      <th>total_duration_for_one_call</th>\n",
       "      <th>calls_per_day</th>\n",
       "      <th>is_operator_effective_by_calls</th>\n",
       "    </tr>\n",
       "  </thead>\n",
       "  <tbody>\n",
       "    <tr>\n",
       "      <th>222</th>\n",
       "      <td>919418.0</td>\n",
       "      <td>2</td>\n",
       "      <td>10</td>\n",
       "      <td>5.0</td>\n",
       "      <td>96.0</td>\n",
       "      <td>True</td>\n",
       "    </tr>\n",
       "  </tbody>\n",
       "</table>\n",
       "</div>"
      ],
      "text/plain": [
       "     operator_id  calls_count  total_call_duration  \\\n",
       "222     919418.0            2                   10   \n",
       "\n",
       "     total_duration_for_one_call  calls_per_day  \\\n",
       "222                          5.0           96.0   \n",
       "\n",
       "     is_operator_effective_by_calls  \n",
       "222                            True  "
      ]
     },
     "execution_count": 69,
     "metadata": {},
     "output_type": "execute_result"
    }
   ],
   "source": [
    "def split_number_calls(row):\n",
    "\n",
    "    \"\"\"\n",
    "     С помощью этой функции определяется эффективен или неэффективен оператор по числу звонков\n",
    "     \n",
    "    \"\"\"\n",
    "    \n",
    "    if (row['calls_per_day'] >= limit_call_number):\n",
    "        return True\n",
    "    else:\n",
    "        return False\n",
    "    \n",
    "# создание нового столбца на основании полученных функцией значений\n",
    "out_call_per_day['is_operator_effective_by_calls'] = out_call_per_day.apply(split_number_calls, axis=1)\n",
    "out_call_per_day.sample()"
   ]
  },
  {
   "cell_type": "markdown",
   "metadata": {},
   "source": [
    "Оставляем только нужные столбцы:"
   ]
  },
  {
   "cell_type": "code",
   "execution_count": 70,
   "metadata": {},
   "outputs": [
    {
     "data": {
      "text/html": [
       "<div>\n",
       "<style scoped>\n",
       "    .dataframe tbody tr th:only-of-type {\n",
       "        vertical-align: middle;\n",
       "    }\n",
       "\n",
       "    .dataframe tbody tr th {\n",
       "        vertical-align: top;\n",
       "    }\n",
       "\n",
       "    .dataframe thead th {\n",
       "        text-align: right;\n",
       "    }\n",
       "</style>\n",
       "<table border=\"1\" class=\"dataframe\">\n",
       "  <thead>\n",
       "    <tr style=\"text-align: right;\">\n",
       "      <th></th>\n",
       "      <th>operator_id</th>\n",
       "      <th>is_operator_effective_by_calls</th>\n",
       "    </tr>\n",
       "  </thead>\n",
       "  <tbody>\n",
       "    <tr>\n",
       "      <th>0</th>\n",
       "      <td>879896.0</td>\n",
       "      <td>False</td>\n",
       "    </tr>\n",
       "    <tr>\n",
       "      <th>1</th>\n",
       "      <td>879898.0</td>\n",
       "      <td>True</td>\n",
       "    </tr>\n",
       "    <tr>\n",
       "      <th>2</th>\n",
       "      <td>880020.0</td>\n",
       "      <td>False</td>\n",
       "    </tr>\n",
       "    <tr>\n",
       "      <th>3</th>\n",
       "      <td>880022.0</td>\n",
       "      <td>False</td>\n",
       "    </tr>\n",
       "    <tr>\n",
       "      <th>4</th>\n",
       "      <td>880026.0</td>\n",
       "      <td>False</td>\n",
       "    </tr>\n",
       "  </tbody>\n",
       "</table>\n",
       "</div>"
      ],
      "text/plain": [
       "   operator_id  is_operator_effective_by_calls\n",
       "0     879896.0                           False\n",
       "1     879898.0                            True\n",
       "2     880020.0                           False\n",
       "3     880022.0                           False\n",
       "4     880026.0                           False"
      ]
     },
     "execution_count": 70,
     "metadata": {},
     "output_type": "execute_result"
    }
   ],
   "source": [
    "out_call_per_day = out_call_per_day[['operator_id', 'is_operator_effective_by_calls']]\n",
    "out_call_per_day.head()"
   ]
  },
  {
   "cell_type": "markdown",
   "metadata": {},
   "source": [
    "Объединяем таблицы out_call_centre и out_call_per_day:"
   ]
  },
  {
   "cell_type": "code",
   "execution_count": 71,
   "metadata": {},
   "outputs": [
    {
     "data": {
      "text/html": [
       "<div>\n",
       "<style scoped>\n",
       "    .dataframe tbody tr th:only-of-type {\n",
       "        vertical-align: middle;\n",
       "    }\n",
       "\n",
       "    .dataframe tbody tr th {\n",
       "        vertical-align: top;\n",
       "    }\n",
       "\n",
       "    .dataframe thead th {\n",
       "        text-align: right;\n",
       "    }\n",
       "</style>\n",
       "<table border=\"1\" class=\"dataframe\">\n",
       "  <thead>\n",
       "    <tr style=\"text-align: right;\">\n",
       "      <th></th>\n",
       "      <th>user_id</th>\n",
       "      <th>direction</th>\n",
       "      <th>internal</th>\n",
       "      <th>operator_id</th>\n",
       "      <th>is_missed_call</th>\n",
       "      <th>calls_count</th>\n",
       "      <th>call_duration</th>\n",
       "      <th>total_call_duration</th>\n",
       "      <th>sessions_date</th>\n",
       "      <th>waiting_time</th>\n",
       "      <th>call_category</th>\n",
       "      <th>внешний входящий</th>\n",
       "      <th>внешний исходящий</th>\n",
       "      <th>внутренний</th>\n",
       "      <th>sum</th>\n",
       "      <th>% in</th>\n",
       "      <th>% out</th>\n",
       "      <th>call_centre_category</th>\n",
       "      <th>is_operator_effective_by_calls</th>\n",
       "    </tr>\n",
       "  </thead>\n",
       "  <tbody>\n",
       "    <tr>\n",
       "      <th>0</th>\n",
       "      <td>166377</td>\n",
       "      <td>out</td>\n",
       "      <td>True</td>\n",
       "      <td>880022.0</td>\n",
       "      <td>True</td>\n",
       "      <td>3</td>\n",
       "      <td>0</td>\n",
       "      <td>5</td>\n",
       "      <td>2019-08-05</td>\n",
       "      <td>2</td>\n",
       "      <td>внутренний</td>\n",
       "      <td>194.0</td>\n",
       "      <td>2788.0</td>\n",
       "      <td>55.0</td>\n",
       "      <td>3037.0</td>\n",
       "      <td>6.39</td>\n",
       "      <td>91.8</td>\n",
       "      <td>исх. звонки</td>\n",
       "      <td>False</td>\n",
       "    </tr>\n",
       "    <tr>\n",
       "      <th>1</th>\n",
       "      <td>166377</td>\n",
       "      <td>out</td>\n",
       "      <td>False</td>\n",
       "      <td>880022.0</td>\n",
       "      <td>True</td>\n",
       "      <td>3</td>\n",
       "      <td>0</td>\n",
       "      <td>25</td>\n",
       "      <td>2019-08-05</td>\n",
       "      <td>8</td>\n",
       "      <td>внешний исходящий</td>\n",
       "      <td>194.0</td>\n",
       "      <td>2788.0</td>\n",
       "      <td>55.0</td>\n",
       "      <td>3037.0</td>\n",
       "      <td>6.39</td>\n",
       "      <td>91.8</td>\n",
       "      <td>исх. звонки</td>\n",
       "      <td>False</td>\n",
       "    </tr>\n",
       "    <tr>\n",
       "      <th>2</th>\n",
       "      <td>166377</td>\n",
       "      <td>out</td>\n",
       "      <td>False</td>\n",
       "      <td>880022.0</td>\n",
       "      <td>False</td>\n",
       "      <td>2</td>\n",
       "      <td>558</td>\n",
       "      <td>568</td>\n",
       "      <td>2019-08-08</td>\n",
       "      <td>5</td>\n",
       "      <td>внешний исходящий</td>\n",
       "      <td>194.0</td>\n",
       "      <td>2788.0</td>\n",
       "      <td>55.0</td>\n",
       "      <td>3037.0</td>\n",
       "      <td>6.39</td>\n",
       "      <td>91.8</td>\n",
       "      <td>исх. звонки</td>\n",
       "      <td>False</td>\n",
       "    </tr>\n",
       "    <tr>\n",
       "      <th>3</th>\n",
       "      <td>166377</td>\n",
       "      <td>out</td>\n",
       "      <td>False</td>\n",
       "      <td>880022.0</td>\n",
       "      <td>True</td>\n",
       "      <td>4</td>\n",
       "      <td>0</td>\n",
       "      <td>28</td>\n",
       "      <td>2019-08-08</td>\n",
       "      <td>7</td>\n",
       "      <td>внешний исходящий</td>\n",
       "      <td>194.0</td>\n",
       "      <td>2788.0</td>\n",
       "      <td>55.0</td>\n",
       "      <td>3037.0</td>\n",
       "      <td>6.39</td>\n",
       "      <td>91.8</td>\n",
       "      <td>исх. звонки</td>\n",
       "      <td>False</td>\n",
       "    </tr>\n",
       "    <tr>\n",
       "      <th>4</th>\n",
       "      <td>166377</td>\n",
       "      <td>out</td>\n",
       "      <td>False</td>\n",
       "      <td>880022.0</td>\n",
       "      <td>True</td>\n",
       "      <td>2</td>\n",
       "      <td>0</td>\n",
       "      <td>10</td>\n",
       "      <td>2019-08-09</td>\n",
       "      <td>5</td>\n",
       "      <td>внешний исходящий</td>\n",
       "      <td>194.0</td>\n",
       "      <td>2788.0</td>\n",
       "      <td>55.0</td>\n",
       "      <td>3037.0</td>\n",
       "      <td>6.39</td>\n",
       "      <td>91.8</td>\n",
       "      <td>исх. звонки</td>\n",
       "      <td>False</td>\n",
       "    </tr>\n",
       "  </tbody>\n",
       "</table>\n",
       "</div>"
      ],
      "text/plain": [
       "   user_id direction  internal  operator_id  is_missed_call  calls_count  \\\n",
       "0   166377       out      True     880022.0            True            3   \n",
       "1   166377       out     False     880022.0            True            3   \n",
       "2   166377       out     False     880022.0           False            2   \n",
       "3   166377       out     False     880022.0            True            4   \n",
       "4   166377       out     False     880022.0            True            2   \n",
       "\n",
       "   call_duration  total_call_duration sessions_date  waiting_time  \\\n",
       "0              0                    5    2019-08-05             2   \n",
       "1              0                   25    2019-08-05             8   \n",
       "2            558                  568    2019-08-08             5   \n",
       "3              0                   28    2019-08-08             7   \n",
       "4              0                   10    2019-08-09             5   \n",
       "\n",
       "       call_category  внешний входящий  внешний исходящий  внутренний     sum  \\\n",
       "0         внутренний             194.0             2788.0        55.0  3037.0   \n",
       "1  внешний исходящий             194.0             2788.0        55.0  3037.0   \n",
       "2  внешний исходящий             194.0             2788.0        55.0  3037.0   \n",
       "3  внешний исходящий             194.0             2788.0        55.0  3037.0   \n",
       "4  внешний исходящий             194.0             2788.0        55.0  3037.0   \n",
       "\n",
       "   % in  % out call_centre_category  is_operator_effective_by_calls  \n",
       "0  6.39   91.8          исх. звонки                           False  \n",
       "1  6.39   91.8          исх. звонки                           False  \n",
       "2  6.39   91.8          исх. звонки                           False  \n",
       "3  6.39   91.8          исх. звонки                           False  \n",
       "4  6.39   91.8          исх. звонки                           False  "
      ]
     },
     "execution_count": 71,
     "metadata": {},
     "output_type": "execute_result"
    }
   ],
   "source": [
    "out_call_centre = out_call_centre.merge(out_call_per_day, on='operator_id')\n",
    "out_call_centre.head()"
   ]
  },
  {
   "cell_type": "markdown",
   "metadata": {},
   "source": [
    "Посмотрим, сколько эффективных и неэффективных операторов в каждом колл-центре:"
   ]
  },
  {
   "cell_type": "code",
   "execution_count": 72,
   "metadata": {},
   "outputs": [
    {
     "data": {
      "text/html": [
       "<div>\n",
       "<style scoped>\n",
       "    .dataframe tbody tr th:only-of-type {\n",
       "        vertical-align: middle;\n",
       "    }\n",
       "\n",
       "    .dataframe tbody tr th {\n",
       "        vertical-align: top;\n",
       "    }\n",
       "\n",
       "    .dataframe thead th {\n",
       "        text-align: right;\n",
       "    }\n",
       "</style>\n",
       "<table border=\"1\" class=\"dataframe\">\n",
       "  <thead>\n",
       "    <tr style=\"text-align: right;\">\n",
       "      <th>is_operator_effective_by_calls</th>\n",
       "      <th>False</th>\n",
       "      <th>True</th>\n",
       "    </tr>\n",
       "    <tr>\n",
       "      <th>user_id</th>\n",
       "      <th></th>\n",
       "      <th></th>\n",
       "    </tr>\n",
       "  </thead>\n",
       "  <tbody>\n",
       "    <tr>\n",
       "      <th>166377</th>\n",
       "      <td>373.0</td>\n",
       "      <td>8.0</td>\n",
       "    </tr>\n",
       "    <tr>\n",
       "      <th>166406</th>\n",
       "      <td>109.0</td>\n",
       "      <td>157.0</td>\n",
       "    </tr>\n",
       "    <tr>\n",
       "      <th>166485</th>\n",
       "      <td>338.0</td>\n",
       "      <td>164.0</td>\n",
       "    </tr>\n",
       "    <tr>\n",
       "      <th>166495</th>\n",
       "      <td>0.0</td>\n",
       "      <td>133.0</td>\n",
       "    </tr>\n",
       "    <tr>\n",
       "      <th>166503</th>\n",
       "      <td>242.0</td>\n",
       "      <td>2.0</td>\n",
       "    </tr>\n",
       "  </tbody>\n",
       "</table>\n",
       "</div>"
      ],
      "text/plain": [
       "is_operator_effective_by_calls  False  True \n",
       "user_id                                     \n",
       "166377                          373.0    8.0\n",
       "166406                          109.0  157.0\n",
       "166485                          338.0  164.0\n",
       "166495                            0.0  133.0\n",
       "166503                          242.0    2.0"
      ]
     },
     "execution_count": 72,
     "metadata": {},
     "output_type": "execute_result"
    }
   ],
   "source": [
    "is_operator_effective_by_calls = out_call_centre.pivot_table(index='user_id', \n",
    "                                                    columns='is_operator_effective_by_calls', \n",
    "                                                    values='operator_id', \n",
    "                                                    aggfunc='count')\n",
    "is_operator_effective_by_calls = is_operator_effective_by_calls.fillna(0)\n",
    "is_operator_effective_by_calls.head()"
   ]
  },
  {
   "cell_type": "markdown",
   "metadata": {},
   "source": [
    "Посчитаем долю неэффективных операторов:"
   ]
  },
  {
   "cell_type": "code",
   "execution_count": 73,
   "metadata": {},
   "outputs": [
    {
     "data": {
      "text/html": [
       "<div>\n",
       "<style scoped>\n",
       "    .dataframe tbody tr th:only-of-type {\n",
       "        vertical-align: middle;\n",
       "    }\n",
       "\n",
       "    .dataframe tbody tr th {\n",
       "        vertical-align: top;\n",
       "    }\n",
       "\n",
       "    .dataframe thead th {\n",
       "        text-align: right;\n",
       "    }\n",
       "</style>\n",
       "<table border=\"1\" class=\"dataframe\">\n",
       "  <thead>\n",
       "    <tr style=\"text-align: right;\">\n",
       "      <th>is_operator_effective_by_calls</th>\n",
       "      <th>False</th>\n",
       "      <th>True</th>\n",
       "      <th>count</th>\n",
       "      <th>% false</th>\n",
       "    </tr>\n",
       "    <tr>\n",
       "      <th>user_id</th>\n",
       "      <th></th>\n",
       "      <th></th>\n",
       "      <th></th>\n",
       "      <th></th>\n",
       "    </tr>\n",
       "  </thead>\n",
       "  <tbody>\n",
       "    <tr>\n",
       "      <th>166377</th>\n",
       "      <td>373.0</td>\n",
       "      <td>8.0</td>\n",
       "      <td>381.0</td>\n",
       "      <td>97.900262</td>\n",
       "    </tr>\n",
       "    <tr>\n",
       "      <th>166406</th>\n",
       "      <td>109.0</td>\n",
       "      <td>157.0</td>\n",
       "      <td>266.0</td>\n",
       "      <td>40.977444</td>\n",
       "    </tr>\n",
       "    <tr>\n",
       "      <th>166485</th>\n",
       "      <td>338.0</td>\n",
       "      <td>164.0</td>\n",
       "      <td>502.0</td>\n",
       "      <td>67.330677</td>\n",
       "    </tr>\n",
       "    <tr>\n",
       "      <th>166495</th>\n",
       "      <td>0.0</td>\n",
       "      <td>133.0</td>\n",
       "      <td>133.0</td>\n",
       "      <td>0.000000</td>\n",
       "    </tr>\n",
       "    <tr>\n",
       "      <th>166503</th>\n",
       "      <td>242.0</td>\n",
       "      <td>2.0</td>\n",
       "      <td>244.0</td>\n",
       "      <td>99.180328</td>\n",
       "    </tr>\n",
       "  </tbody>\n",
       "</table>\n",
       "</div>"
      ],
      "text/plain": [
       "is_operator_effective_by_calls  False   True  count    % false\n",
       "user_id                                                       \n",
       "166377                          373.0    8.0  381.0  97.900262\n",
       "166406                          109.0  157.0  266.0  40.977444\n",
       "166485                          338.0  164.0  502.0  67.330677\n",
       "166495                            0.0  133.0  133.0   0.000000\n",
       "166503                          242.0    2.0  244.0  99.180328"
      ]
     },
     "execution_count": 73,
     "metadata": {},
     "output_type": "execute_result"
    }
   ],
   "source": [
    "is_operator_effective_by_calls['count'] = is_operator_effective_by_calls[False] + is_operator_effective_by_calls[True]\n",
    "is_operator_effective_by_calls['% false'] = is_operator_effective_by_calls[False]*100/is_operator_effective_by_calls['count']\n",
    "is_operator_effective_by_calls.head()"
   ]
  },
  {
   "cell_type": "code",
   "execution_count": 74,
   "metadata": {},
   "outputs": [
    {
     "data": {
      "image/png": "[encoded data removed]",
      "text/plain": [
       "<Figure size 720x360 with 1 Axes>"
      ]
     },
     "metadata": {
      "needs_background": "light"
     },
     "output_type": "display_data"
    }
   ],
   "source": [
    "is_operator_effective_by_calls['% false'].plot(kind='hist',\n",
    "                        bins=50, \n",
    "                        grid=True,\n",
    "                        range=(0, 115),\n",
    "                        figsize=(10,5), \n",
    "                        color=['#008000'],\n",
    "                       );\n",
    "plt.xlabel('% false')\n",
    "plt.ylabel('count');"
   ]
  },
  {
   "cell_type": "markdown",
   "metadata": {},
   "source": [
    "Топ-10 колл-центров по наибольшему числу неэффективных операторов:"
   ]
  },
  {
   "cell_type": "code",
   "execution_count": 75,
   "metadata": {},
   "outputs": [
    {
     "data": {
      "text/html": [
       "<div>\n",
       "<style scoped>\n",
       "    .dataframe tbody tr th:only-of-type {\n",
       "        vertical-align: middle;\n",
       "    }\n",
       "\n",
       "    .dataframe tbody tr th {\n",
       "        vertical-align: top;\n",
       "    }\n",
       "\n",
       "    .dataframe thead th {\n",
       "        text-align: right;\n",
       "    }\n",
       "</style>\n",
       "<table border=\"1\" class=\"dataframe\">\n",
       "  <thead>\n",
       "    <tr style=\"text-align: right;\">\n",
       "      <th>is_operator_effective_by_calls</th>\n",
       "      <th>False</th>\n",
       "      <th>True</th>\n",
       "      <th>count</th>\n",
       "      <th>% false</th>\n",
       "    </tr>\n",
       "    <tr>\n",
       "      <th>user_id</th>\n",
       "      <th></th>\n",
       "      <th></th>\n",
       "      <th></th>\n",
       "      <th></th>\n",
       "    </tr>\n",
       "  </thead>\n",
       "  <tbody>\n",
       "    <tr>\n",
       "      <th>168603</th>\n",
       "      <td>6.0</td>\n",
       "      <td>0.0</td>\n",
       "      <td>6.0</td>\n",
       "      <td>100.0</td>\n",
       "    </tr>\n",
       "    <tr>\n",
       "      <th>166711</th>\n",
       "      <td>17.0</td>\n",
       "      <td>0.0</td>\n",
       "      <td>17.0</td>\n",
       "      <td>100.0</td>\n",
       "    </tr>\n",
       "    <tr>\n",
       "      <th>166812</th>\n",
       "      <td>79.0</td>\n",
       "      <td>0.0</td>\n",
       "      <td>79.0</td>\n",
       "      <td>100.0</td>\n",
       "    </tr>\n",
       "    <tr>\n",
       "      <th>166833</th>\n",
       "      <td>200.0</td>\n",
       "      <td>0.0</td>\n",
       "      <td>200.0</td>\n",
       "      <td>100.0</td>\n",
       "    </tr>\n",
       "    <tr>\n",
       "      <th>167479</th>\n",
       "      <td>187.0</td>\n",
       "      <td>0.0</td>\n",
       "      <td>187.0</td>\n",
       "      <td>100.0</td>\n",
       "    </tr>\n",
       "    <tr>\n",
       "      <th>167475</th>\n",
       "      <td>44.0</td>\n",
       "      <td>0.0</td>\n",
       "      <td>44.0</td>\n",
       "      <td>100.0</td>\n",
       "    </tr>\n",
       "    <tr>\n",
       "      <th>166884</th>\n",
       "      <td>89.0</td>\n",
       "      <td>0.0</td>\n",
       "      <td>89.0</td>\n",
       "      <td>100.0</td>\n",
       "    </tr>\n",
       "    <tr>\n",
       "      <th>167471</th>\n",
       "      <td>157.0</td>\n",
       "      <td>0.0</td>\n",
       "      <td>157.0</td>\n",
       "      <td>100.0</td>\n",
       "    </tr>\n",
       "    <tr>\n",
       "      <th>166936</th>\n",
       "      <td>40.0</td>\n",
       "      <td>0.0</td>\n",
       "      <td>40.0</td>\n",
       "      <td>100.0</td>\n",
       "    </tr>\n",
       "    <tr>\n",
       "      <th>167455</th>\n",
       "      <td>43.0</td>\n",
       "      <td>0.0</td>\n",
       "      <td>43.0</td>\n",
       "      <td>100.0</td>\n",
       "    </tr>\n",
       "  </tbody>\n",
       "</table>\n",
       "</div>"
      ],
      "text/plain": [
       "is_operator_effective_by_calls  False  True  count  % false\n",
       "user_id                                                    \n",
       "168603                            6.0   0.0    6.0    100.0\n",
       "166711                           17.0   0.0   17.0    100.0\n",
       "166812                           79.0   0.0   79.0    100.0\n",
       "166833                          200.0   0.0  200.0    100.0\n",
       "167479                          187.0   0.0  187.0    100.0\n",
       "167475                           44.0   0.0   44.0    100.0\n",
       "166884                           89.0   0.0   89.0    100.0\n",
       "167471                          157.0   0.0  157.0    100.0\n",
       "166936                           40.0   0.0   40.0    100.0\n",
       "167455                           43.0   0.0   43.0    100.0"
      ]
     },
     "execution_count": 75,
     "metadata": {},
     "output_type": "execute_result"
    }
   ],
   "source": [
    "is_operator_effective_by_calls.sort_values(by='% false', ascending=False).head(10)"
   ]
  },
  {
   "cell_type": "markdown",
   "metadata": {},
   "source": [
    "Топ-10 коллцентров с наименьшим числов неэффективных операторов:"
   ]
  },
  {
   "cell_type": "code",
   "execution_count": 76,
   "metadata": {},
   "outputs": [
    {
     "data": {
      "text/html": [
       "<div>\n",
       "<style scoped>\n",
       "    .dataframe tbody tr th:only-of-type {\n",
       "        vertical-align: middle;\n",
       "    }\n",
       "\n",
       "    .dataframe tbody tr th {\n",
       "        vertical-align: top;\n",
       "    }\n",
       "\n",
       "    .dataframe thead th {\n",
       "        text-align: right;\n",
       "    }\n",
       "</style>\n",
       "<table border=\"1\" class=\"dataframe\">\n",
       "  <thead>\n",
       "    <tr style=\"text-align: right;\">\n",
       "      <th>is_operator_effective_by_calls</th>\n",
       "      <th>False</th>\n",
       "      <th>True</th>\n",
       "      <th>count</th>\n",
       "      <th>% false</th>\n",
       "    </tr>\n",
       "    <tr>\n",
       "      <th>user_id</th>\n",
       "      <th></th>\n",
       "      <th></th>\n",
       "      <th></th>\n",
       "      <th></th>\n",
       "    </tr>\n",
       "  </thead>\n",
       "  <tbody>\n",
       "    <tr>\n",
       "      <th>167645</th>\n",
       "      <td>0.0</td>\n",
       "      <td>25.0</td>\n",
       "      <td>25.0</td>\n",
       "      <td>0.0</td>\n",
       "    </tr>\n",
       "    <tr>\n",
       "      <th>167130</th>\n",
       "      <td>0.0</td>\n",
       "      <td>20.0</td>\n",
       "      <td>20.0</td>\n",
       "      <td>0.0</td>\n",
       "    </tr>\n",
       "    <tr>\n",
       "      <th>167829</th>\n",
       "      <td>0.0</td>\n",
       "      <td>27.0</td>\n",
       "      <td>27.0</td>\n",
       "      <td>0.0</td>\n",
       "    </tr>\n",
       "    <tr>\n",
       "      <th>167816</th>\n",
       "      <td>0.0</td>\n",
       "      <td>80.0</td>\n",
       "      <td>80.0</td>\n",
       "      <td>0.0</td>\n",
       "    </tr>\n",
       "    <tr>\n",
       "      <th>167727</th>\n",
       "      <td>0.0</td>\n",
       "      <td>58.0</td>\n",
       "      <td>58.0</td>\n",
       "      <td>0.0</td>\n",
       "    </tr>\n",
       "    <tr>\n",
       "      <th>168025</th>\n",
       "      <td>0.0</td>\n",
       "      <td>28.0</td>\n",
       "      <td>28.0</td>\n",
       "      <td>0.0</td>\n",
       "    </tr>\n",
       "    <tr>\n",
       "      <th>168064</th>\n",
       "      <td>0.0</td>\n",
       "      <td>103.0</td>\n",
       "      <td>103.0</td>\n",
       "      <td>0.0</td>\n",
       "    </tr>\n",
       "    <tr>\n",
       "      <th>168093</th>\n",
       "      <td>0.0</td>\n",
       "      <td>4.0</td>\n",
       "      <td>4.0</td>\n",
       "      <td>0.0</td>\n",
       "    </tr>\n",
       "    <tr>\n",
       "      <th>167634</th>\n",
       "      <td>0.0</td>\n",
       "      <td>34.0</td>\n",
       "      <td>34.0</td>\n",
       "      <td>0.0</td>\n",
       "    </tr>\n",
       "    <tr>\n",
       "      <th>168253</th>\n",
       "      <td>0.0</td>\n",
       "      <td>60.0</td>\n",
       "      <td>60.0</td>\n",
       "      <td>0.0</td>\n",
       "    </tr>\n",
       "  </tbody>\n",
       "</table>\n",
       "</div>"
      ],
      "text/plain": [
       "is_operator_effective_by_calls  False   True  count  % false\n",
       "user_id                                                     \n",
       "167645                            0.0   25.0   25.0      0.0\n",
       "167130                            0.0   20.0   20.0      0.0\n",
       "167829                            0.0   27.0   27.0      0.0\n",
       "167816                            0.0   80.0   80.0      0.0\n",
       "167727                            0.0   58.0   58.0      0.0\n",
       "168025                            0.0   28.0   28.0      0.0\n",
       "168064                            0.0  103.0  103.0      0.0\n",
       "168093                            0.0    4.0    4.0      0.0\n",
       "167634                            0.0   34.0   34.0      0.0\n",
       "168253                            0.0   60.0   60.0      0.0"
      ]
     },
     "execution_count": 76,
     "metadata": {},
     "output_type": "execute_result"
    }
   ],
   "source": [
    "is_operator_effective_by_calls.sort_values(by='% false').head(10)"
   ]
  },
  {
   "cell_type": "markdown",
   "metadata": {},
   "source": [
    "#### По времени ожидания ответа"
   ]
  },
  {
   "cell_type": "code",
   "execution_count": 77,
   "metadata": {},
   "outputs": [],
   "source": [
    "not_missed = out_call_centre[out_call_centre['is_missed_call'] == False]"
   ]
  },
  {
   "cell_type": "code",
   "execution_count": 78,
   "metadata": {},
   "outputs": [
    {
     "data": {
      "text/plain": [
       "12.0"
      ]
     },
     "execution_count": 78,
     "metadata": {},
     "output_type": "execute_result"
    }
   ],
   "source": [
    "not_missed_waiting_time_median = not_missed['waiting_time'].median()\n",
    "not_missed_waiting_time_median"
   ]
  },
  {
   "cell_type": "code",
   "execution_count": 79,
   "metadata": {},
   "outputs": [
    {
     "data": {
      "text/plain": [
       "10"
      ]
     },
     "execution_count": 79,
     "metadata": {},
     "output_type": "execute_result"
    }
   ],
   "source": [
    "not_missed_waiting_time_mode = statistics.mode(not_missed['waiting_time'])\n",
    "not_missed_waiting_time_mode"
   ]
  },
  {
   "cell_type": "code",
   "execution_count": 80,
   "metadata": {},
   "outputs": [
    {
     "data": {
      "image/png": "[encoded data removed]",
      "text/plain": [
       "<Figure size 720x360 with 1 Axes>"
      ]
     },
     "metadata": {
      "needs_background": "light"
     },
     "output_type": "display_data"
    }
   ],
   "source": [
    "not_missed[['waiting_time']].plot(kind='hist',\n",
    "                        bins=60, \n",
    "                        grid=True,\n",
    "                        range=(0, 100),\n",
    "                        figsize=(10,5), \n",
    "                        color=['#FFCF56'],\n",
    "                       );"
   ]
  },
  {
   "cell_type": "code",
   "execution_count": 81,
   "metadata": {},
   "outputs": [
    {
     "data": {
      "text/plain": [
       "count    10756.000000\n",
       "mean        13.136947\n",
       "std          7.173478\n",
       "min          0.000000\n",
       "25%          8.000000\n",
       "50%         12.000000\n",
       "75%         17.000000\n",
       "max         41.000000\n",
       "Name: waiting_time, dtype: float64"
      ]
     },
     "execution_count": 81,
     "metadata": {},
     "output_type": "execute_result"
    }
   ],
   "source": [
    "not_missed['waiting_time'].describe()"
   ]
  },
  {
   "cell_type": "markdown",
   "metadata": {},
   "source": [
    "Когда именно клиент ответит на звонок или сбросит ли он - от оператора не зависит. Поэтому оценить эффективность оператора с помощью этого параментра можем только по следующим критериям:\n",
    "\n",
    "- слишком мало ждал ответ\n",
    "- слишком долго звонил\n",
    "\n",
    "\n",
    "Примем за пороговые значения 12 и 30.\n",
    "\n",
    "Далее оцениваем по этому признаку по пропущенным звонкам."
   ]
  },
  {
   "cell_type": "code",
   "execution_count": 82,
   "metadata": {},
   "outputs": [],
   "source": [
    "missed = out_call_centre[out_call_centre['is_missed_call'] == True]"
   ]
  },
  {
   "cell_type": "code",
   "execution_count": 83,
   "metadata": {
    "scrolled": true
   },
   "outputs": [
    {
     "data": {
      "text/html": [
       "<div>\n",
       "<style scoped>\n",
       "    .dataframe tbody tr th:only-of-type {\n",
       "        vertical-align: middle;\n",
       "    }\n",
       "\n",
       "    .dataframe tbody tr th {\n",
       "        vertical-align: top;\n",
       "    }\n",
       "\n",
       "    .dataframe thead th {\n",
       "        text-align: right;\n",
       "    }\n",
       "</style>\n",
       "<table border=\"1\" class=\"dataframe\">\n",
       "  <thead>\n",
       "    <tr style=\"text-align: right;\">\n",
       "      <th></th>\n",
       "      <th>user_id</th>\n",
       "      <th>direction</th>\n",
       "      <th>internal</th>\n",
       "      <th>operator_id</th>\n",
       "      <th>is_missed_call</th>\n",
       "      <th>calls_count</th>\n",
       "      <th>call_duration</th>\n",
       "      <th>total_call_duration</th>\n",
       "      <th>sessions_date</th>\n",
       "      <th>waiting_time</th>\n",
       "      <th>call_category</th>\n",
       "      <th>внешний входящий</th>\n",
       "      <th>внешний исходящий</th>\n",
       "      <th>внутренний</th>\n",
       "      <th>sum</th>\n",
       "      <th>% in</th>\n",
       "      <th>% out</th>\n",
       "      <th>call_centre_category</th>\n",
       "      <th>is_operator_effective_by_calls</th>\n",
       "      <th>is_operator_effective_by_wait_time</th>\n",
       "    </tr>\n",
       "  </thead>\n",
       "  <tbody>\n",
       "    <tr>\n",
       "      <th>14773</th>\n",
       "      <td>168062</td>\n",
       "      <td>out</td>\n",
       "      <td>False</td>\n",
       "      <td>947644.0</td>\n",
       "      <td>False</td>\n",
       "      <td>10</td>\n",
       "      <td>718</td>\n",
       "      <td>833</td>\n",
       "      <td>2019-11-28</td>\n",
       "      <td>12</td>\n",
       "      <td>внешний исходящий</td>\n",
       "      <td>437.0</td>\n",
       "      <td>11171.0</td>\n",
       "      <td>626.0</td>\n",
       "      <td>12234.0</td>\n",
       "      <td>3.57</td>\n",
       "      <td>91.31</td>\n",
       "      <td>исх. звонки</td>\n",
       "      <td>False</td>\n",
       "      <td>True</td>\n",
       "    </tr>\n",
       "  </tbody>\n",
       "</table>\n",
       "</div>"
      ],
      "text/plain": [
       "       user_id direction  internal  operator_id  is_missed_call  calls_count  \\\n",
       "14773   168062       out     False     947644.0           False           10   \n",
       "\n",
       "       call_duration  total_call_duration sessions_date  waiting_time  \\\n",
       "14773            718                  833    2019-11-28            12   \n",
       "\n",
       "           call_category  внешний входящий  внешний исходящий  внутренний  \\\n",
       "14773  внешний исходящий             437.0            11171.0       626.0   \n",
       "\n",
       "           sum  % in  % out call_centre_category  \\\n",
       "14773  12234.0  3.57  91.31          исх. звонки   \n",
       "\n",
       "       is_operator_effective_by_calls  is_operator_effective_by_wait_time  \n",
       "14773                           False                                True  "
      ]
     },
     "execution_count": 83,
     "metadata": {},
     "output_type": "execute_result"
    }
   ],
   "source": [
    "def split_waiting_time(row):\n",
    "\n",
    "    \"\"\"\n",
    "     С помощью этой функции определяется эффективен или неэффективен оператор\n",
    "     по времени ожидания звонка\n",
    "     \n",
    "    \"\"\"\n",
    "    if row['is_missed_call'] == True:\n",
    "        if 12 <= row['waiting_time'] <= 30:\n",
    "            return True\n",
    "        else:\n",
    "            return False\n",
    "    else:\n",
    "        return True\n",
    "    \n",
    "# создание нового столбца на основании полученных функцией значений\n",
    "out_call_centre['is_operator_effective_by_wait_time'] = out_call_centre.apply(split_waiting_time, axis=1)\n",
    "out_call_centre.sample()"
   ]
  },
  {
   "cell_type": "markdown",
   "metadata": {},
   "source": [
    "Посмотрим, сколько эффективных и неэффективных операторов в каждом колл-центре:"
   ]
  },
  {
   "cell_type": "code",
   "execution_count": 84,
   "metadata": {},
   "outputs": [
    {
     "data": {
      "text/html": [
       "<div>\n",
       "<style scoped>\n",
       "    .dataframe tbody tr th:only-of-type {\n",
       "        vertical-align: middle;\n",
       "    }\n",
       "\n",
       "    .dataframe tbody tr th {\n",
       "        vertical-align: top;\n",
       "    }\n",
       "\n",
       "    .dataframe thead th {\n",
       "        text-align: right;\n",
       "    }\n",
       "</style>\n",
       "<table border=\"1\" class=\"dataframe\">\n",
       "  <thead>\n",
       "    <tr style=\"text-align: right;\">\n",
       "      <th>is_operator_effective_by_wait_time</th>\n",
       "      <th>False</th>\n",
       "      <th>True</th>\n",
       "    </tr>\n",
       "    <tr>\n",
       "      <th>user_id</th>\n",
       "      <th></th>\n",
       "      <th></th>\n",
       "    </tr>\n",
       "  </thead>\n",
       "  <tbody>\n",
       "    <tr>\n",
       "      <th>166377</th>\n",
       "      <td>90.0</td>\n",
       "      <td>291.0</td>\n",
       "    </tr>\n",
       "    <tr>\n",
       "      <th>166406</th>\n",
       "      <td>44.0</td>\n",
       "      <td>222.0</td>\n",
       "    </tr>\n",
       "    <tr>\n",
       "      <th>166485</th>\n",
       "      <td>93.0</td>\n",
       "      <td>409.0</td>\n",
       "    </tr>\n",
       "    <tr>\n",
       "      <th>166495</th>\n",
       "      <td>28.0</td>\n",
       "      <td>105.0</td>\n",
       "    </tr>\n",
       "    <tr>\n",
       "      <th>166503</th>\n",
       "      <td>37.0</td>\n",
       "      <td>207.0</td>\n",
       "    </tr>\n",
       "  </tbody>\n",
       "</table>\n",
       "</div>"
      ],
      "text/plain": [
       "is_operator_effective_by_wait_time  False  True \n",
       "user_id                                         \n",
       "166377                               90.0  291.0\n",
       "166406                               44.0  222.0\n",
       "166485                               93.0  409.0\n",
       "166495                               28.0  105.0\n",
       "166503                               37.0  207.0"
      ]
     },
     "execution_count": 84,
     "metadata": {},
     "output_type": "execute_result"
    }
   ],
   "source": [
    "is_operator_effective_by_wait_time = out_call_centre.pivot_table(index='user_id', \n",
    "                                                    columns='is_operator_effective_by_wait_time', \n",
    "                                                    values='operator_id', \n",
    "                                                    aggfunc='count')\n",
    "is_operator_effective_by_wait_time = is_operator_effective_by_wait_time.fillna(0)\n",
    "is_operator_effective_by_wait_time.head()"
   ]
  },
  {
   "cell_type": "markdown",
   "metadata": {},
   "source": [
    "Посчитаем долю неэффективных операторов:"
   ]
  },
  {
   "cell_type": "code",
   "execution_count": 85,
   "metadata": {},
   "outputs": [
    {
     "data": {
      "text/html": [
       "<div>\n",
       "<style scoped>\n",
       "    .dataframe tbody tr th:only-of-type {\n",
       "        vertical-align: middle;\n",
       "    }\n",
       "\n",
       "    .dataframe tbody tr th {\n",
       "        vertical-align: top;\n",
       "    }\n",
       "\n",
       "    .dataframe thead th {\n",
       "        text-align: right;\n",
       "    }\n",
       "</style>\n",
       "<table border=\"1\" class=\"dataframe\">\n",
       "  <thead>\n",
       "    <tr style=\"text-align: right;\">\n",
       "      <th>is_operator_effective_by_wait_time</th>\n",
       "      <th>False</th>\n",
       "      <th>True</th>\n",
       "      <th>count</th>\n",
       "      <th>% false</th>\n",
       "    </tr>\n",
       "    <tr>\n",
       "      <th>user_id</th>\n",
       "      <th></th>\n",
       "      <th></th>\n",
       "      <th></th>\n",
       "      <th></th>\n",
       "    </tr>\n",
       "  </thead>\n",
       "  <tbody>\n",
       "    <tr>\n",
       "      <th>166377</th>\n",
       "      <td>90.0</td>\n",
       "      <td>291.0</td>\n",
       "      <td>381.0</td>\n",
       "      <td>23.622047</td>\n",
       "    </tr>\n",
       "    <tr>\n",
       "      <th>166406</th>\n",
       "      <td>44.0</td>\n",
       "      <td>222.0</td>\n",
       "      <td>266.0</td>\n",
       "      <td>16.541353</td>\n",
       "    </tr>\n",
       "    <tr>\n",
       "      <th>166485</th>\n",
       "      <td>93.0</td>\n",
       "      <td>409.0</td>\n",
       "      <td>502.0</td>\n",
       "      <td>18.525896</td>\n",
       "    </tr>\n",
       "    <tr>\n",
       "      <th>166495</th>\n",
       "      <td>28.0</td>\n",
       "      <td>105.0</td>\n",
       "      <td>133.0</td>\n",
       "      <td>21.052632</td>\n",
       "    </tr>\n",
       "    <tr>\n",
       "      <th>166503</th>\n",
       "      <td>37.0</td>\n",
       "      <td>207.0</td>\n",
       "      <td>244.0</td>\n",
       "      <td>15.163934</td>\n",
       "    </tr>\n",
       "  </tbody>\n",
       "</table>\n",
       "</div>"
      ],
      "text/plain": [
       "is_operator_effective_by_wait_time  False   True  count    % false\n",
       "user_id                                                           \n",
       "166377                               90.0  291.0  381.0  23.622047\n",
       "166406                               44.0  222.0  266.0  16.541353\n",
       "166485                               93.0  409.0  502.0  18.525896\n",
       "166495                               28.0  105.0  133.0  21.052632\n",
       "166503                               37.0  207.0  244.0  15.163934"
      ]
     },
     "execution_count": 85,
     "metadata": {},
     "output_type": "execute_result"
    }
   ],
   "source": [
    "is_operator_effective_by_wait_time['count'] = is_operator_effective_by_wait_time[False] + is_operator_effective_by_wait_time[True]\n",
    "is_operator_effective_by_wait_time['% false'] = is_operator_effective_by_wait_time[False]*100/is_operator_effective_by_wait_time['count']\n",
    "is_operator_effective_by_wait_time.head()"
   ]
  },
  {
   "cell_type": "code",
   "execution_count": 86,
   "metadata": {},
   "outputs": [
    {
     "data": {
      "image/png": "[encoded data removed]",
      "text/plain": [
       "<Figure size 720x360 with 1 Axes>"
      ]
     },
     "metadata": {
      "needs_background": "light"
     },
     "output_type": "display_data"
    }
   ],
   "source": [
    "is_operator_effective_by_wait_time['% false'].plot(kind='hist',\n",
    "                        bins=50, \n",
    "                        grid=True,\n",
    "                        range=(0, 115),\n",
    "                        figsize=(10,5), \n",
    "                        color=['#008000'],\n",
    "                       );\n",
    "plt.xlabel('% false')\n",
    "plt.ylabel('count');"
   ]
  },
  {
   "cell_type": "markdown",
   "metadata": {},
   "source": [
    "Топ-10 колл-центров по наибольшему числу неэффективных операторов:"
   ]
  },
  {
   "cell_type": "code",
   "execution_count": 87,
   "metadata": {},
   "outputs": [
    {
     "data": {
      "text/html": [
       "<div>\n",
       "<style scoped>\n",
       "    .dataframe tbody tr th:only-of-type {\n",
       "        vertical-align: middle;\n",
       "    }\n",
       "\n",
       "    .dataframe tbody tr th {\n",
       "        vertical-align: top;\n",
       "    }\n",
       "\n",
       "    .dataframe thead th {\n",
       "        text-align: right;\n",
       "    }\n",
       "</style>\n",
       "<table border=\"1\" class=\"dataframe\">\n",
       "  <thead>\n",
       "    <tr style=\"text-align: right;\">\n",
       "      <th>is_operator_effective_by_wait_time</th>\n",
       "      <th>False</th>\n",
       "      <th>True</th>\n",
       "      <th>count</th>\n",
       "      <th>% false</th>\n",
       "    </tr>\n",
       "    <tr>\n",
       "      <th>user_id</th>\n",
       "      <th></th>\n",
       "      <th></th>\n",
       "      <th></th>\n",
       "      <th></th>\n",
       "    </tr>\n",
       "  </thead>\n",
       "  <tbody>\n",
       "    <tr>\n",
       "      <th>168253</th>\n",
       "      <td>30.0</td>\n",
       "      <td>30.0</td>\n",
       "      <td>60.0</td>\n",
       "      <td>50.000000</td>\n",
       "    </tr>\n",
       "    <tr>\n",
       "      <th>166507</th>\n",
       "      <td>1.0</td>\n",
       "      <td>1.0</td>\n",
       "      <td>2.0</td>\n",
       "      <td>50.000000</td>\n",
       "    </tr>\n",
       "    <tr>\n",
       "      <th>166511</th>\n",
       "      <td>249.0</td>\n",
       "      <td>296.0</td>\n",
       "      <td>545.0</td>\n",
       "      <td>45.688073</td>\n",
       "    </tr>\n",
       "    <tr>\n",
       "      <th>168412</th>\n",
       "      <td>60.0</td>\n",
       "      <td>78.0</td>\n",
       "      <td>138.0</td>\n",
       "      <td>43.478261</td>\n",
       "    </tr>\n",
       "    <tr>\n",
       "      <th>167125</th>\n",
       "      <td>110.0</td>\n",
       "      <td>150.0</td>\n",
       "      <td>260.0</td>\n",
       "      <td>42.307692</td>\n",
       "    </tr>\n",
       "    <tr>\n",
       "      <th>166609</th>\n",
       "      <td>11.0</td>\n",
       "      <td>17.0</td>\n",
       "      <td>28.0</td>\n",
       "      <td>39.285714</td>\n",
       "    </tr>\n",
       "    <tr>\n",
       "      <th>167923</th>\n",
       "      <td>7.0</td>\n",
       "      <td>13.0</td>\n",
       "      <td>20.0</td>\n",
       "      <td>35.000000</td>\n",
       "    </tr>\n",
       "    <tr>\n",
       "      <th>168047</th>\n",
       "      <td>11.0</td>\n",
       "      <td>24.0</td>\n",
       "      <td>35.0</td>\n",
       "      <td>31.428571</td>\n",
       "    </tr>\n",
       "    <tr>\n",
       "      <th>168228</th>\n",
       "      <td>32.0</td>\n",
       "      <td>72.0</td>\n",
       "      <td>104.0</td>\n",
       "      <td>30.769231</td>\n",
       "    </tr>\n",
       "    <tr>\n",
       "      <th>167829</th>\n",
       "      <td>8.0</td>\n",
       "      <td>19.0</td>\n",
       "      <td>27.0</td>\n",
       "      <td>29.629630</td>\n",
       "    </tr>\n",
       "  </tbody>\n",
       "</table>\n",
       "</div>"
      ],
      "text/plain": [
       "is_operator_effective_by_wait_time  False   True  count    % false\n",
       "user_id                                                           \n",
       "168253                               30.0   30.0   60.0  50.000000\n",
       "166507                                1.0    1.0    2.0  50.000000\n",
       "166511                              249.0  296.0  545.0  45.688073\n",
       "168412                               60.0   78.0  138.0  43.478261\n",
       "167125                              110.0  150.0  260.0  42.307692\n",
       "166609                               11.0   17.0   28.0  39.285714\n",
       "167923                                7.0   13.0   20.0  35.000000\n",
       "168047                               11.0   24.0   35.0  31.428571\n",
       "168228                               32.0   72.0  104.0  30.769231\n",
       "167829                                8.0   19.0   27.0  29.629630"
      ]
     },
     "execution_count": 87,
     "metadata": {},
     "output_type": "execute_result"
    }
   ],
   "source": [
    "is_operator_effective_by_wait_time.sort_values(by='% false', ascending=False).head(10)"
   ]
  },
  {
   "cell_type": "markdown",
   "metadata": {},
   "source": [
    "Топ-10 коллцентров с наименьшим числов неэффективных операторов:"
   ]
  },
  {
   "cell_type": "code",
   "execution_count": 88,
   "metadata": {},
   "outputs": [
    {
     "data": {
      "text/html": [
       "<div>\n",
       "<style scoped>\n",
       "    .dataframe tbody tr th:only-of-type {\n",
       "        vertical-align: middle;\n",
       "    }\n",
       "\n",
       "    .dataframe tbody tr th {\n",
       "        vertical-align: top;\n",
       "    }\n",
       "\n",
       "    .dataframe thead th {\n",
       "        text-align: right;\n",
       "    }\n",
       "</style>\n",
       "<table border=\"1\" class=\"dataframe\">\n",
       "  <thead>\n",
       "    <tr style=\"text-align: right;\">\n",
       "      <th>is_operator_effective_by_wait_time</th>\n",
       "      <th>False</th>\n",
       "      <th>True</th>\n",
       "      <th>count</th>\n",
       "      <th>% false</th>\n",
       "    </tr>\n",
       "    <tr>\n",
       "      <th>user_id</th>\n",
       "      <th></th>\n",
       "      <th></th>\n",
       "      <th></th>\n",
       "      <th></th>\n",
       "    </tr>\n",
       "  </thead>\n",
       "  <tbody>\n",
       "    <tr>\n",
       "      <th>167530</th>\n",
       "      <td>0.0</td>\n",
       "      <td>4.0</td>\n",
       "      <td>4.0</td>\n",
       "      <td>0.000000</td>\n",
       "    </tr>\n",
       "    <tr>\n",
       "      <th>168093</th>\n",
       "      <td>0.0</td>\n",
       "      <td>4.0</td>\n",
       "      <td>4.0</td>\n",
       "      <td>0.000000</td>\n",
       "    </tr>\n",
       "    <tr>\n",
       "      <th>167634</th>\n",
       "      <td>0.0</td>\n",
       "      <td>34.0</td>\n",
       "      <td>34.0</td>\n",
       "      <td>0.000000</td>\n",
       "    </tr>\n",
       "    <tr>\n",
       "      <th>168000</th>\n",
       "      <td>1.0</td>\n",
       "      <td>22.0</td>\n",
       "      <td>23.0</td>\n",
       "      <td>4.347826</td>\n",
       "    </tr>\n",
       "    <tr>\n",
       "      <th>167175</th>\n",
       "      <td>15.0</td>\n",
       "      <td>208.0</td>\n",
       "      <td>223.0</td>\n",
       "      <td>6.726457</td>\n",
       "    </tr>\n",
       "    <tr>\n",
       "      <th>167124</th>\n",
       "      <td>3.0</td>\n",
       "      <td>28.0</td>\n",
       "      <td>31.0</td>\n",
       "      <td>9.677419</td>\n",
       "    </tr>\n",
       "    <tr>\n",
       "      <th>167338</th>\n",
       "      <td>9.0</td>\n",
       "      <td>78.0</td>\n",
       "      <td>87.0</td>\n",
       "      <td>10.344828</td>\n",
       "    </tr>\n",
       "    <tr>\n",
       "      <th>166708</th>\n",
       "      <td>21.0</td>\n",
       "      <td>181.0</td>\n",
       "      <td>202.0</td>\n",
       "      <td>10.396040</td>\n",
       "    </tr>\n",
       "    <tr>\n",
       "      <th>166691</th>\n",
       "      <td>26.0</td>\n",
       "      <td>223.0</td>\n",
       "      <td>249.0</td>\n",
       "      <td>10.441767</td>\n",
       "    </tr>\n",
       "    <tr>\n",
       "      <th>167004</th>\n",
       "      <td>16.0</td>\n",
       "      <td>133.0</td>\n",
       "      <td>149.0</td>\n",
       "      <td>10.738255</td>\n",
       "    </tr>\n",
       "  </tbody>\n",
       "</table>\n",
       "</div>"
      ],
      "text/plain": [
       "is_operator_effective_by_wait_time  False   True  count    % false\n",
       "user_id                                                           \n",
       "167530                                0.0    4.0    4.0   0.000000\n",
       "168093                                0.0    4.0    4.0   0.000000\n",
       "167634                                0.0   34.0   34.0   0.000000\n",
       "168000                                1.0   22.0   23.0   4.347826\n",
       "167175                               15.0  208.0  223.0   6.726457\n",
       "167124                                3.0   28.0   31.0   9.677419\n",
       "167338                                9.0   78.0   87.0  10.344828\n",
       "166708                               21.0  181.0  202.0  10.396040\n",
       "166691                               26.0  223.0  249.0  10.441767\n",
       "167004                               16.0  133.0  149.0  10.738255"
      ]
     },
     "execution_count": 88,
     "metadata": {},
     "output_type": "execute_result"
    }
   ],
   "source": [
    "is_operator_effective_by_wait_time.sort_values(by='% false').head(10)"
   ]
  },
  {
   "cell_type": "markdown",
   "metadata": {},
   "source": [
    "### Для колл-центров, специализирующихся на входящих звонках"
   ]
  },
  {
   "cell_type": "markdown",
   "metadata": {},
   "source": [
    "#### По пропущенным звонкам"
   ]
  },
  {
   "cell_type": "code",
   "execution_count": 89,
   "metadata": {
    "scrolled": true
   },
   "outputs": [
    {
     "data": {
      "text/plain": [
       "155"
      ]
     },
     "execution_count": 89,
     "metadata": {},
     "output_type": "execute_result"
    }
   ],
   "source": [
    "in_call_centre['user_id'].nunique()"
   ]
  },
  {
   "cell_type": "markdown",
   "metadata": {},
   "source": [
    "Сделаем срез данных по внешним входящим пропущенным звонкам:"
   ]
  },
  {
   "cell_type": "code",
   "execution_count": 90,
   "metadata": {
    "scrolled": true
   },
   "outputs": [
    {
     "data": {
      "text/html": [
       "<div>\n",
       "<style scoped>\n",
       "    .dataframe tbody tr th:only-of-type {\n",
       "        vertical-align: middle;\n",
       "    }\n",
       "\n",
       "    .dataframe tbody tr th {\n",
       "        vertical-align: top;\n",
       "    }\n",
       "\n",
       "    .dataframe thead th {\n",
       "        text-align: right;\n",
       "    }\n",
       "</style>\n",
       "<table border=\"1\" class=\"dataframe\">\n",
       "  <thead>\n",
       "    <tr style=\"text-align: right;\">\n",
       "      <th></th>\n",
       "      <th>user_id</th>\n",
       "      <th>direction</th>\n",
       "      <th>internal</th>\n",
       "      <th>operator_id</th>\n",
       "      <th>is_missed_call</th>\n",
       "      <th>calls_count</th>\n",
       "      <th>call_duration</th>\n",
       "      <th>total_call_duration</th>\n",
       "      <th>sessions_date</th>\n",
       "      <th>waiting_time</th>\n",
       "      <th>call_category</th>\n",
       "      <th>внешний входящий</th>\n",
       "      <th>внешний исходящий</th>\n",
       "      <th>внутренний</th>\n",
       "      <th>sum</th>\n",
       "      <th>% in</th>\n",
       "      <th>% out</th>\n",
       "      <th>call_centre_category</th>\n",
       "    </tr>\n",
       "  </thead>\n",
       "  <tbody>\n",
       "    <tr>\n",
       "      <th>420</th>\n",
       "      <td>166391</td>\n",
       "      <td>in</td>\n",
       "      <td>False</td>\n",
       "      <td>NaN</td>\n",
       "      <td>True</td>\n",
       "      <td>2</td>\n",
       "      <td>0</td>\n",
       "      <td>71</td>\n",
       "      <td>2019-08-07</td>\n",
       "      <td>36</td>\n",
       "      <td>внешний входящий</td>\n",
       "      <td>14.0</td>\n",
       "      <td>0.0</td>\n",
       "      <td>9.0</td>\n",
       "      <td>23.0</td>\n",
       "      <td>60.87</td>\n",
       "      <td>0.0</td>\n",
       "      <td>вх. звонки</td>\n",
       "    </tr>\n",
       "    <tr>\n",
       "      <th>421</th>\n",
       "      <td>166391</td>\n",
       "      <td>in</td>\n",
       "      <td>False</td>\n",
       "      <td>NaN</td>\n",
       "      <td>True</td>\n",
       "      <td>1</td>\n",
       "      <td>0</td>\n",
       "      <td>20</td>\n",
       "      <td>2019-08-08</td>\n",
       "      <td>20</td>\n",
       "      <td>внешний входящий</td>\n",
       "      <td>14.0</td>\n",
       "      <td>0.0</td>\n",
       "      <td>9.0</td>\n",
       "      <td>23.0</td>\n",
       "      <td>60.87</td>\n",
       "      <td>0.0</td>\n",
       "      <td>вх. звонки</td>\n",
       "    </tr>\n",
       "    <tr>\n",
       "      <th>422</th>\n",
       "      <td>166391</td>\n",
       "      <td>in</td>\n",
       "      <td>False</td>\n",
       "      <td>NaN</td>\n",
       "      <td>True</td>\n",
       "      <td>1</td>\n",
       "      <td>0</td>\n",
       "      <td>33</td>\n",
       "      <td>2019-08-09</td>\n",
       "      <td>33</td>\n",
       "      <td>внешний входящий</td>\n",
       "      <td>14.0</td>\n",
       "      <td>0.0</td>\n",
       "      <td>9.0</td>\n",
       "      <td>23.0</td>\n",
       "      <td>60.87</td>\n",
       "      <td>0.0</td>\n",
       "      <td>вх. звонки</td>\n",
       "    </tr>\n",
       "    <tr>\n",
       "      <th>426</th>\n",
       "      <td>166391</td>\n",
       "      <td>in</td>\n",
       "      <td>False</td>\n",
       "      <td>NaN</td>\n",
       "      <td>True</td>\n",
       "      <td>1</td>\n",
       "      <td>0</td>\n",
       "      <td>9</td>\n",
       "      <td>2019-09-18</td>\n",
       "      <td>9</td>\n",
       "      <td>внешний входящий</td>\n",
       "      <td>14.0</td>\n",
       "      <td>0.0</td>\n",
       "      <td>9.0</td>\n",
       "      <td>23.0</td>\n",
       "      <td>60.87</td>\n",
       "      <td>0.0</td>\n",
       "      <td>вх. звонки</td>\n",
       "    </tr>\n",
       "    <tr>\n",
       "      <th>427</th>\n",
       "      <td>166391</td>\n",
       "      <td>in</td>\n",
       "      <td>False</td>\n",
       "      <td>NaN</td>\n",
       "      <td>True</td>\n",
       "      <td>1</td>\n",
       "      <td>0</td>\n",
       "      <td>1</td>\n",
       "      <td>2019-09-20</td>\n",
       "      <td>1</td>\n",
       "      <td>внешний входящий</td>\n",
       "      <td>14.0</td>\n",
       "      <td>0.0</td>\n",
       "      <td>9.0</td>\n",
       "      <td>23.0</td>\n",
       "      <td>60.87</td>\n",
       "      <td>0.0</td>\n",
       "      <td>вх. звонки</td>\n",
       "    </tr>\n",
       "  </tbody>\n",
       "</table>\n",
       "</div>"
      ],
      "text/plain": [
       "     user_id direction  internal  operator_id  is_missed_call  calls_count  \\\n",
       "420   166391        in     False          NaN            True            2   \n",
       "421   166391        in     False          NaN            True            1   \n",
       "422   166391        in     False          NaN            True            1   \n",
       "426   166391        in     False          NaN            True            1   \n",
       "427   166391        in     False          NaN            True            1   \n",
       "\n",
       "     call_duration  total_call_duration sessions_date  waiting_time  \\\n",
       "420              0                   71    2019-08-07            36   \n",
       "421              0                   20    2019-08-08            20   \n",
       "422              0                   33    2019-08-09            33   \n",
       "426              0                    9    2019-09-18             9   \n",
       "427              0                    1    2019-09-20             1   \n",
       "\n",
       "        call_category  внешний входящий  внешний исходящий  внутренний   sum  \\\n",
       "420  внешний входящий              14.0                0.0         9.0  23.0   \n",
       "421  внешний входящий              14.0                0.0         9.0  23.0   \n",
       "422  внешний входящий              14.0                0.0         9.0  23.0   \n",
       "426  внешний входящий              14.0                0.0         9.0  23.0   \n",
       "427  внешний входящий              14.0                0.0         9.0  23.0   \n",
       "\n",
       "      % in  % out call_centre_category  \n",
       "420  60.87    0.0           вх. звонки  \n",
       "421  60.87    0.0           вх. звонки  \n",
       "422  60.87    0.0           вх. звонки  \n",
       "426  60.87    0.0           вх. звонки  \n",
       "427  60.87    0.0           вх. звонки  "
      ]
     },
     "execution_count": 90,
     "metadata": {},
     "output_type": "execute_result"
    }
   ],
   "source": [
    "in_missed_call = in_call_centre[\n",
    "    (in_call_centre['direction'] == 'in') \n",
    "    & (in_call_centre['is_missed_call'] == True) \n",
    "    & (in_call_centre['internal'] == False)\n",
    "]\n",
    "in_missed_call.head()"
   ]
  },
  {
   "cell_type": "markdown",
   "metadata": {},
   "source": [
    "Сгруппируем звонки по колл-центрам:"
   ]
  },
  {
   "cell_type": "code",
   "execution_count": 91,
   "metadata": {},
   "outputs": [
    {
     "data": {
      "text/html": [
       "<div>\n",
       "<style scoped>\n",
       "    .dataframe tbody tr th:only-of-type {\n",
       "        vertical-align: middle;\n",
       "    }\n",
       "\n",
       "    .dataframe tbody tr th {\n",
       "        vertical-align: top;\n",
       "    }\n",
       "\n",
       "    .dataframe thead th {\n",
       "        text-align: right;\n",
       "    }\n",
       "</style>\n",
       "<table border=\"1\" class=\"dataframe\">\n",
       "  <thead>\n",
       "    <tr style=\"text-align: right;\">\n",
       "      <th></th>\n",
       "      <th>user_id</th>\n",
       "      <th>calls_count</th>\n",
       "    </tr>\n",
       "  </thead>\n",
       "  <tbody>\n",
       "    <tr>\n",
       "      <th>0</th>\n",
       "      <td>166391</td>\n",
       "      <td>11</td>\n",
       "    </tr>\n",
       "    <tr>\n",
       "      <th>1</th>\n",
       "      <td>166392</td>\n",
       "      <td>104</td>\n",
       "    </tr>\n",
       "    <tr>\n",
       "      <th>2</th>\n",
       "      <td>166399</td>\n",
       "      <td>10</td>\n",
       "    </tr>\n",
       "    <tr>\n",
       "      <th>3</th>\n",
       "      <td>166428</td>\n",
       "      <td>38</td>\n",
       "    </tr>\n",
       "    <tr>\n",
       "      <th>4</th>\n",
       "      <td>166481</td>\n",
       "      <td>57</td>\n",
       "    </tr>\n",
       "  </tbody>\n",
       "</table>\n",
       "</div>"
      ],
      "text/plain": [
       "   user_id  calls_count\n",
       "0   166391           11\n",
       "1   166392          104\n",
       "2   166399           10\n",
       "3   166428           38\n",
       "4   166481           57"
      ]
     },
     "execution_count": 91,
     "metadata": {},
     "output_type": "execute_result"
    }
   ],
   "source": [
    "in_missed_call_by_users = in_missed_call.pivot_table(index='user_id', \n",
    "                                                    values='calls_count', \n",
    "                                                    aggfunc='sum').reset_index()\n",
    "in_missed_call_by_users.head()"
   ]
  },
  {
   "cell_type": "markdown",
   "metadata": {},
   "source": [
    "Сделаем срез данных по внешним исходящим звонкам:"
   ]
  },
  {
   "cell_type": "code",
   "execution_count": 92,
   "metadata": {
    "scrolled": false
   },
   "outputs": [
    {
     "data": {
      "text/html": [
       "<div>\n",
       "<style scoped>\n",
       "    .dataframe tbody tr th:only-of-type {\n",
       "        vertical-align: middle;\n",
       "    }\n",
       "\n",
       "    .dataframe tbody tr th {\n",
       "        vertical-align: top;\n",
       "    }\n",
       "\n",
       "    .dataframe thead th {\n",
       "        text-align: right;\n",
       "    }\n",
       "</style>\n",
       "<table border=\"1\" class=\"dataframe\">\n",
       "  <thead>\n",
       "    <tr style=\"text-align: right;\">\n",
       "      <th></th>\n",
       "      <th>user_id</th>\n",
       "      <th>direction</th>\n",
       "      <th>internal</th>\n",
       "      <th>operator_id</th>\n",
       "      <th>is_missed_call</th>\n",
       "      <th>calls_count</th>\n",
       "      <th>call_duration</th>\n",
       "      <th>total_call_duration</th>\n",
       "      <th>sessions_date</th>\n",
       "      <th>waiting_time</th>\n",
       "      <th>call_category</th>\n",
       "      <th>внешний входящий</th>\n",
       "      <th>внешний исходящий</th>\n",
       "      <th>внутренний</th>\n",
       "      <th>sum</th>\n",
       "      <th>% in</th>\n",
       "      <th>% out</th>\n",
       "      <th>call_centre_category</th>\n",
       "    </tr>\n",
       "  </thead>\n",
       "  <tbody>\n",
       "    <tr>\n",
       "      <th>416</th>\n",
       "      <td>166391</td>\n",
       "      <td>in</td>\n",
       "      <td>False</td>\n",
       "      <td>882476.0</td>\n",
       "      <td>False</td>\n",
       "      <td>1</td>\n",
       "      <td>175</td>\n",
       "      <td>186</td>\n",
       "      <td>2019-08-06</td>\n",
       "      <td>11</td>\n",
       "      <td>внешний входящий</td>\n",
       "      <td>14.0</td>\n",
       "      <td>0.0</td>\n",
       "      <td>9.0</td>\n",
       "      <td>23.0</td>\n",
       "      <td>60.87</td>\n",
       "      <td>0.0</td>\n",
       "      <td>вх. звонки</td>\n",
       "    </tr>\n",
       "    <tr>\n",
       "      <th>418</th>\n",
       "      <td>166391</td>\n",
       "      <td>in</td>\n",
       "      <td>False</td>\n",
       "      <td>882478.0</td>\n",
       "      <td>False</td>\n",
       "      <td>1</td>\n",
       "      <td>57</td>\n",
       "      <td>70</td>\n",
       "      <td>2019-08-07</td>\n",
       "      <td>13</td>\n",
       "      <td>внешний входящий</td>\n",
       "      <td>14.0</td>\n",
       "      <td>0.0</td>\n",
       "      <td>9.0</td>\n",
       "      <td>23.0</td>\n",
       "      <td>60.87</td>\n",
       "      <td>0.0</td>\n",
       "      <td>вх. звонки</td>\n",
       "    </tr>\n",
       "    <tr>\n",
       "      <th>420</th>\n",
       "      <td>166391</td>\n",
       "      <td>in</td>\n",
       "      <td>False</td>\n",
       "      <td>NaN</td>\n",
       "      <td>True</td>\n",
       "      <td>2</td>\n",
       "      <td>0</td>\n",
       "      <td>71</td>\n",
       "      <td>2019-08-07</td>\n",
       "      <td>36</td>\n",
       "      <td>внешний входящий</td>\n",
       "      <td>14.0</td>\n",
       "      <td>0.0</td>\n",
       "      <td>9.0</td>\n",
       "      <td>23.0</td>\n",
       "      <td>60.87</td>\n",
       "      <td>0.0</td>\n",
       "      <td>вх. звонки</td>\n",
       "    </tr>\n",
       "    <tr>\n",
       "      <th>421</th>\n",
       "      <td>166391</td>\n",
       "      <td>in</td>\n",
       "      <td>False</td>\n",
       "      <td>NaN</td>\n",
       "      <td>True</td>\n",
       "      <td>1</td>\n",
       "      <td>0</td>\n",
       "      <td>20</td>\n",
       "      <td>2019-08-08</td>\n",
       "      <td>20</td>\n",
       "      <td>внешний входящий</td>\n",
       "      <td>14.0</td>\n",
       "      <td>0.0</td>\n",
       "      <td>9.0</td>\n",
       "      <td>23.0</td>\n",
       "      <td>60.87</td>\n",
       "      <td>0.0</td>\n",
       "      <td>вх. звонки</td>\n",
       "    </tr>\n",
       "    <tr>\n",
       "      <th>422</th>\n",
       "      <td>166391</td>\n",
       "      <td>in</td>\n",
       "      <td>False</td>\n",
       "      <td>NaN</td>\n",
       "      <td>True</td>\n",
       "      <td>1</td>\n",
       "      <td>0</td>\n",
       "      <td>33</td>\n",
       "      <td>2019-08-09</td>\n",
       "      <td>33</td>\n",
       "      <td>внешний входящий</td>\n",
       "      <td>14.0</td>\n",
       "      <td>0.0</td>\n",
       "      <td>9.0</td>\n",
       "      <td>23.0</td>\n",
       "      <td>60.87</td>\n",
       "      <td>0.0</td>\n",
       "      <td>вх. звонки</td>\n",
       "    </tr>\n",
       "  </tbody>\n",
       "</table>\n",
       "</div>"
      ],
      "text/plain": [
       "     user_id direction  internal  operator_id  is_missed_call  calls_count  \\\n",
       "416   166391        in     False     882476.0           False            1   \n",
       "418   166391        in     False     882478.0           False            1   \n",
       "420   166391        in     False          NaN            True            2   \n",
       "421   166391        in     False          NaN            True            1   \n",
       "422   166391        in     False          NaN            True            1   \n",
       "\n",
       "     call_duration  total_call_duration sessions_date  waiting_time  \\\n",
       "416            175                  186    2019-08-06            11   \n",
       "418             57                   70    2019-08-07            13   \n",
       "420              0                   71    2019-08-07            36   \n",
       "421              0                   20    2019-08-08            20   \n",
       "422              0                   33    2019-08-09            33   \n",
       "\n",
       "        call_category  внешний входящий  внешний исходящий  внутренний   sum  \\\n",
       "416  внешний входящий              14.0                0.0         9.0  23.0   \n",
       "418  внешний входящий              14.0                0.0         9.0  23.0   \n",
       "420  внешний входящий              14.0                0.0         9.0  23.0   \n",
       "421  внешний входящий              14.0                0.0         9.0  23.0   \n",
       "422  внешний входящий              14.0                0.0         9.0  23.0   \n",
       "\n",
       "      % in  % out call_centre_category  \n",
       "416  60.87    0.0           вх. звонки  \n",
       "418  60.87    0.0           вх. звонки  \n",
       "420  60.87    0.0           вх. звонки  \n",
       "421  60.87    0.0           вх. звонки  \n",
       "422  60.87    0.0           вх. звонки  "
      ]
     },
     "execution_count": 92,
     "metadata": {},
     "output_type": "execute_result"
    }
   ],
   "source": [
    "all_call = in_call_centre[\n",
    "    (in_call_centre['direction'] == 'in')  \n",
    "    & (in_call_centre['internal'] == False)\n",
    "]\n",
    "all_call.head()"
   ]
  },
  {
   "cell_type": "markdown",
   "metadata": {},
   "source": [
    "Сгруппируем эти звонки по колл-центрам:"
   ]
  },
  {
   "cell_type": "code",
   "execution_count": 93,
   "metadata": {},
   "outputs": [
    {
     "data": {
      "text/html": [
       "<div>\n",
       "<style scoped>\n",
       "    .dataframe tbody tr th:only-of-type {\n",
       "        vertical-align: middle;\n",
       "    }\n",
       "\n",
       "    .dataframe tbody tr th {\n",
       "        vertical-align: top;\n",
       "    }\n",
       "\n",
       "    .dataframe thead th {\n",
       "        text-align: right;\n",
       "    }\n",
       "</style>\n",
       "<table border=\"1\" class=\"dataframe\">\n",
       "  <thead>\n",
       "    <tr style=\"text-align: right;\">\n",
       "      <th></th>\n",
       "      <th>user_id</th>\n",
       "      <th>calls_count</th>\n",
       "    </tr>\n",
       "  </thead>\n",
       "  <tbody>\n",
       "    <tr>\n",
       "      <th>0</th>\n",
       "      <td>166391</td>\n",
       "      <td>14</td>\n",
       "    </tr>\n",
       "    <tr>\n",
       "      <th>1</th>\n",
       "      <td>166392</td>\n",
       "      <td>200</td>\n",
       "    </tr>\n",
       "    <tr>\n",
       "      <th>2</th>\n",
       "      <td>166399</td>\n",
       "      <td>20</td>\n",
       "    </tr>\n",
       "    <tr>\n",
       "      <th>3</th>\n",
       "      <td>166428</td>\n",
       "      <td>156</td>\n",
       "    </tr>\n",
       "    <tr>\n",
       "      <th>4</th>\n",
       "      <td>166481</td>\n",
       "      <td>58</td>\n",
       "    </tr>\n",
       "  </tbody>\n",
       "</table>\n",
       "</div>"
      ],
      "text/plain": [
       "   user_id  calls_count\n",
       "0   166391           14\n",
       "1   166392          200\n",
       "2   166399           20\n",
       "3   166428          156\n",
       "4   166481           58"
      ]
     },
     "execution_count": 93,
     "metadata": {},
     "output_type": "execute_result"
    }
   ],
   "source": [
    "all_call = all_call.pivot_table(index='user_id', \n",
    "                                values='calls_count', \n",
    "                                aggfunc='sum').reset_index()\n",
    "all_call.head()"
   ]
  },
  {
   "cell_type": "markdown",
   "metadata": {},
   "source": [
    "Объединим две сгруппированные таблицы:"
   ]
  },
  {
   "cell_type": "code",
   "execution_count": 94,
   "metadata": {},
   "outputs": [
    {
     "data": {
      "text/html": [
       "<div>\n",
       "<style scoped>\n",
       "    .dataframe tbody tr th:only-of-type {\n",
       "        vertical-align: middle;\n",
       "    }\n",
       "\n",
       "    .dataframe tbody tr th {\n",
       "        vertical-align: top;\n",
       "    }\n",
       "\n",
       "    .dataframe thead th {\n",
       "        text-align: right;\n",
       "    }\n",
       "</style>\n",
       "<table border=\"1\" class=\"dataframe\">\n",
       "  <thead>\n",
       "    <tr style=\"text-align: right;\">\n",
       "      <th></th>\n",
       "      <th>user_id</th>\n",
       "      <th>calls_count_missed</th>\n",
       "      <th>calls_count_all</th>\n",
       "    </tr>\n",
       "  </thead>\n",
       "  <tbody>\n",
       "    <tr>\n",
       "      <th>0</th>\n",
       "      <td>166391</td>\n",
       "      <td>11</td>\n",
       "      <td>14</td>\n",
       "    </tr>\n",
       "    <tr>\n",
       "      <th>1</th>\n",
       "      <td>166392</td>\n",
       "      <td>104</td>\n",
       "      <td>200</td>\n",
       "    </tr>\n",
       "    <tr>\n",
       "      <th>2</th>\n",
       "      <td>166399</td>\n",
       "      <td>10</td>\n",
       "      <td>20</td>\n",
       "    </tr>\n",
       "    <tr>\n",
       "      <th>3</th>\n",
       "      <td>166428</td>\n",
       "      <td>38</td>\n",
       "      <td>156</td>\n",
       "    </tr>\n",
       "    <tr>\n",
       "      <th>4</th>\n",
       "      <td>166481</td>\n",
       "      <td>57</td>\n",
       "      <td>58</td>\n",
       "    </tr>\n",
       "  </tbody>\n",
       "</table>\n",
       "</div>"
      ],
      "text/plain": [
       "   user_id  calls_count_missed  calls_count_all\n",
       "0   166391                  11               14\n",
       "1   166392                 104              200\n",
       "2   166399                  10               20\n",
       "3   166428                  38              156\n",
       "4   166481                  57               58"
      ]
     },
     "execution_count": 94,
     "metadata": {},
     "output_type": "execute_result"
    }
   ],
   "source": [
    "call_by_users = in_missed_call_by_users.merge(all_call, on='user_id', suffixes=['_missed','_all'])\n",
    "call_by_users.head()"
   ]
  },
  {
   "cell_type": "markdown",
   "metadata": {},
   "source": [
    "Посчитаем долю пропущенных звонков, запишем результат в новый столбец:"
   ]
  },
  {
   "cell_type": "code",
   "execution_count": 95,
   "metadata": {
    "scrolled": false
   },
   "outputs": [
    {
     "data": {
      "text/html": [
       "<div>\n",
       "<style scoped>\n",
       "    .dataframe tbody tr th:only-of-type {\n",
       "        vertical-align: middle;\n",
       "    }\n",
       "\n",
       "    .dataframe tbody tr th {\n",
       "        vertical-align: top;\n",
       "    }\n",
       "\n",
       "    .dataframe thead th {\n",
       "        text-align: right;\n",
       "    }\n",
       "</style>\n",
       "<table border=\"1\" class=\"dataframe\">\n",
       "  <thead>\n",
       "    <tr style=\"text-align: right;\">\n",
       "      <th></th>\n",
       "      <th>user_id</th>\n",
       "      <th>calls_count_missed</th>\n",
       "      <th>calls_count_all</th>\n",
       "      <th>%_missed</th>\n",
       "    </tr>\n",
       "  </thead>\n",
       "  <tbody>\n",
       "    <tr>\n",
       "      <th>0</th>\n",
       "      <td>166391</td>\n",
       "      <td>11</td>\n",
       "      <td>14</td>\n",
       "      <td>78.57</td>\n",
       "    </tr>\n",
       "    <tr>\n",
       "      <th>1</th>\n",
       "      <td>166392</td>\n",
       "      <td>104</td>\n",
       "      <td>200</td>\n",
       "      <td>52.00</td>\n",
       "    </tr>\n",
       "    <tr>\n",
       "      <th>2</th>\n",
       "      <td>166399</td>\n",
       "      <td>10</td>\n",
       "      <td>20</td>\n",
       "      <td>50.00</td>\n",
       "    </tr>\n",
       "    <tr>\n",
       "      <th>3</th>\n",
       "      <td>166428</td>\n",
       "      <td>38</td>\n",
       "      <td>156</td>\n",
       "      <td>24.36</td>\n",
       "    </tr>\n",
       "    <tr>\n",
       "      <th>4</th>\n",
       "      <td>166481</td>\n",
       "      <td>57</td>\n",
       "      <td>58</td>\n",
       "      <td>98.28</td>\n",
       "    </tr>\n",
       "  </tbody>\n",
       "</table>\n",
       "</div>"
      ],
      "text/plain": [
       "   user_id  calls_count_missed  calls_count_all  %_missed\n",
       "0   166391                  11               14     78.57\n",
       "1   166392                 104              200     52.00\n",
       "2   166399                  10               20     50.00\n",
       "3   166428                  38              156     24.36\n",
       "4   166481                  57               58     98.28"
      ]
     },
     "execution_count": 95,
     "metadata": {},
     "output_type": "execute_result"
    }
   ],
   "source": [
    "call_by_users['%_missed'] = round((call_by_users['calls_count_missed']*100/call_by_users['calls_count_all']), 2)\n",
    "call_by_users.head()"
   ]
  },
  {
   "cell_type": "code",
   "execution_count": 96,
   "metadata": {},
   "outputs": [
    {
     "data": {
      "image/png": "[encoded data removed]",
      "text/plain": [
       "<Figure size 720x360 with 1 Axes>"
      ]
     },
     "metadata": {
      "needs_background": "light"
     },
     "output_type": "display_data"
    }
   ],
   "source": [
    "call_by_users['%_missed'].plot(kind='hist',\n",
    "                        bins=50, \n",
    "                        grid=True,\n",
    "                        range=(0, 115),\n",
    "                        figsize=(10,5), \n",
    "                        color=['#008000'],\n",
    "                       );\n",
    "plt.xlabel('%_missed')\n",
    "plt.ylabel('count');"
   ]
  },
  {
   "cell_type": "markdown",
   "metadata": {},
   "source": [
    "Топ-10 колл-центров по наибольшему числу пропусков:"
   ]
  },
  {
   "cell_type": "code",
   "execution_count": 97,
   "metadata": {},
   "outputs": [
    {
     "data": {
      "text/html": [
       "<div>\n",
       "<style scoped>\n",
       "    .dataframe tbody tr th:only-of-type {\n",
       "        vertical-align: middle;\n",
       "    }\n",
       "\n",
       "    .dataframe tbody tr th {\n",
       "        vertical-align: top;\n",
       "    }\n",
       "\n",
       "    .dataframe thead th {\n",
       "        text-align: right;\n",
       "    }\n",
       "</style>\n",
       "<table border=\"1\" class=\"dataframe\">\n",
       "  <thead>\n",
       "    <tr style=\"text-align: right;\">\n",
       "      <th></th>\n",
       "      <th>user_id</th>\n",
       "      <th>calls_count_missed</th>\n",
       "      <th>calls_count_all</th>\n",
       "      <th>%_missed</th>\n",
       "    </tr>\n",
       "  </thead>\n",
       "  <tbody>\n",
       "    <tr>\n",
       "      <th>102</th>\n",
       "      <td>167939</td>\n",
       "      <td>3</td>\n",
       "      <td>3</td>\n",
       "      <td>100.0</td>\n",
       "    </tr>\n",
       "    <tr>\n",
       "      <th>137</th>\n",
       "      <td>168329</td>\n",
       "      <td>9</td>\n",
       "      <td>9</td>\n",
       "      <td>100.0</td>\n",
       "    </tr>\n",
       "    <tr>\n",
       "      <th>43</th>\n",
       "      <td>167077</td>\n",
       "      <td>48</td>\n",
       "      <td>48</td>\n",
       "      <td>100.0</td>\n",
       "    </tr>\n",
       "    <tr>\n",
       "      <th>62</th>\n",
       "      <td>167265</td>\n",
       "      <td>8</td>\n",
       "      <td>8</td>\n",
       "      <td>100.0</td>\n",
       "    </tr>\n",
       "    <tr>\n",
       "      <th>66</th>\n",
       "      <td>167364</td>\n",
       "      <td>10</td>\n",
       "      <td>10</td>\n",
       "      <td>100.0</td>\n",
       "    </tr>\n",
       "    <tr>\n",
       "      <th>81</th>\n",
       "      <td>167631</td>\n",
       "      <td>58</td>\n",
       "      <td>58</td>\n",
       "      <td>100.0</td>\n",
       "    </tr>\n",
       "    <tr>\n",
       "      <th>85</th>\n",
       "      <td>167721</td>\n",
       "      <td>7</td>\n",
       "      <td>7</td>\n",
       "      <td>100.0</td>\n",
       "    </tr>\n",
       "    <tr>\n",
       "      <th>88</th>\n",
       "      <td>167768</td>\n",
       "      <td>11</td>\n",
       "      <td>11</td>\n",
       "      <td>100.0</td>\n",
       "    </tr>\n",
       "    <tr>\n",
       "      <th>49</th>\n",
       "      <td>167114</td>\n",
       "      <td>5</td>\n",
       "      <td>5</td>\n",
       "      <td>100.0</td>\n",
       "    </tr>\n",
       "    <tr>\n",
       "      <th>107</th>\n",
       "      <td>167981</td>\n",
       "      <td>1</td>\n",
       "      <td>1</td>\n",
       "      <td>100.0</td>\n",
       "    </tr>\n",
       "  </tbody>\n",
       "</table>\n",
       "</div>"
      ],
      "text/plain": [
       "     user_id  calls_count_missed  calls_count_all  %_missed\n",
       "102   167939                   3                3     100.0\n",
       "137   168329                   9                9     100.0\n",
       "43    167077                  48               48     100.0\n",
       "62    167265                   8                8     100.0\n",
       "66    167364                  10               10     100.0\n",
       "81    167631                  58               58     100.0\n",
       "85    167721                   7                7     100.0\n",
       "88    167768                  11               11     100.0\n",
       "49    167114                   5                5     100.0\n",
       "107   167981                   1                1     100.0"
      ]
     },
     "execution_count": 97,
     "metadata": {},
     "output_type": "execute_result"
    }
   ],
   "source": [
    "call_by_users.sort_values(by='%_missed', ascending=False).head(10)"
   ]
  },
  {
   "cell_type": "markdown",
   "metadata": {},
   "source": [
    "Топ-10 колл-центров по наименьшему числу пропусков:"
   ]
  },
  {
   "cell_type": "code",
   "execution_count": 98,
   "metadata": {},
   "outputs": [
    {
     "data": {
      "text/html": [
       "<div>\n",
       "<style scoped>\n",
       "    .dataframe tbody tr th:only-of-type {\n",
       "        vertical-align: middle;\n",
       "    }\n",
       "\n",
       "    .dataframe tbody tr th {\n",
       "        vertical-align: top;\n",
       "    }\n",
       "\n",
       "    .dataframe thead th {\n",
       "        text-align: right;\n",
       "    }\n",
       "</style>\n",
       "<table border=\"1\" class=\"dataframe\">\n",
       "  <thead>\n",
       "    <tr style=\"text-align: right;\">\n",
       "      <th></th>\n",
       "      <th>user_id</th>\n",
       "      <th>calls_count_missed</th>\n",
       "      <th>calls_count_all</th>\n",
       "      <th>%_missed</th>\n",
       "    </tr>\n",
       "  </thead>\n",
       "  <tbody>\n",
       "    <tr>\n",
       "      <th>40</th>\n",
       "      <td>167059</td>\n",
       "      <td>75</td>\n",
       "      <td>641</td>\n",
       "      <td>11.70</td>\n",
       "    </tr>\n",
       "    <tr>\n",
       "      <th>63</th>\n",
       "      <td>167272</td>\n",
       "      <td>17</td>\n",
       "      <td>138</td>\n",
       "      <td>12.32</td>\n",
       "    </tr>\n",
       "    <tr>\n",
       "      <th>17</th>\n",
       "      <td>166697</td>\n",
       "      <td>1</td>\n",
       "      <td>8</td>\n",
       "      <td>12.50</td>\n",
       "    </tr>\n",
       "    <tr>\n",
       "      <th>32</th>\n",
       "      <td>166955</td>\n",
       "      <td>6</td>\n",
       "      <td>47</td>\n",
       "      <td>12.77</td>\n",
       "    </tr>\n",
       "    <tr>\n",
       "      <th>35</th>\n",
       "      <td>166985</td>\n",
       "      <td>7</td>\n",
       "      <td>54</td>\n",
       "      <td>12.96</td>\n",
       "    </tr>\n",
       "    <tr>\n",
       "      <th>29</th>\n",
       "      <td>166908</td>\n",
       "      <td>8</td>\n",
       "      <td>57</td>\n",
       "      <td>14.04</td>\n",
       "    </tr>\n",
       "    <tr>\n",
       "      <th>11</th>\n",
       "      <td>166604</td>\n",
       "      <td>67</td>\n",
       "      <td>453</td>\n",
       "      <td>14.79</td>\n",
       "    </tr>\n",
       "    <tr>\n",
       "      <th>95</th>\n",
       "      <td>167870</td>\n",
       "      <td>27</td>\n",
       "      <td>182</td>\n",
       "      <td>14.84</td>\n",
       "    </tr>\n",
       "    <tr>\n",
       "      <th>136</th>\n",
       "      <td>168315</td>\n",
       "      <td>7</td>\n",
       "      <td>46</td>\n",
       "      <td>15.22</td>\n",
       "    </tr>\n",
       "    <tr>\n",
       "      <th>106</th>\n",
       "      <td>167976</td>\n",
       "      <td>17</td>\n",
       "      <td>91</td>\n",
       "      <td>18.68</td>\n",
       "    </tr>\n",
       "  </tbody>\n",
       "</table>\n",
       "</div>"
      ],
      "text/plain": [
       "     user_id  calls_count_missed  calls_count_all  %_missed\n",
       "40    167059                  75              641     11.70\n",
       "63    167272                  17              138     12.32\n",
       "17    166697                   1                8     12.50\n",
       "32    166955                   6               47     12.77\n",
       "35    166985                   7               54     12.96\n",
       "29    166908                   8               57     14.04\n",
       "11    166604                  67              453     14.79\n",
       "95    167870                  27              182     14.84\n",
       "136   168315                   7               46     15.22\n",
       "106   167976                  17               91     18.68"
      ]
     },
     "execution_count": 98,
     "metadata": {},
     "output_type": "execute_result"
    }
   ],
   "source": [
    "call_by_users.sort_values(by='%_missed').head(10)"
   ]
  },
  {
   "cell_type": "markdown",
   "metadata": {},
   "source": [
    "#### По времени ожидания ответа"
   ]
  },
  {
   "cell_type": "code",
   "execution_count": 99,
   "metadata": {},
   "outputs": [
    {
     "data": {
      "text/html": [
       "<div>\n",
       "<style scoped>\n",
       "    .dataframe tbody tr th:only-of-type {\n",
       "        vertical-align: middle;\n",
       "    }\n",
       "\n",
       "    .dataframe tbody tr th {\n",
       "        vertical-align: top;\n",
       "    }\n",
       "\n",
       "    .dataframe thead th {\n",
       "        text-align: right;\n",
       "    }\n",
       "</style>\n",
       "<table border=\"1\" class=\"dataframe\">\n",
       "  <thead>\n",
       "    <tr style=\"text-align: right;\">\n",
       "      <th></th>\n",
       "      <th>user_id</th>\n",
       "      <th>direction</th>\n",
       "      <th>internal</th>\n",
       "      <th>operator_id</th>\n",
       "      <th>is_missed_call</th>\n",
       "      <th>calls_count</th>\n",
       "      <th>call_duration</th>\n",
       "      <th>total_call_duration</th>\n",
       "      <th>sessions_date</th>\n",
       "      <th>waiting_time</th>\n",
       "      <th>call_category</th>\n",
       "      <th>внешний входящий</th>\n",
       "      <th>внешний исходящий</th>\n",
       "      <th>внутренний</th>\n",
       "      <th>sum</th>\n",
       "      <th>% in</th>\n",
       "      <th>% out</th>\n",
       "      <th>call_centre_category</th>\n",
       "    </tr>\n",
       "  </thead>\n",
       "  <tbody>\n",
       "    <tr>\n",
       "      <th>5030</th>\n",
       "      <td>166582</td>\n",
       "      <td>out</td>\n",
       "      <td>False</td>\n",
       "      <td>885876.0</td>\n",
       "      <td>False</td>\n",
       "      <td>3</td>\n",
       "      <td>38</td>\n",
       "      <td>38</td>\n",
       "      <td>2019-10-12</td>\n",
       "      <td>0</td>\n",
       "      <td>внешний исходящий</td>\n",
       "      <td>3872.0</td>\n",
       "      <td>643.0</td>\n",
       "      <td>3.0</td>\n",
       "      <td>4518.0</td>\n",
       "      <td>85.7</td>\n",
       "      <td>14.23</td>\n",
       "      <td>вх. звонки</td>\n",
       "    </tr>\n",
       "  </tbody>\n",
       "</table>\n",
       "</div>"
      ],
      "text/plain": [
       "      user_id direction  internal  operator_id  is_missed_call  calls_count  \\\n",
       "5030   166582       out     False     885876.0           False            3   \n",
       "\n",
       "      call_duration  total_call_duration sessions_date  waiting_time  \\\n",
       "5030             38                   38    2019-10-12             0   \n",
       "\n",
       "          call_category  внешний входящий  внешний исходящий  внутренний  \\\n",
       "5030  внешний исходящий            3872.0              643.0         3.0   \n",
       "\n",
       "         sum  % in  % out call_centre_category  \n",
       "5030  4518.0  85.7  14.23           вх. звонки  "
      ]
     },
     "execution_count": 99,
     "metadata": {},
     "output_type": "execute_result"
    }
   ],
   "source": [
    "in_call_centre.sample()"
   ]
  },
  {
   "cell_type": "code",
   "execution_count": 100,
   "metadata": {},
   "outputs": [],
   "source": [
    "missed = in_call_centre[in_call_centre['is_missed_call'] == True]"
   ]
  },
  {
   "cell_type": "code",
   "execution_count": 101,
   "metadata": {},
   "outputs": [
    {
     "data": {
      "text/plain": [
       "11.0"
      ]
     },
     "execution_count": 101,
     "metadata": {},
     "output_type": "execute_result"
    }
   ],
   "source": [
    "missed_waiting_time_median = missed['waiting_time'].median()\n",
    "missed_waiting_time_median"
   ]
  },
  {
   "cell_type": "code",
   "execution_count": 102,
   "metadata": {},
   "outputs": [
    {
     "data": {
      "text/plain": [
       "2"
      ]
     },
     "execution_count": 102,
     "metadata": {},
     "output_type": "execute_result"
    }
   ],
   "source": [
    "missed_waiting_time_mode = statistics.mode(missed['waiting_time'])\n",
    "missed_waiting_time_mode"
   ]
  },
  {
   "cell_type": "code",
   "execution_count": 103,
   "metadata": {},
   "outputs": [
    {
     "data": {
      "image/png": "[encoded data removed]",
      "text/plain": [
       "<Figure size 720x360 with 1 Axes>"
      ]
     },
     "metadata": {
      "needs_background": "light"
     },
     "output_type": "display_data"
    }
   ],
   "source": [
    "missed[['waiting_time']].plot(kind='hist',\n",
    "                        bins=60, \n",
    "                        grid=True,\n",
    "                        range=(0, 60),\n",
    "                        figsize=(10,5), \n",
    "                        color=['#FFCF56'],\n",
    "                       );"
   ]
  },
  {
   "cell_type": "code",
   "execution_count": 104,
   "metadata": {},
   "outputs": [
    {
     "data": {
      "text/plain": [
       "count    3901.000000\n",
       "mean       13.874135\n",
       "std        11.860224\n",
       "min         0.000000\n",
       "25%         2.000000\n",
       "50%        11.000000\n",
       "75%        24.000000\n",
       "max        41.000000\n",
       "Name: waiting_time, dtype: float64"
      ]
     },
     "execution_count": 104,
     "metadata": {},
     "output_type": "execute_result"
    }
   ],
   "source": [
    "missed['waiting_time'].describe()"
   ]
  },
  {
   "cell_type": "markdown",
   "metadata": {},
   "source": [
    "Оценить эффективность оператора с помощью этого параментра можем на основе данных о числе пропусков при разном времени ожидания.\n",
    "\n",
    "Примем за пороговое значение - 5."
   ]
  },
  {
   "cell_type": "code",
   "execution_count": 105,
   "metadata": {
    "scrolled": true
   },
   "outputs": [
    {
     "name": "stderr",
     "output_type": "stream",
     "text": [
      "/tmp/ipykernel_64/2706081263.py:16: SettingWithCopyWarning: \n",
      "A value is trying to be set on a copy of a slice from a DataFrame.\n",
      "Try using .loc[row_indexer,col_indexer] = value instead\n",
      "\n",
      "See the caveats in the documentation: https://pandas.pydata.org/pandas-docs/stable/user_guide/indexing.html#returning-a-view-versus-a-copy\n",
      "  in_call_centre['is_operator_effective_by_wait_time'] = in_call_centre.apply(split_waiting_time, axis=1)\n"
     ]
    },
    {
     "data": {
      "text/html": [
       "<div>\n",
       "<style scoped>\n",
       "    .dataframe tbody tr th:only-of-type {\n",
       "        vertical-align: middle;\n",
       "    }\n",
       "\n",
       "    .dataframe tbody tr th {\n",
       "        vertical-align: top;\n",
       "    }\n",
       "\n",
       "    .dataframe thead th {\n",
       "        text-align: right;\n",
       "    }\n",
       "</style>\n",
       "<table border=\"1\" class=\"dataframe\">\n",
       "  <thead>\n",
       "    <tr style=\"text-align: right;\">\n",
       "      <th></th>\n",
       "      <th>user_id</th>\n",
       "      <th>direction</th>\n",
       "      <th>internal</th>\n",
       "      <th>operator_id</th>\n",
       "      <th>is_missed_call</th>\n",
       "      <th>calls_count</th>\n",
       "      <th>call_duration</th>\n",
       "      <th>total_call_duration</th>\n",
       "      <th>sessions_date</th>\n",
       "      <th>waiting_time</th>\n",
       "      <th>call_category</th>\n",
       "      <th>внешний входящий</th>\n",
       "      <th>внешний исходящий</th>\n",
       "      <th>внутренний</th>\n",
       "      <th>sum</th>\n",
       "      <th>% in</th>\n",
       "      <th>% out</th>\n",
       "      <th>call_centre_category</th>\n",
       "      <th>is_operator_effective_by_wait_time</th>\n",
       "    </tr>\n",
       "  </thead>\n",
       "  <tbody>\n",
       "    <tr>\n",
       "      <th>13373</th>\n",
       "      <td>166958</td>\n",
       "      <td>out</td>\n",
       "      <td>False</td>\n",
       "      <td>898422.0</td>\n",
       "      <td>True</td>\n",
       "      <td>2</td>\n",
       "      <td>0</td>\n",
       "      <td>14</td>\n",
       "      <td>2019-09-13</td>\n",
       "      <td>7</td>\n",
       "      <td>внешний исходящий</td>\n",
       "      <td>297.0</td>\n",
       "      <td>23.0</td>\n",
       "      <td>0.0</td>\n",
       "      <td>320.0</td>\n",
       "      <td>92.81</td>\n",
       "      <td>7.19</td>\n",
       "      <td>вх. звонки</td>\n",
       "      <td>False</td>\n",
       "    </tr>\n",
       "  </tbody>\n",
       "</table>\n",
       "</div>"
      ],
      "text/plain": [
       "       user_id direction  internal  operator_id  is_missed_call  calls_count  \\\n",
       "13373   166958       out     False     898422.0            True            2   \n",
       "\n",
       "       call_duration  total_call_duration sessions_date  waiting_time  \\\n",
       "13373              0                   14    2019-09-13             7   \n",
       "\n",
       "           call_category  внешний входящий  внешний исходящий  внутренний  \\\n",
       "13373  внешний исходящий             297.0               23.0         0.0   \n",
       "\n",
       "         sum   % in  % out call_centre_category  \\\n",
       "13373  320.0  92.81   7.19           вх. звонки   \n",
       "\n",
       "       is_operator_effective_by_wait_time  \n",
       "13373                               False  "
      ]
     },
     "execution_count": 105,
     "metadata": {},
     "output_type": "execute_result"
    }
   ],
   "source": [
    "def split_waiting_time(row):\n",
    "\n",
    "    \"\"\"\n",
    "     С помощью этой функции определяется эффективен или неэффективен оператор\n",
    "     по времени ожидания звонка\n",
    "     \n",
    "    \"\"\"\n",
    "\n",
    "    if row['waiting_time'] <= 5:\n",
    "        return True\n",
    "    else:\n",
    "        return False\n",
    "\n",
    "    \n",
    "# создание нового столбца на основании полученных функцией значений\n",
    "in_call_centre['is_operator_effective_by_wait_time'] = in_call_centre.apply(split_waiting_time, axis=1)\n",
    "in_call_centre.sample()"
   ]
  },
  {
   "cell_type": "markdown",
   "metadata": {},
   "source": [
    "Посмотрим, сколько эффективных и неэффективных операторов в каждом колл-центре:"
   ]
  },
  {
   "cell_type": "code",
   "execution_count": 106,
   "metadata": {},
   "outputs": [
    {
     "data": {
      "text/html": [
       "<div>\n",
       "<style scoped>\n",
       "    .dataframe tbody tr th:only-of-type {\n",
       "        vertical-align: middle;\n",
       "    }\n",
       "\n",
       "    .dataframe tbody tr th {\n",
       "        vertical-align: top;\n",
       "    }\n",
       "\n",
       "    .dataframe thead th {\n",
       "        text-align: right;\n",
       "    }\n",
       "</style>\n",
       "<table border=\"1\" class=\"dataframe\">\n",
       "  <thead>\n",
       "    <tr style=\"text-align: right;\">\n",
       "      <th>is_operator_effective_by_wait_time</th>\n",
       "      <th>False</th>\n",
       "      <th>True</th>\n",
       "    </tr>\n",
       "    <tr>\n",
       "      <th>user_id</th>\n",
       "      <th></th>\n",
       "      <th></th>\n",
       "    </tr>\n",
       "  </thead>\n",
       "  <tbody>\n",
       "    <tr>\n",
       "      <th>166391</th>\n",
       "      <td>5.0</td>\n",
       "      <td>0.0</td>\n",
       "    </tr>\n",
       "    <tr>\n",
       "      <th>166392</th>\n",
       "      <td>41.0</td>\n",
       "      <td>0.0</td>\n",
       "    </tr>\n",
       "    <tr>\n",
       "      <th>166399</th>\n",
       "      <td>5.0</td>\n",
       "      <td>3.0</td>\n",
       "    </tr>\n",
       "    <tr>\n",
       "      <th>166428</th>\n",
       "      <td>55.0</td>\n",
       "      <td>1.0</td>\n",
       "    </tr>\n",
       "    <tr>\n",
       "      <th>166481</th>\n",
       "      <td>1.0</td>\n",
       "      <td>0.0</td>\n",
       "    </tr>\n",
       "  </tbody>\n",
       "</table>\n",
       "</div>"
      ],
      "text/plain": [
       "is_operator_effective_by_wait_time  False  True \n",
       "user_id                                         \n",
       "166391                                5.0    0.0\n",
       "166392                               41.0    0.0\n",
       "166399                                5.0    3.0\n",
       "166428                               55.0    1.0\n",
       "166481                                1.0    0.0"
      ]
     },
     "execution_count": 106,
     "metadata": {},
     "output_type": "execute_result"
    }
   ],
   "source": [
    "is_operator_effective_by_wait_time = in_call_centre.pivot_table(index='user_id', \n",
    "                                                    columns='is_operator_effective_by_wait_time', \n",
    "                                                    values='operator_id', \n",
    "                                                    aggfunc='count')\n",
    "is_operator_effective_by_wait_time = is_operator_effective_by_wait_time.fillna(0)\n",
    "is_operator_effective_by_wait_time.head()"
   ]
  },
  {
   "cell_type": "markdown",
   "metadata": {},
   "source": [
    "Посчитаем долю неэффективных операторов:"
   ]
  },
  {
   "cell_type": "code",
   "execution_count": 107,
   "metadata": {},
   "outputs": [
    {
     "data": {
      "text/html": [
       "<div>\n",
       "<style scoped>\n",
       "    .dataframe tbody tr th:only-of-type {\n",
       "        vertical-align: middle;\n",
       "    }\n",
       "\n",
       "    .dataframe tbody tr th {\n",
       "        vertical-align: top;\n",
       "    }\n",
       "\n",
       "    .dataframe thead th {\n",
       "        text-align: right;\n",
       "    }\n",
       "</style>\n",
       "<table border=\"1\" class=\"dataframe\">\n",
       "  <thead>\n",
       "    <tr style=\"text-align: right;\">\n",
       "      <th>is_operator_effective_by_wait_time</th>\n",
       "      <th>False</th>\n",
       "      <th>True</th>\n",
       "      <th>count</th>\n",
       "      <th>% false</th>\n",
       "    </tr>\n",
       "    <tr>\n",
       "      <th>user_id</th>\n",
       "      <th></th>\n",
       "      <th></th>\n",
       "      <th></th>\n",
       "      <th></th>\n",
       "    </tr>\n",
       "  </thead>\n",
       "  <tbody>\n",
       "    <tr>\n",
       "      <th>166391</th>\n",
       "      <td>5.0</td>\n",
       "      <td>0.0</td>\n",
       "      <td>5.0</td>\n",
       "      <td>100.000000</td>\n",
       "    </tr>\n",
       "    <tr>\n",
       "      <th>166392</th>\n",
       "      <td>41.0</td>\n",
       "      <td>0.0</td>\n",
       "      <td>41.0</td>\n",
       "      <td>100.000000</td>\n",
       "    </tr>\n",
       "    <tr>\n",
       "      <th>166399</th>\n",
       "      <td>5.0</td>\n",
       "      <td>3.0</td>\n",
       "      <td>8.0</td>\n",
       "      <td>62.500000</td>\n",
       "    </tr>\n",
       "    <tr>\n",
       "      <th>166428</th>\n",
       "      <td>55.0</td>\n",
       "      <td>1.0</td>\n",
       "      <td>56.0</td>\n",
       "      <td>98.214286</td>\n",
       "    </tr>\n",
       "    <tr>\n",
       "      <th>166481</th>\n",
       "      <td>1.0</td>\n",
       "      <td>0.0</td>\n",
       "      <td>1.0</td>\n",
       "      <td>100.000000</td>\n",
       "    </tr>\n",
       "  </tbody>\n",
       "</table>\n",
       "</div>"
      ],
      "text/plain": [
       "is_operator_effective_by_wait_time  False  True  count     % false\n",
       "user_id                                                           \n",
       "166391                                5.0   0.0    5.0  100.000000\n",
       "166392                               41.0   0.0   41.0  100.000000\n",
       "166399                                5.0   3.0    8.0   62.500000\n",
       "166428                               55.0   1.0   56.0   98.214286\n",
       "166481                                1.0   0.0    1.0  100.000000"
      ]
     },
     "execution_count": 107,
     "metadata": {},
     "output_type": "execute_result"
    }
   ],
   "source": [
    "is_operator_effective_by_wait_time['count'] = is_operator_effective_by_wait_time[False] + is_operator_effective_by_wait_time[True]\n",
    "is_operator_effective_by_wait_time['% false'] = is_operator_effective_by_wait_time[False]*100/is_operator_effective_by_wait_time['count']\n",
    "is_operator_effective_by_wait_time.head()"
   ]
  },
  {
   "cell_type": "code",
   "execution_count": 108,
   "metadata": {},
   "outputs": [
    {
     "data": {
      "image/png": "[encoded data removed]",
      "text/plain": [
       "<Figure size 720x360 with 1 Axes>"
      ]
     },
     "metadata": {
      "needs_background": "light"
     },
     "output_type": "display_data"
    }
   ],
   "source": [
    "is_operator_effective_by_wait_time['% false'].plot(kind='hist',\n",
    "                        bins=50, \n",
    "                        grid=True,\n",
    "                        range=(0, 115),\n",
    "                        figsize=(10,5), \n",
    "                        color=['#008000'],\n",
    "                       );\n",
    "plt.xlabel('% false')\n",
    "plt.ylabel('count');"
   ]
  },
  {
   "cell_type": "markdown",
   "metadata": {},
   "source": [
    "Топ-10 колл-центров по наибольшему числу неэффективных операторов:"
   ]
  },
  {
   "cell_type": "code",
   "execution_count": 109,
   "metadata": {},
   "outputs": [
    {
     "data": {
      "text/html": [
       "<div>\n",
       "<style scoped>\n",
       "    .dataframe tbody tr th:only-of-type {\n",
       "        vertical-align: middle;\n",
       "    }\n",
       "\n",
       "    .dataframe tbody tr th {\n",
       "        vertical-align: top;\n",
       "    }\n",
       "\n",
       "    .dataframe thead th {\n",
       "        text-align: right;\n",
       "    }\n",
       "</style>\n",
       "<table border=\"1\" class=\"dataframe\">\n",
       "  <thead>\n",
       "    <tr style=\"text-align: right;\">\n",
       "      <th>is_operator_effective_by_wait_time</th>\n",
       "      <th>False</th>\n",
       "      <th>True</th>\n",
       "      <th>count</th>\n",
       "      <th>% false</th>\n",
       "    </tr>\n",
       "    <tr>\n",
       "      <th>user_id</th>\n",
       "      <th></th>\n",
       "      <th></th>\n",
       "      <th></th>\n",
       "      <th></th>\n",
       "    </tr>\n",
       "  </thead>\n",
       "  <tbody>\n",
       "    <tr>\n",
       "      <th>166391</th>\n",
       "      <td>5.0</td>\n",
       "      <td>0.0</td>\n",
       "      <td>5.0</td>\n",
       "      <td>100.0</td>\n",
       "    </tr>\n",
       "    <tr>\n",
       "      <th>168016</th>\n",
       "      <td>7.0</td>\n",
       "      <td>0.0</td>\n",
       "      <td>7.0</td>\n",
       "      <td>100.0</td>\n",
       "    </tr>\n",
       "    <tr>\n",
       "      <th>167162</th>\n",
       "      <td>16.0</td>\n",
       "      <td>0.0</td>\n",
       "      <td>16.0</td>\n",
       "      <td>100.0</td>\n",
       "    </tr>\n",
       "    <tr>\n",
       "      <th>167158</th>\n",
       "      <td>60.0</td>\n",
       "      <td>0.0</td>\n",
       "      <td>60.0</td>\n",
       "      <td>100.0</td>\n",
       "    </tr>\n",
       "    <tr>\n",
       "      <th>167998</th>\n",
       "      <td>3.0</td>\n",
       "      <td>0.0</td>\n",
       "      <td>3.0</td>\n",
       "      <td>100.0</td>\n",
       "    </tr>\n",
       "    <tr>\n",
       "      <th>167122</th>\n",
       "      <td>3.0</td>\n",
       "      <td>0.0</td>\n",
       "      <td>3.0</td>\n",
       "      <td>100.0</td>\n",
       "    </tr>\n",
       "    <tr>\n",
       "      <th>168004</th>\n",
       "      <td>4.0</td>\n",
       "      <td>0.0</td>\n",
       "      <td>4.0</td>\n",
       "      <td>100.0</td>\n",
       "    </tr>\n",
       "    <tr>\n",
       "      <th>167102</th>\n",
       "      <td>59.0</td>\n",
       "      <td>0.0</td>\n",
       "      <td>59.0</td>\n",
       "      <td>100.0</td>\n",
       "    </tr>\n",
       "    <tr>\n",
       "      <th>167079</th>\n",
       "      <td>17.0</td>\n",
       "      <td>0.0</td>\n",
       "      <td>17.0</td>\n",
       "      <td>100.0</td>\n",
       "    </tr>\n",
       "    <tr>\n",
       "      <th>166985</th>\n",
       "      <td>29.0</td>\n",
       "      <td>0.0</td>\n",
       "      <td>29.0</td>\n",
       "      <td>100.0</td>\n",
       "    </tr>\n",
       "  </tbody>\n",
       "</table>\n",
       "</div>"
      ],
      "text/plain": [
       "is_operator_effective_by_wait_time  False  True  count  % false\n",
       "user_id                                                        \n",
       "166391                                5.0   0.0    5.0    100.0\n",
       "168016                                7.0   0.0    7.0    100.0\n",
       "167162                               16.0   0.0   16.0    100.0\n",
       "167158                               60.0   0.0   60.0    100.0\n",
       "167998                                3.0   0.0    3.0    100.0\n",
       "167122                                3.0   0.0    3.0    100.0\n",
       "168004                                4.0   0.0    4.0    100.0\n",
       "167102                               59.0   0.0   59.0    100.0\n",
       "167079                               17.0   0.0   17.0    100.0\n",
       "166985                               29.0   0.0   29.0    100.0"
      ]
     },
     "execution_count": 109,
     "metadata": {},
     "output_type": "execute_result"
    }
   ],
   "source": [
    "is_operator_effective_by_wait_time.sort_values(by='% false', ascending=False).head(10)"
   ]
  },
  {
   "cell_type": "markdown",
   "metadata": {},
   "source": [
    "Топ-10 коллцентров с наименьшим числов неэффективных операторов:"
   ]
  },
  {
   "cell_type": "code",
   "execution_count": 110,
   "metadata": {},
   "outputs": [
    {
     "data": {
      "text/html": [
       "<div>\n",
       "<style scoped>\n",
       "    .dataframe tbody tr th:only-of-type {\n",
       "        vertical-align: middle;\n",
       "    }\n",
       "\n",
       "    .dataframe tbody tr th {\n",
       "        vertical-align: top;\n",
       "    }\n",
       "\n",
       "    .dataframe thead th {\n",
       "        text-align: right;\n",
       "    }\n",
       "</style>\n",
       "<table border=\"1\" class=\"dataframe\">\n",
       "  <thead>\n",
       "    <tr style=\"text-align: right;\">\n",
       "      <th>is_operator_effective_by_wait_time</th>\n",
       "      <th>False</th>\n",
       "      <th>True</th>\n",
       "      <th>count</th>\n",
       "      <th>% false</th>\n",
       "    </tr>\n",
       "    <tr>\n",
       "      <th>user_id</th>\n",
       "      <th></th>\n",
       "      <th></th>\n",
       "      <th></th>\n",
       "      <th></th>\n",
       "    </tr>\n",
       "  </thead>\n",
       "  <tbody>\n",
       "    <tr>\n",
       "      <th>168459</th>\n",
       "      <td>0.0</td>\n",
       "      <td>1.0</td>\n",
       "      <td>1.0</td>\n",
       "      <td>0.000000</td>\n",
       "    </tr>\n",
       "    <tr>\n",
       "      <th>167364</th>\n",
       "      <td>0.0</td>\n",
       "      <td>1.0</td>\n",
       "      <td>1.0</td>\n",
       "      <td>0.000000</td>\n",
       "    </tr>\n",
       "    <tr>\n",
       "      <th>168315</th>\n",
       "      <td>0.0</td>\n",
       "      <td>10.0</td>\n",
       "      <td>10.0</td>\n",
       "      <td>0.000000</td>\n",
       "    </tr>\n",
       "    <tr>\n",
       "      <th>168190</th>\n",
       "      <td>0.0</td>\n",
       "      <td>6.0</td>\n",
       "      <td>6.0</td>\n",
       "      <td>0.000000</td>\n",
       "    </tr>\n",
       "    <tr>\n",
       "      <th>167575</th>\n",
       "      <td>4.0</td>\n",
       "      <td>17.0</td>\n",
       "      <td>21.0</td>\n",
       "      <td>19.047619</td>\n",
       "    </tr>\n",
       "    <tr>\n",
       "      <th>167238</th>\n",
       "      <td>1.0</td>\n",
       "      <td>4.0</td>\n",
       "      <td>5.0</td>\n",
       "      <td>20.000000</td>\n",
       "    </tr>\n",
       "    <tr>\n",
       "      <th>167397</th>\n",
       "      <td>2.0</td>\n",
       "      <td>4.0</td>\n",
       "      <td>6.0</td>\n",
       "      <td>33.333333</td>\n",
       "    </tr>\n",
       "    <tr>\n",
       "      <th>167840</th>\n",
       "      <td>1.0</td>\n",
       "      <td>2.0</td>\n",
       "      <td>3.0</td>\n",
       "      <td>33.333333</td>\n",
       "    </tr>\n",
       "    <tr>\n",
       "      <th>168010</th>\n",
       "      <td>2.0</td>\n",
       "      <td>3.0</td>\n",
       "      <td>5.0</td>\n",
       "      <td>40.000000</td>\n",
       "    </tr>\n",
       "    <tr>\n",
       "      <th>167543</th>\n",
       "      <td>6.0</td>\n",
       "      <td>8.0</td>\n",
       "      <td>14.0</td>\n",
       "      <td>42.857143</td>\n",
       "    </tr>\n",
       "  </tbody>\n",
       "</table>\n",
       "</div>"
      ],
      "text/plain": [
       "is_operator_effective_by_wait_time  False  True  count    % false\n",
       "user_id                                                          \n",
       "168459                                0.0   1.0    1.0   0.000000\n",
       "167364                                0.0   1.0    1.0   0.000000\n",
       "168315                                0.0  10.0   10.0   0.000000\n",
       "168190                                0.0   6.0    6.0   0.000000\n",
       "167575                                4.0  17.0   21.0  19.047619\n",
       "167238                                1.0   4.0    5.0  20.000000\n",
       "167397                                2.0   4.0    6.0  33.333333\n",
       "167840                                1.0   2.0    3.0  33.333333\n",
       "168010                                2.0   3.0    5.0  40.000000\n",
       "167543                                6.0   8.0   14.0  42.857143"
      ]
     },
     "execution_count": 110,
     "metadata": {},
     "output_type": "execute_result"
    }
   ],
   "source": [
    "is_operator_effective_by_wait_time.sort_values(by='% false').head(10)"
   ]
  },
  {
   "cell_type": "markdown",
   "metadata": {},
   "source": [
    "**Выводы:**\n",
    "\n",
    "Эффективность операторов - колл-центров оценили по трём признакам:\n",
    "\n",
    "- числу пропусков\n",
    "- времени ожидания\n",
    "- количеству звонков\n",
    "\n",
    "1. По колл-центрам, специализирующихся на исх. звонках, получили достаточно ысокую неэффективность по числу пропусков, но в целом это картина реалистична, поскольку потенциальные клиенты часто пропускают подобные звонки, по времени ожидания и количеству звонков в общем равномерно по неэффективности, без скачков\n",
    "2. По колл-центрам, которые совершают в основном вх. звонки, заметили, что здесь среди них много тех, у кого ещё очень мало звонков и даже они могут быть внутренними, это может объяснять одинаковое число колл-центров с высокой неэффективностью по всем трём признакам"
   ]
  },
  {
   "cell_type": "markdown",
   "metadata": {},
   "source": [
    "## Проверка гипотез"
   ]
  },
  {
   "cell_type": "markdown",
   "metadata": {},
   "source": [
    "- Число пропущенных исходящих звонков в будни и в выходные в колл-центре, специализация которого исх. звонки, различается"
   ]
  },
  {
   "cell_type": "markdown",
   "metadata": {},
   "source": [
    "Введем нулевую и альтернативные гипотезы:\n",
    "\n",
    "H0 : Количество пропущенных исходящих звонков в будни и в выходные равно \n",
    "\n",
    "H1 : Количество пропущенных исходящих звонков в будни и в выходные различается\n",
    "\n",
    "Уровень значимости: alpha = 0.05\n",
    "\n",
    "Рассчитаем p-value:\n",
    "\n",
    "При p-value меньше выбранного уровня значимости будут основания отвергнуть нулевую гипотезу в пользу альтернативной. Иначе - сделаем вывод, что данные не позволили нам отвергнуть нулевую гипотезу."
   ]
  },
  {
   "cell_type": "code",
   "execution_count": 111,
   "metadata": {},
   "outputs": [
    {
     "data": {
      "text/html": [
       "<div>\n",
       "<style scoped>\n",
       "    .dataframe tbody tr th:only-of-type {\n",
       "        vertical-align: middle;\n",
       "    }\n",
       "\n",
       "    .dataframe tbody tr th {\n",
       "        vertical-align: top;\n",
       "    }\n",
       "\n",
       "    .dataframe thead th {\n",
       "        text-align: right;\n",
       "    }\n",
       "</style>\n",
       "<table border=\"1\" class=\"dataframe\">\n",
       "  <thead>\n",
       "    <tr style=\"text-align: right;\">\n",
       "      <th></th>\n",
       "      <th>user_id</th>\n",
       "      <th>direction</th>\n",
       "      <th>internal</th>\n",
       "      <th>operator_id</th>\n",
       "      <th>is_missed_call</th>\n",
       "      <th>calls_count</th>\n",
       "      <th>call_duration</th>\n",
       "      <th>total_call_duration</th>\n",
       "      <th>sessions_date</th>\n",
       "      <th>waiting_time</th>\n",
       "      <th>call_category</th>\n",
       "    </tr>\n",
       "  </thead>\n",
       "  <tbody>\n",
       "    <tr>\n",
       "      <th>50632</th>\n",
       "      <td>168252</td>\n",
       "      <td>in</td>\n",
       "      <td>False</td>\n",
       "      <td>940588.0</td>\n",
       "      <td>True</td>\n",
       "      <td>1</td>\n",
       "      <td>142</td>\n",
       "      <td>144</td>\n",
       "      <td>2019-11-19</td>\n",
       "      <td>2</td>\n",
       "      <td>внешний входящий</td>\n",
       "    </tr>\n",
       "  </tbody>\n",
       "</table>\n",
       "</div>"
      ],
      "text/plain": [
       "       user_id direction  internal  operator_id  is_missed_call  calls_count  \\\n",
       "50632   168252        in     False     940588.0            True            1   \n",
       "\n",
       "       call_duration  total_call_duration sessions_date  waiting_time  \\\n",
       "50632            142                  144    2019-11-19             2   \n",
       "\n",
       "          call_category  \n",
       "50632  внешний входящий  "
      ]
     },
     "execution_count": 111,
     "metadata": {},
     "output_type": "execute_result"
    }
   ],
   "source": [
    "telecom_dataset.sample()"
   ]
  },
  {
   "cell_type": "code",
   "execution_count": 112,
   "metadata": {
    "scrolled": true
   },
   "outputs": [
    {
     "data": {
      "text/plain": [
       "array(['Sunday', 'Monday', nan, 'Tuesday', 'Wednesday', 'Thursday',\n",
       "       'Friday', 'Saturday'], dtype=object)"
      ]
     },
     "execution_count": 112,
     "metadata": {},
     "output_type": "execute_result"
    }
   ],
   "source": [
    "telecom_dataset_merge['day'] = telecom_dataset['sessions_date'].dt.day_name()\n",
    "telecom_dataset_merge['day'].unique()"
   ]
  },
  {
   "cell_type": "code",
   "execution_count": 113,
   "metadata": {},
   "outputs": [],
   "source": [
    "weekdays = ['Monday', 'Tuesday', 'Wednesday', 'Thursday', 'Friday']\n",
    "weekends = ['Sunday', 'Saturday']"
   ]
  },
  {
   "cell_type": "code",
   "execution_count": 114,
   "metadata": {},
   "outputs": [],
   "source": [
    "query_1 = telecom_dataset_merge.query('(day in @weekdays) and (internal == False) and (direction == \"out\") and (is_missed_call == True) and (call_centre_category == \"исх. звонки\")')['calls_count']\n",
    "query_2 = telecom_dataset_merge.query('(day in @weekends) and (direction == \"out\") and (internal == False) and (is_missed_call == True) and (call_centre_category == \"исх. звонки\")')['calls_count']"
   ]
  },
  {
   "cell_type": "code",
   "execution_count": 115,
   "metadata": {},
   "outputs": [
    {
     "name": "stdout",
     "output_type": "stream",
     "text": [
      "p-значение: 0.8980324064945179\n",
      "Недостаточно оснований, чтобы отвергнуть нулевую гипотезу\n"
     ]
    }
   ],
   "source": [
    "alpha = .05\n",
    "results = stats.ttest_ind(query_1, query_2, equal_var=False)\n",
    "\n",
    "print('p-значение:', results.pvalue)\n",
    "\n",
    "if (results.pvalue < alpha):\n",
    "    print('Имеются основания отвергнуть нулевую гипотезу')\n",
    "else:\n",
    "    print('Недостаточно оснований, чтобы отвергнуть нулевую гипотезу')"
   ]
  },
  {
   "cell_type": "markdown",
   "metadata": {},
   "source": [
    "**Выводы:**\n",
    "\n",
    "Это показывает, что не нужно различать по дням звонки у исх. колл-центров, разницы в работе нет"
   ]
  },
  {
   "cell_type": "markdown",
   "metadata": {},
   "source": [
    "- Время ожидания ответа у исходящих звонков и входящих различается"
   ]
  },
  {
   "cell_type": "markdown",
   "metadata": {},
   "source": [
    "Введем нулевую и альтернативные гипотезы:\n",
    "\n",
    "H0 : Время ожидания ответа у исходящих звонков и входящих не отличается\n",
    "\n",
    "H1 : Время ожидания ответа у исходящих звонков и входящих различается\n",
    "\n",
    "Уровень значимости: alpha = 0.05"
   ]
  },
  {
   "cell_type": "code",
   "execution_count": 116,
   "metadata": {},
   "outputs": [],
   "source": [
    "query_1 = telecom_dataset.query('(direction == \"in\") and (is_missed_call == False)')['waiting_time']\n",
    "query_2 = telecom_dataset.query('(direction == \"out\") and (is_missed_call == False)')['waiting_time']"
   ]
  },
  {
   "cell_type": "code",
   "execution_count": 117,
   "metadata": {},
   "outputs": [
    {
     "name": "stdout",
     "output_type": "stream",
     "text": [
      "p-значение: 2.4475847567457984e-126\n",
      "Имеются основания отвергнуть нулевую гипотезу\n"
     ]
    }
   ],
   "source": [
    "alpha = .05\n",
    "results = stats.ttest_ind(query_1, query_2, equal_var=False)\n",
    "\n",
    "print('p-значение:', results.pvalue)\n",
    "\n",
    "if (results.pvalue < alpha):\n",
    "    print('Имеются основания отвергнуть нулевую гипотезу')\n",
    "else:\n",
    "    print('Недостаточно оснований, чтобы отвергнуть нулевую гипотезу')"
   ]
  },
  {
   "cell_type": "code",
   "execution_count": 118,
   "metadata": {},
   "outputs": [],
   "source": [
    "query_1 = telecom_dataset.query('(direction == \"in\") and (is_missed_call == False)')['waiting_time']\n",
    "query_2 = telecom_dataset.query('(direction == \"out\") and (is_missed_call == False)')['waiting_time']"
   ]
  },
  {
   "cell_type": "code",
   "execution_count": 119,
   "metadata": {},
   "outputs": [
    {
     "name": "stdout",
     "output_type": "stream",
     "text": [
      "p-значение: 2.4475847567457984e-126\n",
      "Имеются основания отвергнуть нулевую гипотезу\n"
     ]
    }
   ],
   "source": [
    "alpha = .05\n",
    "results = stats.ttest_ind(query_1, query_2, equal_var=False)\n",
    "\n",
    "print('p-значение:', results.pvalue)\n",
    "\n",
    "if (results.pvalue < alpha):\n",
    "    print('Имеются основания отвергнуть нулевую гипотезу')\n",
    "else:\n",
    "    print('Недостаточно оснований, чтобы отвергнуть нулевую гипотезу')"
   ]
  },
  {
   "cell_type": "markdown",
   "metadata": {},
   "source": [
    "То есть вероятность, что время ожидания ответа у входящих и исходщих вызовов отличается"
   ]
  },
  {
   "cell_type": "markdown",
   "metadata": {},
   "source": [
    "## Выводы"
   ]
  },
  {
   "cell_type": "markdown",
   "metadata": {},
   "source": [
    "**Общий вывод**\n",
    "\n",
    "1. Данные подготовили к анализу:\n",
    "    - удалили дубликаты, привели типы данных, добавили столбец с датами и временем ожидания ответа \n",
    "    \n",
    "2. Исследовательский анализ:\n",
    "    - построили гистограммы и диаграммы размаха для количественных данных, учли выбросы, оставили данные, не превышающие 95 перценциль\n",
    "    - изучили категориальные данные\n",
    "       \n",
    "3. Разделение колл-центров на категории\n",
    "    - разбили звонки на категории\n",
    "    - на основе звонков провели разделение колл-центров на категории (исх. и вх.)\n",
    "    - составили два соответствующих датесета\n",
    "    \n",
    "4. Определение порогов эффективности операторов, колл-центров\n",
    "    - провели проверку операторов/колл-центров по признакам: кол-во пропущенных звонков, числа звонков, времени ожидания\n",
    "    - на основе звонков провели разделение колл-центров на категории (исх. и вх.)\n",
    "    - посчитали долю неэффективных операторов, построили гистограммы\n",
    "    \n",
    "5. Проверка гипотез\n",
    "    - Число пропущенных исходящих звонков в будни и в выходные различается\n",
    "    - Время ожидания ответа у исходящих звонков и входящих различается"
   ]
  },
  {
   "cell_type": "markdown",
   "metadata": {},
   "source": [
    "**Заключение:**\n",
    "\n",
    "Колл-центров категории \"исх. звонки\"\n",
    "\n",
    "- по числу звонков самый минимальный процент неэффективных операторов - 0%, максимальный - 100%, большее количество колл-центров имеют именно такие\n",
    "- по времени ожидания минимальный процент неэффективных операторов - 0%, максимальный - 50%, в большинстве колл-центров процент неэффективных операторов в диапазоне от 10 до 30%\n",
    "\n",
    "Колл-центров категории \"вх. звонки\"\n",
    "\n",
    "- по пропускам самый минимальный процент неэффективных операторов - 11%, максимальный - 100%, в среднем процент неэффективных операторов в диапазоне от 11% до 100% равномерно по кол-ву колл-центров\n",
    "- по времени ожидания самый минимальный процент неэффективных операторов - 0%, максимальный - 100%, у большинства колл-центров доля неэффективных операторов составляет 65 - 100 %\n",
    "\n",
    "Определение неэффективных операторов многим должна быть интересна, считаю, что в целом это положительно будет влиять на анализ работы колл-центра с возможными корректировками методики работы."
   ]
  }
 ],
 "metadata": {
  "ExecuteTimeLog": [
   {
    "duration": 80,
    "start_time": "2022-11-08T08:46:28.406Z"
   },
   {
    "duration": 1397,
    "start_time": "2022-11-08T17:56:54.601Z"
   },
   {
    "duration": 196,
    "start_time": "2022-11-08T17:56:56.000Z"
   },
   {
    "duration": 20,
    "start_time": "2022-11-08T17:56:56.201Z"
   },
   {
    "duration": 16,
    "start_time": "2022-11-08T17:57:00.899Z"
   },
   {
    "duration": 25,
    "start_time": "2022-11-08T17:57:01.227Z"
   },
   {
    "duration": 20,
    "start_time": "2022-11-08T17:57:29.586Z"
   },
   {
    "duration": 113,
    "start_time": "2022-11-08T17:58:31.934Z"
   },
   {
    "duration": 103,
    "start_time": "2022-11-08T17:58:37.710Z"
   },
   {
    "duration": 14,
    "start_time": "2022-11-08T17:58:54.997Z"
   },
   {
    "duration": 3,
    "start_time": "2022-11-08T17:59:38.048Z"
   },
   {
    "duration": 9,
    "start_time": "2022-11-08T17:59:44.641Z"
   },
   {
    "duration": 9,
    "start_time": "2022-11-08T17:59:55.911Z"
   },
   {
    "duration": 11,
    "start_time": "2022-11-08T18:00:02.806Z"
   },
   {
    "duration": 7,
    "start_time": "2022-11-08T18:00:07.495Z"
   },
   {
    "duration": 11,
    "start_time": "2022-11-08T18:00:54.084Z"
   },
   {
    "duration": 27,
    "start_time": "2022-11-08T18:01:47.867Z"
   },
   {
    "duration": 3,
    "start_time": "2022-11-08T18:02:12.407Z"
   },
   {
    "duration": 112,
    "start_time": "2022-11-08T18:02:12.412Z"
   },
   {
    "duration": 16,
    "start_time": "2022-11-08T18:02:12.526Z"
   },
   {
    "duration": 39,
    "start_time": "2022-11-08T18:02:12.543Z"
   },
   {
    "duration": 39,
    "start_time": "2022-11-08T18:02:12.586Z"
   },
   {
    "duration": 19,
    "start_time": "2022-11-08T18:02:12.626Z"
   },
   {
    "duration": 11,
    "start_time": "2022-11-08T18:02:12.647Z"
   },
   {
    "duration": 61,
    "start_time": "2022-11-08T18:02:12.663Z"
   },
   {
    "duration": 19,
    "start_time": "2022-11-08T18:02:12.726Z"
   },
   {
    "duration": 14,
    "start_time": "2022-11-08T18:02:12.747Z"
   },
   {
    "duration": 103,
    "start_time": "2022-11-08T18:02:12.765Z"
   },
   {
    "duration": 14,
    "start_time": "2022-11-08T18:02:21.981Z"
   },
   {
    "duration": 3,
    "start_time": "2022-11-08T18:02:28.626Z"
   },
   {
    "duration": 6,
    "start_time": "2022-11-08T18:03:08.573Z"
   },
   {
    "duration": 16,
    "start_time": "2022-11-08T18:03:42.549Z"
   },
   {
    "duration": 11,
    "start_time": "2022-11-08T18:04:39.589Z"
   },
   {
    "duration": 7,
    "start_time": "2022-11-08T18:07:12.200Z"
   },
   {
    "duration": 15,
    "start_time": "2022-11-08T18:09:55.604Z"
   },
   {
    "duration": 24,
    "start_time": "2022-11-08T18:10:34.186Z"
   },
   {
    "duration": 14,
    "start_time": "2022-11-08T18:12:13.620Z"
   },
   {
    "duration": 20,
    "start_time": "2022-11-08T18:12:57.499Z"
   },
   {
    "duration": 12,
    "start_time": "2022-11-08T18:13:29.545Z"
   },
   {
    "duration": 6,
    "start_time": "2022-11-08T18:16:21.377Z"
   },
   {
    "duration": 89,
    "start_time": "2022-11-08T18:16:21.430Z"
   },
   {
    "duration": 13,
    "start_time": "2022-11-08T18:16:21.521Z"
   },
   {
    "duration": 28,
    "start_time": "2022-11-08T18:16:21.536Z"
   },
   {
    "duration": 36,
    "start_time": "2022-11-08T18:16:21.568Z"
   },
   {
    "duration": 6,
    "start_time": "2022-11-08T18:16:21.606Z"
   },
   {
    "duration": 6,
    "start_time": "2022-11-08T18:16:21.614Z"
   },
   {
    "duration": 13,
    "start_time": "2022-11-08T18:16:21.622Z"
   },
   {
    "duration": 5,
    "start_time": "2022-11-08T18:16:21.749Z"
   },
   {
    "duration": 3,
    "start_time": "2022-11-08T18:16:21.906Z"
   },
   {
    "duration": 41,
    "start_time": "2022-11-08T18:16:22.010Z"
   },
   {
    "duration": 18,
    "start_time": "2022-11-08T18:16:22.053Z"
   },
   {
    "duration": 20,
    "start_time": "2022-11-08T18:16:22.073Z"
   },
   {
    "duration": 17,
    "start_time": "2022-11-08T18:16:22.095Z"
   },
   {
    "duration": 14,
    "start_time": "2022-11-08T18:16:22.114Z"
   },
   {
    "duration": 31,
    "start_time": "2022-11-08T18:16:22.129Z"
   },
   {
    "duration": 25,
    "start_time": "2022-11-08T18:16:24.985Z"
   },
   {
    "duration": 8,
    "start_time": "2022-11-08T18:16:25.614Z"
   },
   {
    "duration": 22,
    "start_time": "2022-11-08T18:16:27.944Z"
   },
   {
    "duration": 8,
    "start_time": "2022-11-08T18:19:44.216Z"
   },
   {
    "duration": 14,
    "start_time": "2022-11-08T18:19:57.737Z"
   },
   {
    "duration": 106,
    "start_time": "2022-11-08T18:31:30.134Z"
   },
   {
    "duration": 53,
    "start_time": "2022-11-08T18:31:46.079Z"
   },
   {
    "duration": 68,
    "start_time": "2022-11-08T18:32:42.949Z"
   },
   {
    "duration": 9,
    "start_time": "2022-11-08T18:33:10.335Z"
   },
   {
    "duration": 15,
    "start_time": "2022-11-08T18:33:41.878Z"
   },
   {
    "duration": 11,
    "start_time": "2022-11-08T18:33:57.391Z"
   },
   {
    "duration": 10,
    "start_time": "2022-11-08T18:36:56.280Z"
   },
   {
    "duration": 12,
    "start_time": "2022-11-08T18:37:03.949Z"
   },
   {
    "duration": 14,
    "start_time": "2022-11-08T18:37:27.933Z"
   },
   {
    "duration": 15,
    "start_time": "2022-11-08T18:37:37.132Z"
   },
   {
    "duration": 17,
    "start_time": "2022-11-08T18:37:39.933Z"
   },
   {
    "duration": 24,
    "start_time": "2022-11-08T18:38:00.238Z"
   },
   {
    "duration": 18,
    "start_time": "2022-11-08T18:38:11.205Z"
   },
   {
    "duration": 20,
    "start_time": "2022-11-08T18:38:18.513Z"
   },
   {
    "duration": 88,
    "start_time": "2022-11-08T18:42:07.043Z"
   },
   {
    "duration": 8,
    "start_time": "2022-11-08T18:42:23.314Z"
   },
   {
    "duration": 14,
    "start_time": "2022-11-08T18:42:28.974Z"
   },
   {
    "duration": 177,
    "start_time": "2022-11-08T18:42:29.672Z"
   },
   {
    "duration": 15,
    "start_time": "2022-11-08T18:42:39.149Z"
   },
   {
    "duration": 176,
    "start_time": "2022-11-08T18:42:40.008Z"
   },
   {
    "duration": 3,
    "start_time": "2022-11-08T18:43:40.806Z"
   },
   {
    "duration": 86,
    "start_time": "2022-11-08T18:43:40.814Z"
   },
   {
    "duration": 13,
    "start_time": "2022-11-08T18:43:40.901Z"
   },
   {
    "duration": 24,
    "start_time": "2022-11-08T18:43:40.915Z"
   },
   {
    "duration": 14,
    "start_time": "2022-11-08T18:43:40.960Z"
   },
   {
    "duration": 20,
    "start_time": "2022-11-08T18:43:40.976Z"
   },
   {
    "duration": 9,
    "start_time": "2022-11-08T18:43:40.998Z"
   },
   {
    "duration": 6,
    "start_time": "2022-11-08T18:43:41.009Z"
   },
   {
    "duration": 7,
    "start_time": "2022-11-08T18:43:41.016Z"
   },
   {
    "duration": 6,
    "start_time": "2022-11-08T18:43:41.024Z"
   },
   {
    "duration": 55,
    "start_time": "2022-11-08T18:43:41.031Z"
   },
   {
    "duration": 9,
    "start_time": "2022-11-08T18:43:41.087Z"
   },
   {
    "duration": 4,
    "start_time": "2022-11-08T18:43:41.098Z"
   },
   {
    "duration": 18,
    "start_time": "2022-11-08T18:43:41.103Z"
   },
   {
    "duration": 14,
    "start_time": "2022-11-08T18:43:41.124Z"
   },
   {
    "duration": 47,
    "start_time": "2022-11-08T18:43:41.139Z"
   },
   {
    "duration": 7,
    "start_time": "2022-11-08T18:43:41.187Z"
   },
   {
    "duration": 9,
    "start_time": "2022-11-08T18:43:41.195Z"
   },
   {
    "duration": 12,
    "start_time": "2022-11-08T18:43:41.205Z"
   },
   {
    "duration": 44,
    "start_time": "2022-11-08T18:43:41.218Z"
   },
   {
    "duration": 23,
    "start_time": "2022-11-08T18:43:41.263Z"
   },
   {
    "duration": 11,
    "start_time": "2022-11-08T18:43:41.287Z"
   },
   {
    "duration": 6,
    "start_time": "2022-11-08T18:43:41.299Z"
   },
   {
    "duration": 6,
    "start_time": "2022-11-08T18:43:41.307Z"
   },
   {
    "duration": 12,
    "start_time": "2022-11-08T18:43:41.314Z"
   },
   {
    "duration": 8,
    "start_time": "2022-11-08T18:43:41.327Z"
   },
   {
    "duration": 6,
    "start_time": "2022-11-08T18:43:41.336Z"
   },
   {
    "duration": 13,
    "start_time": "2022-11-08T18:43:41.343Z"
   },
   {
    "duration": 7,
    "start_time": "2022-11-08T18:43:41.357Z"
   },
   {
    "duration": 17,
    "start_time": "2022-11-08T18:43:41.365Z"
   },
   {
    "duration": 4,
    "start_time": "2022-11-08T18:43:41.383Z"
   },
   {
    "duration": 6,
    "start_time": "2022-11-08T18:43:41.388Z"
   },
   {
    "duration": 7,
    "start_time": "2022-11-08T18:43:41.395Z"
   },
   {
    "duration": 5,
    "start_time": "2022-11-08T18:43:41.403Z"
   },
   {
    "duration": 5,
    "start_time": "2022-11-08T18:43:41.409Z"
   },
   {
    "duration": 6,
    "start_time": "2022-11-08T18:43:41.415Z"
   },
   {
    "duration": 40,
    "start_time": "2022-11-08T18:43:41.422Z"
   },
   {
    "duration": 170,
    "start_time": "2022-11-08T18:43:41.463Z"
   },
   {
    "duration": 116,
    "start_time": "2022-11-08T18:43:41.634Z"
   },
   {
    "duration": 16,
    "start_time": "2022-11-08T18:43:41.751Z"
   },
   {
    "duration": 212,
    "start_time": "2022-11-08T18:43:41.769Z"
   },
   {
    "duration": 166,
    "start_time": "2022-11-08T18:43:41.984Z"
   },
   {
    "duration": 8,
    "start_time": "2022-11-08T18:43:42.151Z"
   },
   {
    "duration": 200,
    "start_time": "2022-11-08T18:43:42.160Z"
   },
   {
    "duration": 117,
    "start_time": "2022-11-08T18:43:42.365Z"
   },
   {
    "duration": 7,
    "start_time": "2022-11-08T18:43:42.484Z"
   },
   {
    "duration": 225,
    "start_time": "2022-11-08T18:43:42.492Z"
   },
   {
    "duration": 102,
    "start_time": "2022-11-08T18:43:42.718Z"
   },
   {
    "duration": 4,
    "start_time": "2022-11-08T18:43:42.822Z"
   },
   {
    "duration": 20,
    "start_time": "2022-11-08T18:43:42.827Z"
   },
   {
    "duration": 32,
    "start_time": "2022-11-08T18:43:42.849Z"
   },
   {
    "duration": 11,
    "start_time": "2022-11-08T18:43:45.401Z"
   },
   {
    "duration": 181,
    "start_time": "2022-11-08T18:43:46.050Z"
   },
   {
    "duration": 21,
    "start_time": "2022-11-08T18:44:01.978Z"
   },
   {
    "duration": 199,
    "start_time": "2022-11-08T18:44:19.581Z"
   },
   {
    "duration": 188,
    "start_time": "2022-11-08T18:44:27.525Z"
   },
   {
    "duration": 87,
    "start_time": "2022-11-08T18:47:05.631Z"
   },
   {
    "duration": 88,
    "start_time": "2022-11-08T18:47:11.462Z"
   },
   {
    "duration": 92,
    "start_time": "2022-11-08T18:47:18.638Z"
   },
   {
    "duration": 90,
    "start_time": "2022-11-08T18:47:25.509Z"
   },
   {
    "duration": 185,
    "start_time": "2022-11-08T18:47:38.154Z"
   },
   {
    "duration": 9,
    "start_time": "2022-11-08T19:04:55.038Z"
   },
   {
    "duration": 4,
    "start_time": "2022-11-08T19:04:59.177Z"
   },
   {
    "duration": 88,
    "start_time": "2022-11-08T19:04:59.183Z"
   },
   {
    "duration": 22,
    "start_time": "2022-11-08T19:04:59.273Z"
   },
   {
    "duration": 27,
    "start_time": "2022-11-08T19:04:59.297Z"
   },
   {
    "duration": 7,
    "start_time": "2022-11-08T19:04:59.325Z"
   },
   {
    "duration": 18,
    "start_time": "2022-11-08T19:04:59.334Z"
   },
   {
    "duration": 41,
    "start_time": "2022-11-08T19:04:59.356Z"
   },
   {
    "duration": 7,
    "start_time": "2022-11-08T19:04:59.398Z"
   },
   {
    "duration": 7,
    "start_time": "2022-11-08T19:04:59.407Z"
   },
   {
    "duration": 8,
    "start_time": "2022-11-08T19:04:59.415Z"
   },
   {
    "duration": 60,
    "start_time": "2022-11-08T19:04:59.424Z"
   },
   {
    "duration": 16,
    "start_time": "2022-11-08T19:04:59.485Z"
   },
   {
    "duration": 8,
    "start_time": "2022-11-08T19:04:59.508Z"
   },
   {
    "duration": 22,
    "start_time": "2022-11-08T19:04:59.517Z"
   },
   {
    "duration": 26,
    "start_time": "2022-11-08T19:04:59.540Z"
   },
   {
    "duration": 37,
    "start_time": "2022-11-08T19:04:59.567Z"
   },
   {
    "duration": 8,
    "start_time": "2022-11-08T19:04:59.606Z"
   },
   {
    "duration": 11,
    "start_time": "2022-11-08T19:04:59.616Z"
   },
   {
    "duration": 35,
    "start_time": "2022-11-08T19:04:59.628Z"
   },
   {
    "duration": 19,
    "start_time": "2022-11-08T19:04:59.665Z"
   },
   {
    "duration": 31,
    "start_time": "2022-11-08T19:04:59.687Z"
   },
   {
    "duration": 6,
    "start_time": "2022-11-08T19:04:59.720Z"
   },
   {
    "duration": 4,
    "start_time": "2022-11-08T19:04:59.728Z"
   },
   {
    "duration": 7,
    "start_time": "2022-11-08T19:04:59.736Z"
   },
   {
    "duration": 51,
    "start_time": "2022-11-08T19:04:59.745Z"
   },
   {
    "duration": 8,
    "start_time": "2022-11-08T19:04:59.798Z"
   },
   {
    "duration": 10,
    "start_time": "2022-11-08T19:04:59.808Z"
   },
   {
    "duration": 12,
    "start_time": "2022-11-08T19:04:59.820Z"
   },
   {
    "duration": 6,
    "start_time": "2022-11-08T19:04:59.834Z"
   },
   {
    "duration": 6,
    "start_time": "2022-11-08T19:04:59.841Z"
   },
   {
    "duration": 6,
    "start_time": "2022-11-08T19:04:59.848Z"
   },
   {
    "duration": 38,
    "start_time": "2022-11-08T19:04:59.857Z"
   },
   {
    "duration": 7,
    "start_time": "2022-11-08T19:04:59.897Z"
   },
   {
    "duration": 10,
    "start_time": "2022-11-08T19:04:59.906Z"
   },
   {
    "duration": 4,
    "start_time": "2022-11-08T19:04:59.918Z"
   },
   {
    "duration": 7,
    "start_time": "2022-11-08T19:04:59.923Z"
   },
   {
    "duration": 30,
    "start_time": "2022-11-08T19:04:59.931Z"
   },
   {
    "duration": 271,
    "start_time": "2022-11-08T19:04:59.963Z"
   },
   {
    "duration": 116,
    "start_time": "2022-11-08T19:05:00.236Z"
   },
   {
    "duration": 6,
    "start_time": "2022-11-08T19:05:00.355Z"
   },
   {
    "duration": 234,
    "start_time": "2022-11-08T19:05:00.363Z"
   },
   {
    "duration": 116,
    "start_time": "2022-11-08T19:05:00.598Z"
   },
   {
    "duration": 5,
    "start_time": "2022-11-08T19:05:00.716Z"
   },
   {
    "duration": 248,
    "start_time": "2022-11-08T19:05:00.723Z"
   },
   {
    "duration": 108,
    "start_time": "2022-11-08T19:05:00.973Z"
   },
   {
    "duration": 10,
    "start_time": "2022-11-08T19:05:01.084Z"
   },
   {
    "duration": 275,
    "start_time": "2022-11-08T19:05:01.096Z"
   },
   {
    "duration": 101,
    "start_time": "2022-11-08T19:05:01.373Z"
   },
   {
    "duration": 5,
    "start_time": "2022-11-08T19:05:01.476Z"
   },
   {
    "duration": 45,
    "start_time": "2022-11-08T19:05:01.483Z"
   },
   {
    "duration": 34,
    "start_time": "2022-11-08T19:05:01.530Z"
   },
   {
    "duration": 54,
    "start_time": "2022-11-08T19:05:01.566Z"
   },
   {
    "duration": 205,
    "start_time": "2022-11-08T19:05:01.622Z"
   },
   {
    "duration": 452,
    "start_time": "2022-11-08T19:05:01.829Z"
   },
   {
    "duration": 434,
    "start_time": "2022-11-08T19:05:02.283Z"
   },
   {
    "duration": 499,
    "start_time": "2022-11-08T19:05:02.719Z"
   },
   {
    "duration": 22,
    "start_time": "2022-11-08T19:05:03.220Z"
   },
   {
    "duration": 67,
    "start_time": "2022-11-08T19:05:03.244Z"
   },
   {
    "duration": 16,
    "start_time": "2022-11-08T19:05:03.313Z"
   },
   {
    "duration": 17,
    "start_time": "2022-11-08T19:05:03.331Z"
   },
   {
    "duration": 25,
    "start_time": "2022-11-08T19:05:03.350Z"
   },
   {
    "duration": 43,
    "start_time": "2022-11-08T19:05:03.376Z"
   },
   {
    "duration": 30,
    "start_time": "2022-11-08T19:05:03.420Z"
   },
   {
    "duration": 14,
    "start_time": "2022-11-08T19:05:03.451Z"
   },
   {
    "duration": 47,
    "start_time": "2022-11-08T19:05:03.466Z"
   },
   {
    "duration": 100,
    "start_time": "2022-11-08T19:05:03.515Z"
   },
   {
    "duration": 46,
    "start_time": "2022-11-08T19:05:03.616Z"
   },
   {
    "duration": 6,
    "start_time": "2022-11-08T19:05:09.532Z"
   },
   {
    "duration": 16,
    "start_time": "2022-11-08T19:09:23.808Z"
   },
   {
    "duration": 14,
    "start_time": "2022-11-08T19:09:44.310Z"
   },
   {
    "duration": 5,
    "start_time": "2022-11-08T19:09:45.889Z"
   },
   {
    "duration": 5,
    "start_time": "2022-11-08T19:17:23.302Z"
   },
   {
    "duration": 5,
    "start_time": "2022-11-08T19:20:00.810Z"
   },
   {
    "duration": 18,
    "start_time": "2022-11-08T19:20:22.156Z"
   },
   {
    "duration": 7,
    "start_time": "2022-11-08T19:22:09.422Z"
   },
   {
    "duration": 25,
    "start_time": "2022-11-08T19:22:13.215Z"
   },
   {
    "duration": 16,
    "start_time": "2022-11-08T19:22:14.501Z"
   },
   {
    "duration": 10,
    "start_time": "2022-11-08T19:22:15.988Z"
   },
   {
    "duration": 210,
    "start_time": "2022-11-08T19:22:17.607Z"
   },
   {
    "duration": 10,
    "start_time": "2022-11-08T19:22:24.386Z"
   },
   {
    "duration": 13,
    "start_time": "2022-11-08T19:22:27.474Z"
   },
   {
    "duration": 3,
    "start_time": "2022-11-08T19:24:56.442Z"
   },
   {
    "duration": 3,
    "start_time": "2022-11-08T19:25:00.374Z"
   },
   {
    "duration": 1122,
    "start_time": "2022-11-08T19:25:06.326Z"
   },
   {
    "duration": 17,
    "start_time": "2022-11-08T19:25:17.393Z"
   },
   {
    "duration": 4,
    "start_time": "2022-11-08T19:25:18.734Z"
   },
   {
    "duration": 5,
    "start_time": "2022-11-08T19:25:29.231Z"
   },
   {
    "duration": 19,
    "start_time": "2022-11-08T19:25:32.673Z"
   },
   {
    "duration": 13,
    "start_time": "2022-11-08T19:26:58.720Z"
   },
   {
    "duration": 10,
    "start_time": "2022-11-08T19:27:03.369Z"
   },
   {
    "duration": 6,
    "start_time": "2022-11-08T19:47:42.296Z"
   },
   {
    "duration": 6,
    "start_time": "2022-11-08T19:48:48.301Z"
   },
   {
    "duration": 7,
    "start_time": "2022-11-08T19:53:01.879Z"
   },
   {
    "duration": 4,
    "start_time": "2022-11-08T19:53:44.466Z"
   },
   {
    "duration": 86,
    "start_time": "2022-11-08T19:53:45.613Z"
   },
   {
    "duration": 13,
    "start_time": "2022-11-08T19:53:45.701Z"
   },
   {
    "duration": 25,
    "start_time": "2022-11-08T19:53:45.716Z"
   },
   {
    "duration": 20,
    "start_time": "2022-11-08T19:53:45.742Z"
   },
   {
    "duration": 12,
    "start_time": "2022-11-08T19:53:45.764Z"
   },
   {
    "duration": 19,
    "start_time": "2022-11-08T19:53:45.778Z"
   },
   {
    "duration": 16,
    "start_time": "2022-11-08T19:53:45.798Z"
   },
   {
    "duration": 4,
    "start_time": "2022-11-08T19:53:46.312Z"
   },
   {
    "duration": 4,
    "start_time": "2022-11-08T19:53:47.142Z"
   },
   {
    "duration": 44,
    "start_time": "2022-11-08T19:53:47.688Z"
   },
   {
    "duration": 10,
    "start_time": "2022-11-08T19:53:47.912Z"
   },
   {
    "duration": 5,
    "start_time": "2022-11-08T19:53:48.150Z"
   },
   {
    "duration": 16,
    "start_time": "2022-11-08T19:53:48.666Z"
   },
   {
    "duration": 13,
    "start_time": "2022-11-08T19:53:49.031Z"
   },
   {
    "duration": 24,
    "start_time": "2022-11-08T19:53:49.376Z"
   },
   {
    "duration": 7,
    "start_time": "2022-11-08T19:53:49.714Z"
   },
   {
    "duration": 9,
    "start_time": "2022-11-08T19:53:50.270Z"
   },
   {
    "duration": 11,
    "start_time": "2022-11-08T19:53:50.738Z"
   },
   {
    "duration": 13,
    "start_time": "2022-11-08T19:53:51.084Z"
   },
   {
    "duration": 15,
    "start_time": "2022-11-08T19:53:51.455Z"
   },
   {
    "duration": 6,
    "start_time": "2022-11-08T19:53:51.775Z"
   },
   {
    "duration": 5,
    "start_time": "2022-11-08T19:53:51.972Z"
   },
   {
    "duration": 15,
    "start_time": "2022-11-08T19:53:52.152Z"
   },
   {
    "duration": 6,
    "start_time": "2022-11-08T19:53:52.360Z"
   },
   {
    "duration": 7,
    "start_time": "2022-11-08T19:53:52.546Z"
   },
   {
    "duration": 6,
    "start_time": "2022-11-08T19:53:52.720Z"
   },
   {
    "duration": 6,
    "start_time": "2022-11-08T19:53:53.110Z"
   },
   {
    "duration": 6,
    "start_time": "2022-11-08T19:53:53.340Z"
   },
   {
    "duration": 7,
    "start_time": "2022-11-08T19:53:53.535Z"
   },
   {
    "duration": 4,
    "start_time": "2022-11-08T19:53:53.709Z"
   },
   {
    "duration": 4,
    "start_time": "2022-11-08T19:53:53.934Z"
   },
   {
    "duration": 4,
    "start_time": "2022-11-08T19:53:54.168Z"
   },
   {
    "duration": 4,
    "start_time": "2022-11-08T19:53:54.427Z"
   },
   {
    "duration": 3,
    "start_time": "2022-11-08T19:53:55.605Z"
   },
   {
    "duration": 3,
    "start_time": "2022-11-08T19:53:55.868Z"
   },
   {
    "duration": 24,
    "start_time": "2022-11-08T19:53:56.081Z"
   },
   {
    "duration": 162,
    "start_time": "2022-11-08T19:53:56.641Z"
   },
   {
    "duration": 154,
    "start_time": "2022-11-08T19:53:56.825Z"
   },
   {
    "duration": 10,
    "start_time": "2022-11-08T19:53:57.059Z"
   },
   {
    "duration": 181,
    "start_time": "2022-11-08T19:53:57.431Z"
   },
   {
    "duration": 99,
    "start_time": "2022-11-08T19:53:57.651Z"
   },
   {
    "duration": 4,
    "start_time": "2022-11-08T19:53:58.222Z"
   },
   {
    "duration": 168,
    "start_time": "2022-11-08T19:53:58.630Z"
   },
   {
    "duration": 87,
    "start_time": "2022-11-08T19:53:58.829Z"
   },
   {
    "duration": 4,
    "start_time": "2022-11-08T19:53:59.040Z"
   },
   {
    "duration": 180,
    "start_time": "2022-11-08T19:53:59.688Z"
   },
   {
    "duration": 83,
    "start_time": "2022-11-08T19:53:59.910Z"
   },
   {
    "duration": 5,
    "start_time": "2022-11-08T19:54:00.467Z"
   },
   {
    "duration": 17,
    "start_time": "2022-11-08T19:54:00.870Z"
   },
   {
    "duration": 29,
    "start_time": "2022-11-08T19:54:01.068Z"
   },
   {
    "duration": 20,
    "start_time": "2022-11-08T19:54:01.503Z"
   },
   {
    "duration": 174,
    "start_time": "2022-11-08T19:54:01.752Z"
   },
   {
    "duration": 413,
    "start_time": "2022-11-08T19:54:02.965Z"
   },
   {
    "duration": 344,
    "start_time": "2022-11-08T19:54:03.380Z"
   },
   {
    "duration": 396,
    "start_time": "2022-11-08T19:54:04.309Z"
   },
   {
    "duration": 22,
    "start_time": "2022-11-08T19:54:04.909Z"
   },
   {
    "duration": 14,
    "start_time": "2022-11-08T19:54:05.794Z"
   },
   {
    "duration": 9,
    "start_time": "2022-11-08T19:54:06.365Z"
   },
   {
    "duration": 10,
    "start_time": "2022-11-08T19:54:06.630Z"
   },
   {
    "duration": 13,
    "start_time": "2022-11-08T19:54:07.169Z"
   },
   {
    "duration": 16,
    "start_time": "2022-11-08T19:54:08.262Z"
   },
   {
    "duration": 24,
    "start_time": "2022-11-08T19:54:08.603Z"
   },
   {
    "duration": 17,
    "start_time": "2022-11-08T19:54:09.047Z"
   },
   {
    "duration": 13,
    "start_time": "2022-11-08T19:54:09.253Z"
   },
   {
    "duration": 60,
    "start_time": "2022-11-08T19:54:09.593Z"
   },
   {
    "duration": 14,
    "start_time": "2022-11-08T19:54:26.983Z"
   },
   {
    "duration": 4,
    "start_time": "2022-11-08T19:54:28.040Z"
   },
   {
    "duration": 13,
    "start_time": "2022-11-08T19:54:29.141Z"
   },
   {
    "duration": 7,
    "start_time": "2022-11-08T19:54:32.121Z"
   },
   {
    "duration": 30,
    "start_time": "2022-11-08T19:54:33.316Z"
   },
   {
    "duration": 18,
    "start_time": "2022-11-08T19:54:34.565Z"
   },
   {
    "duration": 20,
    "start_time": "2022-11-08T19:54:35.454Z"
   },
   {
    "duration": 175,
    "start_time": "2022-11-08T19:54:35.813Z"
   },
   {
    "duration": 11,
    "start_time": "2022-11-08T19:54:36.565Z"
   },
   {
    "duration": 9,
    "start_time": "2022-11-08T19:54:37.080Z"
   },
   {
    "duration": 8,
    "start_time": "2022-11-08T19:54:37.465Z"
   },
   {
    "duration": 14,
    "start_time": "2022-11-08T19:54:37.671Z"
   },
   {
    "duration": 6,
    "start_time": "2022-11-08T19:54:46.483Z"
   },
   {
    "duration": 4,
    "start_time": "2022-11-08T20:05:45.969Z"
   },
   {
    "duration": 5,
    "start_time": "2022-11-08T20:05:54.812Z"
   },
   {
    "duration": 5,
    "start_time": "2022-11-08T20:06:03.795Z"
   },
   {
    "duration": 182,
    "start_time": "2022-11-08T20:06:27.245Z"
   },
   {
    "duration": 10,
    "start_time": "2022-11-08T20:07:21.197Z"
   },
   {
    "duration": 8,
    "start_time": "2022-11-08T20:07:28.223Z"
   },
   {
    "duration": 246,
    "start_time": "2022-11-08T20:13:27.202Z"
   },
   {
    "duration": 236,
    "start_time": "2022-11-08T20:13:52.761Z"
   },
   {
    "duration": 5,
    "start_time": "2022-11-08T20:22:07.007Z"
   },
   {
    "duration": 79,
    "start_time": "2022-11-08T20:25:19.081Z"
   },
   {
    "duration": 3,
    "start_time": "2022-11-08T20:25:25.925Z"
   },
   {
    "duration": 118,
    "start_time": "2022-11-08T20:25:25.930Z"
   },
   {
    "duration": 19,
    "start_time": "2022-11-08T20:25:26.050Z"
   },
   {
    "duration": 36,
    "start_time": "2022-11-08T20:25:26.071Z"
   },
   {
    "duration": 8,
    "start_time": "2022-11-08T20:25:26.109Z"
   },
   {
    "duration": 9,
    "start_time": "2022-11-08T20:25:26.119Z"
   },
   {
    "duration": 27,
    "start_time": "2022-11-08T20:25:26.129Z"
   },
   {
    "duration": 3,
    "start_time": "2022-11-08T20:25:26.157Z"
   },
   {
    "duration": 6,
    "start_time": "2022-11-08T20:25:26.162Z"
   },
   {
    "duration": 12,
    "start_time": "2022-11-08T20:25:26.170Z"
   },
   {
    "duration": 42,
    "start_time": "2022-11-08T20:25:26.184Z"
   },
   {
    "duration": 28,
    "start_time": "2022-11-08T20:25:26.227Z"
   },
   {
    "duration": 4,
    "start_time": "2022-11-08T20:25:26.256Z"
   },
   {
    "duration": 17,
    "start_time": "2022-11-08T20:25:26.262Z"
   },
   {
    "duration": 13,
    "start_time": "2022-11-08T20:25:26.280Z"
   },
   {
    "duration": 23,
    "start_time": "2022-11-08T20:25:26.295Z"
   },
   {
    "duration": 38,
    "start_time": "2022-11-08T20:25:26.319Z"
   },
   {
    "duration": 8,
    "start_time": "2022-11-08T20:25:26.358Z"
   },
   {
    "duration": 10,
    "start_time": "2022-11-08T20:25:26.368Z"
   },
   {
    "duration": 13,
    "start_time": "2022-11-08T20:25:26.379Z"
   },
   {
    "duration": 11,
    "start_time": "2022-11-08T20:25:26.393Z"
   },
   {
    "duration": 6,
    "start_time": "2022-11-08T20:25:26.405Z"
   },
   {
    "duration": 5,
    "start_time": "2022-11-08T20:25:26.412Z"
   },
   {
    "duration": 38,
    "start_time": "2022-11-08T20:25:26.419Z"
   },
   {
    "duration": 5,
    "start_time": "2022-11-08T20:25:26.458Z"
   },
   {
    "duration": 9,
    "start_time": "2022-11-08T20:25:26.465Z"
   },
   {
    "duration": 7,
    "start_time": "2022-11-08T20:25:26.475Z"
   },
   {
    "duration": 9,
    "start_time": "2022-11-08T20:25:26.484Z"
   },
   {
    "duration": 7,
    "start_time": "2022-11-08T20:25:26.498Z"
   },
   {
    "duration": 10,
    "start_time": "2022-11-08T20:25:26.506Z"
   },
   {
    "duration": 7,
    "start_time": "2022-11-08T20:25:26.517Z"
   },
   {
    "duration": 7,
    "start_time": "2022-11-08T20:25:26.525Z"
   },
   {
    "duration": 22,
    "start_time": "2022-11-08T20:25:26.534Z"
   },
   {
    "duration": 6,
    "start_time": "2022-11-08T20:25:26.558Z"
   },
   {
    "duration": 6,
    "start_time": "2022-11-08T20:25:26.565Z"
   },
   {
    "duration": 7,
    "start_time": "2022-11-08T20:25:26.572Z"
   },
   {
    "duration": 28,
    "start_time": "2022-11-08T20:25:26.580Z"
   },
   {
    "duration": 183,
    "start_time": "2022-11-08T20:25:26.610Z"
   },
   {
    "duration": 105,
    "start_time": "2022-11-08T20:25:26.794Z"
   },
   {
    "duration": 5,
    "start_time": "2022-11-08T20:25:26.900Z"
   },
   {
    "duration": 187,
    "start_time": "2022-11-08T20:25:26.906Z"
   },
   {
    "duration": 101,
    "start_time": "2022-11-08T20:25:27.094Z"
   },
   {
    "duration": 4,
    "start_time": "2022-11-08T20:25:27.197Z"
   },
   {
    "duration": 236,
    "start_time": "2022-11-08T20:25:27.202Z"
   },
   {
    "duration": 91,
    "start_time": "2022-11-08T20:25:27.439Z"
   },
   {
    "duration": 4,
    "start_time": "2022-11-08T20:25:27.532Z"
   },
   {
    "duration": 198,
    "start_time": "2022-11-08T20:25:27.537Z"
   },
   {
    "duration": 87,
    "start_time": "2022-11-08T20:25:27.737Z"
   },
   {
    "duration": 5,
    "start_time": "2022-11-08T20:25:27.825Z"
   },
   {
    "duration": 32,
    "start_time": "2022-11-08T20:25:27.831Z"
   },
   {
    "duration": 23,
    "start_time": "2022-11-08T20:25:27.865Z"
   },
   {
    "duration": 18,
    "start_time": "2022-11-08T20:25:27.890Z"
   },
   {
    "duration": 186,
    "start_time": "2022-11-08T20:25:27.909Z"
   },
   {
    "duration": 318,
    "start_time": "2022-11-08T20:25:28.096Z"
   },
   {
    "duration": 334,
    "start_time": "2022-11-08T20:25:28.416Z"
   },
   {
    "duration": 445,
    "start_time": "2022-11-08T20:25:28.754Z"
   },
   {
    "duration": 22,
    "start_time": "2022-11-08T20:25:29.200Z"
   },
   {
    "duration": 13,
    "start_time": "2022-11-08T20:25:29.223Z"
   },
   {
    "duration": 10,
    "start_time": "2022-11-08T20:25:29.255Z"
   },
   {
    "duration": 13,
    "start_time": "2022-11-08T20:25:29.266Z"
   },
   {
    "duration": 18,
    "start_time": "2022-11-08T20:25:29.280Z"
   },
   {
    "duration": 17,
    "start_time": "2022-11-08T20:25:29.299Z"
   },
   {
    "duration": 28,
    "start_time": "2022-11-08T20:25:29.317Z"
   },
   {
    "duration": 18,
    "start_time": "2022-11-08T20:25:29.346Z"
   },
   {
    "duration": 11,
    "start_time": "2022-11-08T20:25:29.365Z"
   },
   {
    "duration": 78,
    "start_time": "2022-11-08T20:25:29.377Z"
   },
   {
    "duration": 16,
    "start_time": "2022-11-08T20:25:29.457Z"
   },
   {
    "duration": 4,
    "start_time": "2022-11-08T20:25:29.475Z"
   },
   {
    "duration": 14,
    "start_time": "2022-11-08T20:25:29.481Z"
   },
   {
    "duration": 7,
    "start_time": "2022-11-08T20:25:29.496Z"
   },
   {
    "duration": 51,
    "start_time": "2022-11-08T20:25:29.504Z"
   },
   {
    "duration": 16,
    "start_time": "2022-11-08T20:25:29.557Z"
   },
   {
    "duration": 10,
    "start_time": "2022-11-08T20:25:29.575Z"
   },
   {
    "duration": 202,
    "start_time": "2022-11-08T20:25:29.587Z"
   },
   {
    "duration": 10,
    "start_time": "2022-11-08T20:25:29.791Z"
   },
   {
    "duration": 11,
    "start_time": "2022-11-08T20:25:29.802Z"
   },
   {
    "duration": 8,
    "start_time": "2022-11-08T20:25:29.814Z"
   },
   {
    "duration": 6,
    "start_time": "2022-11-08T20:25:29.823Z"
   },
   {
    "duration": 9,
    "start_time": "2022-11-08T20:25:29.830Z"
   },
   {
    "duration": 205,
    "start_time": "2022-11-08T20:25:29.855Z"
   },
   {
    "duration": 9,
    "start_time": "2022-11-08T20:25:30.061Z"
   },
   {
    "duration": 25,
    "start_time": "2022-11-08T20:25:30.072Z"
   },
   {
    "duration": 6,
    "start_time": "2022-11-08T20:25:34.369Z"
   },
   {
    "duration": 80,
    "start_time": "2022-11-08T20:25:34.851Z"
   },
   {
    "duration": 1119,
    "start_time": "2022-11-08T20:27:48.701Z"
   },
   {
    "duration": 83,
    "start_time": "2022-11-08T20:27:58.902Z"
   },
   {
    "duration": 1151,
    "start_time": "2022-11-08T20:28:02.244Z"
   },
   {
    "duration": 230,
    "start_time": "2022-11-08T20:28:03.402Z"
   },
   {
    "duration": 4,
    "start_time": "2022-11-08T20:28:24.270Z"
   },
   {
    "duration": 68,
    "start_time": "2022-11-08T20:28:24.276Z"
   },
   {
    "duration": 14,
    "start_time": "2022-11-08T20:28:24.345Z"
   },
   {
    "duration": 24,
    "start_time": "2022-11-08T20:28:24.360Z"
   },
   {
    "duration": 85,
    "start_time": "2022-11-08T20:28:24.386Z"
   },
   {
    "duration": 8,
    "start_time": "2022-11-08T20:28:24.473Z"
   },
   {
    "duration": 5,
    "start_time": "2022-11-08T20:28:24.482Z"
   },
   {
    "duration": 10,
    "start_time": "2022-11-08T20:28:24.488Z"
   },
   {
    "duration": 6,
    "start_time": "2022-11-08T20:28:24.500Z"
   },
   {
    "duration": 8,
    "start_time": "2022-11-08T20:28:24.507Z"
   },
   {
    "duration": 65,
    "start_time": "2022-11-08T20:28:24.516Z"
   },
   {
    "duration": 11,
    "start_time": "2022-11-08T20:28:24.582Z"
   },
   {
    "duration": 5,
    "start_time": "2022-11-08T20:28:24.594Z"
   },
   {
    "duration": 19,
    "start_time": "2022-11-08T20:28:24.601Z"
   },
   {
    "duration": 12,
    "start_time": "2022-11-08T20:28:24.621Z"
   },
   {
    "duration": 42,
    "start_time": "2022-11-08T20:28:24.634Z"
   },
   {
    "duration": 7,
    "start_time": "2022-11-08T20:28:24.678Z"
   },
   {
    "duration": 8,
    "start_time": "2022-11-08T20:28:24.686Z"
   },
   {
    "duration": 10,
    "start_time": "2022-11-08T20:28:24.695Z"
   },
   {
    "duration": 12,
    "start_time": "2022-11-08T20:28:24.707Z"
   },
   {
    "duration": 43,
    "start_time": "2022-11-08T20:28:24.721Z"
   },
   {
    "duration": 4,
    "start_time": "2022-11-08T20:28:24.766Z"
   },
   {
    "duration": 3,
    "start_time": "2022-11-08T20:28:24.772Z"
   },
   {
    "duration": 6,
    "start_time": "2022-11-08T20:28:24.776Z"
   },
   {
    "duration": 6,
    "start_time": "2022-11-08T20:28:24.784Z"
   },
   {
    "duration": 5,
    "start_time": "2022-11-08T20:28:24.791Z"
   },
   {
    "duration": 9,
    "start_time": "2022-11-08T20:28:24.798Z"
   },
   {
    "duration": 14,
    "start_time": "2022-11-08T20:28:24.808Z"
   },
   {
    "duration": 32,
    "start_time": "2022-11-08T20:28:24.824Z"
   },
   {
    "duration": 4,
    "start_time": "2022-11-08T20:28:24.858Z"
   },
   {
    "duration": 8,
    "start_time": "2022-11-08T20:28:24.864Z"
   },
   {
    "duration": 4,
    "start_time": "2022-11-08T20:28:24.874Z"
   },
   {
    "duration": 7,
    "start_time": "2022-11-08T20:28:24.880Z"
   },
   {
    "duration": 6,
    "start_time": "2022-11-08T20:28:24.889Z"
   },
   {
    "duration": 3,
    "start_time": "2022-11-08T20:28:24.897Z"
   },
   {
    "duration": 9,
    "start_time": "2022-11-08T20:28:24.901Z"
   },
   {
    "duration": 45,
    "start_time": "2022-11-08T20:28:24.911Z"
   },
   {
    "duration": 171,
    "start_time": "2022-11-08T20:28:24.957Z"
   },
   {
    "duration": 103,
    "start_time": "2022-11-08T20:28:25.130Z"
   },
   {
    "duration": 4,
    "start_time": "2022-11-08T20:28:25.234Z"
   },
   {
    "duration": 181,
    "start_time": "2022-11-08T20:28:25.242Z"
   },
   {
    "duration": 110,
    "start_time": "2022-11-08T20:28:25.425Z"
   },
   {
    "duration": 6,
    "start_time": "2022-11-08T20:28:25.536Z"
   },
   {
    "duration": 187,
    "start_time": "2022-11-08T20:28:25.543Z"
   },
   {
    "duration": 98,
    "start_time": "2022-11-08T20:28:25.732Z"
   },
   {
    "duration": 5,
    "start_time": "2022-11-08T20:28:25.831Z"
   },
   {
    "duration": 177,
    "start_time": "2022-11-08T20:28:25.837Z"
   },
   {
    "duration": 85,
    "start_time": "2022-11-08T20:28:26.015Z"
   },
   {
    "duration": 4,
    "start_time": "2022-11-08T20:28:26.102Z"
   },
   {
    "duration": 15,
    "start_time": "2022-11-08T20:28:26.107Z"
   },
   {
    "duration": 42,
    "start_time": "2022-11-08T20:28:26.123Z"
   },
   {
    "duration": 19,
    "start_time": "2022-11-08T20:28:26.166Z"
   },
   {
    "duration": 254,
    "start_time": "2022-11-08T20:28:26.186Z"
   },
   {
    "duration": 319,
    "start_time": "2022-11-08T20:28:26.441Z"
   },
   {
    "duration": 317,
    "start_time": "2022-11-08T20:28:26.761Z"
   },
   {
    "duration": 382,
    "start_time": "2022-11-08T20:28:27.079Z"
   },
   {
    "duration": 22,
    "start_time": "2022-11-08T20:28:27.462Z"
   },
   {
    "duration": 12,
    "start_time": "2022-11-08T20:28:27.485Z"
   },
   {
    "duration": 6,
    "start_time": "2022-11-08T20:28:27.499Z"
   },
   {
    "duration": 11,
    "start_time": "2022-11-08T20:28:27.506Z"
   },
   {
    "duration": 37,
    "start_time": "2022-11-08T20:28:27.519Z"
   },
   {
    "duration": 13,
    "start_time": "2022-11-08T20:28:27.557Z"
   },
   {
    "duration": 26,
    "start_time": "2022-11-08T20:28:27.572Z"
   },
   {
    "duration": 12,
    "start_time": "2022-11-08T20:28:27.600Z"
   },
   {
    "duration": 9,
    "start_time": "2022-11-08T20:28:27.613Z"
   },
   {
    "duration": 95,
    "start_time": "2022-11-08T20:28:27.624Z"
   },
   {
    "duration": 15,
    "start_time": "2022-11-08T20:28:27.721Z"
   },
   {
    "duration": 18,
    "start_time": "2022-11-08T20:28:27.737Z"
   },
   {
    "duration": 12,
    "start_time": "2022-11-08T20:28:27.757Z"
   },
   {
    "duration": 10,
    "start_time": "2022-11-08T20:28:27.771Z"
   },
   {
    "duration": 26,
    "start_time": "2022-11-08T20:28:27.783Z"
   },
   {
    "duration": 15,
    "start_time": "2022-11-08T20:28:27.811Z"
   },
   {
    "duration": 28,
    "start_time": "2022-11-08T20:28:27.828Z"
   },
   {
    "duration": 179,
    "start_time": "2022-11-08T20:28:27.857Z"
   },
   {
    "duration": 17,
    "start_time": "2022-11-08T20:28:28.038Z"
   },
   {
    "duration": 9,
    "start_time": "2022-11-08T20:28:28.056Z"
   },
   {
    "duration": 6,
    "start_time": "2022-11-08T20:28:28.067Z"
   },
   {
    "duration": 4,
    "start_time": "2022-11-08T20:28:28.075Z"
   },
   {
    "duration": 8,
    "start_time": "2022-11-08T20:28:28.081Z"
   },
   {
    "duration": 266,
    "start_time": "2022-11-08T20:28:28.091Z"
   },
   {
    "duration": 9,
    "start_time": "2022-11-08T20:28:28.358Z"
   },
   {
    "duration": 4,
    "start_time": "2022-11-08T20:28:28.369Z"
   },
   {
    "duration": 91,
    "start_time": "2022-11-08T20:28:28.375Z"
   },
   {
    "duration": 1567,
    "start_time": "2022-11-08T20:28:32.927Z"
   },
   {
    "duration": 0,
    "start_time": "2022-11-08T20:28:34.496Z"
   },
   {
    "duration": 3,
    "start_time": "2022-11-08T20:28:42.491Z"
   },
   {
    "duration": 89,
    "start_time": "2022-11-08T20:28:42.496Z"
   },
   {
    "duration": 18,
    "start_time": "2022-11-08T20:28:42.587Z"
   },
   {
    "duration": 29,
    "start_time": "2022-11-08T20:28:42.607Z"
   },
   {
    "duration": 11,
    "start_time": "2022-11-08T20:28:42.656Z"
   },
   {
    "duration": 11,
    "start_time": "2022-11-08T20:28:42.669Z"
   },
   {
    "duration": 15,
    "start_time": "2022-11-08T20:28:42.681Z"
   },
   {
    "duration": 13,
    "start_time": "2022-11-08T20:28:42.697Z"
   },
   {
    "duration": 11,
    "start_time": "2022-11-08T20:28:42.712Z"
   },
   {
    "duration": 6,
    "start_time": "2022-11-08T20:28:42.725Z"
   },
   {
    "duration": 49,
    "start_time": "2022-11-08T20:28:42.734Z"
   },
   {
    "duration": 11,
    "start_time": "2022-11-08T20:28:42.784Z"
   },
   {
    "duration": 8,
    "start_time": "2022-11-08T20:28:42.797Z"
   },
   {
    "duration": 17,
    "start_time": "2022-11-08T20:28:42.806Z"
   },
   {
    "duration": 34,
    "start_time": "2022-11-08T20:28:42.824Z"
   },
   {
    "duration": 23,
    "start_time": "2022-11-08T20:28:42.859Z"
   },
   {
    "duration": 8,
    "start_time": "2022-11-08T20:28:42.884Z"
   },
   {
    "duration": 10,
    "start_time": "2022-11-08T20:28:42.893Z"
   },
   {
    "duration": 11,
    "start_time": "2022-11-08T20:28:42.904Z"
   },
   {
    "duration": 53,
    "start_time": "2022-11-08T20:28:42.916Z"
   },
   {
    "duration": 15,
    "start_time": "2022-11-08T20:28:42.970Z"
   },
   {
    "duration": 4,
    "start_time": "2022-11-08T20:28:42.986Z"
   },
   {
    "duration": 5,
    "start_time": "2022-11-08T20:28:42.992Z"
   },
   {
    "duration": 16,
    "start_time": "2022-11-08T20:28:42.998Z"
   },
   {
    "duration": 17,
    "start_time": "2022-11-08T20:28:43.015Z"
   },
   {
    "duration": 8,
    "start_time": "2022-11-08T20:28:43.033Z"
   },
   {
    "duration": 13,
    "start_time": "2022-11-08T20:28:43.042Z"
   },
   {
    "duration": 6,
    "start_time": "2022-11-08T20:28:43.056Z"
   },
   {
    "duration": 5,
    "start_time": "2022-11-08T20:28:43.065Z"
   },
   {
    "duration": 8,
    "start_time": "2022-11-08T20:28:43.072Z"
   },
   {
    "duration": 13,
    "start_time": "2022-11-08T20:28:43.081Z"
   },
   {
    "duration": 7,
    "start_time": "2022-11-08T20:28:43.096Z"
   },
   {
    "duration": 7,
    "start_time": "2022-11-08T20:28:43.104Z"
   },
   {
    "duration": 7,
    "start_time": "2022-11-08T20:28:43.112Z"
   },
   {
    "duration": 6,
    "start_time": "2022-11-08T20:28:43.120Z"
   },
   {
    "duration": 6,
    "start_time": "2022-11-08T20:28:43.127Z"
   },
   {
    "duration": 32,
    "start_time": "2022-11-08T20:28:43.134Z"
   },
   {
    "duration": 179,
    "start_time": "2022-11-08T20:28:43.167Z"
   },
   {
    "duration": 108,
    "start_time": "2022-11-08T20:28:43.348Z"
   },
   {
    "duration": 5,
    "start_time": "2022-11-08T20:28:43.457Z"
   },
   {
    "duration": 185,
    "start_time": "2022-11-08T20:28:43.463Z"
   },
   {
    "duration": 112,
    "start_time": "2022-11-08T20:28:43.650Z"
   },
   {
    "duration": 5,
    "start_time": "2022-11-08T20:28:43.764Z"
   },
   {
    "duration": 172,
    "start_time": "2022-11-08T20:28:43.770Z"
   },
   {
    "duration": 91,
    "start_time": "2022-11-08T20:28:43.943Z"
   },
   {
    "duration": 4,
    "start_time": "2022-11-08T20:28:44.035Z"
   },
   {
    "duration": 250,
    "start_time": "2022-11-08T20:28:44.040Z"
   },
   {
    "duration": 87,
    "start_time": "2022-11-08T20:28:44.292Z"
   },
   {
    "duration": 5,
    "start_time": "2022-11-08T20:28:44.381Z"
   },
   {
    "duration": 14,
    "start_time": "2022-11-08T20:28:44.387Z"
   },
   {
    "duration": 23,
    "start_time": "2022-11-08T20:28:44.402Z"
   },
   {
    "duration": 41,
    "start_time": "2022-11-08T20:28:44.426Z"
   },
   {
    "duration": 179,
    "start_time": "2022-11-08T20:28:44.468Z"
   },
   {
    "duration": 342,
    "start_time": "2022-11-08T20:28:44.649Z"
   },
   {
    "duration": 322,
    "start_time": "2022-11-08T20:28:44.992Z"
   },
   {
    "duration": 384,
    "start_time": "2022-11-08T20:28:45.316Z"
   },
   {
    "duration": 23,
    "start_time": "2022-11-08T20:28:45.701Z"
   },
   {
    "duration": 13,
    "start_time": "2022-11-08T20:28:45.726Z"
   },
   {
    "duration": 20,
    "start_time": "2022-11-08T20:28:45.740Z"
   },
   {
    "duration": 14,
    "start_time": "2022-11-08T20:28:45.761Z"
   },
   {
    "duration": 23,
    "start_time": "2022-11-08T20:28:45.777Z"
   },
   {
    "duration": 13,
    "start_time": "2022-11-08T20:28:45.801Z"
   },
   {
    "duration": 29,
    "start_time": "2022-11-08T20:28:45.815Z"
   },
   {
    "duration": 18,
    "start_time": "2022-11-08T20:28:45.845Z"
   },
   {
    "duration": 9,
    "start_time": "2022-11-08T20:28:45.865Z"
   },
   {
    "duration": 134,
    "start_time": "2022-11-08T20:28:45.875Z"
   },
   {
    "duration": 14,
    "start_time": "2022-11-08T20:28:46.010Z"
   },
   {
    "duration": 3,
    "start_time": "2022-11-08T20:28:46.026Z"
   },
   {
    "duration": 32,
    "start_time": "2022-11-08T20:28:46.031Z"
   },
   {
    "duration": 12,
    "start_time": "2022-11-08T20:28:46.064Z"
   },
   {
    "duration": 28,
    "start_time": "2022-11-08T20:28:46.077Z"
   },
   {
    "duration": 18,
    "start_time": "2022-11-08T20:28:46.106Z"
   },
   {
    "duration": 30,
    "start_time": "2022-11-08T20:28:46.126Z"
   },
   {
    "duration": 184,
    "start_time": "2022-11-08T20:28:46.158Z"
   },
   {
    "duration": 17,
    "start_time": "2022-11-08T20:28:46.344Z"
   },
   {
    "duration": 11,
    "start_time": "2022-11-08T20:28:46.363Z"
   },
   {
    "duration": 6,
    "start_time": "2022-11-08T20:28:46.376Z"
   },
   {
    "duration": 6,
    "start_time": "2022-11-08T20:28:46.384Z"
   },
   {
    "duration": 6,
    "start_time": "2022-11-08T20:28:46.391Z"
   },
   {
    "duration": 224,
    "start_time": "2022-11-08T20:28:46.398Z"
   },
   {
    "duration": 7,
    "start_time": "2022-11-08T20:28:46.624Z"
   },
   {
    "duration": 12,
    "start_time": "2022-11-08T20:28:46.632Z"
   },
   {
    "duration": 5,
    "start_time": "2022-11-08T20:29:03.198Z"
   },
   {
    "duration": 72,
    "start_time": "2022-11-08T20:29:03.735Z"
   },
   {
    "duration": 197,
    "start_time": "2022-11-08T20:29:05.285Z"
   },
   {
    "duration": 3804,
    "start_time": "2022-11-08T20:31:14.083Z"
   },
   {
    "duration": 6889,
    "start_time": "2022-11-08T20:33:15.278Z"
   },
   {
    "duration": 6990,
    "start_time": "2022-11-08T20:34:40.367Z"
   },
   {
    "duration": 7229,
    "start_time": "2022-11-08T20:35:51.794Z"
   },
   {
    "duration": 51,
    "start_time": "2022-11-08T20:36:56.248Z"
   },
   {
    "duration": 11,
    "start_time": "2022-11-08T20:37:00.261Z"
   },
   {
    "duration": 165,
    "start_time": "2022-11-08T20:37:06.136Z"
   },
   {
    "duration": 11,
    "start_time": "2022-11-08T20:37:15.994Z"
   },
   {
    "duration": 12,
    "start_time": "2022-11-08T20:37:19.234Z"
   },
   {
    "duration": 32,
    "start_time": "2022-11-08T20:42:58.172Z"
   },
   {
    "duration": 8,
    "start_time": "2022-11-08T20:43:16.109Z"
   },
   {
    "duration": 61,
    "start_time": "2022-11-08T20:43:29.458Z"
   },
   {
    "duration": 6,
    "start_time": "2022-11-08T20:43:56.214Z"
   },
   {
    "duration": 5,
    "start_time": "2022-11-08T20:43:56.640Z"
   },
   {
    "duration": 4,
    "start_time": "2022-11-08T20:43:57.601Z"
   },
   {
    "duration": 199,
    "start_time": "2022-11-08T20:43:58.966Z"
   },
   {
    "duration": 196,
    "start_time": "2022-11-08T20:44:08.570Z"
   },
   {
    "duration": 9,
    "start_time": "2022-11-08T20:44:32.648Z"
   },
   {
    "duration": 112,
    "start_time": "2022-11-08T20:50:42.890Z"
   },
   {
    "duration": 3,
    "start_time": "2022-11-08T20:52:44.389Z"
   },
   {
    "duration": 66,
    "start_time": "2022-11-08T20:52:44.402Z"
   },
   {
    "duration": 14,
    "start_time": "2022-11-08T20:52:44.470Z"
   },
   {
    "duration": 30,
    "start_time": "2022-11-08T20:52:44.485Z"
   },
   {
    "duration": 7,
    "start_time": "2022-11-08T20:52:44.517Z"
   },
   {
    "duration": 7,
    "start_time": "2022-11-08T20:52:44.526Z"
   },
   {
    "duration": 23,
    "start_time": "2022-11-08T20:52:44.535Z"
   },
   {
    "duration": 9,
    "start_time": "2022-11-08T20:52:44.560Z"
   },
   {
    "duration": 8,
    "start_time": "2022-11-08T20:52:44.570Z"
   },
   {
    "duration": 6,
    "start_time": "2022-11-08T20:52:44.580Z"
   },
   {
    "duration": 45,
    "start_time": "2022-11-08T20:52:44.589Z"
   },
   {
    "duration": 28,
    "start_time": "2022-11-08T20:52:44.635Z"
   },
   {
    "duration": 16,
    "start_time": "2022-11-08T20:52:44.665Z"
   },
   {
    "duration": 16,
    "start_time": "2022-11-08T20:52:44.683Z"
   },
   {
    "duration": 12,
    "start_time": "2022-11-08T20:52:44.701Z"
   },
   {
    "duration": 42,
    "start_time": "2022-11-08T20:52:44.714Z"
   },
   {
    "duration": 7,
    "start_time": "2022-11-08T20:52:44.757Z"
   },
   {
    "duration": 8,
    "start_time": "2022-11-08T20:52:44.766Z"
   },
   {
    "duration": 11,
    "start_time": "2022-11-08T20:52:44.776Z"
   },
   {
    "duration": 14,
    "start_time": "2022-11-08T20:52:44.789Z"
   },
   {
    "duration": 12,
    "start_time": "2022-11-08T20:52:44.806Z"
   },
   {
    "duration": 6,
    "start_time": "2022-11-08T20:52:44.855Z"
   },
   {
    "duration": 5,
    "start_time": "2022-11-08T20:52:44.862Z"
   },
   {
    "duration": 15,
    "start_time": "2022-11-08T20:52:44.869Z"
   },
   {
    "duration": 14,
    "start_time": "2022-11-08T20:52:44.886Z"
   },
   {
    "duration": 6,
    "start_time": "2022-11-08T20:52:44.901Z"
   },
   {
    "duration": 5,
    "start_time": "2022-11-08T20:52:44.909Z"
   },
   {
    "duration": 8,
    "start_time": "2022-11-08T20:52:44.916Z"
   },
   {
    "duration": 6,
    "start_time": "2022-11-08T20:52:44.926Z"
   },
   {
    "duration": 4,
    "start_time": "2022-11-08T20:52:44.955Z"
   },
   {
    "duration": 7,
    "start_time": "2022-11-08T20:52:44.961Z"
   },
   {
    "duration": 4,
    "start_time": "2022-11-08T20:52:44.969Z"
   },
   {
    "duration": 5,
    "start_time": "2022-11-08T20:52:44.975Z"
   },
   {
    "duration": 5,
    "start_time": "2022-11-08T20:52:44.981Z"
   },
   {
    "duration": 11,
    "start_time": "2022-11-08T20:52:44.987Z"
   },
   {
    "duration": 43,
    "start_time": "2022-11-08T20:52:44.999Z"
   },
   {
    "duration": 31,
    "start_time": "2022-11-08T20:52:45.044Z"
   },
   {
    "duration": 171,
    "start_time": "2022-11-08T20:52:45.077Z"
   },
   {
    "duration": 243,
    "start_time": "2022-11-08T20:52:45.250Z"
   },
   {
    "duration": 6,
    "start_time": "2022-11-08T20:52:45.495Z"
   },
   {
    "duration": 191,
    "start_time": "2022-11-08T20:52:45.503Z"
   },
   {
    "duration": 101,
    "start_time": "2022-11-08T20:52:45.696Z"
   },
   {
    "duration": 6,
    "start_time": "2022-11-08T20:52:45.798Z"
   },
   {
    "duration": 196,
    "start_time": "2022-11-08T20:52:45.805Z"
   },
   {
    "duration": 91,
    "start_time": "2022-11-08T20:52:46.002Z"
   },
   {
    "duration": 5,
    "start_time": "2022-11-08T20:52:46.095Z"
   },
   {
    "duration": 184,
    "start_time": "2022-11-08T20:52:46.101Z"
   },
   {
    "duration": 89,
    "start_time": "2022-11-08T20:52:46.287Z"
   },
   {
    "duration": 5,
    "start_time": "2022-11-08T20:52:46.381Z"
   },
   {
    "duration": 17,
    "start_time": "2022-11-08T20:52:46.388Z"
   },
   {
    "duration": 25,
    "start_time": "2022-11-08T20:52:46.407Z"
   },
   {
    "duration": 21,
    "start_time": "2022-11-08T20:52:46.457Z"
   },
   {
    "duration": 189,
    "start_time": "2022-11-08T20:52:46.479Z"
   },
   {
    "duration": 347,
    "start_time": "2022-11-08T20:52:46.670Z"
   },
   {
    "duration": 337,
    "start_time": "2022-11-08T20:52:47.019Z"
   },
   {
    "duration": 410,
    "start_time": "2022-11-08T20:52:47.358Z"
   },
   {
    "duration": 26,
    "start_time": "2022-11-08T20:52:47.770Z"
   },
   {
    "duration": 18,
    "start_time": "2022-11-08T20:52:47.798Z"
   },
   {
    "duration": 10,
    "start_time": "2022-11-08T20:52:47.817Z"
   },
   {
    "duration": 34,
    "start_time": "2022-11-08T20:52:47.828Z"
   },
   {
    "duration": 22,
    "start_time": "2022-11-08T20:52:47.864Z"
   },
   {
    "duration": 31,
    "start_time": "2022-11-08T20:52:47.888Z"
   },
   {
    "duration": 34,
    "start_time": "2022-11-08T20:52:47.921Z"
   },
   {
    "duration": 12,
    "start_time": "2022-11-08T20:52:47.957Z"
   },
   {
    "duration": 11,
    "start_time": "2022-11-08T20:52:47.970Z"
   },
   {
    "duration": 75,
    "start_time": "2022-11-08T20:52:47.983Z"
   },
   {
    "duration": 15,
    "start_time": "2022-11-08T20:52:48.059Z"
   },
   {
    "duration": 15,
    "start_time": "2022-11-08T20:52:48.075Z"
   },
   {
    "duration": 25,
    "start_time": "2022-11-08T20:52:48.091Z"
   },
   {
    "duration": 16,
    "start_time": "2022-11-08T20:52:48.117Z"
   },
   {
    "duration": 38,
    "start_time": "2022-11-08T20:52:48.134Z"
   },
   {
    "duration": 20,
    "start_time": "2022-11-08T20:52:48.174Z"
   },
   {
    "duration": 12,
    "start_time": "2022-11-08T20:52:48.196Z"
   },
   {
    "duration": 215,
    "start_time": "2022-11-08T20:52:48.210Z"
   },
   {
    "duration": 11,
    "start_time": "2022-11-08T20:52:48.427Z"
   },
   {
    "duration": 18,
    "start_time": "2022-11-08T20:52:48.439Z"
   },
   {
    "duration": 8,
    "start_time": "2022-11-08T20:52:48.458Z"
   },
   {
    "duration": 7,
    "start_time": "2022-11-08T20:52:48.468Z"
   },
   {
    "duration": 6,
    "start_time": "2022-11-08T20:52:48.476Z"
   },
   {
    "duration": 227,
    "start_time": "2022-11-08T20:52:48.483Z"
   },
   {
    "duration": 8,
    "start_time": "2022-11-08T20:52:48.712Z"
   },
   {
    "duration": 17,
    "start_time": "2022-11-08T20:52:48.721Z"
   },
   {
    "duration": 187,
    "start_time": "2022-11-08T20:52:48.740Z"
   },
   {
    "duration": 16,
    "start_time": "2022-11-08T20:52:48.929Z"
   },
   {
    "duration": 17,
    "start_time": "2022-11-08T20:52:48.946Z"
   },
   {
    "duration": 174,
    "start_time": "2022-11-08T20:52:48.964Z"
   },
   {
    "duration": 16,
    "start_time": "2022-11-08T20:52:49.140Z"
   },
   {
    "duration": 14,
    "start_time": "2022-11-08T20:52:49.158Z"
   },
   {
    "duration": 5,
    "start_time": "2022-11-08T20:52:49.174Z"
   },
   {
    "duration": 18,
    "start_time": "2022-11-08T20:52:49.181Z"
   },
   {
    "duration": 11,
    "start_time": "2022-11-08T20:52:49.201Z"
   },
   {
    "duration": 17,
    "start_time": "2022-11-08T20:52:49.214Z"
   },
   {
    "duration": 34,
    "start_time": "2022-11-08T20:52:49.232Z"
   },
   {
    "duration": 13,
    "start_time": "2022-11-08T20:52:49.267Z"
   },
   {
    "duration": 30,
    "start_time": "2022-11-08T20:52:49.281Z"
   },
   {
    "duration": 167,
    "start_time": "2022-11-08T20:52:49.313Z"
   },
   {
    "duration": 9,
    "start_time": "2022-11-08T20:52:49.481Z"
   },
   {
    "duration": 10,
    "start_time": "2022-11-08T20:52:49.491Z"
   },
   {
    "duration": 16,
    "start_time": "2022-11-08T20:52:49.502Z"
   },
   {
    "duration": 8,
    "start_time": "2022-11-08T20:52:49.519Z"
   },
   {
    "duration": 11,
    "start_time": "2022-11-08T20:52:49.528Z"
   },
   {
    "duration": 4,
    "start_time": "2022-11-08T20:52:49.555Z"
   },
   {
    "duration": 214,
    "start_time": "2022-11-08T20:52:49.561Z"
   },
   {
    "duration": 8,
    "start_time": "2022-11-08T20:52:49.776Z"
   },
   {
    "duration": 97,
    "start_time": "2022-11-08T20:52:49.785Z"
   },
   {
    "duration": 15,
    "start_time": "2022-11-08T20:52:49.884Z"
   },
   {
    "duration": 10,
    "start_time": "2022-11-08T20:52:49.900Z"
   },
   {
    "duration": 201,
    "start_time": "2022-11-08T20:52:49.911Z"
   },
   {
    "duration": 11,
    "start_time": "2022-11-08T20:52:50.113Z"
   },
   {
    "duration": 28,
    "start_time": "2022-11-08T20:52:50.126Z"
   },
   {
    "duration": 12,
    "start_time": "2022-11-08T20:52:50.155Z"
   },
   {
    "duration": 29,
    "start_time": "2022-11-08T20:52:50.168Z"
   },
   {
    "duration": 4,
    "start_time": "2022-11-08T20:52:50.198Z"
   },
   {
    "duration": 18,
    "start_time": "2022-11-08T20:52:50.204Z"
   },
   {
    "duration": 14,
    "start_time": "2022-11-08T20:52:53.873Z"
   },
   {
    "duration": 6,
    "start_time": "2022-11-08T20:52:54.319Z"
   },
   {
    "duration": 14,
    "start_time": "2022-11-08T20:59:03.431Z"
   },
   {
    "duration": 6,
    "start_time": "2022-11-08T20:59:04.594Z"
   },
   {
    "duration": 41,
    "start_time": "2022-11-08T21:26:04.150Z"
   },
   {
    "duration": 15,
    "start_time": "2022-11-08T21:26:14.439Z"
   },
   {
    "duration": 18,
    "start_time": "2022-11-08T21:26:20.109Z"
   },
   {
    "duration": 2,
    "start_time": "2022-11-08T21:26:20.575Z"
   },
   {
    "duration": 16,
    "start_time": "2022-11-08T21:26:21.448Z"
   },
   {
    "duration": 4,
    "start_time": "2022-11-08T21:26:22.111Z"
   },
   {
    "duration": 30,
    "start_time": "2022-11-08T21:31:24.377Z"
   },
   {
    "duration": 11,
    "start_time": "2022-11-08T21:31:58.416Z"
   },
   {
    "duration": 26,
    "start_time": "2022-11-08T21:33:15.931Z"
   },
   {
    "duration": 3,
    "start_time": "2022-11-08T21:33:16.603Z"
   },
   {
    "duration": 32,
    "start_time": "2022-11-08T21:33:17.185Z"
   },
   {
    "duration": 19,
    "start_time": "2022-11-08T21:33:45.504Z"
   },
   {
    "duration": 6,
    "start_time": "2022-11-08T21:33:47.764Z"
   },
   {
    "duration": 13,
    "start_time": "2022-11-08T21:44:51.115Z"
   },
   {
    "duration": 5,
    "start_time": "2022-11-08T21:44:51.633Z"
   },
   {
    "duration": 1120,
    "start_time": "2022-11-08T22:03:16.333Z"
   },
   {
    "duration": 76,
    "start_time": "2022-11-08T22:03:17.454Z"
   },
   {
    "duration": 17,
    "start_time": "2022-11-08T22:03:17.532Z"
   },
   {
    "duration": 23,
    "start_time": "2022-11-08T22:03:17.551Z"
   },
   {
    "duration": 8,
    "start_time": "2022-11-08T22:03:17.575Z"
   },
   {
    "duration": 7,
    "start_time": "2022-11-08T22:03:17.584Z"
   },
   {
    "duration": 8,
    "start_time": "2022-11-08T22:03:17.592Z"
   },
   {
    "duration": 7,
    "start_time": "2022-11-08T22:03:17.601Z"
   },
   {
    "duration": 9,
    "start_time": "2022-11-08T22:03:17.609Z"
   },
   {
    "duration": 6,
    "start_time": "2022-11-08T22:03:17.620Z"
   },
   {
    "duration": 68,
    "start_time": "2022-11-08T22:03:17.627Z"
   },
   {
    "duration": 12,
    "start_time": "2022-11-08T22:03:17.696Z"
   },
   {
    "duration": 9,
    "start_time": "2022-11-08T22:03:17.710Z"
   },
   {
    "duration": 42,
    "start_time": "2022-11-08T22:03:17.721Z"
   },
   {
    "duration": 19,
    "start_time": "2022-11-08T22:03:17.765Z"
   },
   {
    "duration": 31,
    "start_time": "2022-11-08T22:03:17.785Z"
   },
   {
    "duration": 8,
    "start_time": "2022-11-08T22:03:17.818Z"
   },
   {
    "duration": 33,
    "start_time": "2022-11-08T22:03:17.827Z"
   },
   {
    "duration": 13,
    "start_time": "2022-11-08T22:03:17.861Z"
   },
   {
    "duration": 13,
    "start_time": "2022-11-08T22:03:17.876Z"
   },
   {
    "duration": 11,
    "start_time": "2022-11-08T22:03:17.890Z"
   },
   {
    "duration": 6,
    "start_time": "2022-11-08T22:03:17.902Z"
   },
   {
    "duration": 5,
    "start_time": "2022-11-08T22:03:17.909Z"
   },
   {
    "duration": 41,
    "start_time": "2022-11-08T22:03:17.915Z"
   },
   {
    "duration": 7,
    "start_time": "2022-11-08T22:03:17.957Z"
   },
   {
    "duration": 7,
    "start_time": "2022-11-08T22:03:17.965Z"
   },
   {
    "duration": 5,
    "start_time": "2022-11-08T22:03:17.974Z"
   },
   {
    "duration": 6,
    "start_time": "2022-11-08T22:03:17.982Z"
   },
   {
    "duration": 5,
    "start_time": "2022-11-08T22:03:17.989Z"
   },
   {
    "duration": 4,
    "start_time": "2022-11-08T22:03:17.996Z"
   },
   {
    "duration": 6,
    "start_time": "2022-11-08T22:03:18.001Z"
   },
   {
    "duration": 5,
    "start_time": "2022-11-08T22:03:18.008Z"
   },
   {
    "duration": 5,
    "start_time": "2022-11-08T22:03:18.014Z"
   },
   {
    "duration": 7,
    "start_time": "2022-11-08T22:03:18.056Z"
   },
   {
    "duration": 5,
    "start_time": "2022-11-08T22:03:18.065Z"
   },
   {
    "duration": 8,
    "start_time": "2022-11-08T22:03:18.072Z"
   },
   {
    "duration": 29,
    "start_time": "2022-11-08T22:03:18.081Z"
   },
   {
    "duration": 180,
    "start_time": "2022-11-08T22:03:18.111Z"
   },
   {
    "duration": 102,
    "start_time": "2022-11-08T22:03:18.293Z"
   },
   {
    "duration": 5,
    "start_time": "2022-11-08T22:03:18.397Z"
   },
   {
    "duration": 184,
    "start_time": "2022-11-08T22:03:18.403Z"
   },
   {
    "duration": 99,
    "start_time": "2022-11-08T22:03:18.589Z"
   },
   {
    "duration": 5,
    "start_time": "2022-11-08T22:03:18.689Z"
   },
   {
    "duration": 176,
    "start_time": "2022-11-08T22:03:18.696Z"
   },
   {
    "duration": 103,
    "start_time": "2022-11-08T22:03:18.874Z"
   },
   {
    "duration": 5,
    "start_time": "2022-11-08T22:03:18.979Z"
   },
   {
    "duration": 284,
    "start_time": "2022-11-08T22:03:18.986Z"
   },
   {
    "duration": 102,
    "start_time": "2022-11-08T22:03:19.272Z"
   },
   {
    "duration": 6,
    "start_time": "2022-11-08T22:03:19.375Z"
   },
   {
    "duration": 18,
    "start_time": "2022-11-08T22:03:19.382Z"
   },
   {
    "duration": 27,
    "start_time": "2022-11-08T22:03:19.401Z"
   },
   {
    "duration": 46,
    "start_time": "2022-11-08T22:03:19.430Z"
   },
   {
    "duration": 215,
    "start_time": "2022-11-08T22:03:19.478Z"
   },
   {
    "duration": 342,
    "start_time": "2022-11-08T22:03:19.694Z"
   },
   {
    "duration": 329,
    "start_time": "2022-11-08T22:03:20.037Z"
   },
   {
    "duration": 400,
    "start_time": "2022-11-08T22:03:20.367Z"
   },
   {
    "duration": 23,
    "start_time": "2022-11-08T22:03:20.768Z"
   },
   {
    "duration": 13,
    "start_time": "2022-11-08T22:03:20.793Z"
   },
   {
    "duration": 15,
    "start_time": "2022-11-08T22:03:20.808Z"
   },
   {
    "duration": 32,
    "start_time": "2022-11-08T22:03:20.824Z"
   },
   {
    "duration": 15,
    "start_time": "2022-11-08T22:03:20.858Z"
   },
   {
    "duration": 13,
    "start_time": "2022-11-08T22:03:20.874Z"
   },
   {
    "duration": 29,
    "start_time": "2022-11-08T22:03:20.888Z"
   },
   {
    "duration": 11,
    "start_time": "2022-11-08T22:03:20.919Z"
   },
   {
    "duration": 30,
    "start_time": "2022-11-08T22:03:20.932Z"
   },
   {
    "duration": 153,
    "start_time": "2022-11-08T22:03:20.963Z"
   },
   {
    "duration": 17,
    "start_time": "2022-11-08T22:03:21.117Z"
   },
   {
    "duration": 21,
    "start_time": "2022-11-08T22:03:21.135Z"
   },
   {
    "duration": 15,
    "start_time": "2022-11-08T22:03:21.157Z"
   },
   {
    "duration": 9,
    "start_time": "2022-11-08T22:03:21.174Z"
   },
   {
    "duration": 33,
    "start_time": "2022-11-08T22:03:21.185Z"
   },
   {
    "duration": 37,
    "start_time": "2022-11-08T22:03:21.219Z"
   },
   {
    "duration": 11,
    "start_time": "2022-11-08T22:03:21.257Z"
   },
   {
    "duration": 190,
    "start_time": "2022-11-08T22:03:21.270Z"
   },
   {
    "duration": 10,
    "start_time": "2022-11-08T22:03:21.461Z"
   },
   {
    "duration": 14,
    "start_time": "2022-11-08T22:03:21.472Z"
   },
   {
    "duration": 6,
    "start_time": "2022-11-08T22:03:21.487Z"
   },
   {
    "duration": 6,
    "start_time": "2022-11-08T22:03:21.495Z"
   },
   {
    "duration": 5,
    "start_time": "2022-11-08T22:03:21.502Z"
   },
   {
    "duration": 213,
    "start_time": "2022-11-08T22:03:21.509Z"
   },
   {
    "duration": 8,
    "start_time": "2022-11-08T22:03:21.724Z"
   },
   {
    "duration": 17,
    "start_time": "2022-11-08T22:03:21.738Z"
   },
   {
    "duration": 217,
    "start_time": "2022-11-08T22:03:21.757Z"
   },
   {
    "duration": 17,
    "start_time": "2022-11-08T22:03:21.976Z"
   },
   {
    "duration": 11,
    "start_time": "2022-11-08T22:03:21.995Z"
   },
   {
    "duration": 210,
    "start_time": "2022-11-08T22:03:22.008Z"
   },
   {
    "duration": 11,
    "start_time": "2022-11-08T22:03:22.220Z"
   },
   {
    "duration": 23,
    "start_time": "2022-11-08T22:03:22.232Z"
   },
   {
    "duration": 4,
    "start_time": "2022-11-08T22:03:22.257Z"
   },
   {
    "duration": 35,
    "start_time": "2022-11-08T22:03:22.262Z"
   },
   {
    "duration": 17,
    "start_time": "2022-11-08T22:03:22.299Z"
   },
   {
    "duration": 37,
    "start_time": "2022-11-08T22:03:22.318Z"
   },
   {
    "duration": 13,
    "start_time": "2022-11-08T22:03:22.356Z"
   },
   {
    "duration": 14,
    "start_time": "2022-11-08T22:03:22.371Z"
   },
   {
    "duration": 18,
    "start_time": "2022-11-08T22:03:22.386Z"
   },
   {
    "duration": 238,
    "start_time": "2022-11-08T22:03:22.406Z"
   },
   {
    "duration": 10,
    "start_time": "2022-11-08T22:03:22.646Z"
   },
   {
    "duration": 8,
    "start_time": "2022-11-08T22:03:22.657Z"
   },
   {
    "duration": 17,
    "start_time": "2022-11-08T22:03:22.666Z"
   },
   {
    "duration": 4,
    "start_time": "2022-11-08T22:03:22.684Z"
   },
   {
    "duration": 9,
    "start_time": "2022-11-08T22:03:22.689Z"
   },
   {
    "duration": 5,
    "start_time": "2022-11-08T22:03:22.700Z"
   },
   {
    "duration": 285,
    "start_time": "2022-11-08T22:03:22.706Z"
   },
   {
    "duration": 8,
    "start_time": "2022-11-08T22:03:22.993Z"
   },
   {
    "duration": 89,
    "start_time": "2022-11-08T22:03:23.002Z"
   },
   {
    "duration": 15,
    "start_time": "2022-11-08T22:03:23.093Z"
   },
   {
    "duration": 10,
    "start_time": "2022-11-08T22:03:23.110Z"
   },
   {
    "duration": 188,
    "start_time": "2022-11-08T22:03:23.121Z"
   },
   {
    "duration": 12,
    "start_time": "2022-11-08T22:03:23.310Z"
   },
   {
    "duration": 19,
    "start_time": "2022-11-08T22:03:23.323Z"
   },
   {
    "duration": 17,
    "start_time": "2022-11-08T22:03:23.343Z"
   },
   {
    "duration": 18,
    "start_time": "2022-11-08T22:03:23.362Z"
   },
   {
    "duration": 2,
    "start_time": "2022-11-08T22:03:23.382Z"
   },
   {
    "duration": 22,
    "start_time": "2022-11-08T22:03:23.386Z"
   },
   {
    "duration": 3,
    "start_time": "2022-11-08T22:03:23.410Z"
   },
   {
    "duration": 14,
    "start_time": "2022-11-08T22:03:23.415Z"
   },
   {
    "duration": 4,
    "start_time": "2022-11-08T22:03:23.431Z"
   },
   {
    "duration": 10,
    "start_time": "2022-11-08T22:03:23.455Z"
   },
   {
    "duration": 6,
    "start_time": "2022-11-08T22:03:23.466Z"
   }
  ],
  "kernelspec": {
   "display_name": "Python 3 (ipykernel)",
   "language": "python",
   "name": "python3"
  },
  "language_info": {
   "codemirror_mode": {
    "name": "ipython",
    "version": 3
   },
   "file_extension": ".py",
   "mimetype": "text/x-python",
   "name": "python",
   "nbconvert_exporter": "python",
   "pygments_lexer": "ipython3",
   "version": "3.9.7"
  },
  "toc": {
   "base_numbering": 1,
   "nav_menu": {},
   "number_sections": true,
   "sideBar": true,
   "skip_h1_title": true,
   "title_cell": "Table of Contents",
   "title_sidebar": "Contents",
   "toc_cell": false,
   "toc_position": {},
   "toc_section_display": true,
   "toc_window_display": false
  }
 },
 "nbformat": 4,
 "nbformat_minor": 2
}
